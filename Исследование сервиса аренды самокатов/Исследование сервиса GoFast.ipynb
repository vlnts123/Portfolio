{
 "cells": [
  {
   "cell_type": "markdown",
   "id": "ab70c78b",
   "metadata": {},
   "source": [
    "# Исследование сервиса GoFast\n",
    "\n",
    "**Цель исследования:**\n",
    "проверить гипотезы о пользователях с подпиской и без\n",
    "\n",
    "**Описание данных:**\n",
    "Чтобы совершать поездки по городу, пользователи сервиса GoFast пользуются мобильным приложением. Сервисом можно пользоваться:\n",
    "* без подписки \n",
    "\n",
    "абонентская плата отсутствует;\n",
    "стоимость одной минуты поездки — 8 рублей;\n",
    "стоимость старта (начала поездки) — 50 рублей;\n",
    "* с подпиской Ultra \n",
    "\n",
    "абонентская плата — 199 рублей в месяц;\n",
    "стоимость одной минуты поездки — 6 рублей;\n",
    "стоимость старта — бесплатно.\n",
    "\n",
    " **Пользователи — users_go.csv**\n",
    "* user_id\tуникальный идентификатор пользователя\n",
    "* name\tимя пользователя\n",
    "* age\tвозраст\n",
    "* city\tгород\n",
    "* subscription_type\tтип подписки (free, ultra)\n",
    "\n",
    " **Поездки — rides_go.csv**\n",
    "* user_id\tуникальный идентификатор пользователя\n",
    "* distance\tрасстояние, которое пользователь проехал в текущей сессии (в метрах)\n",
    "* duration\tпродолжительность сессии (в минутах) — время с того момента, как пользователь нажал кнопку «Начать поездку» до момента, как он нажал кнопку «Завершить поездку»\n",
    "* date\tдата совершения поездки\n",
    "\n",
    " **Подписки — subscriptions_go.csv**\n",
    "* subscription_type\tтип подписки\n",
    "* minute_price\tстоимость одной минуты поездки по данной подписке\n",
    "* start_ride_price\tстоимость начала поездки\n",
    "* subscription_fee\tстоимость ежемесячного платежа\n",
    "\n",
    "**План работы**:\n",
    "\n",
    "**1. Импортировать библиотеки. Загрузить датафреймы. Изучить общую информацию.**\n",
    "\n",
    "**2. Предобработка данных:**\n",
    "* проверка на пропуски и дубликаты\n",
    "* создание нового столбца с номером месяца на основе столбца date.\n",
    "\n",
    "**3. Исследовательский анализ данных**\n",
    "\n",
    "Описать и визуализировать общую информацию о пользователях и поездках:\n",
    "* частота встречаемости городов;\n",
    "* соотношение пользователей с подпиской и без подписки;\n",
    "* возраст пользователей;\n",
    "* расстояние, которое пользователь преодолел за одну поездку;\n",
    "* продолжительность поездок.\n",
    "\n",
    "**4. Объединение данных**\n",
    "* Объединить данные о пользователях, поездках и подписках в один датафрейм\n",
    "* Создать ещё два датафрейма:c данными о пользователях без подписки;с данными о пользователях с подпиской.\n",
    "* Визуализировать информацию о расстоянии и времени поездок для пользователей обеих категорий.\n",
    "\n",
    "**5. Подсчёт выручки**\n",
    "* Создать датафрейм с агрегированными данными о поездках: найти суммарное расстояние, количество поездок и суммарное время для каждого пользователя за каждый месяц.\n",
    "* В этот же датафрейм добавим столбец с помесячной выручкой, которую принёс каждый пользователь.\n",
    "\n",
    "**6. Проверка гипотез**\n",
    "* Понять, тратят ли пользователи с подпиской больше времени на поездки?\n",
    "* Проверить, если среднее расстояние, которое проезжают пользователи с подпиской за одну поездку, не превышает 3130 метров?\n",
    "* Проверить, будет ли помесячная выручка от пользователей с подпиской по месяцам выше, чем выручка от пользователей без подписки."
   ]
  },
  {
   "cell_type": "code",
   "execution_count": 1,
   "id": "bb1b5779",
   "metadata": {},
   "outputs": [],
   "source": [
    "import pandas as pd\n",
    "import matplotlib.pyplot as plt\n",
    "import numpy as np\n",
    "from scipy import stats as st"
   ]
  },
  {
   "cell_type": "markdown",
   "id": "e063d7a5",
   "metadata": {},
   "source": [
    "### шаг. Загрузка данных"
   ]
  },
  {
   "cell_type": "code",
   "execution_count": 2,
   "id": "644df9b9",
   "metadata": {},
   "outputs": [
    {
     "name": "stdout",
     "output_type": "stream",
     "text": [
      "<class 'pandas.core.frame.DataFrame'>\n",
      "RangeIndex: 1565 entries, 0 to 1564\n",
      "Data columns (total 5 columns):\n",
      " #   Column             Non-Null Count  Dtype \n",
      "---  ------             --------------  ----- \n",
      " 0   user_id            1565 non-null   int64 \n",
      " 1   name               1565 non-null   object\n",
      " 2   age                1565 non-null   int64 \n",
      " 3   city               1565 non-null   object\n",
      " 4   subscription_type  1565 non-null   object\n",
      "dtypes: int64(2), object(3)\n",
      "memory usage: 61.3+ KB\n"
     ]
    },
    {
     "data": {
      "text/html": [
       "<div>\n",
       "<style scoped>\n",
       "    .dataframe tbody tr th:only-of-type {\n",
       "        vertical-align: middle;\n",
       "    }\n",
       "\n",
       "    .dataframe tbody tr th {\n",
       "        vertical-align: top;\n",
       "    }\n",
       "\n",
       "    .dataframe thead th {\n",
       "        text-align: right;\n",
       "    }\n",
       "</style>\n",
       "<table border=\"1\" class=\"dataframe\">\n",
       "  <thead>\n",
       "    <tr style=\"text-align: right;\">\n",
       "      <th></th>\n",
       "      <th>user_id</th>\n",
       "      <th>name</th>\n",
       "      <th>age</th>\n",
       "      <th>city</th>\n",
       "      <th>subscription_type</th>\n",
       "    </tr>\n",
       "  </thead>\n",
       "  <tbody>\n",
       "    <tr>\n",
       "      <th>0</th>\n",
       "      <td>1</td>\n",
       "      <td>Кира</td>\n",
       "      <td>22</td>\n",
       "      <td>Тюмень</td>\n",
       "      <td>ultra</td>\n",
       "    </tr>\n",
       "    <tr>\n",
       "      <th>1</th>\n",
       "      <td>2</td>\n",
       "      <td>Станислав</td>\n",
       "      <td>31</td>\n",
       "      <td>Омск</td>\n",
       "      <td>ultra</td>\n",
       "    </tr>\n",
       "    <tr>\n",
       "      <th>2</th>\n",
       "      <td>3</td>\n",
       "      <td>Алексей</td>\n",
       "      <td>20</td>\n",
       "      <td>Москва</td>\n",
       "      <td>ultra</td>\n",
       "    </tr>\n",
       "    <tr>\n",
       "      <th>3</th>\n",
       "      <td>4</td>\n",
       "      <td>Константин</td>\n",
       "      <td>26</td>\n",
       "      <td>Ростов-на-Дону</td>\n",
       "      <td>ultra</td>\n",
       "    </tr>\n",
       "    <tr>\n",
       "      <th>4</th>\n",
       "      <td>5</td>\n",
       "      <td>Адель</td>\n",
       "      <td>28</td>\n",
       "      <td>Омск</td>\n",
       "      <td>ultra</td>\n",
       "    </tr>\n",
       "  </tbody>\n",
       "</table>\n",
       "</div>"
      ],
      "text/plain": [
       "   user_id        name  age            city subscription_type\n",
       "0        1        Кира   22          Тюмень             ultra\n",
       "1        2   Станислав   31            Омск             ultra\n",
       "2        3     Алексей   20          Москва             ultra\n",
       "3        4  Константин   26  Ростов-на-Дону             ultra\n",
       "4        5       Адель   28            Омск             ultra"
      ]
     },
     "execution_count": 2,
     "metadata": {},
     "output_type": "execute_result"
    }
   ],
   "source": [
    "users = pd.read_csv('/datasets/users_go.csv')\n",
    "users.info()\n",
    "users.head()"
   ]
  },
  {
   "cell_type": "code",
   "execution_count": 3,
   "id": "0d35354a",
   "metadata": {},
   "outputs": [
    {
     "name": "stdout",
     "output_type": "stream",
     "text": [
      "<class 'pandas.core.frame.DataFrame'>\n",
      "RangeIndex: 18068 entries, 0 to 18067\n",
      "Data columns (total 4 columns):\n",
      " #   Column    Non-Null Count  Dtype         \n",
      "---  ------    --------------  -----         \n",
      " 0   user_id   18068 non-null  int64         \n",
      " 1   distance  18068 non-null  float64       \n",
      " 2   duration  18068 non-null  float64       \n",
      " 3   date      18068 non-null  datetime64[ns]\n",
      "dtypes: datetime64[ns](1), float64(2), int64(1)\n",
      "memory usage: 564.8 KB\n"
     ]
    },
    {
     "data": {
      "text/html": [
       "<div>\n",
       "<style scoped>\n",
       "    .dataframe tbody tr th:only-of-type {\n",
       "        vertical-align: middle;\n",
       "    }\n",
       "\n",
       "    .dataframe tbody tr th {\n",
       "        vertical-align: top;\n",
       "    }\n",
       "\n",
       "    .dataframe thead th {\n",
       "        text-align: right;\n",
       "    }\n",
       "</style>\n",
       "<table border=\"1\" class=\"dataframe\">\n",
       "  <thead>\n",
       "    <tr style=\"text-align: right;\">\n",
       "      <th></th>\n",
       "      <th>user_id</th>\n",
       "      <th>distance</th>\n",
       "      <th>duration</th>\n",
       "      <th>date</th>\n",
       "    </tr>\n",
       "  </thead>\n",
       "  <tbody>\n",
       "    <tr>\n",
       "      <th>0</th>\n",
       "      <td>1</td>\n",
       "      <td>4409.919140</td>\n",
       "      <td>25.599769</td>\n",
       "      <td>2021-01-01</td>\n",
       "    </tr>\n",
       "    <tr>\n",
       "      <th>1</th>\n",
       "      <td>1</td>\n",
       "      <td>2617.592153</td>\n",
       "      <td>15.816871</td>\n",
       "      <td>2021-01-18</td>\n",
       "    </tr>\n",
       "    <tr>\n",
       "      <th>2</th>\n",
       "      <td>1</td>\n",
       "      <td>754.159807</td>\n",
       "      <td>6.232113</td>\n",
       "      <td>2021-04-20</td>\n",
       "    </tr>\n",
       "    <tr>\n",
       "      <th>3</th>\n",
       "      <td>1</td>\n",
       "      <td>2694.783254</td>\n",
       "      <td>18.511000</td>\n",
       "      <td>2021-08-11</td>\n",
       "    </tr>\n",
       "    <tr>\n",
       "      <th>4</th>\n",
       "      <td>1</td>\n",
       "      <td>4028.687306</td>\n",
       "      <td>26.265803</td>\n",
       "      <td>2021-08-28</td>\n",
       "    </tr>\n",
       "  </tbody>\n",
       "</table>\n",
       "</div>"
      ],
      "text/plain": [
       "   user_id     distance   duration       date\n",
       "0        1  4409.919140  25.599769 2021-01-01\n",
       "1        1  2617.592153  15.816871 2021-01-18\n",
       "2        1   754.159807   6.232113 2021-04-20\n",
       "3        1  2694.783254  18.511000 2021-08-11\n",
       "4        1  4028.687306  26.265803 2021-08-28"
      ]
     },
     "execution_count": 3,
     "metadata": {},
     "output_type": "execute_result"
    }
   ],
   "source": [
    "rides = pd.read_csv('/datasets/rides_go.csv', parse_dates=['date'])\n",
    "rides.info()\n",
    "rides.head()"
   ]
  },
  {
   "cell_type": "code",
   "execution_count": 4,
   "id": "6076a902",
   "metadata": {},
   "outputs": [
    {
     "name": "stdout",
     "output_type": "stream",
     "text": [
      "<class 'pandas.core.frame.DataFrame'>\n",
      "RangeIndex: 2 entries, 0 to 1\n",
      "Data columns (total 4 columns):\n",
      " #   Column             Non-Null Count  Dtype \n",
      "---  ------             --------------  ----- \n",
      " 0   subscription_type  2 non-null      object\n",
      " 1   minute_price       2 non-null      int64 \n",
      " 2   start_ride_price   2 non-null      int64 \n",
      " 3   subscription_fee   2 non-null      int64 \n",
      "dtypes: int64(3), object(1)\n",
      "memory usage: 192.0+ bytes\n"
     ]
    },
    {
     "data": {
      "text/html": [
       "<div>\n",
       "<style scoped>\n",
       "    .dataframe tbody tr th:only-of-type {\n",
       "        vertical-align: middle;\n",
       "    }\n",
       "\n",
       "    .dataframe tbody tr th {\n",
       "        vertical-align: top;\n",
       "    }\n",
       "\n",
       "    .dataframe thead th {\n",
       "        text-align: right;\n",
       "    }\n",
       "</style>\n",
       "<table border=\"1\" class=\"dataframe\">\n",
       "  <thead>\n",
       "    <tr style=\"text-align: right;\">\n",
       "      <th></th>\n",
       "      <th>subscription_type</th>\n",
       "      <th>minute_price</th>\n",
       "      <th>start_ride_price</th>\n",
       "      <th>subscription_fee</th>\n",
       "    </tr>\n",
       "  </thead>\n",
       "  <tbody>\n",
       "    <tr>\n",
       "      <th>0</th>\n",
       "      <td>free</td>\n",
       "      <td>8</td>\n",
       "      <td>50</td>\n",
       "      <td>0</td>\n",
       "    </tr>\n",
       "    <tr>\n",
       "      <th>1</th>\n",
       "      <td>ultra</td>\n",
       "      <td>6</td>\n",
       "      <td>0</td>\n",
       "      <td>199</td>\n",
       "    </tr>\n",
       "  </tbody>\n",
       "</table>\n",
       "</div>"
      ],
      "text/plain": [
       "  subscription_type  minute_price  start_ride_price  subscription_fee\n",
       "0              free             8                50                 0\n",
       "1             ultra             6                 0               199"
      ]
     },
     "execution_count": 4,
     "metadata": {},
     "output_type": "execute_result"
    }
   ],
   "source": [
    "subscriptions = pd.read_csv('/datasets/subscriptions_go.csv')\n",
    "subscriptions.info()\n",
    "subscriptions.head()"
   ]
  },
  {
   "cell_type": "markdown",
   "id": "90839add",
   "metadata": {},
   "source": [
    "Меньше всего информации в датафрейме subscription, здесь у нас в две строки описаны условия оплаты. Датафрейм users состоит из 1565 строк с информацией о пользователях: номер id, имя, возраст, город и тип подписки. Датафрейм rides самый большой, 18068 строк с данными по каждой поездке: дата, номер пользователя, расстояние в метрах и продолжительность в минутах."
   ]
  },
  {
   "cell_type": "markdown",
   "id": "ed3088df",
   "metadata": {},
   "source": [
    "### шаг. Предобработка данных"
   ]
  },
  {
   "cell_type": "markdown",
   "id": "07cf50e7",
   "metadata": {},
   "source": [
    "Проверим датафреймы users и rides на явные дубликаты:"
   ]
  },
  {
   "cell_type": "code",
   "execution_count": 5,
   "id": "e2a8871a",
   "metadata": {},
   "outputs": [
    {
     "name": "stdout",
     "output_type": "stream",
     "text": [
      "<class 'pandas.core.frame.DataFrame'>\n",
      "RangeIndex: 1534 entries, 0 to 1533\n",
      "Data columns (total 5 columns):\n",
      " #   Column             Non-Null Count  Dtype \n",
      "---  ------             --------------  ----- \n",
      " 0   user_id            1534 non-null   int64 \n",
      " 1   name               1534 non-null   object\n",
      " 2   age                1534 non-null   int64 \n",
      " 3   city               1534 non-null   object\n",
      " 4   subscription_type  1534 non-null   object\n",
      "dtypes: int64(2), object(3)\n",
      "memory usage: 60.0+ KB\n"
     ]
    }
   ],
   "source": [
    "users.duplicated()\n",
    "users = users.drop_duplicates().reset_index(drop=True)\n",
    "users.info()"
   ]
  },
  {
   "cell_type": "markdown",
   "id": "dc9369c4",
   "metadata": {},
   "source": [
    "Изначально в данном датафрейме было 1565, стало 1534. Был удалён 31 дубликат."
   ]
  },
  {
   "cell_type": "code",
   "execution_count": 6,
   "id": "895ede56",
   "metadata": {},
   "outputs": [
    {
     "name": "stdout",
     "output_type": "stream",
     "text": [
      "<class 'pandas.core.frame.DataFrame'>\n",
      "RangeIndex: 18068 entries, 0 to 18067\n",
      "Data columns (total 4 columns):\n",
      " #   Column    Non-Null Count  Dtype         \n",
      "---  ------    --------------  -----         \n",
      " 0   user_id   18068 non-null  int64         \n",
      " 1   distance  18068 non-null  float64       \n",
      " 2   duration  18068 non-null  float64       \n",
      " 3   date      18068 non-null  datetime64[ns]\n",
      "dtypes: datetime64[ns](1), float64(2), int64(1)\n",
      "memory usage: 564.8 KB\n"
     ]
    }
   ],
   "source": [
    "rides.duplicated()\n",
    "rides = rides.drop_duplicates().reset_index(drop=True)\n",
    "rides.info()"
   ]
  },
  {
   "cell_type": "markdown",
   "id": "bff68734",
   "metadata": {},
   "source": [
    "До обработки данный датафрейм также содержал 18068 строк. Дубликатов не было."
   ]
  },
  {
   "cell_type": "markdown",
   "id": "6b02651b",
   "metadata": {},
   "source": [
    "Загрузила датафреймы, при загрузке сразу привела столбец date к корректному типу данных. С  остальными столбцами проблем нет. Добавим новый столбец с номерами месяцев. На всякий случай проверим за какой год у нас данные."
   ]
  },
  {
   "cell_type": "code",
   "execution_count": 7,
   "id": "f8613008",
   "metadata": {},
   "outputs": [
    {
     "data": {
      "text/html": [
       "<div>\n",
       "<style scoped>\n",
       "    .dataframe tbody tr th:only-of-type {\n",
       "        vertical-align: middle;\n",
       "    }\n",
       "\n",
       "    .dataframe tbody tr th {\n",
       "        vertical-align: top;\n",
       "    }\n",
       "\n",
       "    .dataframe thead th {\n",
       "        text-align: right;\n",
       "    }\n",
       "</style>\n",
       "<table border=\"1\" class=\"dataframe\">\n",
       "  <thead>\n",
       "    <tr style=\"text-align: right;\">\n",
       "      <th></th>\n",
       "      <th>user_id</th>\n",
       "      <th>distance</th>\n",
       "      <th>duration</th>\n",
       "      <th>date</th>\n",
       "      <th>month</th>\n",
       "    </tr>\n",
       "  </thead>\n",
       "  <tbody>\n",
       "    <tr>\n",
       "      <th>0</th>\n",
       "      <td>1</td>\n",
       "      <td>4409.919140</td>\n",
       "      <td>25.599769</td>\n",
       "      <td>2021-01-01</td>\n",
       "      <td>1</td>\n",
       "    </tr>\n",
       "    <tr>\n",
       "      <th>1</th>\n",
       "      <td>1</td>\n",
       "      <td>2617.592153</td>\n",
       "      <td>15.816871</td>\n",
       "      <td>2021-01-18</td>\n",
       "      <td>1</td>\n",
       "    </tr>\n",
       "    <tr>\n",
       "      <th>2</th>\n",
       "      <td>1</td>\n",
       "      <td>754.159807</td>\n",
       "      <td>6.232113</td>\n",
       "      <td>2021-04-20</td>\n",
       "      <td>4</td>\n",
       "    </tr>\n",
       "    <tr>\n",
       "      <th>3</th>\n",
       "      <td>1</td>\n",
       "      <td>2694.783254</td>\n",
       "      <td>18.511000</td>\n",
       "      <td>2021-08-11</td>\n",
       "      <td>8</td>\n",
       "    </tr>\n",
       "    <tr>\n",
       "      <th>4</th>\n",
       "      <td>1</td>\n",
       "      <td>4028.687306</td>\n",
       "      <td>26.265803</td>\n",
       "      <td>2021-08-28</td>\n",
       "      <td>8</td>\n",
       "    </tr>\n",
       "  </tbody>\n",
       "</table>\n",
       "</div>"
      ],
      "text/plain": [
       "   user_id     distance   duration       date  month\n",
       "0        1  4409.919140  25.599769 2021-01-01      1\n",
       "1        1  2617.592153  15.816871 2021-01-18      1\n",
       "2        1   754.159807   6.232113 2021-04-20      4\n",
       "3        1  2694.783254  18.511000 2021-08-11      8\n",
       "4        1  4028.687306  26.265803 2021-08-28      8"
      ]
     },
     "execution_count": 7,
     "metadata": {},
     "output_type": "execute_result"
    }
   ],
   "source": [
    "rides['month'] =  pd.DatetimeIndex(rides['date']).month\n",
    "rides.head()"
   ]
  },
  {
   "cell_type": "code",
   "execution_count": 8,
   "id": "c66e3076",
   "metadata": {},
   "outputs": [
    {
     "data": {
      "text/plain": [
       "2021    18068\n",
       "Name: date, dtype: int64"
      ]
     },
     "execution_count": 8,
     "metadata": {},
     "output_type": "execute_result"
    }
   ],
   "source": [
    "pd.DatetimeIndex(rides['date']).year.value_counts()"
   ]
  },
  {
   "cell_type": "code",
   "execution_count": 9,
   "id": "01894f23",
   "metadata": {},
   "outputs": [
    {
     "data": {
      "text/plain": [
       "user_id              0\n",
       "name                 0\n",
       "age                  0\n",
       "city                 0\n",
       "subscription_type    0\n",
       "dtype: int64"
      ]
     },
     "execution_count": 9,
     "metadata": {},
     "output_type": "execute_result"
    }
   ],
   "source": [
    "users.isna().sum()"
   ]
  },
  {
   "cell_type": "code",
   "execution_count": 10,
   "id": "52dc6094",
   "metadata": {},
   "outputs": [
    {
     "data": {
      "text/plain": [
       "user_id     0\n",
       "distance    0\n",
       "duration    0\n",
       "date        0\n",
       "month       0\n",
       "dtype: int64"
      ]
     },
     "execution_count": 10,
     "metadata": {},
     "output_type": "execute_result"
    }
   ],
   "source": [
    "rides.isna().sum()"
   ]
  },
  {
   "cell_type": "code",
   "execution_count": 11,
   "id": "e75e163c",
   "metadata": {},
   "outputs": [
    {
     "data": {
      "text/plain": [
       "array(['Екатеринбург', 'Краснодар', 'Москва', 'Омск', 'Пятигорск',\n",
       "       'Ростов-на-Дону', 'Сочи', 'Тюмень'], dtype=object)"
      ]
     },
     "execution_count": 11,
     "metadata": {},
     "output_type": "execute_result"
    }
   ],
   "source": [
    "users['city'].sort_values().unique()"
   ]
  },
  {
   "cell_type": "code",
   "execution_count": 12,
   "id": "73c729fb",
   "metadata": {},
   "outputs": [
    {
     "data": {
      "text/plain": [
       "array(['free', 'ultra'], dtype=object)"
      ]
     },
     "execution_count": 12,
     "metadata": {},
     "output_type": "execute_result"
    }
   ],
   "source": [
    "users['subscription_type'].sort_values().unique()"
   ]
  },
  {
   "cell_type": "markdown",
   "id": "adc86999",
   "metadata": {},
   "source": [
    "Проверила, пропусков нет. От явных дубликатов я избавлялась на стадии получения общей информации. Подумала, где могут быть неявные. Решила, что это столбцы с типом подписки и названием города. Проверила, их там нет."
   ]
  },
  {
   "cell_type": "markdown",
   "id": "c51f26ec",
   "metadata": {},
   "source": [
    "### шаг. Исследовательский анализ данных"
   ]
  },
  {
   "cell_type": "markdown",
   "id": "b1607a96",
   "metadata": {},
   "source": [
    "Теперь опишем и визуализируем общую информацию о пользователях и поездках:"
   ]
  },
  {
   "cell_type": "code",
   "execution_count": 13,
   "id": "56e7573d",
   "metadata": {},
   "outputs": [
    {
     "data": {
      "image/png": "[encoded data removed]",
      "text/plain": [
       "<Figure size 432x288 with 1 Axes>"
      ]
     },
     "metadata": {
      "needs_background": "light"
     },
     "output_type": "display_data"
    }
   ],
   "source": [
    "values = users['city'].value_counts().sort_values(ascending=True)\n",
    "\n",
    "fig, ax = plt.subplots()\n",
    "values.plot(kind='barh', color='skyblue')\n",
    "\n",
    "ax.set_title('Частота встречаемости городов')\n",
    "plt.show()"
   ]
  },
  {
   "cell_type": "markdown",
   "id": "47031e7a",
   "metadata": {},
   "source": [
    "Всего  8 городов. Самый популярный -- Пятигорск, но разброс небольшой."
   ]
  },
  {
   "cell_type": "code",
   "execution_count": 14,
   "id": "70ab69d1",
   "metadata": {},
   "outputs": [
    {
     "data": {
      "image/png": "[encoded data removed]",
      "text/plain": [
       "<Figure size 432x288 with 1 Axes>"
      ]
     },
     "metadata": {},
     "output_type": "display_data"
    }
   ],
   "source": [
    "subscription_counts = users['subscription_type'].value_counts()\n",
    "\n",
    "subscription_counts.plot(\n",
    "    kind= 'pie',\n",
    "    title= 'Соотношение пользователей с подпиской и без подписки',\n",
    "    autopct = \"%.0f%%\",\n",
    "    ylabel= \"\"\n",
    ")\n",
    "plt.show()"
   ]
  },
  {
   "cell_type": "markdown",
   "id": "cb01584d",
   "metadata": {},
   "source": [
    "Большинство пользователей без подписки. Но опять-таки разница небольшая."
   ]
  },
  {
   "cell_type": "code",
   "execution_count": 15,
   "id": "ae1b9c68",
   "metadata": {},
   "outputs": [
    {
     "data": {
      "image/png": "[encoded data removed]",
      "text/plain": [
       "<Figure size 432x288 with 1 Axes>"
      ]
     },
     "metadata": {
      "needs_background": "light"
     },
     "output_type": "display_data"
    },
    {
     "data": {
      "text/plain": [
       "count    1534.000000\n",
       "mean       24.903520\n",
       "std         4.572367\n",
       "min        12.000000\n",
       "25%        22.000000\n",
       "50%        25.000000\n",
       "75%        28.000000\n",
       "max        43.000000\n",
       "Name: age, dtype: float64"
      ]
     },
     "execution_count": 15,
     "metadata": {},
     "output_type": "execute_result"
    }
   ],
   "source": [
    "plt.hist(users['age'], bins = 50)\n",
    "plt.title('Возраст пользователей')\n",
    "plt.xlabel('Возраст')\n",
    "plt.ylabel('Частота')\n",
    "plt.show()\n",
    "users['age'].describe()"
   ]
  },
  {
   "cell_type": "markdown",
   "id": "56c23a55",
   "metadata": {},
   "source": [
    "Средний возраст 25 лет, минимальный - 12. Очень мало пользователей старше 40 лет."
   ]
  },
  {
   "cell_type": "code",
   "execution_count": 16,
   "id": "88f9871b",
   "metadata": {},
   "outputs": [
    {
     "data": {
      "image/png": "[encoded data removed]",
      "text/plain": [
       "<Figure size 432x288 with 1 Axes>"
      ]
     },
     "metadata": {
      "needs_background": "light"
     },
     "output_type": "display_data"
    },
    {
     "data": {
      "text/plain": [
       "count    18068.000000\n",
       "mean      3070.659976\n",
       "std       1116.831209\n",
       "min          0.855683\n",
       "25%       2543.226360\n",
       "50%       3133.609994\n",
       "75%       3776.222735\n",
       "max       7211.007745\n",
       "Name: distance, dtype: float64"
      ]
     },
     "execution_count": 16,
     "metadata": {},
     "output_type": "execute_result"
    }
   ],
   "source": [
    "plt.hist(rides['distance'], bins = 70, range = (0,6000))\n",
    "plt.title('Расстояние, которое пользователь преодолел за одну поездку')\n",
    "plt.xlabel('Расстояние, м')\n",
    "plt.ylabel('Частота')\n",
    "plt.show()\n",
    "rides['distance'].describe()"
   ]
  },
  {
   "cell_type": "markdown",
   "id": "e3eefe65",
   "metadata": {},
   "source": [
    "В среднем пользователи проезжают от 2500 до 3500 м за одну поездку. Достаточно много значений около 0, видимо что-то пошло не так и пользоватеель передумал ехать. Есть два пиковых значения. Тут скорее всего играет роль цель поездки. Короткими могут быть поездки до ближайшей остановки или станции метро, а длинными прогулочные поездки или поездки сразу до места работы(учебы)"
   ]
  },
  {
   "cell_type": "code",
   "execution_count": 17,
   "id": "1d51171e",
   "metadata": {},
   "outputs": [
    {
     "data": {
      "image/png": "[encoded data removed]",
      "text/plain": [
       "<Figure size 432x288 with 1 Axes>"
      ]
     },
     "metadata": {
      "needs_background": "light"
     },
     "output_type": "display_data"
    },
    {
     "data": {
      "text/plain": [
       "count    18068.000000\n",
       "mean        17.805011\n",
       "std          6.091051\n",
       "min          0.500000\n",
       "25%         13.597563\n",
       "50%         17.678395\n",
       "75%         21.724800\n",
       "max         40.823963\n",
       "Name: duration, dtype: float64"
      ]
     },
     "execution_count": 17,
     "metadata": {},
     "output_type": "execute_result"
    }
   ],
   "source": [
    "plt.hist(rides['duration'], bins = 70, range=(2,40))\n",
    "plt.title('Продолжительность поездок')\n",
    "plt.xlabel('Продолжительность, м')\n",
    "plt.ylabel('Частота')\n",
    "plt.show()\n",
    "rides['duration'].describe()"
   ]
  },
  {
   "cell_type": "code",
   "execution_count": 18,
   "id": "6e34a08c",
   "metadata": {},
   "outputs": [
    {
     "data": {
      "image/png": "[encoded data removed]",
      "text/plain": [
       "<Figure size 432x288 with 1 Axes>"
      ]
     },
     "metadata": {
      "needs_background": "light"
     },
     "output_type": "display_data"
    },
    {
     "data": {
      "text/plain": [
       "count    18068.000000\n",
       "mean        17.805011\n",
       "std          6.091051\n",
       "min          0.500000\n",
       "25%         13.597563\n",
       "50%         17.678395\n",
       "75%         21.724800\n",
       "max         40.823963\n",
       "Name: duration, dtype: float64"
      ]
     },
     "execution_count": 18,
     "metadata": {},
     "output_type": "execute_result"
    }
   ],
   "source": [
    "plt.hist(rides['duration'], bins = 70, range=(0,4))\n",
    "plt.title('Продолжительность поездок')\n",
    "plt.xlabel('Продолжительность, м')\n",
    "plt.ylabel('Частота')\n",
    "plt.show()\n",
    "rides['duration'].describe()"
   ]
  },
  {
   "cell_type": "markdown",
   "id": "363faa67",
   "metadata": {},
   "source": [
    "По продолжительности большинство поездок занимают от 14 до 22 минут.\n",
    "\n",
    "**Промежуточный вывод.** Большинство поездок от 14 до 22 минут, где пользователи проезжают от 2500 до 3500 м. Самый популярный город -- Пятигорск и большинство пользователей пользуются сервисом без подписки. Средний возраст 25 лет, минимальный - 12. Очень мало пользователей старше 40 лет."
   ]
  },
  {
   "cell_type": "markdown",
   "id": "0b5ea114",
   "metadata": {},
   "source": [
    "### шаг. Объединение данных"
   ]
  },
  {
   "cell_type": "markdown",
   "id": "ea63393f",
   "metadata": {},
   "source": [
    "Объединим данные о пользователях, поездках и подписках в один датафрейм."
   ]
  },
  {
   "cell_type": "code",
   "execution_count": 19,
   "id": "83d93fc2",
   "metadata": {},
   "outputs": [
    {
     "data": {
      "text/html": [
       "<div>\n",
       "<style scoped>\n",
       "    .dataframe tbody tr th:only-of-type {\n",
       "        vertical-align: middle;\n",
       "    }\n",
       "\n",
       "    .dataframe tbody tr th {\n",
       "        vertical-align: top;\n",
       "    }\n",
       "\n",
       "    .dataframe thead th {\n",
       "        text-align: right;\n",
       "    }\n",
       "</style>\n",
       "<table border=\"1\" class=\"dataframe\">\n",
       "  <thead>\n",
       "    <tr style=\"text-align: right;\">\n",
       "      <th></th>\n",
       "      <th>user_id</th>\n",
       "      <th>name</th>\n",
       "      <th>age</th>\n",
       "      <th>city</th>\n",
       "      <th>subscription_type</th>\n",
       "      <th>distance</th>\n",
       "      <th>duration</th>\n",
       "      <th>date</th>\n",
       "      <th>month</th>\n",
       "    </tr>\n",
       "  </thead>\n",
       "  <tbody>\n",
       "    <tr>\n",
       "      <th>0</th>\n",
       "      <td>1</td>\n",
       "      <td>Кира</td>\n",
       "      <td>22</td>\n",
       "      <td>Тюмень</td>\n",
       "      <td>ultra</td>\n",
       "      <td>4409.919140</td>\n",
       "      <td>25.599769</td>\n",
       "      <td>2021-01-01</td>\n",
       "      <td>1</td>\n",
       "    </tr>\n",
       "    <tr>\n",
       "      <th>1</th>\n",
       "      <td>1</td>\n",
       "      <td>Кира</td>\n",
       "      <td>22</td>\n",
       "      <td>Тюмень</td>\n",
       "      <td>ultra</td>\n",
       "      <td>2617.592153</td>\n",
       "      <td>15.816871</td>\n",
       "      <td>2021-01-18</td>\n",
       "      <td>1</td>\n",
       "    </tr>\n",
       "    <tr>\n",
       "      <th>2</th>\n",
       "      <td>1</td>\n",
       "      <td>Кира</td>\n",
       "      <td>22</td>\n",
       "      <td>Тюмень</td>\n",
       "      <td>ultra</td>\n",
       "      <td>754.159807</td>\n",
       "      <td>6.232113</td>\n",
       "      <td>2021-04-20</td>\n",
       "      <td>4</td>\n",
       "    </tr>\n",
       "    <tr>\n",
       "      <th>3</th>\n",
       "      <td>1</td>\n",
       "      <td>Кира</td>\n",
       "      <td>22</td>\n",
       "      <td>Тюмень</td>\n",
       "      <td>ultra</td>\n",
       "      <td>2694.783254</td>\n",
       "      <td>18.511000</td>\n",
       "      <td>2021-08-11</td>\n",
       "      <td>8</td>\n",
       "    </tr>\n",
       "    <tr>\n",
       "      <th>4</th>\n",
       "      <td>1</td>\n",
       "      <td>Кира</td>\n",
       "      <td>22</td>\n",
       "      <td>Тюмень</td>\n",
       "      <td>ultra</td>\n",
       "      <td>4028.687306</td>\n",
       "      <td>26.265803</td>\n",
       "      <td>2021-08-28</td>\n",
       "      <td>8</td>\n",
       "    </tr>\n",
       "    <tr>\n",
       "      <th>...</th>\n",
       "      <td>...</td>\n",
       "      <td>...</td>\n",
       "      <td>...</td>\n",
       "      <td>...</td>\n",
       "      <td>...</td>\n",
       "      <td>...</td>\n",
       "      <td>...</td>\n",
       "      <td>...</td>\n",
       "      <td>...</td>\n",
       "    </tr>\n",
       "    <tr>\n",
       "      <th>18063</th>\n",
       "      <td>1534</td>\n",
       "      <td>Альберт</td>\n",
       "      <td>25</td>\n",
       "      <td>Краснодар</td>\n",
       "      <td>free</td>\n",
       "      <td>3781.098080</td>\n",
       "      <td>19.822962</td>\n",
       "      <td>2021-11-04</td>\n",
       "      <td>11</td>\n",
       "    </tr>\n",
       "    <tr>\n",
       "      <th>18064</th>\n",
       "      <td>1534</td>\n",
       "      <td>Альберт</td>\n",
       "      <td>25</td>\n",
       "      <td>Краснодар</td>\n",
       "      <td>free</td>\n",
       "      <td>2840.423057</td>\n",
       "      <td>21.409799</td>\n",
       "      <td>2021-11-16</td>\n",
       "      <td>11</td>\n",
       "    </tr>\n",
       "    <tr>\n",
       "      <th>18065</th>\n",
       "      <td>1534</td>\n",
       "      <td>Альберт</td>\n",
       "      <td>25</td>\n",
       "      <td>Краснодар</td>\n",
       "      <td>free</td>\n",
       "      <td>3826.185507</td>\n",
       "      <td>18.435051</td>\n",
       "      <td>2021-11-18</td>\n",
       "      <td>11</td>\n",
       "    </tr>\n",
       "    <tr>\n",
       "      <th>18066</th>\n",
       "      <td>1534</td>\n",
       "      <td>Альберт</td>\n",
       "      <td>25</td>\n",
       "      <td>Краснодар</td>\n",
       "      <td>free</td>\n",
       "      <td>2902.308661</td>\n",
       "      <td>16.674362</td>\n",
       "      <td>2021-11-27</td>\n",
       "      <td>11</td>\n",
       "    </tr>\n",
       "    <tr>\n",
       "      <th>18067</th>\n",
       "      <td>1534</td>\n",
       "      <td>Альберт</td>\n",
       "      <td>25</td>\n",
       "      <td>Краснодар</td>\n",
       "      <td>free</td>\n",
       "      <td>2371.711192</td>\n",
       "      <td>15.893917</td>\n",
       "      <td>2021-12-29</td>\n",
       "      <td>12</td>\n",
       "    </tr>\n",
       "  </tbody>\n",
       "</table>\n",
       "<p>18068 rows × 9 columns</p>\n",
       "</div>"
      ],
      "text/plain": [
       "       user_id     name  age       city subscription_type     distance  \\\n",
       "0            1     Кира   22     Тюмень             ultra  4409.919140   \n",
       "1            1     Кира   22     Тюмень             ultra  2617.592153   \n",
       "2            1     Кира   22     Тюмень             ultra   754.159807   \n",
       "3            1     Кира   22     Тюмень             ultra  2694.783254   \n",
       "4            1     Кира   22     Тюмень             ultra  4028.687306   \n",
       "...        ...      ...  ...        ...               ...          ...   \n",
       "18063     1534  Альберт   25  Краснодар              free  3781.098080   \n",
       "18064     1534  Альберт   25  Краснодар              free  2840.423057   \n",
       "18065     1534  Альберт   25  Краснодар              free  3826.185507   \n",
       "18066     1534  Альберт   25  Краснодар              free  2902.308661   \n",
       "18067     1534  Альберт   25  Краснодар              free  2371.711192   \n",
       "\n",
       "        duration       date  month  \n",
       "0      25.599769 2021-01-01      1  \n",
       "1      15.816871 2021-01-18      1  \n",
       "2       6.232113 2021-04-20      4  \n",
       "3      18.511000 2021-08-11      8  \n",
       "4      26.265803 2021-08-28      8  \n",
       "...          ...        ...    ...  \n",
       "18063  19.822962 2021-11-04     11  \n",
       "18064  21.409799 2021-11-16     11  \n",
       "18065  18.435051 2021-11-18     11  \n",
       "18066  16.674362 2021-11-27     11  \n",
       "18067  15.893917 2021-12-29     12  \n",
       "\n",
       "[18068 rows x 9 columns]"
      ]
     },
     "execution_count": 19,
     "metadata": {},
     "output_type": "execute_result"
    }
   ],
   "source": [
    "data = users.merge(rides, on='user_id')\n",
    "data"
   ]
  },
  {
   "cell_type": "code",
   "execution_count": 20,
   "id": "4b0f18b2",
   "metadata": {},
   "outputs": [
    {
     "data": {
      "text/html": [
       "<div>\n",
       "<style scoped>\n",
       "    .dataframe tbody tr th:only-of-type {\n",
       "        vertical-align: middle;\n",
       "    }\n",
       "\n",
       "    .dataframe tbody tr th {\n",
       "        vertical-align: top;\n",
       "    }\n",
       "\n",
       "    .dataframe thead th {\n",
       "        text-align: right;\n",
       "    }\n",
       "</style>\n",
       "<table border=\"1\" class=\"dataframe\">\n",
       "  <thead>\n",
       "    <tr style=\"text-align: right;\">\n",
       "      <th></th>\n",
       "      <th>user_id</th>\n",
       "      <th>name</th>\n",
       "      <th>age</th>\n",
       "      <th>city</th>\n",
       "      <th>subscription_type</th>\n",
       "      <th>distance</th>\n",
       "      <th>duration</th>\n",
       "      <th>date</th>\n",
       "      <th>month</th>\n",
       "      <th>minute_price</th>\n",
       "      <th>start_ride_price</th>\n",
       "      <th>subscription_fee</th>\n",
       "    </tr>\n",
       "  </thead>\n",
       "  <tbody>\n",
       "    <tr>\n",
       "      <th>0</th>\n",
       "      <td>1</td>\n",
       "      <td>Кира</td>\n",
       "      <td>22</td>\n",
       "      <td>Тюмень</td>\n",
       "      <td>ultra</td>\n",
       "      <td>4409.919140</td>\n",
       "      <td>25.599769</td>\n",
       "      <td>2021-01-01</td>\n",
       "      <td>1</td>\n",
       "      <td>6</td>\n",
       "      <td>0</td>\n",
       "      <td>199</td>\n",
       "    </tr>\n",
       "    <tr>\n",
       "      <th>1</th>\n",
       "      <td>1</td>\n",
       "      <td>Кира</td>\n",
       "      <td>22</td>\n",
       "      <td>Тюмень</td>\n",
       "      <td>ultra</td>\n",
       "      <td>2617.592153</td>\n",
       "      <td>15.816871</td>\n",
       "      <td>2021-01-18</td>\n",
       "      <td>1</td>\n",
       "      <td>6</td>\n",
       "      <td>0</td>\n",
       "      <td>199</td>\n",
       "    </tr>\n",
       "    <tr>\n",
       "      <th>2</th>\n",
       "      <td>1</td>\n",
       "      <td>Кира</td>\n",
       "      <td>22</td>\n",
       "      <td>Тюмень</td>\n",
       "      <td>ultra</td>\n",
       "      <td>754.159807</td>\n",
       "      <td>6.232113</td>\n",
       "      <td>2021-04-20</td>\n",
       "      <td>4</td>\n",
       "      <td>6</td>\n",
       "      <td>0</td>\n",
       "      <td>199</td>\n",
       "    </tr>\n",
       "    <tr>\n",
       "      <th>3</th>\n",
       "      <td>1</td>\n",
       "      <td>Кира</td>\n",
       "      <td>22</td>\n",
       "      <td>Тюмень</td>\n",
       "      <td>ultra</td>\n",
       "      <td>2694.783254</td>\n",
       "      <td>18.511000</td>\n",
       "      <td>2021-08-11</td>\n",
       "      <td>8</td>\n",
       "      <td>6</td>\n",
       "      <td>0</td>\n",
       "      <td>199</td>\n",
       "    </tr>\n",
       "    <tr>\n",
       "      <th>4</th>\n",
       "      <td>1</td>\n",
       "      <td>Кира</td>\n",
       "      <td>22</td>\n",
       "      <td>Тюмень</td>\n",
       "      <td>ultra</td>\n",
       "      <td>4028.687306</td>\n",
       "      <td>26.265803</td>\n",
       "      <td>2021-08-28</td>\n",
       "      <td>8</td>\n",
       "      <td>6</td>\n",
       "      <td>0</td>\n",
       "      <td>199</td>\n",
       "    </tr>\n",
       "    <tr>\n",
       "      <th>...</th>\n",
       "      <td>...</td>\n",
       "      <td>...</td>\n",
       "      <td>...</td>\n",
       "      <td>...</td>\n",
       "      <td>...</td>\n",
       "      <td>...</td>\n",
       "      <td>...</td>\n",
       "      <td>...</td>\n",
       "      <td>...</td>\n",
       "      <td>...</td>\n",
       "      <td>...</td>\n",
       "      <td>...</td>\n",
       "    </tr>\n",
       "    <tr>\n",
       "      <th>18063</th>\n",
       "      <td>1534</td>\n",
       "      <td>Альберт</td>\n",
       "      <td>25</td>\n",
       "      <td>Краснодар</td>\n",
       "      <td>free</td>\n",
       "      <td>3781.098080</td>\n",
       "      <td>19.822962</td>\n",
       "      <td>2021-11-04</td>\n",
       "      <td>11</td>\n",
       "      <td>8</td>\n",
       "      <td>50</td>\n",
       "      <td>0</td>\n",
       "    </tr>\n",
       "    <tr>\n",
       "      <th>18064</th>\n",
       "      <td>1534</td>\n",
       "      <td>Альберт</td>\n",
       "      <td>25</td>\n",
       "      <td>Краснодар</td>\n",
       "      <td>free</td>\n",
       "      <td>2840.423057</td>\n",
       "      <td>21.409799</td>\n",
       "      <td>2021-11-16</td>\n",
       "      <td>11</td>\n",
       "      <td>8</td>\n",
       "      <td>50</td>\n",
       "      <td>0</td>\n",
       "    </tr>\n",
       "    <tr>\n",
       "      <th>18065</th>\n",
       "      <td>1534</td>\n",
       "      <td>Альберт</td>\n",
       "      <td>25</td>\n",
       "      <td>Краснодар</td>\n",
       "      <td>free</td>\n",
       "      <td>3826.185507</td>\n",
       "      <td>18.435051</td>\n",
       "      <td>2021-11-18</td>\n",
       "      <td>11</td>\n",
       "      <td>8</td>\n",
       "      <td>50</td>\n",
       "      <td>0</td>\n",
       "    </tr>\n",
       "    <tr>\n",
       "      <th>18066</th>\n",
       "      <td>1534</td>\n",
       "      <td>Альберт</td>\n",
       "      <td>25</td>\n",
       "      <td>Краснодар</td>\n",
       "      <td>free</td>\n",
       "      <td>2902.308661</td>\n",
       "      <td>16.674362</td>\n",
       "      <td>2021-11-27</td>\n",
       "      <td>11</td>\n",
       "      <td>8</td>\n",
       "      <td>50</td>\n",
       "      <td>0</td>\n",
       "    </tr>\n",
       "    <tr>\n",
       "      <th>18067</th>\n",
       "      <td>1534</td>\n",
       "      <td>Альберт</td>\n",
       "      <td>25</td>\n",
       "      <td>Краснодар</td>\n",
       "      <td>free</td>\n",
       "      <td>2371.711192</td>\n",
       "      <td>15.893917</td>\n",
       "      <td>2021-12-29</td>\n",
       "      <td>12</td>\n",
       "      <td>8</td>\n",
       "      <td>50</td>\n",
       "      <td>0</td>\n",
       "    </tr>\n",
       "  </tbody>\n",
       "</table>\n",
       "<p>18068 rows × 12 columns</p>\n",
       "</div>"
      ],
      "text/plain": [
       "       user_id     name  age       city subscription_type     distance  \\\n",
       "0            1     Кира   22     Тюмень             ultra  4409.919140   \n",
       "1            1     Кира   22     Тюмень             ultra  2617.592153   \n",
       "2            1     Кира   22     Тюмень             ultra   754.159807   \n",
       "3            1     Кира   22     Тюмень             ultra  2694.783254   \n",
       "4            1     Кира   22     Тюмень             ultra  4028.687306   \n",
       "...        ...      ...  ...        ...               ...          ...   \n",
       "18063     1534  Альберт   25  Краснодар              free  3781.098080   \n",
       "18064     1534  Альберт   25  Краснодар              free  2840.423057   \n",
       "18065     1534  Альберт   25  Краснодар              free  3826.185507   \n",
       "18066     1534  Альберт   25  Краснодар              free  2902.308661   \n",
       "18067     1534  Альберт   25  Краснодар              free  2371.711192   \n",
       "\n",
       "        duration       date  month  minute_price  start_ride_price  \\\n",
       "0      25.599769 2021-01-01      1             6                 0   \n",
       "1      15.816871 2021-01-18      1             6                 0   \n",
       "2       6.232113 2021-04-20      4             6                 0   \n",
       "3      18.511000 2021-08-11      8             6                 0   \n",
       "4      26.265803 2021-08-28      8             6                 0   \n",
       "...          ...        ...    ...           ...               ...   \n",
       "18063  19.822962 2021-11-04     11             8                50   \n",
       "18064  21.409799 2021-11-16     11             8                50   \n",
       "18065  18.435051 2021-11-18     11             8                50   \n",
       "18066  16.674362 2021-11-27     11             8                50   \n",
       "18067  15.893917 2021-12-29     12             8                50   \n",
       "\n",
       "       subscription_fee  \n",
       "0                   199  \n",
       "1                   199  \n",
       "2                   199  \n",
       "3                   199  \n",
       "4                   199  \n",
       "...                 ...  \n",
       "18063                 0  \n",
       "18064                 0  \n",
       "18065                 0  \n",
       "18066                 0  \n",
       "18067                 0  \n",
       "\n",
       "[18068 rows x 12 columns]"
      ]
     },
     "execution_count": 20,
     "metadata": {},
     "output_type": "execute_result"
    }
   ],
   "source": [
    "data = data.merge(subscriptions, on='subscription_type')\n",
    "data"
   ]
  },
  {
   "cell_type": "code",
   "execution_count": 21,
   "id": "2c3892ac",
   "metadata": {},
   "outputs": [],
   "source": [
    "data['duration'] = np.ceil(data['duration']) "
   ]
  },
  {
   "cell_type": "markdown",
   "id": "da503364",
   "metadata": {},
   "source": [
    "Создадим ещё два датафрейма:\n",
    "\n",
    "c данными о пользователях без подписки;\n",
    "с данными о пользователях с подпиской.\n",
    "\n",
    "А затем визуализируем информацию о расстоянии и времени поездок для пользователей обеих категорий."
   ]
  },
  {
   "cell_type": "code",
   "execution_count": 22,
   "id": "4716bc66",
   "metadata": {},
   "outputs": [
    {
     "data": {
      "text/html": [
       "<div>\n",
       "<style scoped>\n",
       "    .dataframe tbody tr th:only-of-type {\n",
       "        vertical-align: middle;\n",
       "    }\n",
       "\n",
       "    .dataframe tbody tr th {\n",
       "        vertical-align: top;\n",
       "    }\n",
       "\n",
       "    .dataframe thead th {\n",
       "        text-align: right;\n",
       "    }\n",
       "</style>\n",
       "<table border=\"1\" class=\"dataframe\">\n",
       "  <thead>\n",
       "    <tr style=\"text-align: right;\">\n",
       "      <th></th>\n",
       "      <th>user_id</th>\n",
       "      <th>name</th>\n",
       "      <th>age</th>\n",
       "      <th>city</th>\n",
       "      <th>subscription_type</th>\n",
       "      <th>distance</th>\n",
       "      <th>duration</th>\n",
       "      <th>date</th>\n",
       "      <th>month</th>\n",
       "      <th>minute_price</th>\n",
       "      <th>start_ride_price</th>\n",
       "      <th>subscription_fee</th>\n",
       "    </tr>\n",
       "  </thead>\n",
       "  <tbody>\n",
       "    <tr>\n",
       "      <th>0</th>\n",
       "      <td>1</td>\n",
       "      <td>Кира</td>\n",
       "      <td>22</td>\n",
       "      <td>Тюмень</td>\n",
       "      <td>ultra</td>\n",
       "      <td>4409.919140</td>\n",
       "      <td>26.0</td>\n",
       "      <td>2021-01-01</td>\n",
       "      <td>1</td>\n",
       "      <td>6</td>\n",
       "      <td>0</td>\n",
       "      <td>199</td>\n",
       "    </tr>\n",
       "    <tr>\n",
       "      <th>1</th>\n",
       "      <td>1</td>\n",
       "      <td>Кира</td>\n",
       "      <td>22</td>\n",
       "      <td>Тюмень</td>\n",
       "      <td>ultra</td>\n",
       "      <td>2617.592153</td>\n",
       "      <td>16.0</td>\n",
       "      <td>2021-01-18</td>\n",
       "      <td>1</td>\n",
       "      <td>6</td>\n",
       "      <td>0</td>\n",
       "      <td>199</td>\n",
       "    </tr>\n",
       "    <tr>\n",
       "      <th>2</th>\n",
       "      <td>1</td>\n",
       "      <td>Кира</td>\n",
       "      <td>22</td>\n",
       "      <td>Тюмень</td>\n",
       "      <td>ultra</td>\n",
       "      <td>754.159807</td>\n",
       "      <td>7.0</td>\n",
       "      <td>2021-04-20</td>\n",
       "      <td>4</td>\n",
       "      <td>6</td>\n",
       "      <td>0</td>\n",
       "      <td>199</td>\n",
       "    </tr>\n",
       "    <tr>\n",
       "      <th>3</th>\n",
       "      <td>1</td>\n",
       "      <td>Кира</td>\n",
       "      <td>22</td>\n",
       "      <td>Тюмень</td>\n",
       "      <td>ultra</td>\n",
       "      <td>2694.783254</td>\n",
       "      <td>19.0</td>\n",
       "      <td>2021-08-11</td>\n",
       "      <td>8</td>\n",
       "      <td>6</td>\n",
       "      <td>0</td>\n",
       "      <td>199</td>\n",
       "    </tr>\n",
       "    <tr>\n",
       "      <th>4</th>\n",
       "      <td>1</td>\n",
       "      <td>Кира</td>\n",
       "      <td>22</td>\n",
       "      <td>Тюмень</td>\n",
       "      <td>ultra</td>\n",
       "      <td>4028.687306</td>\n",
       "      <td>27.0</td>\n",
       "      <td>2021-08-28</td>\n",
       "      <td>8</td>\n",
       "      <td>6</td>\n",
       "      <td>0</td>\n",
       "      <td>199</td>\n",
       "    </tr>\n",
       "    <tr>\n",
       "      <th>...</th>\n",
       "      <td>...</td>\n",
       "      <td>...</td>\n",
       "      <td>...</td>\n",
       "      <td>...</td>\n",
       "      <td>...</td>\n",
       "      <td>...</td>\n",
       "      <td>...</td>\n",
       "      <td>...</td>\n",
       "      <td>...</td>\n",
       "      <td>...</td>\n",
       "      <td>...</td>\n",
       "      <td>...</td>\n",
       "    </tr>\n",
       "    <tr>\n",
       "      <th>6495</th>\n",
       "      <td>699</td>\n",
       "      <td>Оксана</td>\n",
       "      <td>22</td>\n",
       "      <td>Москва</td>\n",
       "      <td>ultra</td>\n",
       "      <td>3973.046497</td>\n",
       "      <td>25.0</td>\n",
       "      <td>2021-08-29</td>\n",
       "      <td>8</td>\n",
       "      <td>6</td>\n",
       "      <td>0</td>\n",
       "      <td>199</td>\n",
       "    </tr>\n",
       "    <tr>\n",
       "      <th>6496</th>\n",
       "      <td>699</td>\n",
       "      <td>Оксана</td>\n",
       "      <td>22</td>\n",
       "      <td>Москва</td>\n",
       "      <td>ultra</td>\n",
       "      <td>3288.702563</td>\n",
       "      <td>16.0</td>\n",
       "      <td>2021-09-12</td>\n",
       "      <td>9</td>\n",
       "      <td>6</td>\n",
       "      <td>0</td>\n",
       "      <td>199</td>\n",
       "    </tr>\n",
       "    <tr>\n",
       "      <th>6497</th>\n",
       "      <td>699</td>\n",
       "      <td>Оксана</td>\n",
       "      <td>22</td>\n",
       "      <td>Москва</td>\n",
       "      <td>ultra</td>\n",
       "      <td>3076.159348</td>\n",
       "      <td>15.0</td>\n",
       "      <td>2021-09-26</td>\n",
       "      <td>9</td>\n",
       "      <td>6</td>\n",
       "      <td>0</td>\n",
       "      <td>199</td>\n",
       "    </tr>\n",
       "    <tr>\n",
       "      <th>6498</th>\n",
       "      <td>699</td>\n",
       "      <td>Оксана</td>\n",
       "      <td>22</td>\n",
       "      <td>Москва</td>\n",
       "      <td>ultra</td>\n",
       "      <td>4707.845501</td>\n",
       "      <td>16.0</td>\n",
       "      <td>2021-10-17</td>\n",
       "      <td>10</td>\n",
       "      <td>6</td>\n",
       "      <td>0</td>\n",
       "      <td>199</td>\n",
       "    </tr>\n",
       "    <tr>\n",
       "      <th>6499</th>\n",
       "      <td>699</td>\n",
       "      <td>Оксана</td>\n",
       "      <td>22</td>\n",
       "      <td>Москва</td>\n",
       "      <td>ultra</td>\n",
       "      <td>3202.890770</td>\n",
       "      <td>26.0</td>\n",
       "      <td>2021-12-03</td>\n",
       "      <td>12</td>\n",
       "      <td>6</td>\n",
       "      <td>0</td>\n",
       "      <td>199</td>\n",
       "    </tr>\n",
       "  </tbody>\n",
       "</table>\n",
       "<p>6500 rows × 12 columns</p>\n",
       "</div>"
      ],
      "text/plain": [
       "      user_id    name  age    city subscription_type     distance  duration  \\\n",
       "0           1    Кира   22  Тюмень             ultra  4409.919140      26.0   \n",
       "1           1    Кира   22  Тюмень             ultra  2617.592153      16.0   \n",
       "2           1    Кира   22  Тюмень             ultra   754.159807       7.0   \n",
       "3           1    Кира   22  Тюмень             ultra  2694.783254      19.0   \n",
       "4           1    Кира   22  Тюмень             ultra  4028.687306      27.0   \n",
       "...       ...     ...  ...     ...               ...          ...       ...   \n",
       "6495      699  Оксана   22  Москва             ultra  3973.046497      25.0   \n",
       "6496      699  Оксана   22  Москва             ultra  3288.702563      16.0   \n",
       "6497      699  Оксана   22  Москва             ultra  3076.159348      15.0   \n",
       "6498      699  Оксана   22  Москва             ultra  4707.845501      16.0   \n",
       "6499      699  Оксана   22  Москва             ultra  3202.890770      26.0   \n",
       "\n",
       "           date  month  minute_price  start_ride_price  subscription_fee  \n",
       "0    2021-01-01      1             6                 0               199  \n",
       "1    2021-01-18      1             6                 0               199  \n",
       "2    2021-04-20      4             6                 0               199  \n",
       "3    2021-08-11      8             6                 0               199  \n",
       "4    2021-08-28      8             6                 0               199  \n",
       "...         ...    ...           ...               ...               ...  \n",
       "6495 2021-08-29      8             6                 0               199  \n",
       "6496 2021-09-12      9             6                 0               199  \n",
       "6497 2021-09-26      9             6                 0               199  \n",
       "6498 2021-10-17     10             6                 0               199  \n",
       "6499 2021-12-03     12             6                 0               199  \n",
       "\n",
       "[6500 rows x 12 columns]"
      ]
     },
     "execution_count": 22,
     "metadata": {},
     "output_type": "execute_result"
    }
   ],
   "source": [
    "df_subscribed = data.query('subscription_type == \"ultra\"')\n",
    "df_subscribed"
   ]
  },
  {
   "cell_type": "code",
   "execution_count": 23,
   "id": "7bc1847a",
   "metadata": {},
   "outputs": [
    {
     "data": {
      "text/html": [
       "<div>\n",
       "<style scoped>\n",
       "    .dataframe tbody tr th:only-of-type {\n",
       "        vertical-align: middle;\n",
       "    }\n",
       "\n",
       "    .dataframe tbody tr th {\n",
       "        vertical-align: top;\n",
       "    }\n",
       "\n",
       "    .dataframe thead th {\n",
       "        text-align: right;\n",
       "    }\n",
       "</style>\n",
       "<table border=\"1\" class=\"dataframe\">\n",
       "  <thead>\n",
       "    <tr style=\"text-align: right;\">\n",
       "      <th></th>\n",
       "      <th>user_id</th>\n",
       "      <th>name</th>\n",
       "      <th>age</th>\n",
       "      <th>city</th>\n",
       "      <th>subscription_type</th>\n",
       "      <th>distance</th>\n",
       "      <th>duration</th>\n",
       "      <th>date</th>\n",
       "      <th>month</th>\n",
       "      <th>minute_price</th>\n",
       "      <th>start_ride_price</th>\n",
       "      <th>subscription_fee</th>\n",
       "    </tr>\n",
       "  </thead>\n",
       "  <tbody>\n",
       "    <tr>\n",
       "      <th>6500</th>\n",
       "      <td>700</td>\n",
       "      <td>Айдар</td>\n",
       "      <td>22</td>\n",
       "      <td>Омск</td>\n",
       "      <td>free</td>\n",
       "      <td>2515.690719</td>\n",
       "      <td>15.0</td>\n",
       "      <td>2021-01-02</td>\n",
       "      <td>1</td>\n",
       "      <td>8</td>\n",
       "      <td>50</td>\n",
       "      <td>0</td>\n",
       "    </tr>\n",
       "    <tr>\n",
       "      <th>6501</th>\n",
       "      <td>700</td>\n",
       "      <td>Айдар</td>\n",
       "      <td>22</td>\n",
       "      <td>Омск</td>\n",
       "      <td>free</td>\n",
       "      <td>846.932642</td>\n",
       "      <td>17.0</td>\n",
       "      <td>2021-02-01</td>\n",
       "      <td>2</td>\n",
       "      <td>8</td>\n",
       "      <td>50</td>\n",
       "      <td>0</td>\n",
       "    </tr>\n",
       "    <tr>\n",
       "      <th>6502</th>\n",
       "      <td>700</td>\n",
       "      <td>Айдар</td>\n",
       "      <td>22</td>\n",
       "      <td>Омск</td>\n",
       "      <td>free</td>\n",
       "      <td>4004.434142</td>\n",
       "      <td>21.0</td>\n",
       "      <td>2021-02-04</td>\n",
       "      <td>2</td>\n",
       "      <td>8</td>\n",
       "      <td>50</td>\n",
       "      <td>0</td>\n",
       "    </tr>\n",
       "    <tr>\n",
       "      <th>6503</th>\n",
       "      <td>700</td>\n",
       "      <td>Айдар</td>\n",
       "      <td>22</td>\n",
       "      <td>Омск</td>\n",
       "      <td>free</td>\n",
       "      <td>1205.911290</td>\n",
       "      <td>10.0</td>\n",
       "      <td>2021-02-10</td>\n",
       "      <td>2</td>\n",
       "      <td>8</td>\n",
       "      <td>50</td>\n",
       "      <td>0</td>\n",
       "    </tr>\n",
       "    <tr>\n",
       "      <th>6504</th>\n",
       "      <td>700</td>\n",
       "      <td>Айдар</td>\n",
       "      <td>22</td>\n",
       "      <td>Омск</td>\n",
       "      <td>free</td>\n",
       "      <td>3047.379435</td>\n",
       "      <td>18.0</td>\n",
       "      <td>2021-02-14</td>\n",
       "      <td>2</td>\n",
       "      <td>8</td>\n",
       "      <td>50</td>\n",
       "      <td>0</td>\n",
       "    </tr>\n",
       "    <tr>\n",
       "      <th>...</th>\n",
       "      <td>...</td>\n",
       "      <td>...</td>\n",
       "      <td>...</td>\n",
       "      <td>...</td>\n",
       "      <td>...</td>\n",
       "      <td>...</td>\n",
       "      <td>...</td>\n",
       "      <td>...</td>\n",
       "      <td>...</td>\n",
       "      <td>...</td>\n",
       "      <td>...</td>\n",
       "      <td>...</td>\n",
       "    </tr>\n",
       "    <tr>\n",
       "      <th>18063</th>\n",
       "      <td>1534</td>\n",
       "      <td>Альберт</td>\n",
       "      <td>25</td>\n",
       "      <td>Краснодар</td>\n",
       "      <td>free</td>\n",
       "      <td>3781.098080</td>\n",
       "      <td>20.0</td>\n",
       "      <td>2021-11-04</td>\n",
       "      <td>11</td>\n",
       "      <td>8</td>\n",
       "      <td>50</td>\n",
       "      <td>0</td>\n",
       "    </tr>\n",
       "    <tr>\n",
       "      <th>18064</th>\n",
       "      <td>1534</td>\n",
       "      <td>Альберт</td>\n",
       "      <td>25</td>\n",
       "      <td>Краснодар</td>\n",
       "      <td>free</td>\n",
       "      <td>2840.423057</td>\n",
       "      <td>22.0</td>\n",
       "      <td>2021-11-16</td>\n",
       "      <td>11</td>\n",
       "      <td>8</td>\n",
       "      <td>50</td>\n",
       "      <td>0</td>\n",
       "    </tr>\n",
       "    <tr>\n",
       "      <th>18065</th>\n",
       "      <td>1534</td>\n",
       "      <td>Альберт</td>\n",
       "      <td>25</td>\n",
       "      <td>Краснодар</td>\n",
       "      <td>free</td>\n",
       "      <td>3826.185507</td>\n",
       "      <td>19.0</td>\n",
       "      <td>2021-11-18</td>\n",
       "      <td>11</td>\n",
       "      <td>8</td>\n",
       "      <td>50</td>\n",
       "      <td>0</td>\n",
       "    </tr>\n",
       "    <tr>\n",
       "      <th>18066</th>\n",
       "      <td>1534</td>\n",
       "      <td>Альберт</td>\n",
       "      <td>25</td>\n",
       "      <td>Краснодар</td>\n",
       "      <td>free</td>\n",
       "      <td>2902.308661</td>\n",
       "      <td>17.0</td>\n",
       "      <td>2021-11-27</td>\n",
       "      <td>11</td>\n",
       "      <td>8</td>\n",
       "      <td>50</td>\n",
       "      <td>0</td>\n",
       "    </tr>\n",
       "    <tr>\n",
       "      <th>18067</th>\n",
       "      <td>1534</td>\n",
       "      <td>Альберт</td>\n",
       "      <td>25</td>\n",
       "      <td>Краснодар</td>\n",
       "      <td>free</td>\n",
       "      <td>2371.711192</td>\n",
       "      <td>16.0</td>\n",
       "      <td>2021-12-29</td>\n",
       "      <td>12</td>\n",
       "      <td>8</td>\n",
       "      <td>50</td>\n",
       "      <td>0</td>\n",
       "    </tr>\n",
       "  </tbody>\n",
       "</table>\n",
       "<p>11568 rows × 12 columns</p>\n",
       "</div>"
      ],
      "text/plain": [
       "       user_id     name  age       city subscription_type     distance  \\\n",
       "6500       700    Айдар   22       Омск              free  2515.690719   \n",
       "6501       700    Айдар   22       Омск              free   846.932642   \n",
       "6502       700    Айдар   22       Омск              free  4004.434142   \n",
       "6503       700    Айдар   22       Омск              free  1205.911290   \n",
       "6504       700    Айдар   22       Омск              free  3047.379435   \n",
       "...        ...      ...  ...        ...               ...          ...   \n",
       "18063     1534  Альберт   25  Краснодар              free  3781.098080   \n",
       "18064     1534  Альберт   25  Краснодар              free  2840.423057   \n",
       "18065     1534  Альберт   25  Краснодар              free  3826.185507   \n",
       "18066     1534  Альберт   25  Краснодар              free  2902.308661   \n",
       "18067     1534  Альберт   25  Краснодар              free  2371.711192   \n",
       "\n",
       "       duration       date  month  minute_price  start_ride_price  \\\n",
       "6500       15.0 2021-01-02      1             8                50   \n",
       "6501       17.0 2021-02-01      2             8                50   \n",
       "6502       21.0 2021-02-04      2             8                50   \n",
       "6503       10.0 2021-02-10      2             8                50   \n",
       "6504       18.0 2021-02-14      2             8                50   \n",
       "...         ...        ...    ...           ...               ...   \n",
       "18063      20.0 2021-11-04     11             8                50   \n",
       "18064      22.0 2021-11-16     11             8                50   \n",
       "18065      19.0 2021-11-18     11             8                50   \n",
       "18066      17.0 2021-11-27     11             8                50   \n",
       "18067      16.0 2021-12-29     12             8                50   \n",
       "\n",
       "       subscription_fee  \n",
       "6500                  0  \n",
       "6501                  0  \n",
       "6502                  0  \n",
       "6503                  0  \n",
       "6504                  0  \n",
       "...                 ...  \n",
       "18063                 0  \n",
       "18064                 0  \n",
       "18065                 0  \n",
       "18066                 0  \n",
       "18067                 0  \n",
       "\n",
       "[11568 rows x 12 columns]"
      ]
     },
     "execution_count": 23,
     "metadata": {},
     "output_type": "execute_result"
    }
   ],
   "source": [
    "df_no_subscribed = data.query('subscription_type == \"free\"')\n",
    "df_no_subscribed"
   ]
  },
  {
   "cell_type": "code",
   "execution_count": 24,
   "id": "3a323f1b",
   "metadata": {},
   "outputs": [
    {
     "data": {
      "image/png": "[encoded data removed]",
      "text/plain": [
       "<Figure size 432x288 with 1 Axes>"
      ]
     },
     "metadata": {
      "needs_background": "light"
     },
     "output_type": "display_data"
    },
    {
     "data": {
      "text/plain": [
       "count    11568.000000\n",
       "mean      3045.495282\n",
       "std       1246.173806\n",
       "min          0.855683\n",
       "25%       2366.562689\n",
       "50%       3114.648465\n",
       "75%       3905.697894\n",
       "max       7211.007745\n",
       "Name: distance, dtype: float64"
      ]
     },
     "execution_count": 24,
     "metadata": {},
     "output_type": "execute_result"
    }
   ],
   "source": [
    "plt.hist(df_subscribed['distance'], bins = 70, range = (0,5500), alpha=0.7, label='с подпиской')\n",
    "plt.hist(df_no_subscribed['distance'], bins = 70, range = (0,6000), alpha=0.7, label='без подписки')\n",
    "plt.title('Расстояние, которое пользователь преодолел за одну поездку')\n",
    "plt.xlabel('Расстояние, м')\n",
    "plt.ylabel('Частота')\n",
    "plt.legend()\n",
    "plt.show()\n",
    "df_subscribed['distance'].describe()\n",
    "df_no_subscribed['distance'].describe()"
   ]
  },
  {
   "cell_type": "markdown",
   "id": "7bd17e56",
   "metadata": {},
   "source": [
    "Сравним расстояние, которое преодолели пользователи с подпиской и без.\n",
    "Среднее расстояние у пользователей с подпиской 3115м. Большинство значений лежат от 2785м до 3559м.\n",
    "Среднее расстояние у пользователей без подписки 3045м. Большинство значений лежат от 2366м до 3903м.\n",
    "Разница незначительная, но с подпиской проезжают чуть больше."
   ]
  },
  {
   "cell_type": "code",
   "execution_count": 25,
   "id": "f31b983e",
   "metadata": {},
   "outputs": [
    {
     "data": {
      "image/png": "[encoded data removed]",
      "text/plain": [
       "<Figure size 432x288 with 1 Axes>"
      ]
     },
     "metadata": {
      "needs_background": "light"
     },
     "output_type": "display_data"
    },
    {
     "data": {
      "text/plain": [
       "count    11568.000000\n",
       "mean        17.890992\n",
       "std          6.330250\n",
       "min          1.000000\n",
       "25%         13.000000\n",
       "50%         18.000000\n",
       "75%         22.000000\n",
       "max         35.000000\n",
       "Name: duration, dtype: float64"
      ]
     },
     "execution_count": 25,
     "metadata": {},
     "output_type": "execute_result"
    }
   ],
   "source": [
    "plt.hist(df_subscribed['duration'], bins = 70, alpha=0.7, label='с подпиской')\n",
    "plt.hist(df_no_subscribed['duration'], bins = 70, alpha=0.7, label='без подписки')\n",
    "plt.title('Продолжительность поездок за одну сессию')\n",
    "plt.xlabel('Продолжительность, м')\n",
    "plt.ylabel('Частота')\n",
    "plt.legend()\n",
    "plt.show()\n",
    "\n",
    "df_subscribed['duration'].describe()\n",
    "df_no_subscribed['duration'].describe()"
   ]
  },
  {
   "cell_type": "markdown",
   "id": "22966dd3",
   "metadata": {},
   "source": [
    "Теперь сравним продолжительность поездок для пользователей с подпиской и без.\n",
    "\n",
    "Пользователи с подпиской в среднем тратят 18 минут. Большинство значений лежат от 15 до 22 минут.\n",
    "Пользователи без подписки в среднем тратят 17 минут. Большинство значений лежат от 13 до 22 минут.\n",
    "Пользователи без подписки ездят немного меньше.\n",
    "\n",
    "**Промежуточный вывод**\n",
    "Среднее расстояние у пользователей с подпиской 3115м. Большинство значений лежат от 2785м до 3559м.\n",
    "Среднее расстояние у пользователей без подписки 3045м. Большинство значений лежат от 2366м до 3903м.\n",
    "Разница незначительная, но с подпиской проезжают чуть больше.\n",
    "\n",
    "Та же ситуация и со временем. Пользователи с подпиской в среднем тратят 18 минут, а без подписки 17 минут."
   ]
  },
  {
   "cell_type": "markdown",
   "id": "266ef72c",
   "metadata": {},
   "source": [
    "### шаг. Подсчёт выручки"
   ]
  },
  {
   "cell_type": "markdown",
   "id": "0bc29844",
   "metadata": {},
   "source": [
    "Создадим датафрейм с агрегированными данными о поездках на основе датафрейма с объединёнными данными из шага 4: найдём суммарное расстояние, количество поездок и суммарное время для каждого пользователя за каждый месяц."
   ]
  },
  {
   "cell_type": "code",
   "execution_count": 26,
   "id": "537fb261",
   "metadata": {
    "scrolled": true
   },
   "outputs": [
    {
     "data": {
      "text/html": [
       "<div>\n",
       "<style scoped>\n",
       "    .dataframe tbody tr th:only-of-type {\n",
       "        vertical-align: middle;\n",
       "    }\n",
       "\n",
       "    .dataframe tbody tr th {\n",
       "        vertical-align: top;\n",
       "    }\n",
       "\n",
       "    .dataframe thead tr th {\n",
       "        text-align: left;\n",
       "    }\n",
       "\n",
       "    .dataframe thead tr:last-of-type th {\n",
       "        text-align: right;\n",
       "    }\n",
       "</style>\n",
       "<table border=\"1\" class=\"dataframe\">\n",
       "  <thead>\n",
       "    <tr>\n",
       "      <th></th>\n",
       "      <th></th>\n",
       "      <th colspan=\"2\" halign=\"left\">sum</th>\n",
       "      <th colspan=\"2\" halign=\"left\">count</th>\n",
       "    </tr>\n",
       "    <tr>\n",
       "      <th></th>\n",
       "      <th></th>\n",
       "      <th>distance</th>\n",
       "      <th>duration</th>\n",
       "      <th>distance</th>\n",
       "      <th>duration</th>\n",
       "    </tr>\n",
       "    <tr>\n",
       "      <th>user_id</th>\n",
       "      <th>month</th>\n",
       "      <th></th>\n",
       "      <th></th>\n",
       "      <th></th>\n",
       "      <th></th>\n",
       "    </tr>\n",
       "  </thead>\n",
       "  <tbody>\n",
       "    <tr>\n",
       "      <th rowspan=\"5\" valign=\"top\">1</th>\n",
       "      <th>1</th>\n",
       "      <td>7027.511294</td>\n",
       "      <td>42.0</td>\n",
       "      <td>2</td>\n",
       "      <td>2</td>\n",
       "    </tr>\n",
       "    <tr>\n",
       "      <th>4</th>\n",
       "      <td>754.159807</td>\n",
       "      <td>7.0</td>\n",
       "      <td>1</td>\n",
       "      <td>1</td>\n",
       "    </tr>\n",
       "    <tr>\n",
       "      <th>8</th>\n",
       "      <td>6723.470560</td>\n",
       "      <td>46.0</td>\n",
       "      <td>2</td>\n",
       "      <td>2</td>\n",
       "    </tr>\n",
       "    <tr>\n",
       "      <th>10</th>\n",
       "      <td>5809.911100</td>\n",
       "      <td>32.0</td>\n",
       "      <td>2</td>\n",
       "      <td>2</td>\n",
       "    </tr>\n",
       "    <tr>\n",
       "      <th>11</th>\n",
       "      <td>7003.499363</td>\n",
       "      <td>56.0</td>\n",
       "      <td>3</td>\n",
       "      <td>3</td>\n",
       "    </tr>\n",
       "    <tr>\n",
       "      <th>...</th>\n",
       "      <th>...</th>\n",
       "      <td>...</td>\n",
       "      <td>...</td>\n",
       "      <td>...</td>\n",
       "      <td>...</td>\n",
       "    </tr>\n",
       "    <tr>\n",
       "      <th rowspan=\"5\" valign=\"top\">1534</th>\n",
       "      <th>6</th>\n",
       "      <td>3409.468534</td>\n",
       "      <td>26.0</td>\n",
       "      <td>2</td>\n",
       "      <td>2</td>\n",
       "    </tr>\n",
       "    <tr>\n",
       "      <th>8</th>\n",
       "      <td>7622.453034</td>\n",
       "      <td>48.0</td>\n",
       "      <td>2</td>\n",
       "      <td>2</td>\n",
       "    </tr>\n",
       "    <tr>\n",
       "      <th>9</th>\n",
       "      <td>4928.173852</td>\n",
       "      <td>23.0</td>\n",
       "      <td>1</td>\n",
       "      <td>1</td>\n",
       "    </tr>\n",
       "    <tr>\n",
       "      <th>11</th>\n",
       "      <td>13350.015305</td>\n",
       "      <td>78.0</td>\n",
       "      <td>4</td>\n",
       "      <td>4</td>\n",
       "    </tr>\n",
       "    <tr>\n",
       "      <th>12</th>\n",
       "      <td>2371.711192</td>\n",
       "      <td>16.0</td>\n",
       "      <td>1</td>\n",
       "      <td>1</td>\n",
       "    </tr>\n",
       "  </tbody>\n",
       "</table>\n",
       "<p>11331 rows × 4 columns</p>\n",
       "</div>"
      ],
      "text/plain": [
       "                        sum             count         \n",
       "                   distance duration distance duration\n",
       "user_id month                                         \n",
       "1       1       7027.511294     42.0        2        2\n",
       "        4        754.159807      7.0        1        1\n",
       "        8       6723.470560     46.0        2        2\n",
       "        10      5809.911100     32.0        2        2\n",
       "        11      7003.499363     56.0        3        3\n",
       "...                     ...      ...      ...      ...\n",
       "1534    6       3409.468534     26.0        2        2\n",
       "        8       7622.453034     48.0        2        2\n",
       "        9       4928.173852     23.0        1        1\n",
       "        11     13350.015305     78.0        4        4\n",
       "        12      2371.711192     16.0        1        1\n",
       "\n",
       "[11331 rows x 4 columns]"
      ]
     },
     "execution_count": 26,
     "metadata": {},
     "output_type": "execute_result"
    }
   ],
   "source": [
    "data_pivot = data.pivot_table(index=['user_id', 'month'],\n",
    "                                values=['distance', 'duration'],\n",
    "                                aggfunc=['sum', 'count'])\n",
    "data_pivot"
   ]
  },
  {
   "cell_type": "markdown",
   "id": "724ae928",
   "metadata": {},
   "source": [
    "Нужно добавмть столбец с помесячной выручкой. Помесячная выручка считается по формуле: (стоимость старта поездки *  количество поездок) + (стоимость одной минуты поездки * общая продолжительность всех поездок в минутах) + стоимость подписки.\n",
    "\n",
    "без подписки \n",
    "абонентская плата отсутствует;\n",
    "стоимость одной минуты поездки — \n",
    "8 рублей;\n",
    "стоимость старта (начала поездки) — \n",
    "50 рублей;\n",
    "\n",
    "с подпиской Ultra \n",
    "абонентская плата — \n",
    "199 рублей в месяц;\n",
    "стоимость одной минуты поездки — \n",
    "6 рублей;\n",
    "стоимость старта — бесплатно."
   ]
  },
  {
   "cell_type": "code",
   "execution_count": 27,
   "id": "d9100ff3",
   "metadata": {},
   "outputs": [
    {
     "data": {
      "text/html": [
       "<div>\n",
       "<style scoped>\n",
       "    .dataframe tbody tr th:only-of-type {\n",
       "        vertical-align: middle;\n",
       "    }\n",
       "\n",
       "    .dataframe tbody tr th {\n",
       "        vertical-align: top;\n",
       "    }\n",
       "\n",
       "    .dataframe thead tr th {\n",
       "        text-align: left;\n",
       "    }\n",
       "</style>\n",
       "<table border=\"1\" class=\"dataframe\">\n",
       "  <thead>\n",
       "    <tr>\n",
       "      <th></th>\n",
       "      <th>user_id</th>\n",
       "      <th>month</th>\n",
       "      <th colspan=\"2\" halign=\"left\">sum</th>\n",
       "      <th colspan=\"2\" halign=\"left\">count</th>\n",
       "    </tr>\n",
       "    <tr>\n",
       "      <th></th>\n",
       "      <th></th>\n",
       "      <th></th>\n",
       "      <th>distance</th>\n",
       "      <th>duration</th>\n",
       "      <th>distance</th>\n",
       "      <th>duration</th>\n",
       "    </tr>\n",
       "  </thead>\n",
       "  <tbody>\n",
       "    <tr>\n",
       "      <th>0</th>\n",
       "      <td>1</td>\n",
       "      <td>1</td>\n",
       "      <td>7027.511294</td>\n",
       "      <td>42.0</td>\n",
       "      <td>2</td>\n",
       "      <td>2</td>\n",
       "    </tr>\n",
       "    <tr>\n",
       "      <th>1</th>\n",
       "      <td>1</td>\n",
       "      <td>4</td>\n",
       "      <td>754.159807</td>\n",
       "      <td>7.0</td>\n",
       "      <td>1</td>\n",
       "      <td>1</td>\n",
       "    </tr>\n",
       "    <tr>\n",
       "      <th>2</th>\n",
       "      <td>1</td>\n",
       "      <td>8</td>\n",
       "      <td>6723.470560</td>\n",
       "      <td>46.0</td>\n",
       "      <td>2</td>\n",
       "      <td>2</td>\n",
       "    </tr>\n",
       "    <tr>\n",
       "      <th>3</th>\n",
       "      <td>1</td>\n",
       "      <td>10</td>\n",
       "      <td>5809.911100</td>\n",
       "      <td>32.0</td>\n",
       "      <td>2</td>\n",
       "      <td>2</td>\n",
       "    </tr>\n",
       "    <tr>\n",
       "      <th>4</th>\n",
       "      <td>1</td>\n",
       "      <td>11</td>\n",
       "      <td>7003.499363</td>\n",
       "      <td>56.0</td>\n",
       "      <td>3</td>\n",
       "      <td>3</td>\n",
       "    </tr>\n",
       "    <tr>\n",
       "      <th>...</th>\n",
       "      <td>...</td>\n",
       "      <td>...</td>\n",
       "      <td>...</td>\n",
       "      <td>...</td>\n",
       "      <td>...</td>\n",
       "      <td>...</td>\n",
       "    </tr>\n",
       "    <tr>\n",
       "      <th>11326</th>\n",
       "      <td>1534</td>\n",
       "      <td>6</td>\n",
       "      <td>3409.468534</td>\n",
       "      <td>26.0</td>\n",
       "      <td>2</td>\n",
       "      <td>2</td>\n",
       "    </tr>\n",
       "    <tr>\n",
       "      <th>11327</th>\n",
       "      <td>1534</td>\n",
       "      <td>8</td>\n",
       "      <td>7622.453034</td>\n",
       "      <td>48.0</td>\n",
       "      <td>2</td>\n",
       "      <td>2</td>\n",
       "    </tr>\n",
       "    <tr>\n",
       "      <th>11328</th>\n",
       "      <td>1534</td>\n",
       "      <td>9</td>\n",
       "      <td>4928.173852</td>\n",
       "      <td>23.0</td>\n",
       "      <td>1</td>\n",
       "      <td>1</td>\n",
       "    </tr>\n",
       "    <tr>\n",
       "      <th>11329</th>\n",
       "      <td>1534</td>\n",
       "      <td>11</td>\n",
       "      <td>13350.015305</td>\n",
       "      <td>78.0</td>\n",
       "      <td>4</td>\n",
       "      <td>4</td>\n",
       "    </tr>\n",
       "    <tr>\n",
       "      <th>11330</th>\n",
       "      <td>1534</td>\n",
       "      <td>12</td>\n",
       "      <td>2371.711192</td>\n",
       "      <td>16.0</td>\n",
       "      <td>1</td>\n",
       "      <td>1</td>\n",
       "    </tr>\n",
       "  </tbody>\n",
       "</table>\n",
       "<p>11331 rows × 6 columns</p>\n",
       "</div>"
      ],
      "text/plain": [
       "      user_id month           sum             count         \n",
       "                         distance duration distance duration\n",
       "0           1     1   7027.511294     42.0        2        2\n",
       "1           1     4    754.159807      7.0        1        1\n",
       "2           1     8   6723.470560     46.0        2        2\n",
       "3           1    10   5809.911100     32.0        2        2\n",
       "4           1    11   7003.499363     56.0        3        3\n",
       "...       ...   ...           ...      ...      ...      ...\n",
       "11326    1534     6   3409.468534     26.0        2        2\n",
       "11327    1534     8   7622.453034     48.0        2        2\n",
       "11328    1534     9   4928.173852     23.0        1        1\n",
       "11329    1534    11  13350.015305     78.0        4        4\n",
       "11330    1534    12   2371.711192     16.0        1        1\n",
       "\n",
       "[11331 rows x 6 columns]"
      ]
     },
     "execution_count": 27,
     "metadata": {},
     "output_type": "execute_result"
    }
   ],
   "source": [
    "data_pivot = data_pivot.reset_index()\n",
    "data_pivot"
   ]
  },
  {
   "cell_type": "code",
   "execution_count": 28,
   "id": "c3c59526",
   "metadata": {},
   "outputs": [
    {
     "data": {
      "text/html": [
       "<div>\n",
       "<style scoped>\n",
       "    .dataframe tbody tr th:only-of-type {\n",
       "        vertical-align: middle;\n",
       "    }\n",
       "\n",
       "    .dataframe tbody tr th {\n",
       "        vertical-align: top;\n",
       "    }\n",
       "\n",
       "    .dataframe thead th {\n",
       "        text-align: right;\n",
       "    }\n",
       "</style>\n",
       "<table border=\"1\" class=\"dataframe\">\n",
       "  <thead>\n",
       "    <tr style=\"text-align: right;\">\n",
       "      <th></th>\n",
       "      <th>user_id</th>\n",
       "      <th>month</th>\n",
       "      <th>sum_distance</th>\n",
       "      <th>sum_duration</th>\n",
       "      <th>count_distance</th>\n",
       "      <th>count_duration</th>\n",
       "    </tr>\n",
       "  </thead>\n",
       "  <tbody>\n",
       "    <tr>\n",
       "      <th>0</th>\n",
       "      <td>1</td>\n",
       "      <td>1</td>\n",
       "      <td>7027.511294</td>\n",
       "      <td>42.0</td>\n",
       "      <td>2</td>\n",
       "      <td>2</td>\n",
       "    </tr>\n",
       "    <tr>\n",
       "      <th>1</th>\n",
       "      <td>1</td>\n",
       "      <td>4</td>\n",
       "      <td>754.159807</td>\n",
       "      <td>7.0</td>\n",
       "      <td>1</td>\n",
       "      <td>1</td>\n",
       "    </tr>\n",
       "    <tr>\n",
       "      <th>2</th>\n",
       "      <td>1</td>\n",
       "      <td>8</td>\n",
       "      <td>6723.470560</td>\n",
       "      <td>46.0</td>\n",
       "      <td>2</td>\n",
       "      <td>2</td>\n",
       "    </tr>\n",
       "    <tr>\n",
       "      <th>3</th>\n",
       "      <td>1</td>\n",
       "      <td>10</td>\n",
       "      <td>5809.911100</td>\n",
       "      <td>32.0</td>\n",
       "      <td>2</td>\n",
       "      <td>2</td>\n",
       "    </tr>\n",
       "    <tr>\n",
       "      <th>4</th>\n",
       "      <td>1</td>\n",
       "      <td>11</td>\n",
       "      <td>7003.499363</td>\n",
       "      <td>56.0</td>\n",
       "      <td>3</td>\n",
       "      <td>3</td>\n",
       "    </tr>\n",
       "    <tr>\n",
       "      <th>...</th>\n",
       "      <td>...</td>\n",
       "      <td>...</td>\n",
       "      <td>...</td>\n",
       "      <td>...</td>\n",
       "      <td>...</td>\n",
       "      <td>...</td>\n",
       "    </tr>\n",
       "    <tr>\n",
       "      <th>11326</th>\n",
       "      <td>1534</td>\n",
       "      <td>6</td>\n",
       "      <td>3409.468534</td>\n",
       "      <td>26.0</td>\n",
       "      <td>2</td>\n",
       "      <td>2</td>\n",
       "    </tr>\n",
       "    <tr>\n",
       "      <th>11327</th>\n",
       "      <td>1534</td>\n",
       "      <td>8</td>\n",
       "      <td>7622.453034</td>\n",
       "      <td>48.0</td>\n",
       "      <td>2</td>\n",
       "      <td>2</td>\n",
       "    </tr>\n",
       "    <tr>\n",
       "      <th>11328</th>\n",
       "      <td>1534</td>\n",
       "      <td>9</td>\n",
       "      <td>4928.173852</td>\n",
       "      <td>23.0</td>\n",
       "      <td>1</td>\n",
       "      <td>1</td>\n",
       "    </tr>\n",
       "    <tr>\n",
       "      <th>11329</th>\n",
       "      <td>1534</td>\n",
       "      <td>11</td>\n",
       "      <td>13350.015305</td>\n",
       "      <td>78.0</td>\n",
       "      <td>4</td>\n",
       "      <td>4</td>\n",
       "    </tr>\n",
       "    <tr>\n",
       "      <th>11330</th>\n",
       "      <td>1534</td>\n",
       "      <td>12</td>\n",
       "      <td>2371.711192</td>\n",
       "      <td>16.0</td>\n",
       "      <td>1</td>\n",
       "      <td>1</td>\n",
       "    </tr>\n",
       "  </tbody>\n",
       "</table>\n",
       "<p>11331 rows × 6 columns</p>\n",
       "</div>"
      ],
      "text/plain": [
       "       user_id  month  sum_distance  sum_duration  count_distance  \\\n",
       "0            1      1   7027.511294          42.0               2   \n",
       "1            1      4    754.159807           7.0               1   \n",
       "2            1      8   6723.470560          46.0               2   \n",
       "3            1     10   5809.911100          32.0               2   \n",
       "4            1     11   7003.499363          56.0               3   \n",
       "...        ...    ...           ...           ...             ...   \n",
       "11326     1534      6   3409.468534          26.0               2   \n",
       "11327     1534      8   7622.453034          48.0               2   \n",
       "11328     1534      9   4928.173852          23.0               1   \n",
       "11329     1534     11  13350.015305          78.0               4   \n",
       "11330     1534     12   2371.711192          16.0               1   \n",
       "\n",
       "       count_duration  \n",
       "0                   2  \n",
       "1                   1  \n",
       "2                   2  \n",
       "3                   2  \n",
       "4                   3  \n",
       "...               ...  \n",
       "11326               2  \n",
       "11327               2  \n",
       "11328               1  \n",
       "11329               4  \n",
       "11330               1  \n",
       "\n",
       "[11331 rows x 6 columns]"
      ]
     },
     "execution_count": 28,
     "metadata": {},
     "output_type": "execute_result"
    }
   ],
   "source": [
    "data_pivot.columns = ['user_id', 'month', 'sum_distance', 'sum_duration', 'count_distance', 'count_duration'] \n",
    "data_pivot"
   ]
  },
  {
   "cell_type": "code",
   "execution_count": 29,
   "id": "36505b95",
   "metadata": {},
   "outputs": [
    {
     "data": {
      "text/html": [
       "<div>\n",
       "<style scoped>\n",
       "    .dataframe tbody tr th:only-of-type {\n",
       "        vertical-align: middle;\n",
       "    }\n",
       "\n",
       "    .dataframe tbody tr th {\n",
       "        vertical-align: top;\n",
       "    }\n",
       "\n",
       "    .dataframe thead th {\n",
       "        text-align: right;\n",
       "    }\n",
       "</style>\n",
       "<table border=\"1\" class=\"dataframe\">\n",
       "  <thead>\n",
       "    <tr style=\"text-align: right;\">\n",
       "      <th></th>\n",
       "      <th>user_id</th>\n",
       "      <th>month</th>\n",
       "      <th>sum_distance</th>\n",
       "      <th>sum_duration</th>\n",
       "      <th>count_distance</th>\n",
       "      <th>count_duration</th>\n",
       "      <th>name</th>\n",
       "      <th>age</th>\n",
       "      <th>city</th>\n",
       "      <th>subscription_type</th>\n",
       "    </tr>\n",
       "  </thead>\n",
       "  <tbody>\n",
       "    <tr>\n",
       "      <th>0</th>\n",
       "      <td>1</td>\n",
       "      <td>1</td>\n",
       "      <td>7027.511294</td>\n",
       "      <td>42.0</td>\n",
       "      <td>2</td>\n",
       "      <td>2</td>\n",
       "      <td>Кира</td>\n",
       "      <td>22</td>\n",
       "      <td>Тюмень</td>\n",
       "      <td>ultra</td>\n",
       "    </tr>\n",
       "    <tr>\n",
       "      <th>1</th>\n",
       "      <td>1</td>\n",
       "      <td>4</td>\n",
       "      <td>754.159807</td>\n",
       "      <td>7.0</td>\n",
       "      <td>1</td>\n",
       "      <td>1</td>\n",
       "      <td>Кира</td>\n",
       "      <td>22</td>\n",
       "      <td>Тюмень</td>\n",
       "      <td>ultra</td>\n",
       "    </tr>\n",
       "    <tr>\n",
       "      <th>2</th>\n",
       "      <td>1</td>\n",
       "      <td>8</td>\n",
       "      <td>6723.470560</td>\n",
       "      <td>46.0</td>\n",
       "      <td>2</td>\n",
       "      <td>2</td>\n",
       "      <td>Кира</td>\n",
       "      <td>22</td>\n",
       "      <td>Тюмень</td>\n",
       "      <td>ultra</td>\n",
       "    </tr>\n",
       "    <tr>\n",
       "      <th>3</th>\n",
       "      <td>1</td>\n",
       "      <td>10</td>\n",
       "      <td>5809.911100</td>\n",
       "      <td>32.0</td>\n",
       "      <td>2</td>\n",
       "      <td>2</td>\n",
       "      <td>Кира</td>\n",
       "      <td>22</td>\n",
       "      <td>Тюмень</td>\n",
       "      <td>ultra</td>\n",
       "    </tr>\n",
       "    <tr>\n",
       "      <th>4</th>\n",
       "      <td>1</td>\n",
       "      <td>11</td>\n",
       "      <td>7003.499363</td>\n",
       "      <td>56.0</td>\n",
       "      <td>3</td>\n",
       "      <td>3</td>\n",
       "      <td>Кира</td>\n",
       "      <td>22</td>\n",
       "      <td>Тюмень</td>\n",
       "      <td>ultra</td>\n",
       "    </tr>\n",
       "    <tr>\n",
       "      <th>...</th>\n",
       "      <td>...</td>\n",
       "      <td>...</td>\n",
       "      <td>...</td>\n",
       "      <td>...</td>\n",
       "      <td>...</td>\n",
       "      <td>...</td>\n",
       "      <td>...</td>\n",
       "      <td>...</td>\n",
       "      <td>...</td>\n",
       "      <td>...</td>\n",
       "    </tr>\n",
       "    <tr>\n",
       "      <th>11326</th>\n",
       "      <td>1534</td>\n",
       "      <td>6</td>\n",
       "      <td>3409.468534</td>\n",
       "      <td>26.0</td>\n",
       "      <td>2</td>\n",
       "      <td>2</td>\n",
       "      <td>Альберт</td>\n",
       "      <td>25</td>\n",
       "      <td>Краснодар</td>\n",
       "      <td>free</td>\n",
       "    </tr>\n",
       "    <tr>\n",
       "      <th>11327</th>\n",
       "      <td>1534</td>\n",
       "      <td>8</td>\n",
       "      <td>7622.453034</td>\n",
       "      <td>48.0</td>\n",
       "      <td>2</td>\n",
       "      <td>2</td>\n",
       "      <td>Альберт</td>\n",
       "      <td>25</td>\n",
       "      <td>Краснодар</td>\n",
       "      <td>free</td>\n",
       "    </tr>\n",
       "    <tr>\n",
       "      <th>11328</th>\n",
       "      <td>1534</td>\n",
       "      <td>9</td>\n",
       "      <td>4928.173852</td>\n",
       "      <td>23.0</td>\n",
       "      <td>1</td>\n",
       "      <td>1</td>\n",
       "      <td>Альберт</td>\n",
       "      <td>25</td>\n",
       "      <td>Краснодар</td>\n",
       "      <td>free</td>\n",
       "    </tr>\n",
       "    <tr>\n",
       "      <th>11329</th>\n",
       "      <td>1534</td>\n",
       "      <td>11</td>\n",
       "      <td>13350.015305</td>\n",
       "      <td>78.0</td>\n",
       "      <td>4</td>\n",
       "      <td>4</td>\n",
       "      <td>Альберт</td>\n",
       "      <td>25</td>\n",
       "      <td>Краснодар</td>\n",
       "      <td>free</td>\n",
       "    </tr>\n",
       "    <tr>\n",
       "      <th>11330</th>\n",
       "      <td>1534</td>\n",
       "      <td>12</td>\n",
       "      <td>2371.711192</td>\n",
       "      <td>16.0</td>\n",
       "      <td>1</td>\n",
       "      <td>1</td>\n",
       "      <td>Альберт</td>\n",
       "      <td>25</td>\n",
       "      <td>Краснодар</td>\n",
       "      <td>free</td>\n",
       "    </tr>\n",
       "  </tbody>\n",
       "</table>\n",
       "<p>11331 rows × 10 columns</p>\n",
       "</div>"
      ],
      "text/plain": [
       "       user_id  month  sum_distance  sum_duration  count_distance  \\\n",
       "0            1      1   7027.511294          42.0               2   \n",
       "1            1      4    754.159807           7.0               1   \n",
       "2            1      8   6723.470560          46.0               2   \n",
       "3            1     10   5809.911100          32.0               2   \n",
       "4            1     11   7003.499363          56.0               3   \n",
       "...        ...    ...           ...           ...             ...   \n",
       "11326     1534      6   3409.468534          26.0               2   \n",
       "11327     1534      8   7622.453034          48.0               2   \n",
       "11328     1534      9   4928.173852          23.0               1   \n",
       "11329     1534     11  13350.015305          78.0               4   \n",
       "11330     1534     12   2371.711192          16.0               1   \n",
       "\n",
       "       count_duration     name  age       city subscription_type  \n",
       "0                   2     Кира   22     Тюмень             ultra  \n",
       "1                   1     Кира   22     Тюмень             ultra  \n",
       "2                   2     Кира   22     Тюмень             ultra  \n",
       "3                   2     Кира   22     Тюмень             ultra  \n",
       "4                   3     Кира   22     Тюмень             ultra  \n",
       "...               ...      ...  ...        ...               ...  \n",
       "11326               2  Альберт   25  Краснодар              free  \n",
       "11327               2  Альберт   25  Краснодар              free  \n",
       "11328               1  Альберт   25  Краснодар              free  \n",
       "11329               4  Альберт   25  Краснодар              free  \n",
       "11330               1  Альберт   25  Краснодар              free  \n",
       "\n",
       "[11331 rows x 10 columns]"
      ]
     },
     "execution_count": 29,
     "metadata": {},
     "output_type": "execute_result"
    }
   ],
   "source": [
    "data_pivot_2 = data_pivot.merge(users, on='user_id', how = 'left')\n",
    "data_pivot_2"
   ]
  },
  {
   "cell_type": "code",
   "execution_count": 30,
   "id": "7af342d5",
   "metadata": {},
   "outputs": [],
   "source": [
    "def monthly_revenue(row):\n",
    "    subscription_type = row['subscription_type']\n",
    "    count_distance = row['count_distance']\n",
    "    sum_duration = row['sum_duration']\n",
    "    if subscription_type == 'ultra':\n",
    "        return (6 * sum_duration + 199)\n",
    "    if subscription_type == 'free':\n",
    "        return (50 * count_distance) + (8 * sum_duration)"
   ]
  },
  {
   "cell_type": "code",
   "execution_count": 31,
   "id": "1d3c7e5e",
   "metadata": {},
   "outputs": [
    {
     "data": {
      "text/html": [
       "<div>\n",
       "<style scoped>\n",
       "    .dataframe tbody tr th:only-of-type {\n",
       "        vertical-align: middle;\n",
       "    }\n",
       "\n",
       "    .dataframe tbody tr th {\n",
       "        vertical-align: top;\n",
       "    }\n",
       "\n",
       "    .dataframe thead th {\n",
       "        text-align: right;\n",
       "    }\n",
       "</style>\n",
       "<table border=\"1\" class=\"dataframe\">\n",
       "  <thead>\n",
       "    <tr style=\"text-align: right;\">\n",
       "      <th></th>\n",
       "      <th>user_id</th>\n",
       "      <th>month</th>\n",
       "      <th>sum_distance</th>\n",
       "      <th>sum_duration</th>\n",
       "      <th>count_distance</th>\n",
       "      <th>count_duration</th>\n",
       "      <th>name</th>\n",
       "      <th>age</th>\n",
       "      <th>city</th>\n",
       "      <th>subscription_type</th>\n",
       "      <th>monthly_revenue</th>\n",
       "    </tr>\n",
       "  </thead>\n",
       "  <tbody>\n",
       "    <tr>\n",
       "      <th>0</th>\n",
       "      <td>1</td>\n",
       "      <td>1</td>\n",
       "      <td>7027.511294</td>\n",
       "      <td>42.0</td>\n",
       "      <td>2</td>\n",
       "      <td>2</td>\n",
       "      <td>Кира</td>\n",
       "      <td>22</td>\n",
       "      <td>Тюмень</td>\n",
       "      <td>ultra</td>\n",
       "      <td>451.0</td>\n",
       "    </tr>\n",
       "    <tr>\n",
       "      <th>1</th>\n",
       "      <td>1</td>\n",
       "      <td>4</td>\n",
       "      <td>754.159807</td>\n",
       "      <td>7.0</td>\n",
       "      <td>1</td>\n",
       "      <td>1</td>\n",
       "      <td>Кира</td>\n",
       "      <td>22</td>\n",
       "      <td>Тюмень</td>\n",
       "      <td>ultra</td>\n",
       "      <td>241.0</td>\n",
       "    </tr>\n",
       "    <tr>\n",
       "      <th>2</th>\n",
       "      <td>1</td>\n",
       "      <td>8</td>\n",
       "      <td>6723.470560</td>\n",
       "      <td>46.0</td>\n",
       "      <td>2</td>\n",
       "      <td>2</td>\n",
       "      <td>Кира</td>\n",
       "      <td>22</td>\n",
       "      <td>Тюмень</td>\n",
       "      <td>ultra</td>\n",
       "      <td>475.0</td>\n",
       "    </tr>\n",
       "    <tr>\n",
       "      <th>3</th>\n",
       "      <td>1</td>\n",
       "      <td>10</td>\n",
       "      <td>5809.911100</td>\n",
       "      <td>32.0</td>\n",
       "      <td>2</td>\n",
       "      <td>2</td>\n",
       "      <td>Кира</td>\n",
       "      <td>22</td>\n",
       "      <td>Тюмень</td>\n",
       "      <td>ultra</td>\n",
       "      <td>391.0</td>\n",
       "    </tr>\n",
       "    <tr>\n",
       "      <th>4</th>\n",
       "      <td>1</td>\n",
       "      <td>11</td>\n",
       "      <td>7003.499363</td>\n",
       "      <td>56.0</td>\n",
       "      <td>3</td>\n",
       "      <td>3</td>\n",
       "      <td>Кира</td>\n",
       "      <td>22</td>\n",
       "      <td>Тюмень</td>\n",
       "      <td>ultra</td>\n",
       "      <td>535.0</td>\n",
       "    </tr>\n",
       "    <tr>\n",
       "      <th>...</th>\n",
       "      <td>...</td>\n",
       "      <td>...</td>\n",
       "      <td>...</td>\n",
       "      <td>...</td>\n",
       "      <td>...</td>\n",
       "      <td>...</td>\n",
       "      <td>...</td>\n",
       "      <td>...</td>\n",
       "      <td>...</td>\n",
       "      <td>...</td>\n",
       "      <td>...</td>\n",
       "    </tr>\n",
       "    <tr>\n",
       "      <th>11326</th>\n",
       "      <td>1534</td>\n",
       "      <td>6</td>\n",
       "      <td>3409.468534</td>\n",
       "      <td>26.0</td>\n",
       "      <td>2</td>\n",
       "      <td>2</td>\n",
       "      <td>Альберт</td>\n",
       "      <td>25</td>\n",
       "      <td>Краснодар</td>\n",
       "      <td>free</td>\n",
       "      <td>308.0</td>\n",
       "    </tr>\n",
       "    <tr>\n",
       "      <th>11327</th>\n",
       "      <td>1534</td>\n",
       "      <td>8</td>\n",
       "      <td>7622.453034</td>\n",
       "      <td>48.0</td>\n",
       "      <td>2</td>\n",
       "      <td>2</td>\n",
       "      <td>Альберт</td>\n",
       "      <td>25</td>\n",
       "      <td>Краснодар</td>\n",
       "      <td>free</td>\n",
       "      <td>484.0</td>\n",
       "    </tr>\n",
       "    <tr>\n",
       "      <th>11328</th>\n",
       "      <td>1534</td>\n",
       "      <td>9</td>\n",
       "      <td>4928.173852</td>\n",
       "      <td>23.0</td>\n",
       "      <td>1</td>\n",
       "      <td>1</td>\n",
       "      <td>Альберт</td>\n",
       "      <td>25</td>\n",
       "      <td>Краснодар</td>\n",
       "      <td>free</td>\n",
       "      <td>234.0</td>\n",
       "    </tr>\n",
       "    <tr>\n",
       "      <th>11329</th>\n",
       "      <td>1534</td>\n",
       "      <td>11</td>\n",
       "      <td>13350.015305</td>\n",
       "      <td>78.0</td>\n",
       "      <td>4</td>\n",
       "      <td>4</td>\n",
       "      <td>Альберт</td>\n",
       "      <td>25</td>\n",
       "      <td>Краснодар</td>\n",
       "      <td>free</td>\n",
       "      <td>824.0</td>\n",
       "    </tr>\n",
       "    <tr>\n",
       "      <th>11330</th>\n",
       "      <td>1534</td>\n",
       "      <td>12</td>\n",
       "      <td>2371.711192</td>\n",
       "      <td>16.0</td>\n",
       "      <td>1</td>\n",
       "      <td>1</td>\n",
       "      <td>Альберт</td>\n",
       "      <td>25</td>\n",
       "      <td>Краснодар</td>\n",
       "      <td>free</td>\n",
       "      <td>178.0</td>\n",
       "    </tr>\n",
       "  </tbody>\n",
       "</table>\n",
       "<p>11331 rows × 11 columns</p>\n",
       "</div>"
      ],
      "text/plain": [
       "       user_id  month  sum_distance  sum_duration  count_distance  \\\n",
       "0            1      1   7027.511294          42.0               2   \n",
       "1            1      4    754.159807           7.0               1   \n",
       "2            1      8   6723.470560          46.0               2   \n",
       "3            1     10   5809.911100          32.0               2   \n",
       "4            1     11   7003.499363          56.0               3   \n",
       "...        ...    ...           ...           ...             ...   \n",
       "11326     1534      6   3409.468534          26.0               2   \n",
       "11327     1534      8   7622.453034          48.0               2   \n",
       "11328     1534      9   4928.173852          23.0               1   \n",
       "11329     1534     11  13350.015305          78.0               4   \n",
       "11330     1534     12   2371.711192          16.0               1   \n",
       "\n",
       "       count_duration     name  age       city subscription_type  \\\n",
       "0                   2     Кира   22     Тюмень             ultra   \n",
       "1                   1     Кира   22     Тюмень             ultra   \n",
       "2                   2     Кира   22     Тюмень             ultra   \n",
       "3                   2     Кира   22     Тюмень             ultra   \n",
       "4                   3     Кира   22     Тюмень             ultra   \n",
       "...               ...      ...  ...        ...               ...   \n",
       "11326               2  Альберт   25  Краснодар              free   \n",
       "11327               2  Альберт   25  Краснодар              free   \n",
       "11328               1  Альберт   25  Краснодар              free   \n",
       "11329               4  Альберт   25  Краснодар              free   \n",
       "11330               1  Альберт   25  Краснодар              free   \n",
       "\n",
       "       monthly_revenue  \n",
       "0                451.0  \n",
       "1                241.0  \n",
       "2                475.0  \n",
       "3                391.0  \n",
       "4                535.0  \n",
       "...                ...  \n",
       "11326            308.0  \n",
       "11327            484.0  \n",
       "11328            234.0  \n",
       "11329            824.0  \n",
       "11330            178.0  \n",
       "\n",
       "[11331 rows x 11 columns]"
      ]
     },
     "execution_count": 31,
     "metadata": {},
     "output_type": "execute_result"
    }
   ],
   "source": [
    "data_pivot_2['monthly_revenue'] = data_pivot_2.apply(monthly_revenue, axis=1)\n",
    "data_pivot_2"
   ]
  },
  {
   "cell_type": "markdown",
   "id": "aa466a4f",
   "metadata": {},
   "source": [
    "Таблица обработана, помесячная выручка посчитана, приступим к проверке гипотез."
   ]
  },
  {
   "cell_type": "markdown",
   "id": "7f512cbc",
   "metadata": {},
   "source": [
    "### шаг. Проверка гипотез"
   ]
  },
  {
   "cell_type": "markdown",
   "id": "6beb7ff5",
   "metadata": {},
   "source": [
    "Важно понять, тратят ли пользователи с подпиской больше времени на поездки? Если да, то пользователи с подпиской могут быть «выгоднее» для компании. Проверим гипотезу. \n",
    "\n",
    "Нулевая гипотеза: о том, что среднее время поездок пользователей с подпиской и среднее время поездок пользователей без подписки равны.\n",
    "\n",
    "Альтернативная: о том, что среднее время поездок пользователей с подпиской больше, чем среднее время поездок пользователей без подписки."
   ]
  },
  {
   "cell_type": "code",
   "execution_count": 32,
   "id": "d0696e1b",
   "metadata": {},
   "outputs": [
    {
     "name": "stdout",
     "output_type": "stream",
     "text": [
      "p-значение: 2.4959453720736625e-34\n",
      "Отвергаем нулевую гипотезу\n",
      "\n",
      "Среднее время поездок пользователей с подпиской 19.037692307692307\n",
      "Среднее время поездок пользователей без подписки 17.890992392807746\n"
     ]
    }
   ],
   "source": [
    "alpha = 0.05 \n",
    "\n",
    "results = st.ttest_ind(df_subscribed['duration'] , df_no_subscribed['duration'], alternative='greater')\n",
    "\n",
    "print('p-значение:', results.pvalue)\n",
    "\n",
    "if results.pvalue < alpha:\n",
    "    print('Отвергаем нулевую гипотезу')\n",
    "else:\n",
    "    print('Не получилось отвергнуть нулевую гипотезу') \n",
    "\n",
    "print()\n",
    "print('Среднее время поездок пользователей с подпиской', df_subscribed['duration'].mean())\n",
    "print('Среднее время поездок пользователей без подписки', df_no_subscribed['duration'].mean())"
   ]
  },
  {
   "cell_type": "markdown",
   "id": "65943504",
   "metadata": {},
   "source": [
    "Так как мы отвергаем нулевую гипотезу, то получается, что среднее время у пользователей с подпиской выше, чем у пользователей без подписки. \n",
    "\n",
    "Расстояние одной поездки в 3130 метров — оптимальное с точки зрения износа самоката. Можно ли сказать, что среднее расстояние, которое проезжают пользователи с подпиской за одну поездку, не превышает 3130 метров?\n",
    "\n",
    "Нулевая гипотеза: среднее расстояние, которое проезжают пользователи с подпиской за одну поездку = 3130 метров\n",
    "\n",
    "Альтернативная гипотеза: пользователи с подпиской за одну сессию проезжают больше 3130 метров"
   ]
  },
  {
   "cell_type": "code",
   "execution_count": 33,
   "id": "9feb1ea5",
   "metadata": {},
   "outputs": [
    {
     "name": "stdout",
     "output_type": "stream",
     "text": [
      "p-значение: 0.9195368847849785\n",
      "Не отвергаем нулевую гипотезу\n"
     ]
    }
   ],
   "source": [
    "optimal_distance = 3130\n",
    "\n",
    "alpha = 0.05 \n",
    "\n",
    "results = st.ttest_1samp(df_subscribed['distance'], optimal_distance, alternative='greater')\n",
    "\n",
    "print('p-значение:', results.pvalue)\n",
    "\n",
    "if (results.pvalue < alpha):\n",
    "    print('Отвергаем нулевую гипотезу')\n",
    "else:\n",
    "    print('Не отвергаем нулевую гипотезу') "
   ]
  },
  {
   "cell_type": "markdown",
   "id": "f5f83c4c",
   "metadata": {},
   "source": [
    "Нулевая гипотеза не была отвегнута, соответственно можно говорить, что среднее расстояние, которое проезжают пользователи с подпиской за одну поездку, не превышает 3130 метров.\n",
    "\n",
    "\n",
    "Проверим гипотезу о том, будет ли помесячная выручка от пользователей с подпиской по месяцам выше, чем выручка от пользователей без подписки.\n",
    "\n",
    "Нулевая гипотеза: среднее значение помесячной выручки пользователей с подпиской равно среднему значению помесячной выручки пользователей без подписки.\n",
    "\n",
    "Альтернативная гипотеза: среднее значение помесячной выручки пользователей с подпиской выше среднего значения помесячной выручки пользователей без подписки."
   ]
  },
  {
   "cell_type": "code",
   "execution_count": 34,
   "id": "1e6cf7d4",
   "metadata": {},
   "outputs": [
    {
     "name": "stdout",
     "output_type": "stream",
     "text": [
      "p-значение: 1.8850394384715216e-31\n",
      "Отвергаем нулевую гипотезу\n",
      "\n",
      "Среднее значение выручки пользователей с подпиской 362.7921906022502\n",
      "Среднее значение выручки пользователей без подписки 328.6413651073845\n"
     ]
    }
   ],
   "source": [
    "alpha = 0.05 \n",
    "\n",
    "results = st.ttest_ind(data_pivot_2.query('subscription_type == \"ultra\"')['monthly_revenue'] , data_pivot_2.query('subscription_type == \"free\"')['monthly_revenue'], alternative='greater')\n",
    "\n",
    "print('p-значение:', results.pvalue)\n",
    "\n",
    "if results.pvalue < alpha:\n",
    "    print('Отвергаем нулевую гипотезу')\n",
    "else:\n",
    "    print('Не получилось отвергнуть нулевую гипотезу') \n",
    "    \n",
    "print()\n",
    "print('Среднее значение выручки пользователей с подпиской', data_pivot_2.query('subscription_type == \"ultra\"')['monthly_revenue'].mean())\n",
    "print('Среднее значение выручки пользователей без подписки', data_pivot_2.query('subscription_type == \"free\"')['monthly_revenue'].mean())"
   ]
  },
  {
   "cell_type": "markdown",
   "id": "54ec9480",
   "metadata": {},
   "source": [
    "Отвергаем нулевую гипотезу, соответственно среднее значение помесячной выручки пользователей с подпиской выше среднего значения помесячной выручки пользователей без подписки."
   ]
  },
  {
   "cell_type": "markdown",
   "id": "b48bb1ad",
   "metadata": {},
   "source": [
    "Представьте такую ситуацию: техническая команда сервиса обновила сервера, с которыми взаимодействует мобильное приложение. Она надеется, что из-за этого количество обращений в техподдержку значимо снизилось. Некоторый файл содержит для каждого пользователя данные о количестве обращений до обновления и после него. Какой тест вам понадобился бы для проверки этой гипотезы?\n",
    "\n",
    "Так как у нас зависимые выборки (мы анализируем одну генеральную совокупность, с которой произошли некоторые изменения), то будем использовать гипотезу о равенстве средних для зависимых (парных) выборок.\n",
    "\n",
    "Применим метод scipy.stats.ttest_rel()"
   ]
  },
  {
   "cell_type": "markdown",
   "id": "72c8b9a9",
   "metadata": {},
   "source": [
    "**Промежуточный вывод**\n",
    "\n",
    "Согласно проверке наших гипотез мы получили следующие заключения:\n",
    "* среднее время у пользователей с подпиской выше, чем у пользователей без подписки.\n",
    "* среднее расстояние = 3130 метров.\n",
    "* среднее значение помесячной выручки пользователей с подпиской выше среднего значения помесячной выручки пользователей без подписки."
   ]
  },
  {
   "cell_type": "markdown",
   "id": "c2f885fc",
   "metadata": {},
   "source": [
    "### шаг. Общий вывод"
   ]
  },
  {
   "cell_type": "markdown",
   "id": "0c9d05b1",
   "metadata": {},
   "source": [
    "В работе над данным проектом я загрузила и изучила датафреймы, провела предобработку данных в ходе которой удалила явные дубликаты и проверила на пропуски. Также был создан столбец с номером месяца для дальнейшей работы. \n",
    "В исследовательской части проекта была описана и визуализирована общая информация о пользователях и поездках. Получила следующие данные: большинство поездок длились от 14 до 22 минут, в основном пользователи проезжают от 2500 до 3500 м. Самый популярный город -- Пятигорск и большинство пользователей пользуются сервисом без подписки. Средний возраст 25 лет, минимальный - 12. Очень мало пользователей старше 40 лет.\n",
    "\n",
    "Затем я решила сосредоточиться на анализе пользователей с подпиской и без. Для этого создала один датафрейм из users и rides, а затем создала два датафрейма, в один поместила пользователей с подпиской, в другой без. Визуализировала информацию о расстоянии и времени поездок для пользователей обеих категорий. Пришла к следующим заключениям:\n",
    "\n",
    "Среднее расстояние у пользователей с подпиской 3115м. Большинство значений лежат от 2785м до 3559м. Среднее расстояние у пользователей без подписки 3045м. Большинство значений лежат от 2366м до 3903м. Разница небольшая, но с подпиской проезжают чуть больше.\n",
    "\n",
    "Пользователи с подпиской в среднем тратят 18 минут. Большинство значений лежат от 15 до 22 минут. Пользователи без подписки в среднем тратят 17 минут. Большинство значений лежат от 13 до 22 минут. Пользователи без подписки ездят немного меньше.\n",
    "\n",
    "\n",
    "Следующим шагом я создала датафрейм с агрегированными данными о поездках: суммарное расстояние, количество поездок и суммарное время для каждого пользователя за каждый месяц.\n",
    "В этот же датафрейм добавила столбец с помесячной выручкой, которую принёс каждый пользователь. Эти данные использовались при проверке гипотез. \n",
    "\n",
    "В своей работе я проверила три гипотезы:\n",
    "* Тратят ли пользователи с подпиской больше времени на поездки?\n",
    "\n",
    "среднее время у пользователей с подпиской выше, чем у пользователей без подписки.\n",
    "\n",
    "\n",
    "* Среднее расстояние, которое проезжают пользователи с подпиской за одну поездку, не превышает 3130 метров?\n",
    "\n",
    "среднее расстояние, которое проезжают пользователи с подпиской за одну поездку, не превышает 3130 метров.\n",
    "\n",
    "* Будет ли помесячная выручка от пользователей с подпиской по месяцам выше, чем выручка от пользователей без подписки.\n",
    "\n",
    "среднее значение помесячной выручки пользователей с подпиской выше среднего значения помесячной выручки пользователей без подписки.\n",
    "\n",
    "Итого, можно утверждать, что пользователи с подпиской приносят компании бОльшую прибыль, но разрыв невелик. Разница в среднем значении выручки составляет 36,7 рублей. В среднем проезжают пользователи с подпиской на минуту дольше и на 70м дальше.\n",
    "\n",
    "**Рекомендации:** проанализировать распределение и опыт использования самокатов в Пятигорске, чтобы понять почему он самый популярный и получить рекомендации для использования в других городах. Например, проанализировать плотность размещения самокатов по городу. Ещё интересно собирать данные по зарядке, так как пользователь принимает решение пользоваться ли самокатом исходя из уровня заряда. "
   ]
  },
  {
   "cell_type": "code",
   "execution_count": null,
   "id": "11e00ad9",
   "metadata": {},
   "outputs": [],
   "source": []
  }
 ],
 "metadata": {
  "ExecuteTimeLog": [
   {
    "duration": 47,
    "start_time": "2023-11-17T16:34:41.832Z"
   },
   {
    "duration": 341,
    "start_time": "2023-11-17T16:34:45.279Z"
   },
   {
    "duration": 73,
    "start_time": "2023-11-17T16:34:47.684Z"
   },
   {
    "duration": 82,
    "start_time": "2023-11-17T16:35:27.388Z"
   },
   {
    "duration": 62,
    "start_time": "2023-11-17T16:36:04.559Z"
   },
   {
    "duration": 39,
    "start_time": "2023-11-17T16:36:19.627Z"
   },
   {
    "duration": 45,
    "start_time": "2023-11-17T16:36:34.948Z"
   },
   {
    "duration": 31,
    "start_time": "2023-11-17T16:36:45.647Z"
   },
   {
    "duration": 46,
    "start_time": "2023-11-17T16:38:36.727Z"
   },
   {
    "duration": 48,
    "start_time": "2023-11-17T16:38:53.824Z"
   },
   {
    "duration": 46,
    "start_time": "2023-11-17T16:39:00.395Z"
   },
   {
    "duration": 444,
    "start_time": "2023-11-17T16:41:10.186Z"
   },
   {
    "duration": 29,
    "start_time": "2023-11-17T16:41:10.631Z"
   },
   {
    "duration": 31,
    "start_time": "2023-11-17T16:41:10.662Z"
   },
   {
    "duration": 14,
    "start_time": "2023-11-17T16:41:10.695Z"
   },
   {
    "duration": 3,
    "start_time": "2023-11-17T16:41:10.711Z"
   },
   {
    "duration": 39,
    "start_time": "2023-11-17T16:41:10.716Z"
   },
   {
    "duration": 35,
    "start_time": "2023-11-17T16:41:10.757Z"
   },
   {
    "duration": 30,
    "start_time": "2023-11-17T16:41:10.793Z"
   },
   {
    "duration": 12,
    "start_time": "2023-11-17T16:46:22.315Z"
   },
   {
    "duration": 6,
    "start_time": "2023-11-17T16:47:07.793Z"
   },
   {
    "duration": 6,
    "start_time": "2023-11-17T16:47:16.452Z"
   },
   {
    "duration": 5,
    "start_time": "2023-11-17T16:49:48.517Z"
   },
   {
    "duration": 8,
    "start_time": "2023-11-17T16:50:06.377Z"
   },
   {
    "duration": 418,
    "start_time": "2023-11-17T16:51:24.383Z"
   },
   {
    "duration": 291,
    "start_time": "2023-11-17T16:53:04.752Z"
   },
   {
    "duration": 296,
    "start_time": "2023-11-17T16:54:39.998Z"
   },
   {
    "duration": 285,
    "start_time": "2023-11-17T16:55:18.951Z"
   },
   {
    "duration": 232,
    "start_time": "2023-11-17T16:55:26.413Z"
   },
   {
    "duration": 258,
    "start_time": "2023-11-17T16:55:35.275Z"
   },
   {
    "duration": 231,
    "start_time": "2023-11-17T16:55:46.858Z"
   },
   {
    "duration": 487,
    "start_time": "2023-11-17T16:56:31.838Z"
   },
   {
    "duration": 390,
    "start_time": "2023-11-17T16:56:47.362Z"
   },
   {
    "duration": 231,
    "start_time": "2023-11-17T16:58:28.189Z"
   },
   {
    "duration": 225,
    "start_time": "2023-11-17T16:58:41.476Z"
   },
   {
    "duration": 246,
    "start_time": "2023-11-17T16:58:50.848Z"
   },
   {
    "duration": 131,
    "start_time": "2023-11-17T16:59:21.482Z"
   },
   {
    "duration": 140,
    "start_time": "2023-11-17T16:59:28.354Z"
   },
   {
    "duration": 165,
    "start_time": "2023-11-17T16:59:37.013Z"
   },
   {
    "duration": 146,
    "start_time": "2023-11-17T16:59:40.953Z"
   },
   {
    "duration": 206,
    "start_time": "2023-11-17T17:00:22.749Z"
   },
   {
    "duration": 183,
    "start_time": "2023-11-17T17:01:44.408Z"
   },
   {
    "duration": 163,
    "start_time": "2023-11-17T17:01:52.149Z"
   },
   {
    "duration": 193,
    "start_time": "2023-11-17T17:02:03.413Z"
   },
   {
    "duration": 177,
    "start_time": "2023-11-17T17:02:15.428Z"
   },
   {
    "duration": 250,
    "start_time": "2023-11-17T17:04:19.692Z"
   },
   {
    "duration": 368,
    "start_time": "2023-11-17T17:04:31.099Z"
   },
   {
    "duration": 278,
    "start_time": "2023-11-17T17:04:40.125Z"
   },
   {
    "duration": 231,
    "start_time": "2023-11-17T17:05:08.036Z"
   },
   {
    "duration": 224,
    "start_time": "2023-11-17T17:06:10.195Z"
   },
   {
    "duration": 202,
    "start_time": "2023-11-17T17:06:16.474Z"
   },
   {
    "duration": 208,
    "start_time": "2023-11-17T17:06:23.945Z"
   },
   {
    "duration": 25,
    "start_time": "2023-11-17T17:39:05.012Z"
   },
   {
    "duration": 23,
    "start_time": "2023-11-17T17:42:06.259Z"
   },
   {
    "duration": 21,
    "start_time": "2023-11-17T17:42:32.635Z"
   },
   {
    "duration": 7,
    "start_time": "2023-11-17T17:42:55.734Z"
   },
   {
    "duration": 24,
    "start_time": "2023-11-17T17:43:38.894Z"
   },
   {
    "duration": 26,
    "start_time": "2023-11-17T17:44:04.888Z"
   },
   {
    "duration": 9,
    "start_time": "2023-11-17T17:47:54.731Z"
   },
   {
    "duration": 20,
    "start_time": "2023-11-17T17:47:59.758Z"
   },
   {
    "duration": 6,
    "start_time": "2023-11-17T17:48:37.325Z"
   },
   {
    "duration": 24,
    "start_time": "2023-11-17T17:48:59.764Z"
   },
   {
    "duration": 256,
    "start_time": "2023-11-17T17:50:05.437Z"
   },
   {
    "duration": 220,
    "start_time": "2023-11-17T17:50:13.686Z"
   },
   {
    "duration": 218,
    "start_time": "2023-11-17T17:50:49.603Z"
   },
   {
    "duration": 248,
    "start_time": "2023-11-17T17:50:55.758Z"
   },
   {
    "duration": 222,
    "start_time": "2023-11-17T17:50:58.717Z"
   },
   {
    "duration": 207,
    "start_time": "2023-11-17T17:51:55.448Z"
   },
   {
    "duration": 282,
    "start_time": "2023-11-17T17:52:34.975Z"
   },
   {
    "duration": 242,
    "start_time": "2023-11-17T17:52:46.806Z"
   },
   {
    "duration": 76,
    "start_time": "2023-11-17T18:00:32.147Z"
   },
   {
    "duration": 29,
    "start_time": "2023-11-17T18:00:46.438Z"
   },
   {
    "duration": 637,
    "start_time": "2023-11-17T18:05:04.657Z"
   },
   {
    "duration": 28,
    "start_time": "2023-11-17T18:05:05.296Z"
   },
   {
    "duration": 32,
    "start_time": "2023-11-17T18:05:05.325Z"
   },
   {
    "duration": 14,
    "start_time": "2023-11-17T18:05:05.359Z"
   },
   {
    "duration": 3,
    "start_time": "2023-11-17T18:05:05.374Z"
   },
   {
    "duration": 31,
    "start_time": "2023-11-17T18:05:05.379Z"
   },
   {
    "duration": 24,
    "start_time": "2023-11-17T18:05:05.412Z"
   },
   {
    "duration": 15,
    "start_time": "2023-11-17T18:05:05.437Z"
   },
   {
    "duration": 10,
    "start_time": "2023-11-17T18:05:05.454Z"
   },
   {
    "duration": 10,
    "start_time": "2023-11-17T18:05:05.466Z"
   },
   {
    "duration": 6,
    "start_time": "2023-11-17T18:05:05.478Z"
   },
   {
    "duration": 32,
    "start_time": "2023-11-17T18:05:05.486Z"
   },
   {
    "duration": 9,
    "start_time": "2023-11-17T18:05:05.520Z"
   },
   {
    "duration": 162,
    "start_time": "2023-11-17T18:05:05.531Z"
   },
   {
    "duration": 164,
    "start_time": "2023-11-17T18:05:05.694Z"
   },
   {
    "duration": 207,
    "start_time": "2023-11-17T18:05:05.859Z"
   },
   {
    "duration": 297,
    "start_time": "2023-11-17T18:05:06.068Z"
   },
   {
    "duration": 241,
    "start_time": "2023-11-17T18:05:06.366Z"
   },
   {
    "duration": 33,
    "start_time": "2023-11-17T18:05:06.614Z"
   },
   {
    "duration": 28,
    "start_time": "2023-11-17T18:05:06.649Z"
   },
   {
    "duration": 47,
    "start_time": "2023-11-17T18:05:06.679Z"
   },
   {
    "duration": 20,
    "start_time": "2023-11-17T18:05:06.727Z"
   },
   {
    "duration": 246,
    "start_time": "2023-11-17T18:05:06.748Z"
   },
   {
    "duration": 244,
    "start_time": "2023-11-17T18:05:06.996Z"
   },
   {
    "duration": 250,
    "start_time": "2023-11-17T18:05:07.242Z"
   },
   {
    "duration": 246,
    "start_time": "2023-11-17T18:05:07.494Z"
   },
   {
    "duration": 30,
    "start_time": "2023-11-17T18:05:07.741Z"
   },
   {
    "duration": 802,
    "start_time": "2023-11-18T15:12:37.441Z"
   },
   {
    "duration": 85,
    "start_time": "2023-11-18T15:12:38.245Z"
   },
   {
    "duration": 158,
    "start_time": "2023-11-18T15:12:38.332Z"
   },
   {
    "duration": 55,
    "start_time": "2023-11-18T15:12:38.492Z"
   },
   {
    "duration": 3,
    "start_time": "2023-11-18T15:12:38.549Z"
   },
   {
    "duration": 29,
    "start_time": "2023-11-18T15:12:38.553Z"
   },
   {
    "duration": 30,
    "start_time": "2023-11-18T15:12:38.583Z"
   },
   {
    "duration": 15,
    "start_time": "2023-11-18T15:12:38.615Z"
   },
   {
    "duration": 18,
    "start_time": "2023-11-18T15:12:38.631Z"
   },
   {
    "duration": 24,
    "start_time": "2023-11-18T15:12:38.651Z"
   },
   {
    "duration": 7,
    "start_time": "2023-11-18T15:12:38.677Z"
   },
   {
    "duration": 5,
    "start_time": "2023-11-18T15:12:38.686Z"
   },
   {
    "duration": 6,
    "start_time": "2023-11-18T15:12:38.692Z"
   },
   {
    "duration": 187,
    "start_time": "2023-11-18T15:12:38.699Z"
   },
   {
    "duration": 145,
    "start_time": "2023-11-18T15:12:38.887Z"
   },
   {
    "duration": 194,
    "start_time": "2023-11-18T15:12:39.034Z"
   },
   {
    "duration": 285,
    "start_time": "2023-11-18T15:12:39.230Z"
   },
   {
    "duration": 235,
    "start_time": "2023-11-18T15:12:39.517Z"
   },
   {
    "duration": 32,
    "start_time": "2023-11-18T15:12:39.754Z"
   },
   {
    "duration": 24,
    "start_time": "2023-11-18T15:12:39.787Z"
   },
   {
    "duration": 22,
    "start_time": "2023-11-18T15:12:39.813Z"
   },
   {
    "duration": 40,
    "start_time": "2023-11-18T15:12:39.837Z"
   },
   {
    "duration": 234,
    "start_time": "2023-11-18T15:12:39.878Z"
   },
   {
    "duration": 237,
    "start_time": "2023-11-18T15:12:40.114Z"
   },
   {
    "duration": 232,
    "start_time": "2023-11-18T15:12:40.354Z"
   },
   {
    "duration": 236,
    "start_time": "2023-11-18T15:12:40.587Z"
   },
   {
    "duration": 31,
    "start_time": "2023-11-18T15:12:40.824Z"
   },
   {
    "duration": 41,
    "start_time": "2023-11-18T15:12:40.858Z"
   },
   {
    "duration": 88,
    "start_time": "2023-11-18T15:12:40.900Z"
   },
   {
    "duration": 31,
    "start_time": "2023-11-18T15:13:21.452Z"
   },
   {
    "duration": 665,
    "start_time": "2023-11-18T15:20:21.947Z"
   },
   {
    "duration": 29,
    "start_time": "2023-11-18T15:20:22.614Z"
   },
   {
    "duration": 34,
    "start_time": "2023-11-18T15:20:22.644Z"
   },
   {
    "duration": 15,
    "start_time": "2023-11-18T15:20:22.681Z"
   },
   {
    "duration": 4,
    "start_time": "2023-11-18T15:20:22.698Z"
   },
   {
    "duration": 28,
    "start_time": "2023-11-18T15:20:22.704Z"
   },
   {
    "duration": 40,
    "start_time": "2023-11-18T15:20:22.734Z"
   },
   {
    "duration": 16,
    "start_time": "2023-11-18T15:20:22.776Z"
   },
   {
    "duration": 12,
    "start_time": "2023-11-18T15:20:22.794Z"
   },
   {
    "duration": 7,
    "start_time": "2023-11-18T15:20:22.808Z"
   },
   {
    "duration": 7,
    "start_time": "2023-11-18T15:20:22.816Z"
   },
   {
    "duration": 7,
    "start_time": "2023-11-18T15:20:22.825Z"
   },
   {
    "duration": 8,
    "start_time": "2023-11-18T15:20:22.871Z"
   },
   {
    "duration": 172,
    "start_time": "2023-11-18T15:20:22.880Z"
   },
   {
    "duration": 144,
    "start_time": "2023-11-18T15:20:23.054Z"
   },
   {
    "duration": 204,
    "start_time": "2023-11-18T15:20:23.200Z"
   },
   {
    "duration": 302,
    "start_time": "2023-11-18T15:20:23.406Z"
   },
   {
    "duration": 236,
    "start_time": "2023-11-18T15:20:23.710Z"
   },
   {
    "duration": 32,
    "start_time": "2023-11-18T15:20:23.947Z"
   },
   {
    "duration": 25,
    "start_time": "2023-11-18T15:20:23.980Z"
   },
   {
    "duration": 23,
    "start_time": "2023-11-18T15:20:24.006Z"
   },
   {
    "duration": 49,
    "start_time": "2023-11-18T15:20:24.030Z"
   },
   {
    "duration": 230,
    "start_time": "2023-11-18T15:20:24.080Z"
   },
   {
    "duration": 230,
    "start_time": "2023-11-18T15:20:24.312Z"
   },
   {
    "duration": 229,
    "start_time": "2023-11-18T15:20:24.544Z"
   },
   {
    "duration": 231,
    "start_time": "2023-11-18T15:20:24.774Z"
   },
   {
    "duration": 33,
    "start_time": "2023-11-18T15:20:25.007Z"
   },
   {
    "duration": 3,
    "start_time": "2023-11-18T15:20:50.917Z"
   },
   {
    "duration": 75,
    "start_time": "2023-11-18T15:33:14.030Z"
   },
   {
    "duration": 21,
    "start_time": "2023-11-18T15:33:56.477Z"
   },
   {
    "duration": 4,
    "start_time": "2023-11-18T15:37:40.956Z"
   },
   {
    "duration": 9,
    "start_time": "2023-11-18T15:39:00.118Z"
   },
   {
    "duration": 7,
    "start_time": "2023-11-18T15:39:18.939Z"
   },
   {
    "duration": 10,
    "start_time": "2023-11-18T15:39:41.585Z"
   },
   {
    "duration": 644,
    "start_time": "2023-11-18T15:40:13.972Z"
   },
   {
    "duration": 29,
    "start_time": "2023-11-18T15:40:14.618Z"
   },
   {
    "duration": 32,
    "start_time": "2023-11-18T15:40:14.649Z"
   },
   {
    "duration": 16,
    "start_time": "2023-11-18T15:40:14.682Z"
   },
   {
    "duration": 4,
    "start_time": "2023-11-18T15:40:14.700Z"
   },
   {
    "duration": 32,
    "start_time": "2023-11-18T15:40:14.705Z"
   },
   {
    "duration": 37,
    "start_time": "2023-11-18T15:40:14.738Z"
   },
   {
    "duration": 17,
    "start_time": "2023-11-18T15:40:14.777Z"
   },
   {
    "duration": 14,
    "start_time": "2023-11-18T15:40:14.795Z"
   },
   {
    "duration": 6,
    "start_time": "2023-11-18T15:40:14.810Z"
   },
   {
    "duration": 11,
    "start_time": "2023-11-18T15:40:14.818Z"
   },
   {
    "duration": 7,
    "start_time": "2023-11-18T15:40:14.830Z"
   },
   {
    "duration": 36,
    "start_time": "2023-11-18T15:40:14.838Z"
   },
   {
    "duration": 170,
    "start_time": "2023-11-18T15:40:14.877Z"
   },
   {
    "duration": 150,
    "start_time": "2023-11-18T15:40:15.048Z"
   },
   {
    "duration": 209,
    "start_time": "2023-11-18T15:40:15.200Z"
   },
   {
    "duration": 306,
    "start_time": "2023-11-18T15:40:15.411Z"
   },
   {
    "duration": 235,
    "start_time": "2023-11-18T15:40:15.719Z"
   },
   {
    "duration": 28,
    "start_time": "2023-11-18T15:40:15.956Z"
   },
   {
    "duration": 23,
    "start_time": "2023-11-18T15:40:15.986Z"
   },
   {
    "duration": 22,
    "start_time": "2023-11-18T15:40:16.010Z"
   },
   {
    "duration": 53,
    "start_time": "2023-11-18T15:40:16.034Z"
   },
   {
    "duration": 226,
    "start_time": "2023-11-18T15:40:16.089Z"
   },
   {
    "duration": 240,
    "start_time": "2023-11-18T15:40:16.316Z"
   },
   {
    "duration": 243,
    "start_time": "2023-11-18T15:40:16.557Z"
   },
   {
    "duration": 231,
    "start_time": "2023-11-18T15:40:16.802Z"
   },
   {
    "duration": 44,
    "start_time": "2023-11-18T15:40:17.035Z"
   },
   {
    "duration": 5,
    "start_time": "2023-11-18T15:40:17.080Z"
   },
   {
    "duration": 1543,
    "start_time": "2023-11-18T15:40:17.086Z"
   },
   {
    "duration": 0,
    "start_time": "2023-11-18T15:40:18.630Z"
   },
   {
    "duration": 33,
    "start_time": "2023-11-18T15:41:57.771Z"
   },
   {
    "duration": 23,
    "start_time": "2023-11-18T15:43:00.706Z"
   },
   {
    "duration": 24,
    "start_time": "2023-11-18T15:43:14.730Z"
   },
   {
    "duration": 592,
    "start_time": "2023-11-18T15:51:12.819Z"
   },
   {
    "duration": 27,
    "start_time": "2023-11-18T15:51:13.413Z"
   },
   {
    "duration": 31,
    "start_time": "2023-11-18T15:51:13.442Z"
   },
   {
    "duration": 15,
    "start_time": "2023-11-18T15:51:13.475Z"
   },
   {
    "duration": 3,
    "start_time": "2023-11-18T15:51:13.491Z"
   },
   {
    "duration": 27,
    "start_time": "2023-11-18T15:51:13.495Z"
   },
   {
    "duration": 27,
    "start_time": "2023-11-18T15:51:13.523Z"
   },
   {
    "duration": 36,
    "start_time": "2023-11-18T15:51:13.551Z"
   },
   {
    "duration": 19,
    "start_time": "2023-11-18T15:51:13.588Z"
   },
   {
    "duration": 6,
    "start_time": "2023-11-18T15:51:13.609Z"
   },
   {
    "duration": 7,
    "start_time": "2023-11-18T15:51:13.616Z"
   },
   {
    "duration": 9,
    "start_time": "2023-11-18T15:51:13.625Z"
   },
   {
    "duration": 10,
    "start_time": "2023-11-18T15:51:13.635Z"
   },
   {
    "duration": 175,
    "start_time": "2023-11-18T15:51:13.647Z"
   },
   {
    "duration": 152,
    "start_time": "2023-11-18T15:51:13.824Z"
   },
   {
    "duration": 194,
    "start_time": "2023-11-18T15:51:13.978Z"
   },
   {
    "duration": 280,
    "start_time": "2023-11-18T15:51:14.174Z"
   },
   {
    "duration": 231,
    "start_time": "2023-11-18T15:51:14.456Z"
   },
   {
    "duration": 23,
    "start_time": "2023-11-18T15:51:14.689Z"
   },
   {
    "duration": 24,
    "start_time": "2023-11-18T15:51:14.713Z"
   },
   {
    "duration": 52,
    "start_time": "2023-11-18T15:51:14.738Z"
   },
   {
    "duration": 19,
    "start_time": "2023-11-18T15:51:14.792Z"
   },
   {
    "duration": 245,
    "start_time": "2023-11-18T15:51:14.812Z"
   },
   {
    "duration": 246,
    "start_time": "2023-11-18T15:51:15.059Z"
   },
   {
    "duration": 227,
    "start_time": "2023-11-18T15:51:15.307Z"
   },
   {
    "duration": 240,
    "start_time": "2023-11-18T15:51:15.536Z"
   },
   {
    "duration": 34,
    "start_time": "2023-11-18T15:51:15.777Z"
   },
   {
    "duration": 3,
    "start_time": "2023-11-18T15:51:15.814Z"
   },
   {
    "duration": 36,
    "start_time": "2023-11-18T15:51:15.818Z"
   },
   {
    "duration": 16,
    "start_time": "2023-11-18T15:51:15.856Z"
   },
   {
    "duration": 7,
    "start_time": "2023-11-18T16:55:35.207Z"
   },
   {
    "duration": 19,
    "start_time": "2023-11-18T16:56:14.488Z"
   },
   {
    "duration": 3,
    "start_time": "2023-11-18T16:57:37.165Z"
   },
   {
    "duration": 70,
    "start_time": "2023-11-18T16:57:42.790Z"
   },
   {
    "duration": 9,
    "start_time": "2023-11-18T16:58:19.384Z"
   },
   {
    "duration": 15,
    "start_time": "2023-11-18T17:03:43.414Z"
   },
   {
    "duration": 22,
    "start_time": "2023-11-18T17:04:13.243Z"
   },
   {
    "duration": 3,
    "start_time": "2023-11-18T17:19:53.725Z"
   },
   {
    "duration": 9,
    "start_time": "2023-11-18T17:20:57.407Z"
   },
   {
    "duration": 4,
    "start_time": "2023-11-18T17:21:09.394Z"
   },
   {
    "duration": 10,
    "start_time": "2023-11-18T17:21:10.477Z"
   },
   {
    "duration": 4,
    "start_time": "2023-11-18T17:21:22.953Z"
   },
   {
    "duration": 12,
    "start_time": "2023-11-18T17:21:23.901Z"
   },
   {
    "duration": 82,
    "start_time": "2023-11-18T17:21:50.828Z"
   },
   {
    "duration": 77,
    "start_time": "2023-11-18T17:21:56.169Z"
   },
   {
    "duration": 69,
    "start_time": "2023-11-18T17:22:01.436Z"
   },
   {
    "duration": 605,
    "start_time": "2023-11-18T17:22:18.025Z"
   },
   {
    "duration": 29,
    "start_time": "2023-11-18T17:22:18.631Z"
   },
   {
    "duration": 33,
    "start_time": "2023-11-18T17:22:18.662Z"
   },
   {
    "duration": 16,
    "start_time": "2023-11-18T17:22:18.696Z"
   },
   {
    "duration": 3,
    "start_time": "2023-11-18T17:22:18.713Z"
   },
   {
    "duration": 29,
    "start_time": "2023-11-18T17:22:18.718Z"
   },
   {
    "duration": 26,
    "start_time": "2023-11-18T17:22:18.749Z"
   },
   {
    "duration": 16,
    "start_time": "2023-11-18T17:22:18.776Z"
   },
   {
    "duration": 17,
    "start_time": "2023-11-18T17:22:18.794Z"
   },
   {
    "duration": 5,
    "start_time": "2023-11-18T17:22:18.813Z"
   },
   {
    "duration": 10,
    "start_time": "2023-11-18T17:22:18.819Z"
   },
   {
    "duration": 5,
    "start_time": "2023-11-18T17:22:18.831Z"
   },
   {
    "duration": 36,
    "start_time": "2023-11-18T17:22:18.837Z"
   },
   {
    "duration": 161,
    "start_time": "2023-11-18T17:22:18.876Z"
   },
   {
    "duration": 147,
    "start_time": "2023-11-18T17:22:19.038Z"
   },
   {
    "duration": 203,
    "start_time": "2023-11-18T17:22:19.186Z"
   },
   {
    "duration": 307,
    "start_time": "2023-11-18T17:22:19.390Z"
   },
   {
    "duration": 235,
    "start_time": "2023-11-18T17:22:19.699Z"
   },
   {
    "duration": 39,
    "start_time": "2023-11-18T17:22:19.936Z"
   },
   {
    "duration": 27,
    "start_time": "2023-11-18T17:22:19.977Z"
   },
   {
    "duration": 27,
    "start_time": "2023-11-18T17:22:20.006Z"
   },
   {
    "duration": 50,
    "start_time": "2023-11-18T17:22:20.035Z"
   },
   {
    "duration": 254,
    "start_time": "2023-11-18T17:22:20.087Z"
   },
   {
    "duration": 253,
    "start_time": "2023-11-18T17:22:20.342Z"
   },
   {
    "duration": 257,
    "start_time": "2023-11-18T17:22:20.597Z"
   },
   {
    "duration": 286,
    "start_time": "2023-11-18T17:22:20.855Z"
   },
   {
    "duration": 43,
    "start_time": "2023-11-18T17:22:21.143Z"
   },
   {
    "duration": 17,
    "start_time": "2023-11-18T17:22:21.188Z"
   },
   {
    "duration": 436,
    "start_time": "2023-11-18T17:22:21.207Z"
   },
   {
    "duration": 0,
    "start_time": "2023-11-18T17:22:21.645Z"
   },
   {
    "duration": 0,
    "start_time": "2023-11-18T17:22:21.647Z"
   },
   {
    "duration": 0,
    "start_time": "2023-11-18T17:22:21.648Z"
   },
   {
    "duration": 0,
    "start_time": "2023-11-18T17:22:21.650Z"
   },
   {
    "duration": 0,
    "start_time": "2023-11-18T17:22:21.744Z"
   },
   {
    "duration": 15,
    "start_time": "2023-11-18T17:23:10.304Z"
   },
   {
    "duration": 20,
    "start_time": "2023-11-18T17:23:17.453Z"
   },
   {
    "duration": 72,
    "start_time": "2023-11-18T17:23:23.937Z"
   },
   {
    "duration": 2,
    "start_time": "2023-11-18T17:23:34.535Z"
   },
   {
    "duration": 9,
    "start_time": "2023-11-18T17:23:37.488Z"
   },
   {
    "duration": 10,
    "start_time": "2023-11-18T17:23:53.015Z"
   },
   {
    "duration": 3,
    "start_time": "2023-11-18T17:25:11.549Z"
   },
   {
    "duration": 4,
    "start_time": "2023-11-18T17:29:41.740Z"
   },
   {
    "duration": 12,
    "start_time": "2023-11-18T17:29:45.845Z"
   },
   {
    "duration": 4,
    "start_time": "2023-11-18T17:32:59.447Z"
   },
   {
    "duration": 3,
    "start_time": "2023-11-18T17:33:36.348Z"
   },
   {
    "duration": 4,
    "start_time": "2023-11-18T17:33:37.727Z"
   },
   {
    "duration": 11,
    "start_time": "2023-11-18T17:33:38.792Z"
   },
   {
    "duration": 917,
    "start_time": "2023-11-19T05:14:43.764Z"
   },
   {
    "duration": 86,
    "start_time": "2023-11-19T05:14:44.683Z"
   },
   {
    "duration": 72,
    "start_time": "2023-11-19T05:14:44.771Z"
   },
   {
    "duration": 51,
    "start_time": "2023-11-19T05:14:44.845Z"
   },
   {
    "duration": 3,
    "start_time": "2023-11-19T05:14:44.898Z"
   },
   {
    "duration": 28,
    "start_time": "2023-11-19T05:14:44.902Z"
   },
   {
    "duration": 25,
    "start_time": "2023-11-19T05:14:44.932Z"
   },
   {
    "duration": 15,
    "start_time": "2023-11-19T05:14:44.958Z"
   },
   {
    "duration": 10,
    "start_time": "2023-11-19T05:14:44.974Z"
   },
   {
    "duration": 9,
    "start_time": "2023-11-19T05:14:44.987Z"
   },
   {
    "duration": 6,
    "start_time": "2023-11-19T05:14:44.998Z"
   },
   {
    "duration": 36,
    "start_time": "2023-11-19T05:14:45.006Z"
   },
   {
    "duration": 11,
    "start_time": "2023-11-19T05:14:45.044Z"
   },
   {
    "duration": 173,
    "start_time": "2023-11-19T05:14:45.057Z"
   },
   {
    "duration": 142,
    "start_time": "2023-11-19T05:14:45.232Z"
   },
   {
    "duration": 203,
    "start_time": "2023-11-19T05:14:45.375Z"
   },
   {
    "duration": 302,
    "start_time": "2023-11-19T05:14:45.579Z"
   },
   {
    "duration": 227,
    "start_time": "2023-11-19T05:14:45.883Z"
   },
   {
    "duration": 23,
    "start_time": "2023-11-19T05:14:46.111Z"
   },
   {
    "duration": 38,
    "start_time": "2023-11-19T05:14:46.136Z"
   },
   {
    "duration": 22,
    "start_time": "2023-11-19T05:14:46.176Z"
   },
   {
    "duration": 21,
    "start_time": "2023-11-19T05:14:46.200Z"
   },
   {
    "duration": 247,
    "start_time": "2023-11-19T05:14:46.223Z"
   },
   {
    "duration": 241,
    "start_time": "2023-11-19T05:14:46.472Z"
   },
   {
    "duration": 231,
    "start_time": "2023-11-19T05:14:46.714Z"
   },
   {
    "duration": 229,
    "start_time": "2023-11-19T05:14:46.946Z"
   },
   {
    "duration": 31,
    "start_time": "2023-11-19T05:14:47.177Z"
   },
   {
    "duration": 16,
    "start_time": "2023-11-19T05:14:47.211Z"
   },
   {
    "duration": 38,
    "start_time": "2023-11-19T05:14:47.228Z"
   },
   {
    "duration": 21,
    "start_time": "2023-11-19T05:14:47.268Z"
   },
   {
    "duration": 4,
    "start_time": "2023-11-19T05:14:47.290Z"
   },
   {
    "duration": 5,
    "start_time": "2023-11-19T05:14:47.295Z"
   },
   {
    "duration": 101,
    "start_time": "2023-11-19T05:14:47.301Z"
   },
   {
    "duration": 0,
    "start_time": "2023-11-19T05:14:47.403Z"
   },
   {
    "duration": 0,
    "start_time": "2023-11-19T05:14:47.404Z"
   },
   {
    "duration": 150,
    "start_time": "2023-11-19T05:15:14.572Z"
   },
   {
    "duration": 8,
    "start_time": "2023-11-19T05:23:46.137Z"
   },
   {
    "duration": 513,
    "start_time": "2023-11-19T05:24:02.165Z"
   },
   {
    "duration": 127,
    "start_time": "2023-11-19T05:24:09.996Z"
   },
   {
    "duration": 5,
    "start_time": "2023-11-19T05:25:12.704Z"
   },
   {
    "duration": 6,
    "start_time": "2023-11-19T05:26:38.602Z"
   },
   {
    "duration": 1166,
    "start_time": "2023-11-19T05:38:02.867Z"
   },
   {
    "duration": 28,
    "start_time": "2023-11-19T05:38:04.035Z"
   },
   {
    "duration": 36,
    "start_time": "2023-11-19T05:38:04.064Z"
   },
   {
    "duration": 17,
    "start_time": "2023-11-19T05:38:04.101Z"
   },
   {
    "duration": 14,
    "start_time": "2023-11-19T05:38:04.120Z"
   },
   {
    "duration": 30,
    "start_time": "2023-11-19T05:38:04.136Z"
   },
   {
    "duration": 26,
    "start_time": "2023-11-19T05:38:04.168Z"
   },
   {
    "duration": 15,
    "start_time": "2023-11-19T05:38:04.196Z"
   },
   {
    "duration": 13,
    "start_time": "2023-11-19T05:38:04.213Z"
   },
   {
    "duration": 6,
    "start_time": "2023-11-19T05:38:04.228Z"
   },
   {
    "duration": 8,
    "start_time": "2023-11-19T05:38:04.265Z"
   },
   {
    "duration": 7,
    "start_time": "2023-11-19T05:38:04.274Z"
   },
   {
    "duration": 6,
    "start_time": "2023-11-19T05:38:04.283Z"
   },
   {
    "duration": 200,
    "start_time": "2023-11-19T05:38:04.293Z"
   },
   {
    "duration": 152,
    "start_time": "2023-11-19T05:38:04.495Z"
   },
   {
    "duration": 199,
    "start_time": "2023-11-19T05:38:04.649Z"
   },
   {
    "duration": 236,
    "start_time": "2023-11-19T05:38:04.850Z"
   },
   {
    "duration": 236,
    "start_time": "2023-11-19T05:38:05.088Z"
   },
   {
    "duration": 25,
    "start_time": "2023-11-19T05:38:05.326Z"
   },
   {
    "duration": 25,
    "start_time": "2023-11-19T05:38:05.365Z"
   },
   {
    "duration": 24,
    "start_time": "2023-11-19T05:38:05.392Z"
   },
   {
    "duration": 47,
    "start_time": "2023-11-19T05:38:05.418Z"
   },
   {
    "duration": 236,
    "start_time": "2023-11-19T05:38:05.467Z"
   },
   {
    "duration": 313,
    "start_time": "2023-11-19T05:38:05.705Z"
   },
   {
    "duration": 228,
    "start_time": "2023-11-19T05:38:06.020Z"
   },
   {
    "duration": 232,
    "start_time": "2023-11-19T05:38:06.250Z"
   },
   {
    "duration": 32,
    "start_time": "2023-11-19T05:38:06.483Z"
   },
   {
    "duration": 17,
    "start_time": "2023-11-19T05:38:06.516Z"
   },
   {
    "duration": 36,
    "start_time": "2023-11-19T05:38:06.535Z"
   },
   {
    "duration": 20,
    "start_time": "2023-11-19T05:38:06.573Z"
   },
   {
    "duration": 3,
    "start_time": "2023-11-19T05:38:06.595Z"
   },
   {
    "duration": 7,
    "start_time": "2023-11-19T05:38:06.600Z"
   },
   {
    "duration": 178,
    "start_time": "2023-11-19T05:38:06.609Z"
   },
   {
    "duration": 5,
    "start_time": "2023-11-19T05:38:06.788Z"
   },
   {
    "duration": 105,
    "start_time": "2023-11-19T05:38:06.795Z"
   },
   {
    "duration": 5,
    "start_time": "2023-11-19T05:38:23.425Z"
   },
   {
    "duration": 13,
    "start_time": "2023-11-19T05:43:30.003Z"
   },
   {
    "duration": 74,
    "start_time": "2023-11-19T05:49:55.443Z"
   },
   {
    "duration": 1135,
    "start_time": "2023-11-19T07:50:50.723Z"
   },
   {
    "duration": 29,
    "start_time": "2023-11-19T07:50:51.860Z"
   },
   {
    "duration": 34,
    "start_time": "2023-11-19T07:50:51.890Z"
   },
   {
    "duration": 15,
    "start_time": "2023-11-19T07:50:51.926Z"
   },
   {
    "duration": 3,
    "start_time": "2023-11-19T07:50:51.943Z"
   },
   {
    "duration": 28,
    "start_time": "2023-11-19T07:50:51.947Z"
   },
   {
    "duration": 28,
    "start_time": "2023-11-19T07:50:51.977Z"
   },
   {
    "duration": 17,
    "start_time": "2023-11-19T07:50:52.007Z"
   },
   {
    "duration": 18,
    "start_time": "2023-11-19T07:50:52.025Z"
   },
   {
    "duration": 6,
    "start_time": "2023-11-19T07:50:52.067Z"
   },
   {
    "duration": 27,
    "start_time": "2023-11-19T07:50:52.075Z"
   },
   {
    "duration": 10,
    "start_time": "2023-11-19T07:50:52.104Z"
   },
   {
    "duration": 19,
    "start_time": "2023-11-19T07:50:52.115Z"
   },
   {
    "duration": 170,
    "start_time": "2023-11-19T07:50:52.136Z"
   },
   {
    "duration": 168,
    "start_time": "2023-11-19T07:50:52.308Z"
   },
   {
    "duration": 206,
    "start_time": "2023-11-19T07:50:52.478Z"
   },
   {
    "duration": 240,
    "start_time": "2023-11-19T07:50:52.685Z"
   },
   {
    "duration": 241,
    "start_time": "2023-11-19T07:50:52.927Z"
   },
   {
    "duration": 25,
    "start_time": "2023-11-19T07:50:53.170Z"
   },
   {
    "duration": 23,
    "start_time": "2023-11-19T07:50:53.196Z"
   },
   {
    "duration": 49,
    "start_time": "2023-11-19T07:50:53.221Z"
   },
   {
    "duration": 20,
    "start_time": "2023-11-19T07:50:53.272Z"
   },
   {
    "duration": 251,
    "start_time": "2023-11-19T07:50:53.294Z"
   },
   {
    "duration": 335,
    "start_time": "2023-11-19T07:50:53.547Z"
   },
   {
    "duration": 233,
    "start_time": "2023-11-19T07:50:53.884Z"
   },
   {
    "duration": 246,
    "start_time": "2023-11-19T07:50:54.119Z"
   },
   {
    "duration": 32,
    "start_time": "2023-11-19T07:50:54.367Z"
   },
   {
    "duration": 16,
    "start_time": "2023-11-19T07:50:54.402Z"
   },
   {
    "duration": 15,
    "start_time": "2023-11-19T07:50:54.419Z"
   },
   {
    "duration": 49,
    "start_time": "2023-11-19T07:50:54.435Z"
   },
   {
    "duration": 4,
    "start_time": "2023-11-19T07:50:54.485Z"
   },
   {
    "duration": 18,
    "start_time": "2023-11-19T07:50:54.491Z"
   },
   {
    "duration": 168,
    "start_time": "2023-11-19T07:50:54.511Z"
   },
   {
    "duration": 5,
    "start_time": "2023-11-19T07:50:54.681Z"
   },
   {
    "duration": 6,
    "start_time": "2023-11-19T07:50:54.688Z"
   },
   {
    "duration": 11,
    "start_time": "2023-11-19T07:50:54.696Z"
   },
   {
    "duration": 1224,
    "start_time": "2023-11-19T09:56:19.602Z"
   },
   {
    "duration": 88,
    "start_time": "2023-11-19T09:56:20.827Z"
   },
   {
    "duration": 73,
    "start_time": "2023-11-19T09:56:20.917Z"
   },
   {
    "duration": 53,
    "start_time": "2023-11-19T09:56:20.991Z"
   },
   {
    "duration": 3,
    "start_time": "2023-11-19T09:56:21.046Z"
   },
   {
    "duration": 50,
    "start_time": "2023-11-19T09:56:21.050Z"
   },
   {
    "duration": 29,
    "start_time": "2023-11-19T09:56:21.102Z"
   },
   {
    "duration": 18,
    "start_time": "2023-11-19T09:56:21.132Z"
   },
   {
    "duration": 16,
    "start_time": "2023-11-19T09:56:21.152Z"
   },
   {
    "duration": 21,
    "start_time": "2023-11-19T09:56:21.169Z"
   },
   {
    "duration": 20,
    "start_time": "2023-11-19T09:56:21.192Z"
   },
   {
    "duration": 19,
    "start_time": "2023-11-19T09:56:21.213Z"
   },
   {
    "duration": 20,
    "start_time": "2023-11-19T09:56:21.233Z"
   },
   {
    "duration": 168,
    "start_time": "2023-11-19T09:56:21.256Z"
   },
   {
    "duration": 137,
    "start_time": "2023-11-19T09:56:21.426Z"
   },
   {
    "duration": 181,
    "start_time": "2023-11-19T09:56:21.565Z"
   },
   {
    "duration": 233,
    "start_time": "2023-11-19T09:56:21.747Z"
   },
   {
    "duration": 222,
    "start_time": "2023-11-19T09:56:21.982Z"
   },
   {
    "duration": 23,
    "start_time": "2023-11-19T09:56:22.205Z"
   },
   {
    "duration": 38,
    "start_time": "2023-11-19T09:56:22.229Z"
   },
   {
    "duration": 20,
    "start_time": "2023-11-19T09:56:22.269Z"
   },
   {
    "duration": 19,
    "start_time": "2023-11-19T09:56:22.291Z"
   },
   {
    "duration": 237,
    "start_time": "2023-11-19T09:56:22.311Z"
   },
   {
    "duration": 290,
    "start_time": "2023-11-19T09:56:22.550Z"
   },
   {
    "duration": 212,
    "start_time": "2023-11-19T09:56:22.842Z"
   },
   {
    "duration": 220,
    "start_time": "2023-11-19T09:56:23.055Z"
   },
   {
    "duration": 29,
    "start_time": "2023-11-19T09:56:23.276Z"
   },
   {
    "duration": 14,
    "start_time": "2023-11-19T09:56:23.306Z"
   },
   {
    "duration": 11,
    "start_time": "2023-11-19T09:56:23.322Z"
   },
   {
    "duration": 43,
    "start_time": "2023-11-19T09:56:23.335Z"
   },
   {
    "duration": 3,
    "start_time": "2023-11-19T09:56:23.379Z"
   },
   {
    "duration": 9,
    "start_time": "2023-11-19T09:56:23.384Z"
   },
   {
    "duration": 151,
    "start_time": "2023-11-19T09:56:23.395Z"
   },
   {
    "duration": 5,
    "start_time": "2023-11-19T09:56:23.547Z"
   },
   {
    "duration": 14,
    "start_time": "2023-11-19T09:56:23.554Z"
   },
   {
    "duration": 12,
    "start_time": "2023-11-19T09:56:23.570Z"
   },
   {
    "duration": 7,
    "start_time": "2023-11-19T10:05:57.195Z"
   },
   {
    "duration": 1066,
    "start_time": "2023-11-19T10:11:47.045Z"
   },
   {
    "duration": 29,
    "start_time": "2023-11-19T10:11:48.113Z"
   },
   {
    "duration": 31,
    "start_time": "2023-11-19T10:11:48.143Z"
   },
   {
    "duration": 15,
    "start_time": "2023-11-19T10:11:48.175Z"
   },
   {
    "duration": 3,
    "start_time": "2023-11-19T10:11:48.192Z"
   },
   {
    "duration": 30,
    "start_time": "2023-11-19T10:11:48.196Z"
   },
   {
    "duration": 26,
    "start_time": "2023-11-19T10:11:48.227Z"
   },
   {
    "duration": 15,
    "start_time": "2023-11-19T10:11:48.266Z"
   },
   {
    "duration": 28,
    "start_time": "2023-11-19T10:11:48.283Z"
   },
   {
    "duration": 6,
    "start_time": "2023-11-19T10:11:48.312Z"
   },
   {
    "duration": 6,
    "start_time": "2023-11-19T10:11:48.319Z"
   },
   {
    "duration": 5,
    "start_time": "2023-11-19T10:11:48.326Z"
   },
   {
    "duration": 5,
    "start_time": "2023-11-19T10:11:48.333Z"
   },
   {
    "duration": 172,
    "start_time": "2023-11-19T10:11:48.365Z"
   },
   {
    "duration": 150,
    "start_time": "2023-11-19T10:11:48.539Z"
   },
   {
    "duration": 188,
    "start_time": "2023-11-19T10:11:48.690Z"
   },
   {
    "duration": 225,
    "start_time": "2023-11-19T10:11:48.879Z"
   },
   {
    "duration": 227,
    "start_time": "2023-11-19T10:11:49.105Z"
   },
   {
    "duration": 32,
    "start_time": "2023-11-19T10:11:49.334Z"
   },
   {
    "duration": 22,
    "start_time": "2023-11-19T10:11:49.367Z"
   },
   {
    "duration": 22,
    "start_time": "2023-11-19T10:11:49.391Z"
   },
   {
    "duration": 19,
    "start_time": "2023-11-19T10:11:49.415Z"
   },
   {
    "duration": 252,
    "start_time": "2023-11-19T10:11:49.436Z"
   },
   {
    "duration": 292,
    "start_time": "2023-11-19T10:11:49.690Z"
   },
   {
    "duration": 220,
    "start_time": "2023-11-19T10:11:49.984Z"
   },
   {
    "duration": 235,
    "start_time": "2023-11-19T10:11:50.205Z"
   },
   {
    "duration": 39,
    "start_time": "2023-11-19T10:11:50.441Z"
   },
   {
    "duration": 16,
    "start_time": "2023-11-19T10:11:50.482Z"
   },
   {
    "duration": 12,
    "start_time": "2023-11-19T10:11:50.500Z"
   },
   {
    "duration": 20,
    "start_time": "2023-11-19T10:11:50.514Z"
   },
   {
    "duration": 29,
    "start_time": "2023-11-19T10:11:50.536Z"
   },
   {
    "duration": 3,
    "start_time": "2023-11-19T10:11:50.567Z"
   },
   {
    "duration": 164,
    "start_time": "2023-11-19T10:11:50.572Z"
   },
   {
    "duration": 6,
    "start_time": "2023-11-19T10:11:50.737Z"
   },
   {
    "duration": 24,
    "start_time": "2023-11-19T10:11:50.744Z"
   },
   {
    "duration": 23,
    "start_time": "2023-11-19T10:11:50.770Z"
   },
   {
    "duration": 51,
    "start_time": "2023-11-19T13:45:11.885Z"
   },
   {
    "duration": 1399,
    "start_time": "2023-11-19T13:45:36.104Z"
   },
   {
    "duration": 97,
    "start_time": "2023-11-19T13:45:37.505Z"
   },
   {
    "duration": 164,
    "start_time": "2023-11-19T13:45:37.603Z"
   },
   {
    "duration": 63,
    "start_time": "2023-11-19T13:45:37.769Z"
   },
   {
    "duration": 3,
    "start_time": "2023-11-19T13:45:37.834Z"
   },
   {
    "duration": 32,
    "start_time": "2023-11-19T13:45:37.838Z"
   },
   {
    "duration": 62,
    "start_time": "2023-11-19T13:45:37.871Z"
   },
   {
    "duration": 47,
    "start_time": "2023-11-19T13:45:37.934Z"
   },
   {
    "duration": 20,
    "start_time": "2023-11-19T13:45:37.983Z"
   },
   {
    "duration": 16,
    "start_time": "2023-11-19T13:45:38.007Z"
   },
   {
    "duration": 14,
    "start_time": "2023-11-19T13:45:38.024Z"
   },
   {
    "duration": 24,
    "start_time": "2023-11-19T13:45:38.040Z"
   },
   {
    "duration": 23,
    "start_time": "2023-11-19T13:45:38.066Z"
   },
   {
    "duration": 178,
    "start_time": "2023-11-19T13:45:38.091Z"
   },
   {
    "duration": 155,
    "start_time": "2023-11-19T13:45:38.271Z"
   },
   {
    "duration": 215,
    "start_time": "2023-11-19T13:45:38.428Z"
   },
   {
    "duration": 259,
    "start_time": "2023-11-19T13:45:38.645Z"
   },
   {
    "duration": 242,
    "start_time": "2023-11-19T13:45:38.906Z"
   },
   {
    "duration": 25,
    "start_time": "2023-11-19T13:45:39.149Z"
   },
   {
    "duration": 45,
    "start_time": "2023-11-19T13:45:39.175Z"
   },
   {
    "duration": 25,
    "start_time": "2023-11-19T13:45:39.221Z"
   },
   {
    "duration": 23,
    "start_time": "2023-11-19T13:45:39.247Z"
   },
   {
    "duration": 257,
    "start_time": "2023-11-19T13:45:39.272Z"
   },
   {
    "duration": 339,
    "start_time": "2023-11-19T13:45:39.531Z"
   },
   {
    "duration": 240,
    "start_time": "2023-11-19T13:45:39.872Z"
   },
   {
    "duration": 237,
    "start_time": "2023-11-19T13:45:40.114Z"
   },
   {
    "duration": 49,
    "start_time": "2023-11-19T13:45:40.352Z"
   },
   {
    "duration": 17,
    "start_time": "2023-11-19T13:45:40.404Z"
   },
   {
    "duration": 71,
    "start_time": "2023-11-19T13:45:40.423Z"
   },
   {
    "duration": 31,
    "start_time": "2023-11-19T13:45:40.496Z"
   },
   {
    "duration": 6,
    "start_time": "2023-11-19T13:45:40.528Z"
   },
   {
    "duration": 5,
    "start_time": "2023-11-19T13:45:40.535Z"
   },
   {
    "duration": 160,
    "start_time": "2023-11-19T13:45:40.541Z"
   },
   {
    "duration": 5,
    "start_time": "2023-11-19T13:45:40.703Z"
   },
   {
    "duration": 12,
    "start_time": "2023-11-19T13:45:40.709Z"
   },
   {
    "duration": 16,
    "start_time": "2023-11-19T13:45:40.723Z"
   },
   {
    "duration": 38,
    "start_time": "2023-11-19T13:48:16.972Z"
   },
   {
    "duration": 54,
    "start_time": "2023-11-19T13:48:31.442Z"
   },
   {
    "duration": 41,
    "start_time": "2023-11-19T13:48:39.211Z"
   },
   {
    "duration": 15,
    "start_time": "2023-11-19T13:54:21.464Z"
   },
   {
    "duration": 19,
    "start_time": "2023-11-19T13:55:34.175Z"
   },
   {
    "duration": 6,
    "start_time": "2023-11-19T13:57:29.312Z"
   },
   {
    "duration": 10,
    "start_time": "2023-11-19T13:58:49.749Z"
   },
   {
    "duration": 282,
    "start_time": "2023-11-19T14:05:51.568Z"
   },
   {
    "duration": 190,
    "start_time": "2023-11-19T14:06:26.782Z"
   },
   {
    "duration": 223,
    "start_time": "2023-11-19T14:10:48.156Z"
   },
   {
    "duration": 15,
    "start_time": "2023-11-19T14:11:28.668Z"
   },
   {
    "duration": 15,
    "start_time": "2023-11-19T14:11:41.132Z"
   },
   {
    "duration": 143,
    "start_time": "2023-11-19T14:12:50.501Z"
   },
   {
    "duration": 1200,
    "start_time": "2023-11-19T14:13:37.793Z"
   },
   {
    "duration": 47,
    "start_time": "2023-11-19T14:13:38.996Z"
   },
   {
    "duration": 47,
    "start_time": "2023-11-19T14:13:39.045Z"
   },
   {
    "duration": 27,
    "start_time": "2023-11-19T14:13:39.093Z"
   },
   {
    "duration": 14,
    "start_time": "2023-11-19T14:13:39.122Z"
   },
   {
    "duration": 19,
    "start_time": "2023-11-19T14:13:39.137Z"
   },
   {
    "duration": 11,
    "start_time": "2023-11-19T14:13:39.158Z"
   },
   {
    "duration": 14,
    "start_time": "2023-11-19T14:13:39.171Z"
   },
   {
    "duration": 16,
    "start_time": "2023-11-19T14:13:39.187Z"
   },
   {
    "duration": 7,
    "start_time": "2023-11-19T14:13:39.204Z"
   },
   {
    "duration": 6,
    "start_time": "2023-11-19T14:13:39.213Z"
   },
   {
    "duration": 6,
    "start_time": "2023-11-19T14:13:39.220Z"
   },
   {
    "duration": 265,
    "start_time": "2023-11-19T14:13:39.227Z"
   },
   {
    "duration": 0,
    "start_time": "2023-11-19T14:13:39.495Z"
   },
   {
    "duration": 0,
    "start_time": "2023-11-19T14:13:39.500Z"
   },
   {
    "duration": 0,
    "start_time": "2023-11-19T14:13:39.501Z"
   },
   {
    "duration": 0,
    "start_time": "2023-11-19T14:13:39.502Z"
   },
   {
    "duration": 0,
    "start_time": "2023-11-19T14:13:39.503Z"
   },
   {
    "duration": 0,
    "start_time": "2023-11-19T14:13:39.505Z"
   },
   {
    "duration": 0,
    "start_time": "2023-11-19T14:13:39.506Z"
   },
   {
    "duration": 0,
    "start_time": "2023-11-19T14:13:39.506Z"
   },
   {
    "duration": 0,
    "start_time": "2023-11-19T14:13:39.507Z"
   },
   {
    "duration": 0,
    "start_time": "2023-11-19T14:13:39.508Z"
   },
   {
    "duration": 0,
    "start_time": "2023-11-19T14:13:39.509Z"
   },
   {
    "duration": 0,
    "start_time": "2023-11-19T14:13:39.510Z"
   },
   {
    "duration": 0,
    "start_time": "2023-11-19T14:13:39.511Z"
   },
   {
    "duration": 0,
    "start_time": "2023-11-19T14:13:39.512Z"
   },
   {
    "duration": 0,
    "start_time": "2023-11-19T14:13:39.513Z"
   },
   {
    "duration": 0,
    "start_time": "2023-11-19T14:13:39.514Z"
   },
   {
    "duration": 0,
    "start_time": "2023-11-19T14:13:39.516Z"
   },
   {
    "duration": 0,
    "start_time": "2023-11-19T14:13:39.516Z"
   },
   {
    "duration": 0,
    "start_time": "2023-11-19T14:13:39.517Z"
   },
   {
    "duration": 0,
    "start_time": "2023-11-19T14:13:39.518Z"
   },
   {
    "duration": 0,
    "start_time": "2023-11-19T14:13:39.519Z"
   },
   {
    "duration": 0,
    "start_time": "2023-11-19T14:13:39.520Z"
   },
   {
    "duration": 143,
    "start_time": "2023-11-19T14:14:29.862Z"
   },
   {
    "duration": 1175,
    "start_time": "2023-11-19T14:15:04.811Z"
   },
   {
    "duration": 53,
    "start_time": "2023-11-19T14:15:05.988Z"
   },
   {
    "duration": 48,
    "start_time": "2023-11-19T14:15:06.043Z"
   },
   {
    "duration": 26,
    "start_time": "2023-11-19T14:15:06.093Z"
   },
   {
    "duration": 14,
    "start_time": "2023-11-19T14:15:06.122Z"
   },
   {
    "duration": 18,
    "start_time": "2023-11-19T14:15:06.138Z"
   },
   {
    "duration": 12,
    "start_time": "2023-11-19T14:15:06.158Z"
   },
   {
    "duration": 8,
    "start_time": "2023-11-19T14:15:06.171Z"
   },
   {
    "duration": 6,
    "start_time": "2023-11-19T14:15:06.201Z"
   },
   {
    "duration": 7,
    "start_time": "2023-11-19T14:15:06.209Z"
   },
   {
    "duration": 16,
    "start_time": "2023-11-19T14:15:06.218Z"
   },
   {
    "duration": 20,
    "start_time": "2023-11-19T14:15:06.235Z"
   },
   {
    "duration": 175,
    "start_time": "2023-11-19T14:15:06.257Z"
   },
   {
    "duration": 161,
    "start_time": "2023-11-19T14:15:06.435Z"
   },
   {
    "duration": 207,
    "start_time": "2023-11-19T14:15:06.597Z"
   },
   {
    "duration": 247,
    "start_time": "2023-11-19T14:15:06.806Z"
   },
   {
    "duration": 247,
    "start_time": "2023-11-19T14:15:07.055Z"
   },
   {
    "duration": 24,
    "start_time": "2023-11-19T14:15:07.304Z"
   },
   {
    "duration": 24,
    "start_time": "2023-11-19T14:15:07.330Z"
   },
   {
    "duration": 46,
    "start_time": "2023-11-19T14:15:07.355Z"
   },
   {
    "duration": 23,
    "start_time": "2023-11-19T14:15:07.403Z"
   },
   {
    "duration": 263,
    "start_time": "2023-11-19T14:15:07.428Z"
   },
   {
    "duration": 312,
    "start_time": "2023-11-19T14:15:07.700Z"
   },
   {
    "duration": 234,
    "start_time": "2023-11-19T14:15:08.014Z"
   },
   {
    "duration": 259,
    "start_time": "2023-11-19T14:15:08.249Z"
   },
   {
    "duration": 35,
    "start_time": "2023-11-19T14:15:08.509Z"
   },
   {
    "duration": 16,
    "start_time": "2023-11-19T14:15:08.546Z"
   },
   {
    "duration": 39,
    "start_time": "2023-11-19T14:15:08.563Z"
   },
   {
    "duration": 23,
    "start_time": "2023-11-19T14:15:08.603Z"
   },
   {
    "duration": 4,
    "start_time": "2023-11-19T14:15:08.628Z"
   },
   {
    "duration": 6,
    "start_time": "2023-11-19T14:15:08.633Z"
   },
   {
    "duration": 175,
    "start_time": "2023-11-19T14:15:08.641Z"
   },
   {
    "duration": 6,
    "start_time": "2023-11-19T14:15:08.818Z"
   },
   {
    "duration": 20,
    "start_time": "2023-11-19T14:15:08.826Z"
   },
   {
    "duration": 59,
    "start_time": "2023-11-19T14:15:08.848Z"
   },
   {
    "duration": 130,
    "start_time": "2023-11-19T14:15:59.628Z"
   },
   {
    "duration": 136,
    "start_time": "2023-11-19T14:17:45.793Z"
   },
   {
    "duration": 1126,
    "start_time": "2023-11-19T14:18:40.365Z"
   },
   {
    "duration": 53,
    "start_time": "2023-11-19T14:18:41.493Z"
   },
   {
    "duration": 47,
    "start_time": "2023-11-19T14:18:41.548Z"
   },
   {
    "duration": 27,
    "start_time": "2023-11-19T14:18:41.598Z"
   },
   {
    "duration": 14,
    "start_time": "2023-11-19T14:18:41.627Z"
   },
   {
    "duration": 17,
    "start_time": "2023-11-19T14:18:41.643Z"
   },
   {
    "duration": 12,
    "start_time": "2023-11-19T14:18:41.662Z"
   },
   {
    "duration": 25,
    "start_time": "2023-11-19T14:18:41.675Z"
   },
   {
    "duration": 6,
    "start_time": "2023-11-19T14:18:41.702Z"
   },
   {
    "duration": 13,
    "start_time": "2023-11-19T14:18:41.709Z"
   },
   {
    "duration": 5,
    "start_time": "2023-11-19T14:18:41.724Z"
   },
   {
    "duration": 6,
    "start_time": "2023-11-19T14:18:41.731Z"
   },
   {
    "duration": 174,
    "start_time": "2023-11-19T14:18:41.739Z"
   },
   {
    "duration": 176,
    "start_time": "2023-11-19T14:18:41.917Z"
   },
   {
    "duration": 207,
    "start_time": "2023-11-19T14:18:42.100Z"
   },
   {
    "duration": 249,
    "start_time": "2023-11-19T14:18:42.309Z"
   },
   {
    "duration": 244,
    "start_time": "2023-11-19T14:18:42.560Z"
   },
   {
    "duration": 25,
    "start_time": "2023-11-19T14:18:42.806Z"
   },
   {
    "duration": 25,
    "start_time": "2023-11-19T14:18:42.832Z"
   },
   {
    "duration": 50,
    "start_time": "2023-11-19T14:18:42.859Z"
   },
   {
    "duration": 22,
    "start_time": "2023-11-19T14:18:42.911Z"
   },
   {
    "duration": 292,
    "start_time": "2023-11-19T14:18:42.935Z"
   },
   {
    "duration": 327,
    "start_time": "2023-11-19T14:18:43.229Z"
   },
   {
    "duration": 247,
    "start_time": "2023-11-19T14:18:43.557Z"
   },
   {
    "duration": 278,
    "start_time": "2023-11-19T14:18:43.806Z"
   },
   {
    "duration": 50,
    "start_time": "2023-11-19T14:18:44.086Z"
   },
   {
    "duration": 18,
    "start_time": "2023-11-19T14:18:44.137Z"
   },
   {
    "duration": 18,
    "start_time": "2023-11-19T14:18:44.157Z"
   },
   {
    "duration": 44,
    "start_time": "2023-11-19T14:18:44.177Z"
   },
   {
    "duration": 4,
    "start_time": "2023-11-19T14:18:44.223Z"
   },
   {
    "duration": 5,
    "start_time": "2023-11-19T14:18:44.228Z"
   },
   {
    "duration": 200,
    "start_time": "2023-11-19T14:18:44.234Z"
   },
   {
    "duration": 6,
    "start_time": "2023-11-19T14:18:44.435Z"
   },
   {
    "duration": 6,
    "start_time": "2023-11-19T14:18:44.443Z"
   },
   {
    "duration": 13,
    "start_time": "2023-11-19T14:18:44.450Z"
   },
   {
    "duration": 141,
    "start_time": "2023-11-19T14:27:14.163Z"
   },
   {
    "duration": 217,
    "start_time": "2023-11-19T14:29:18.560Z"
   },
   {
    "duration": 101,
    "start_time": "2023-11-19T14:29:45.644Z"
   },
   {
    "duration": 133,
    "start_time": "2023-11-19T14:33:41.520Z"
   },
   {
    "duration": 121,
    "start_time": "2023-11-19T14:33:59.084Z"
   },
   {
    "duration": 12,
    "start_time": "2023-11-19T14:34:28.083Z"
   },
   {
    "duration": 134,
    "start_time": "2023-11-19T14:34:55.266Z"
   },
   {
    "duration": 9,
    "start_time": "2023-11-19T14:39:14.614Z"
   },
   {
    "duration": 100,
    "start_time": "2023-11-19T14:39:31.471Z"
   },
   {
    "duration": 12,
    "start_time": "2023-11-19T14:41:59.078Z"
   },
   {
    "duration": 17,
    "start_time": "2023-11-19T14:42:10.704Z"
   },
   {
    "duration": 14,
    "start_time": "2023-11-19T14:43:46.315Z"
   },
   {
    "duration": 363,
    "start_time": "2023-11-19T14:44:10.204Z"
   },
   {
    "duration": 78,
    "start_time": "2023-11-19T14:45:44.543Z"
   },
   {
    "duration": 68,
    "start_time": "2023-11-19T14:46:05.068Z"
   },
   {
    "duration": 77,
    "start_time": "2023-11-19T14:47:02.236Z"
   },
   {
    "duration": 80,
    "start_time": "2023-11-19T14:47:06.447Z"
   },
   {
    "duration": 85,
    "start_time": "2023-11-19T14:47:15.463Z"
   },
   {
    "duration": 279,
    "start_time": "2023-11-19T15:16:16.133Z"
   },
   {
    "duration": 261,
    "start_time": "2023-11-19T15:18:01.767Z"
   },
   {
    "duration": 196,
    "start_time": "2023-11-19T15:28:32.975Z"
   },
   {
    "duration": 304,
    "start_time": "2023-11-19T15:29:05.669Z"
   },
   {
    "duration": 234,
    "start_time": "2023-11-19T15:29:11.902Z"
   },
   {
    "duration": 1185,
    "start_time": "2023-11-19T15:29:41.430Z"
   },
   {
    "duration": 51,
    "start_time": "2023-11-19T15:29:42.617Z"
   },
   {
    "duration": 50,
    "start_time": "2023-11-19T15:29:42.669Z"
   },
   {
    "duration": 29,
    "start_time": "2023-11-19T15:29:42.721Z"
   },
   {
    "duration": 15,
    "start_time": "2023-11-19T15:29:42.752Z"
   },
   {
    "duration": 33,
    "start_time": "2023-11-19T15:29:42.769Z"
   },
   {
    "duration": 13,
    "start_time": "2023-11-19T15:29:42.804Z"
   },
   {
    "duration": 8,
    "start_time": "2023-11-19T15:29:42.818Z"
   },
   {
    "duration": 7,
    "start_time": "2023-11-19T15:29:42.828Z"
   },
   {
    "duration": 7,
    "start_time": "2023-11-19T15:29:42.838Z"
   },
   {
    "duration": 6,
    "start_time": "2023-11-19T15:29:42.847Z"
   },
   {
    "duration": 45,
    "start_time": "2023-11-19T15:29:42.855Z"
   },
   {
    "duration": 167,
    "start_time": "2023-11-19T15:29:42.902Z"
   },
   {
    "duration": 105,
    "start_time": "2023-11-19T15:29:43.071Z"
   },
   {
    "duration": 236,
    "start_time": "2023-11-19T15:29:43.178Z"
   },
   {
    "duration": 271,
    "start_time": "2023-11-19T15:29:43.416Z"
   },
   {
    "duration": 262,
    "start_time": "2023-11-19T15:29:43.689Z"
   },
   {
    "duration": 29,
    "start_time": "2023-11-19T15:29:43.953Z"
   },
   {
    "duration": 34,
    "start_time": "2023-11-19T15:29:44.001Z"
   },
   {
    "duration": 32,
    "start_time": "2023-11-19T15:29:44.037Z"
   },
   {
    "duration": 49,
    "start_time": "2023-11-19T15:29:44.071Z"
   },
   {
    "duration": 269,
    "start_time": "2023-11-19T15:29:44.123Z"
   },
   {
    "duration": 355,
    "start_time": "2023-11-19T15:29:44.399Z"
   },
   {
    "duration": 258,
    "start_time": "2023-11-19T15:29:44.756Z"
   },
   {
    "duration": 271,
    "start_time": "2023-11-19T15:29:45.015Z"
   },
   {
    "duration": 44,
    "start_time": "2023-11-19T15:29:45.288Z"
   },
   {
    "duration": 18,
    "start_time": "2023-11-19T15:29:45.334Z"
   },
   {
    "duration": 15,
    "start_time": "2023-11-19T15:29:45.356Z"
   },
   {
    "duration": 47,
    "start_time": "2023-11-19T15:29:45.373Z"
   },
   {
    "duration": 3,
    "start_time": "2023-11-19T15:29:45.422Z"
   },
   {
    "duration": 7,
    "start_time": "2023-11-19T15:29:45.427Z"
   },
   {
    "duration": 184,
    "start_time": "2023-11-19T15:29:45.436Z"
   },
   {
    "duration": 6,
    "start_time": "2023-11-19T15:29:45.622Z"
   },
   {
    "duration": 11,
    "start_time": "2023-11-19T15:29:45.629Z"
   },
   {
    "duration": 28,
    "start_time": "2023-11-19T15:29:45.641Z"
   },
   {
    "duration": 350,
    "start_time": "2023-11-19T15:36:30.584Z"
   },
   {
    "duration": 340,
    "start_time": "2023-11-19T15:38:33.281Z"
   },
   {
    "duration": 437,
    "start_time": "2023-11-19T15:38:53.318Z"
   },
   {
    "duration": 416,
    "start_time": "2023-11-19T15:40:08.336Z"
   },
   {
    "duration": 4,
    "start_time": "2023-11-19T15:41:22.165Z"
   },
   {
    "duration": 1199,
    "start_time": "2023-11-19T15:42:39.657Z"
   },
   {
    "duration": 48,
    "start_time": "2023-11-19T15:42:40.858Z"
   },
   {
    "duration": 49,
    "start_time": "2023-11-19T15:42:40.908Z"
   },
   {
    "duration": 27,
    "start_time": "2023-11-19T15:42:40.959Z"
   },
   {
    "duration": 16,
    "start_time": "2023-11-19T15:42:40.989Z"
   },
   {
    "duration": 20,
    "start_time": "2023-11-19T15:42:41.007Z"
   },
   {
    "duration": 13,
    "start_time": "2023-11-19T15:42:41.029Z"
   },
   {
    "duration": 8,
    "start_time": "2023-11-19T15:42:41.044Z"
   },
   {
    "duration": 10,
    "start_time": "2023-11-19T15:42:41.054Z"
   },
   {
    "duration": 37,
    "start_time": "2023-11-19T15:42:41.067Z"
   },
   {
    "duration": 7,
    "start_time": "2023-11-19T15:42:41.105Z"
   },
   {
    "duration": 8,
    "start_time": "2023-11-19T15:42:41.115Z"
   },
   {
    "duration": 205,
    "start_time": "2023-11-19T15:42:41.124Z"
   },
   {
    "duration": 102,
    "start_time": "2023-11-19T15:42:41.331Z"
   },
   {
    "duration": 224,
    "start_time": "2023-11-19T15:42:41.434Z"
   },
   {
    "duration": 273,
    "start_time": "2023-11-19T15:42:41.660Z"
   },
   {
    "duration": 247,
    "start_time": "2023-11-19T15:42:41.934Z"
   },
   {
    "duration": 31,
    "start_time": "2023-11-19T15:42:42.182Z"
   },
   {
    "duration": 25,
    "start_time": "2023-11-19T15:42:42.215Z"
   },
   {
    "duration": 26,
    "start_time": "2023-11-19T15:42:42.241Z"
   },
   {
    "duration": 46,
    "start_time": "2023-11-19T15:42:42.268Z"
   },
   {
    "duration": 499,
    "start_time": "2023-11-19T15:42:42.316Z"
   },
   {
    "duration": 247,
    "start_time": "2023-11-19T15:42:42.816Z"
   },
   {
    "duration": 258,
    "start_time": "2023-11-19T15:42:43.065Z"
   },
   {
    "duration": 3,
    "start_time": "2023-11-19T15:42:43.325Z"
   },
   {
    "duration": 42,
    "start_time": "2023-11-19T15:42:43.330Z"
   },
   {
    "duration": 30,
    "start_time": "2023-11-19T15:42:43.374Z"
   },
   {
    "duration": 14,
    "start_time": "2023-11-19T15:42:43.407Z"
   },
   {
    "duration": 27,
    "start_time": "2023-11-19T15:42:43.423Z"
   },
   {
    "duration": 4,
    "start_time": "2023-11-19T15:42:43.452Z"
   },
   {
    "duration": 186,
    "start_time": "2023-11-19T15:42:43.457Z"
   },
   {
    "duration": 5,
    "start_time": "2023-11-19T15:42:43.645Z"
   },
   {
    "duration": 11,
    "start_time": "2023-11-19T15:42:43.652Z"
   },
   {
    "duration": 17,
    "start_time": "2023-11-19T15:42:43.665Z"
   },
   {
    "duration": 9,
    "start_time": "2023-11-19T15:50:35.988Z"
   },
   {
    "duration": 8,
    "start_time": "2023-11-19T15:50:52.701Z"
   },
   {
    "duration": 7,
    "start_time": "2023-11-19T15:50:56.726Z"
   },
   {
    "duration": 6,
    "start_time": "2023-11-19T15:53:26.531Z"
   },
   {
    "duration": 20,
    "start_time": "2023-11-19T15:56:25.773Z"
   },
   {
    "duration": 1147,
    "start_time": "2023-11-19T16:03:49.445Z"
   },
   {
    "duration": 48,
    "start_time": "2023-11-19T16:03:50.594Z"
   },
   {
    "duration": 49,
    "start_time": "2023-11-19T16:03:50.644Z"
   },
   {
    "duration": 27,
    "start_time": "2023-11-19T16:03:50.695Z"
   },
   {
    "duration": 14,
    "start_time": "2023-11-19T16:03:50.724Z"
   },
   {
    "duration": 18,
    "start_time": "2023-11-19T16:03:50.740Z"
   },
   {
    "duration": 11,
    "start_time": "2023-11-19T16:03:50.760Z"
   },
   {
    "duration": 26,
    "start_time": "2023-11-19T16:03:50.773Z"
   },
   {
    "duration": 7,
    "start_time": "2023-11-19T16:03:50.802Z"
   },
   {
    "duration": 6,
    "start_time": "2023-11-19T16:03:50.812Z"
   },
   {
    "duration": 6,
    "start_time": "2023-11-19T16:03:50.820Z"
   },
   {
    "duration": 7,
    "start_time": "2023-11-19T16:03:50.827Z"
   },
   {
    "duration": 188,
    "start_time": "2023-11-19T16:03:50.835Z"
   },
   {
    "duration": 98,
    "start_time": "2023-11-19T16:03:51.025Z"
   },
   {
    "duration": 227,
    "start_time": "2023-11-19T16:03:51.125Z"
   },
   {
    "duration": 258,
    "start_time": "2023-11-19T16:03:51.354Z"
   },
   {
    "duration": 242,
    "start_time": "2023-11-19T16:03:51.614Z"
   },
   {
    "duration": 42,
    "start_time": "2023-11-19T16:03:51.858Z"
   },
   {
    "duration": 27,
    "start_time": "2023-11-19T16:03:51.902Z"
   },
   {
    "duration": 27,
    "start_time": "2023-11-19T16:03:51.931Z"
   },
   {
    "duration": 48,
    "start_time": "2023-11-19T16:03:51.960Z"
   },
   {
    "duration": 543,
    "start_time": "2023-11-19T16:03:52.010Z"
   },
   {
    "duration": 237,
    "start_time": "2023-11-19T16:03:52.554Z"
   },
   {
    "duration": 333,
    "start_time": "2023-11-19T16:03:52.793Z"
   },
   {
    "duration": 4,
    "start_time": "2023-11-19T16:03:53.128Z"
   },
   {
    "duration": 56,
    "start_time": "2023-11-19T16:03:53.133Z"
   },
   {
    "duration": 19,
    "start_time": "2023-11-19T16:03:53.191Z"
   },
   {
    "duration": 15,
    "start_time": "2023-11-19T16:03:53.213Z"
   },
   {
    "duration": 24,
    "start_time": "2023-11-19T16:03:53.229Z"
   },
   {
    "duration": 4,
    "start_time": "2023-11-19T16:03:53.254Z"
   },
   {
    "duration": 183,
    "start_time": "2023-11-19T16:03:53.260Z"
   },
   {
    "duration": 8,
    "start_time": "2023-11-19T16:03:53.445Z"
   },
   {
    "duration": 6,
    "start_time": "2023-11-19T16:03:53.455Z"
   },
   {
    "duration": 50,
    "start_time": "2023-11-19T16:03:53.462Z"
   },
   {
    "duration": 1224,
    "start_time": "2023-11-20T00:39:11.349Z"
   },
   {
    "duration": 102,
    "start_time": "2023-11-20T00:39:12.575Z"
   },
   {
    "duration": 84,
    "start_time": "2023-11-20T00:39:12.679Z"
   },
   {
    "duration": 67,
    "start_time": "2023-11-20T00:39:12.765Z"
   },
   {
    "duration": 13,
    "start_time": "2023-11-20T00:39:12.833Z"
   },
   {
    "duration": 16,
    "start_time": "2023-11-20T00:39:12.848Z"
   },
   {
    "duration": 10,
    "start_time": "2023-11-20T00:39:12.865Z"
   },
   {
    "duration": 7,
    "start_time": "2023-11-20T00:39:12.877Z"
   },
   {
    "duration": 31,
    "start_time": "2023-11-20T00:39:12.885Z"
   },
   {
    "duration": 6,
    "start_time": "2023-11-20T00:39:12.918Z"
   },
   {
    "duration": 6,
    "start_time": "2023-11-20T00:39:12.925Z"
   },
   {
    "duration": 4,
    "start_time": "2023-11-20T00:39:12.933Z"
   },
   {
    "duration": 164,
    "start_time": "2023-11-20T00:39:12.939Z"
   },
   {
    "duration": 87,
    "start_time": "2023-11-20T00:39:13.104Z"
   },
   {
    "duration": 202,
    "start_time": "2023-11-20T00:39:13.194Z"
   },
   {
    "duration": 236,
    "start_time": "2023-11-20T00:39:13.398Z"
   },
   {
    "duration": 238,
    "start_time": "2023-11-20T00:39:13.635Z"
   },
   {
    "duration": 24,
    "start_time": "2023-11-20T00:39:13.875Z"
   },
   {
    "duration": 23,
    "start_time": "2023-11-20T00:39:13.914Z"
   },
   {
    "duration": 22,
    "start_time": "2023-11-20T00:39:13.939Z"
   },
   {
    "duration": 19,
    "start_time": "2023-11-20T00:39:13.963Z"
   },
   {
    "duration": 467,
    "start_time": "2023-11-20T00:39:13.983Z"
   },
   {
    "duration": 216,
    "start_time": "2023-11-20T00:39:14.451Z"
   },
   {
    "duration": 234,
    "start_time": "2023-11-20T00:39:14.669Z"
   },
   {
    "duration": 10,
    "start_time": "2023-11-20T00:39:14.905Z"
   },
   {
    "duration": 44,
    "start_time": "2023-11-20T00:39:14.917Z"
   },
   {
    "duration": 15,
    "start_time": "2023-11-20T00:39:14.963Z"
   },
   {
    "duration": 13,
    "start_time": "2023-11-20T00:39:14.980Z"
   },
   {
    "duration": 34,
    "start_time": "2023-11-20T00:39:14.995Z"
   },
   {
    "duration": 15,
    "start_time": "2023-11-20T00:39:15.030Z"
   },
   {
    "duration": 156,
    "start_time": "2023-11-20T00:39:15.047Z"
   },
   {
    "duration": 10,
    "start_time": "2023-11-20T00:39:15.204Z"
   },
   {
    "duration": 5,
    "start_time": "2023-11-20T00:39:15.216Z"
   },
   {
    "duration": 26,
    "start_time": "2023-11-20T00:39:15.222Z"
   },
   {
    "duration": 193,
    "start_time": "2023-11-20T00:45:52.637Z"
   },
   {
    "duration": 7,
    "start_time": "2023-11-20T00:46:06.888Z"
   },
   {
    "duration": 5,
    "start_time": "2023-11-20T00:46:18.809Z"
   },
   {
    "duration": 131,
    "start_time": "2023-11-20T00:47:02.858Z"
   },
   {
    "duration": 134,
    "start_time": "2023-11-20T00:47:23.735Z"
   },
   {
    "duration": 126,
    "start_time": "2023-11-20T00:47:43.445Z"
   },
   {
    "duration": 126,
    "start_time": "2023-11-20T00:47:55.986Z"
   },
   {
    "duration": 77,
    "start_time": "2023-11-20T00:51:27.804Z"
   },
   {
    "duration": 1010,
    "start_time": "2023-11-20T00:58:18.758Z"
   },
   {
    "duration": 45,
    "start_time": "2023-11-20T00:58:19.769Z"
   },
   {
    "duration": 53,
    "start_time": "2023-11-20T00:58:19.816Z"
   },
   {
    "duration": 24,
    "start_time": "2023-11-20T00:58:19.871Z"
   },
   {
    "duration": 14,
    "start_time": "2023-11-20T00:58:19.897Z"
   },
   {
    "duration": 16,
    "start_time": "2023-11-20T00:58:19.913Z"
   },
   {
    "duration": 11,
    "start_time": "2023-11-20T00:58:19.931Z"
   },
   {
    "duration": 7,
    "start_time": "2023-11-20T00:58:19.943Z"
   },
   {
    "duration": 6,
    "start_time": "2023-11-20T00:58:19.951Z"
   },
   {
    "duration": 6,
    "start_time": "2023-11-20T00:58:19.959Z"
   },
   {
    "duration": 5,
    "start_time": "2023-11-20T00:58:19.966Z"
   },
   {
    "duration": 44,
    "start_time": "2023-11-20T00:58:19.973Z"
   },
   {
    "duration": 152,
    "start_time": "2023-11-20T00:58:20.019Z"
   },
   {
    "duration": 150,
    "start_time": "2023-11-20T00:58:20.172Z"
   },
   {
    "duration": 91,
    "start_time": "2023-11-20T00:58:20.324Z"
   },
   {
    "duration": 80,
    "start_time": "2023-11-20T00:58:20.416Z"
   },
   {
    "duration": 218,
    "start_time": "2023-11-20T00:58:20.497Z"
   },
   {
    "duration": 236,
    "start_time": "2023-11-20T00:58:20.717Z"
   },
   {
    "duration": 228,
    "start_time": "2023-11-20T00:58:20.954Z"
   },
   {
    "duration": 36,
    "start_time": "2023-11-20T00:58:21.183Z"
   },
   {
    "duration": 24,
    "start_time": "2023-11-20T00:58:21.221Z"
   },
   {
    "duration": 100,
    "start_time": "2023-11-20T00:58:21.247Z"
   },
   {
    "duration": 18,
    "start_time": "2023-11-20T00:58:21.349Z"
   },
   {
    "duration": 403,
    "start_time": "2023-11-20T00:58:21.369Z"
   },
   {
    "duration": 227,
    "start_time": "2023-11-20T00:58:21.774Z"
   },
   {
    "duration": 228,
    "start_time": "2023-11-20T00:58:22.002Z"
   },
   {
    "duration": 3,
    "start_time": "2023-11-20T00:58:22.232Z"
   },
   {
    "duration": 30,
    "start_time": "2023-11-20T00:58:22.238Z"
   },
   {
    "duration": 15,
    "start_time": "2023-11-20T00:58:22.269Z"
   },
   {
    "duration": 38,
    "start_time": "2023-11-20T00:58:22.285Z"
   },
   {
    "duration": 20,
    "start_time": "2023-11-20T00:58:22.325Z"
   },
   {
    "duration": 3,
    "start_time": "2023-11-20T00:58:22.347Z"
   },
   {
    "duration": 166,
    "start_time": "2023-11-20T00:58:22.352Z"
   },
   {
    "duration": 7,
    "start_time": "2023-11-20T00:58:22.519Z"
   },
   {
    "duration": 5,
    "start_time": "2023-11-20T00:58:22.527Z"
   },
   {
    "duration": 17,
    "start_time": "2023-11-20T00:58:22.533Z"
   },
   {
    "duration": 50,
    "start_time": "2023-11-20T04:45:05.460Z"
   },
   {
    "duration": 1372,
    "start_time": "2023-11-20T04:45:12.167Z"
   },
   {
    "duration": 96,
    "start_time": "2023-11-20T04:45:13.541Z"
   },
   {
    "duration": 88,
    "start_time": "2023-11-20T04:45:13.639Z"
   },
   {
    "duration": 68,
    "start_time": "2023-11-20T04:45:13.728Z"
   },
   {
    "duration": 13,
    "start_time": "2023-11-20T04:45:13.798Z"
   },
   {
    "duration": 17,
    "start_time": "2023-11-20T04:45:13.812Z"
   },
   {
    "duration": 10,
    "start_time": "2023-11-20T04:45:13.830Z"
   },
   {
    "duration": 6,
    "start_time": "2023-11-20T04:45:13.842Z"
   },
   {
    "duration": 19,
    "start_time": "2023-11-20T04:45:13.850Z"
   },
   {
    "duration": 5,
    "start_time": "2023-11-20T04:45:13.871Z"
   },
   {
    "duration": 8,
    "start_time": "2023-11-20T04:45:13.877Z"
   },
   {
    "duration": 5,
    "start_time": "2023-11-20T04:45:13.886Z"
   },
   {
    "duration": 163,
    "start_time": "2023-11-20T04:45:13.893Z"
   },
   {
    "duration": 158,
    "start_time": "2023-11-20T04:45:14.059Z"
   },
   {
    "duration": 90,
    "start_time": "2023-11-20T04:45:14.218Z"
   },
   {
    "duration": 88,
    "start_time": "2023-11-20T04:45:14.309Z"
   },
   {
    "duration": 200,
    "start_time": "2023-11-20T04:45:14.399Z"
   },
   {
    "duration": 235,
    "start_time": "2023-11-20T04:45:14.600Z"
   },
   {
    "duration": 236,
    "start_time": "2023-11-20T04:45:14.837Z"
   },
   {
    "duration": 8,
    "start_time": "2023-11-20T04:45:15.074Z"
   },
   {
    "duration": 29,
    "start_time": "2023-11-20T04:45:15.083Z"
   },
   {
    "duration": 24,
    "start_time": "2023-11-20T04:45:15.113Z"
   },
   {
    "duration": 119,
    "start_time": "2023-11-20T04:45:15.139Z"
   },
   {
    "duration": 20,
    "start_time": "2023-11-20T04:45:15.266Z"
   },
   {
    "duration": 400,
    "start_time": "2023-11-20T04:45:15.288Z"
   },
   {
    "duration": 243,
    "start_time": "2023-11-20T04:45:15.689Z"
   },
   {
    "duration": 233,
    "start_time": "2023-11-20T04:45:15.933Z"
   },
   {
    "duration": 3,
    "start_time": "2023-11-20T04:45:16.167Z"
   },
   {
    "duration": 41,
    "start_time": "2023-11-20T04:45:16.172Z"
   },
   {
    "duration": 16,
    "start_time": "2023-11-20T04:45:16.215Z"
   },
   {
    "duration": 34,
    "start_time": "2023-11-20T04:45:16.232Z"
   },
   {
    "duration": 21,
    "start_time": "2023-11-20T04:45:16.268Z"
   },
   {
    "duration": 3,
    "start_time": "2023-11-20T04:45:16.291Z"
   },
   {
    "duration": 162,
    "start_time": "2023-11-20T04:45:16.296Z"
   },
   {
    "duration": 8,
    "start_time": "2023-11-20T04:45:16.460Z"
   },
   {
    "duration": 5,
    "start_time": "2023-11-20T04:45:16.470Z"
   },
   {
    "duration": 25,
    "start_time": "2023-11-20T04:45:16.476Z"
   },
   {
    "duration": 96,
    "start_time": "2023-11-20T04:45:52.697Z"
   },
   {
    "duration": 7,
    "start_time": "2023-11-20T04:45:56.102Z"
   },
   {
    "duration": 7,
    "start_time": "2023-11-20T04:46:05.665Z"
   },
   {
    "duration": 7,
    "start_time": "2023-11-20T04:46:14.627Z"
   },
   {
    "duration": 8,
    "start_time": "2023-11-20T04:46:29.584Z"
   },
   {
    "duration": 1127,
    "start_time": "2023-11-20T05:40:51.114Z"
   },
   {
    "duration": 46,
    "start_time": "2023-11-20T05:40:52.243Z"
   },
   {
    "duration": 46,
    "start_time": "2023-11-20T05:40:52.290Z"
   },
   {
    "duration": 26,
    "start_time": "2023-11-20T05:40:52.338Z"
   },
   {
    "duration": 13,
    "start_time": "2023-11-20T05:40:52.366Z"
   },
   {
    "duration": 25,
    "start_time": "2023-11-20T05:40:52.381Z"
   },
   {
    "duration": 12,
    "start_time": "2023-11-20T05:40:52.408Z"
   },
   {
    "duration": 7,
    "start_time": "2023-11-20T05:40:52.421Z"
   },
   {
    "duration": 39,
    "start_time": "2023-11-20T05:40:52.430Z"
   },
   {
    "duration": 6,
    "start_time": "2023-11-20T05:40:52.472Z"
   },
   {
    "duration": 5,
    "start_time": "2023-11-20T05:40:52.480Z"
   },
   {
    "duration": 5,
    "start_time": "2023-11-20T05:40:52.486Z"
   },
   {
    "duration": 163,
    "start_time": "2023-11-20T05:40:52.492Z"
   },
   {
    "duration": 151,
    "start_time": "2023-11-20T05:40:52.656Z"
   },
   {
    "duration": 89,
    "start_time": "2023-11-20T05:40:52.809Z"
   },
   {
    "duration": 87,
    "start_time": "2023-11-20T05:40:52.900Z"
   },
   {
    "duration": 207,
    "start_time": "2023-11-20T05:40:52.989Z"
   },
   {
    "duration": 240,
    "start_time": "2023-11-20T05:40:53.197Z"
   },
   {
    "duration": 233,
    "start_time": "2023-11-20T05:40:53.439Z"
   },
   {
    "duration": 295,
    "start_time": "2023-11-20T05:40:53.674Z"
   },
   {
    "duration": 25,
    "start_time": "2023-11-20T05:40:53.971Z"
   },
   {
    "duration": 25,
    "start_time": "2023-11-20T05:40:53.998Z"
   },
   {
    "duration": 55,
    "start_time": "2023-11-20T05:40:54.025Z"
   },
   {
    "duration": 22,
    "start_time": "2023-11-20T05:40:54.082Z"
   },
   {
    "duration": 408,
    "start_time": "2023-11-20T05:40:54.106Z"
   },
   {
    "duration": 229,
    "start_time": "2023-11-20T05:40:54.516Z"
   },
   {
    "duration": 237,
    "start_time": "2023-11-20T05:40:54.747Z"
   },
   {
    "duration": 3,
    "start_time": "2023-11-20T05:40:54.988Z"
   },
   {
    "duration": 34,
    "start_time": "2023-11-20T05:40:54.993Z"
   },
   {
    "duration": 38,
    "start_time": "2023-11-20T05:40:55.029Z"
   },
   {
    "duration": 14,
    "start_time": "2023-11-20T05:40:55.069Z"
   },
   {
    "duration": 21,
    "start_time": "2023-11-20T05:40:55.084Z"
   },
   {
    "duration": 3,
    "start_time": "2023-11-20T05:40:55.107Z"
   },
   {
    "duration": 183,
    "start_time": "2023-11-20T05:40:55.112Z"
   },
   {
    "duration": 8,
    "start_time": "2023-11-20T05:40:55.296Z"
   },
   {
    "duration": 15,
    "start_time": "2023-11-20T05:40:55.305Z"
   },
   {
    "duration": 23,
    "start_time": "2023-11-20T05:40:55.323Z"
   },
   {
    "duration": 479,
    "start_time": "2023-11-20T05:47:05.822Z"
   },
   {
    "duration": 4,
    "start_time": "2023-11-20T05:48:42.504Z"
   },
   {
    "duration": 1205,
    "start_time": "2023-11-20T05:50:10.236Z"
   },
   {
    "duration": 46,
    "start_time": "2023-11-20T05:50:11.444Z"
   },
   {
    "duration": 46,
    "start_time": "2023-11-20T05:50:11.492Z"
   },
   {
    "duration": 27,
    "start_time": "2023-11-20T05:50:11.540Z"
   },
   {
    "duration": 14,
    "start_time": "2023-11-20T05:50:11.568Z"
   },
   {
    "duration": 19,
    "start_time": "2023-11-20T05:50:11.584Z"
   },
   {
    "duration": 12,
    "start_time": "2023-11-20T05:50:11.604Z"
   },
   {
    "duration": 8,
    "start_time": "2023-11-20T05:50:11.618Z"
   },
   {
    "duration": 38,
    "start_time": "2023-11-20T05:50:11.627Z"
   },
   {
    "duration": 22,
    "start_time": "2023-11-20T05:50:11.668Z"
   },
   {
    "duration": 22,
    "start_time": "2023-11-20T05:50:11.692Z"
   },
   {
    "duration": 8,
    "start_time": "2023-11-20T05:50:11.716Z"
   },
   {
    "duration": 154,
    "start_time": "2023-11-20T05:50:11.726Z"
   },
   {
    "duration": 155,
    "start_time": "2023-11-20T05:50:11.881Z"
   },
   {
    "duration": 88,
    "start_time": "2023-11-20T05:50:12.038Z"
   },
   {
    "duration": 96,
    "start_time": "2023-11-20T05:50:12.128Z"
   },
   {
    "duration": 209,
    "start_time": "2023-11-20T05:50:12.226Z"
   },
   {
    "duration": 247,
    "start_time": "2023-11-20T05:50:12.437Z"
   },
   {
    "duration": 258,
    "start_time": "2023-11-20T05:50:12.685Z"
   },
   {
    "duration": 296,
    "start_time": "2023-11-20T05:50:12.945Z"
   },
   {
    "duration": 35,
    "start_time": "2023-11-20T05:50:13.243Z"
   },
   {
    "duration": 26,
    "start_time": "2023-11-20T05:50:13.279Z"
   },
   {
    "duration": 3,
    "start_time": "2023-11-20T05:50:13.307Z"
   },
   {
    "duration": 39,
    "start_time": "2023-11-20T05:50:13.312Z"
   },
   {
    "duration": 30,
    "start_time": "2023-11-20T05:50:13.352Z"
   },
   {
    "duration": 408,
    "start_time": "2023-11-20T05:50:13.384Z"
   },
   {
    "duration": 395,
    "start_time": "2023-11-20T05:50:13.794Z"
   },
   {
    "duration": 33,
    "start_time": "2023-11-20T05:50:14.193Z"
   },
   {
    "duration": 17,
    "start_time": "2023-11-20T05:50:14.227Z"
   },
   {
    "duration": 14,
    "start_time": "2023-11-20T05:50:14.266Z"
   },
   {
    "duration": 22,
    "start_time": "2023-11-20T05:50:14.281Z"
   },
   {
    "duration": 3,
    "start_time": "2023-11-20T05:50:14.305Z"
   },
   {
    "duration": 180,
    "start_time": "2023-11-20T05:50:14.310Z"
   },
   {
    "duration": 7,
    "start_time": "2023-11-20T05:50:14.491Z"
   },
   {
    "duration": 24,
    "start_time": "2023-11-20T05:50:14.500Z"
   },
   {
    "duration": 22,
    "start_time": "2023-11-20T05:50:14.525Z"
   },
   {
    "duration": 1047,
    "start_time": "2023-11-20T07:20:07.849Z"
   },
   {
    "duration": 103,
    "start_time": "2023-11-20T07:20:08.898Z"
   },
   {
    "duration": 169,
    "start_time": "2023-11-20T07:20:09.002Z"
   },
   {
    "duration": 66,
    "start_time": "2023-11-20T07:20:09.173Z"
   },
   {
    "duration": 13,
    "start_time": "2023-11-20T07:20:09.240Z"
   },
   {
    "duration": 44,
    "start_time": "2023-11-20T07:20:09.254Z"
   },
   {
    "duration": 36,
    "start_time": "2023-11-20T07:20:09.300Z"
   },
   {
    "duration": 27,
    "start_time": "2023-11-20T07:20:09.337Z"
   },
   {
    "duration": 26,
    "start_time": "2023-11-20T07:20:09.365Z"
   },
   {
    "duration": 23,
    "start_time": "2023-11-20T07:20:09.393Z"
   },
   {
    "duration": 36,
    "start_time": "2023-11-20T07:20:09.417Z"
   },
   {
    "duration": 26,
    "start_time": "2023-11-20T07:20:09.454Z"
   },
   {
    "duration": 131,
    "start_time": "2023-11-20T07:20:09.482Z"
   },
   {
    "duration": 134,
    "start_time": "2023-11-20T07:20:09.614Z"
   },
   {
    "duration": 75,
    "start_time": "2023-11-20T07:20:09.749Z"
   },
   {
    "duration": 86,
    "start_time": "2023-11-20T07:20:09.837Z"
   },
   {
    "duration": 194,
    "start_time": "2023-11-20T07:20:09.937Z"
   },
   {
    "duration": 226,
    "start_time": "2023-11-20T07:20:10.138Z"
   },
   {
    "duration": 243,
    "start_time": "2023-11-20T07:20:10.365Z"
   },
   {
    "duration": 279,
    "start_time": "2023-11-20T07:20:10.609Z"
   },
   {
    "duration": 20,
    "start_time": "2023-11-20T07:20:10.890Z"
   },
   {
    "duration": 35,
    "start_time": "2023-11-20T07:20:10.912Z"
   },
   {
    "duration": 3,
    "start_time": "2023-11-20T07:20:10.949Z"
   },
   {
    "duration": 37,
    "start_time": "2023-11-20T07:20:10.953Z"
   },
   {
    "duration": 18,
    "start_time": "2023-11-20T07:20:10.992Z"
   },
   {
    "duration": 379,
    "start_time": "2023-11-20T07:20:11.011Z"
   },
   {
    "duration": 384,
    "start_time": "2023-11-20T07:20:11.392Z"
   },
   {
    "duration": 29,
    "start_time": "2023-11-20T07:20:11.779Z"
   },
   {
    "duration": 28,
    "start_time": "2023-11-20T07:20:11.810Z"
   },
   {
    "duration": 17,
    "start_time": "2023-11-20T07:20:11.840Z"
   },
   {
    "duration": 39,
    "start_time": "2023-11-20T07:20:11.858Z"
   },
   {
    "duration": 15,
    "start_time": "2023-11-20T07:20:11.899Z"
   },
   {
    "duration": 168,
    "start_time": "2023-11-20T07:20:11.915Z"
   },
   {
    "duration": 7,
    "start_time": "2023-11-20T07:20:12.084Z"
   },
   {
    "duration": 30,
    "start_time": "2023-11-20T07:20:12.092Z"
   },
   {
    "duration": 30,
    "start_time": "2023-11-20T07:20:12.123Z"
   },
   {
    "duration": 1381,
    "start_time": "2024-04-16T16:31:10.554Z"
   },
   {
    "duration": 125,
    "start_time": "2024-04-16T16:31:11.938Z"
   },
   {
    "duration": 160,
    "start_time": "2024-04-16T16:31:12.065Z"
   },
   {
    "duration": 83,
    "start_time": "2024-04-16T16:31:12.227Z"
   },
   {
    "duration": 13,
    "start_time": "2024-04-16T16:31:12.312Z"
   },
   {
    "duration": 19,
    "start_time": "2024-04-16T16:31:12.327Z"
   },
   {
    "duration": 12,
    "start_time": "2024-04-16T16:31:12.348Z"
   },
   {
    "duration": 7,
    "start_time": "2024-04-16T16:31:12.362Z"
   },
   {
    "duration": 44,
    "start_time": "2024-04-16T16:31:12.370Z"
   },
   {
    "duration": 19,
    "start_time": "2024-04-16T16:31:12.416Z"
   },
   {
    "duration": 35,
    "start_time": "2024-04-16T16:31:12.436Z"
   },
   {
    "duration": 61,
    "start_time": "2024-04-16T16:31:12.472Z"
   },
   {
    "duration": 168,
    "start_time": "2024-04-16T16:31:12.535Z"
   },
   {
    "duration": 155,
    "start_time": "2024-04-16T16:31:12.705Z"
   },
   {
    "duration": 81,
    "start_time": "2024-04-16T16:31:12.861Z"
   },
   {
    "duration": 82,
    "start_time": "2024-04-16T16:31:12.956Z"
   },
   {
    "duration": 228,
    "start_time": "2024-04-16T16:31:13.040Z"
   },
   {
    "duration": 251,
    "start_time": "2024-04-16T16:31:13.269Z"
   },
   {
    "duration": 262,
    "start_time": "2024-04-16T16:31:13.522Z"
   },
   {
    "duration": 373,
    "start_time": "2024-04-16T16:31:13.785Z"
   },
   {
    "duration": 22,
    "start_time": "2024-04-16T16:31:14.160Z"
   },
   {
    "duration": 23,
    "start_time": "2024-04-16T16:31:14.184Z"
   },
   {
    "duration": 4,
    "start_time": "2024-04-16T16:31:14.255Z"
   },
   {
    "duration": 40,
    "start_time": "2024-04-16T16:31:14.260Z"
   },
   {
    "duration": 23,
    "start_time": "2024-04-16T16:31:14.301Z"
   },
   {
    "duration": 520,
    "start_time": "2024-04-16T16:31:14.326Z"
   },
   {
    "duration": 426,
    "start_time": "2024-04-16T16:31:14.848Z"
   },
   {
    "duration": 34,
    "start_time": "2024-04-16T16:31:15.276Z"
   },
   {
    "duration": 36,
    "start_time": "2024-04-16T16:31:15.312Z"
   },
   {
    "duration": 28,
    "start_time": "2024-04-16T16:31:15.350Z"
   },
   {
    "duration": 53,
    "start_time": "2024-04-16T16:31:15.380Z"
   },
   {
    "duration": 12,
    "start_time": "2024-04-16T16:31:15.435Z"
   },
   {
    "duration": 170,
    "start_time": "2024-04-16T16:31:15.449Z"
   },
   {
    "duration": 7,
    "start_time": "2024-04-16T16:31:15.621Z"
   },
   {
    "duration": 28,
    "start_time": "2024-04-16T16:31:15.630Z"
   },
   {
    "duration": 27,
    "start_time": "2024-04-16T16:31:15.660Z"
   },
   {
    "duration": 150,
    "start_time": "2024-04-16T16:34:19.163Z"
   },
   {
    "duration": 90,
    "start_time": "2024-04-16T16:35:00.939Z"
   },
   {
    "duration": 1174,
    "start_time": "2024-04-16T16:39:40.759Z"
   },
   {
    "duration": 49,
    "start_time": "2024-04-16T16:39:41.935Z"
   },
   {
    "duration": 47,
    "start_time": "2024-04-16T16:39:41.986Z"
   },
   {
    "duration": 26,
    "start_time": "2024-04-16T16:39:42.035Z"
   },
   {
    "duration": 13,
    "start_time": "2024-04-16T16:39:42.063Z"
   },
   {
    "duration": 17,
    "start_time": "2024-04-16T16:39:42.078Z"
   },
   {
    "duration": 21,
    "start_time": "2024-04-16T16:39:42.096Z"
   },
   {
    "duration": 9,
    "start_time": "2024-04-16T16:39:42.118Z"
   },
   {
    "duration": 15,
    "start_time": "2024-04-16T16:39:42.128Z"
   },
   {
    "duration": 11,
    "start_time": "2024-04-16T16:39:42.157Z"
   },
   {
    "duration": 25,
    "start_time": "2024-04-16T16:39:42.169Z"
   },
   {
    "duration": 28,
    "start_time": "2024-04-16T16:39:42.195Z"
   },
   {
    "duration": 174,
    "start_time": "2024-04-16T16:39:42.225Z"
   },
   {
    "duration": 91,
    "start_time": "2024-04-16T16:39:42.401Z"
   },
   {
    "duration": 266,
    "start_time": "2024-04-16T16:39:42.494Z"
   },
   {
    "duration": 251,
    "start_time": "2024-04-16T16:39:42.761Z"
   },
   {
    "duration": 257,
    "start_time": "2024-04-16T16:39:43.014Z"
   },
   {
    "duration": 230,
    "start_time": "2024-04-16T16:39:43.272Z"
   },
   {
    "duration": 24,
    "start_time": "2024-04-16T16:39:43.504Z"
   },
   {
    "duration": 40,
    "start_time": "2024-04-16T16:39:43.529Z"
   },
   {
    "duration": 3,
    "start_time": "2024-04-16T16:39:43.571Z"
   },
   {
    "duration": 109,
    "start_time": "2024-04-16T16:39:43.576Z"
   },
   {
    "duration": 20,
    "start_time": "2024-04-16T16:39:43.687Z"
   },
   {
    "duration": 480,
    "start_time": "2024-04-16T16:39:43.709Z"
   },
   {
    "duration": 433,
    "start_time": "2024-04-16T16:39:44.191Z"
   },
   {
    "duration": 46,
    "start_time": "2024-04-16T16:39:44.625Z"
   },
   {
    "duration": 16,
    "start_time": "2024-04-16T16:39:44.673Z"
   },
   {
    "duration": 14,
    "start_time": "2024-04-16T16:39:44.692Z"
   },
   {
    "duration": 21,
    "start_time": "2024-04-16T16:39:44.708Z"
   },
   {
    "duration": 25,
    "start_time": "2024-04-16T16:39:44.731Z"
   },
   {
    "duration": 157,
    "start_time": "2024-04-16T16:39:44.758Z"
   },
   {
    "duration": 7,
    "start_time": "2024-04-16T16:39:44.917Z"
   },
   {
    "duration": 6,
    "start_time": "2024-04-16T16:39:44.925Z"
   },
   {
    "duration": 36,
    "start_time": "2024-04-16T16:39:44.932Z"
   }
  ],
  "kernelspec": {
   "display_name": "Python 3 (ipykernel)",
   "language": "python",
   "name": "python3"
  },
  "language_info": {
   "codemirror_mode": {
    "name": "ipython",
    "version": 3
   },
   "file_extension": ".py",
   "mimetype": "text/x-python",
   "name": "python",
   "nbconvert_exporter": "python",
   "pygments_lexer": "ipython3",
   "version": "3.9.5"
  },
  "toc": {
   "base_numbering": 1,
   "nav_menu": {},
   "number_sections": true,
   "sideBar": true,
   "skip_h1_title": true,
   "title_cell": "Table of Contents",
   "title_sidebar": "Contents",
   "toc_cell": false,
   "toc_position": {},
   "toc_section_display": true,
   "toc_window_display": false
  }
 },
 "nbformat": 4,
 "nbformat_minor": 5
}
