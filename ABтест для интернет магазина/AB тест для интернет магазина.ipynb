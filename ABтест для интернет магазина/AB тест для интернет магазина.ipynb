{
 "cells": [
  {
   "cell_type": "markdown",
   "metadata": {},
   "source": [
    "# A/B-тест для интернет магазина \n",
    "\n",
    "**Цель исследования:**\n",
    "Приоритизировать гипотезы, запустить A/B-тест и проанализировать результаты. \n",
    "\n",
    "**Описание данных:**\n",
    "\n",
    "Данные для первой части\n",
    "* Hypothesis — краткое описание гипотезы;\n",
    "* Reach — охват пользователей по 10-балльной шкале;\n",
    "* Impact — влияние на пользователей по 10-балльной шкале;\n",
    "* Confidence — уверенность в гипотезе по 10-балльной шкале;\n",
    "* Efforts — затраты ресурсов на проверку гипотезы по 10-балльной шкале. Чем больше значение Efforts, тем дороже проверка гипотезы.\n",
    "\n",
    "Данные для второй части\n",
    "**orders**\n",
    "- transactionId — идентификатор заказа;\n",
    "- visitorId — идентификатор пользователя, совершившего заказ;\n",
    "- date — дата, когда был совершён заказ;\n",
    "- revenue — выручка заказа;\n",
    "- group — группа A/B-теста, в которую попал заказ.\n",
    "\n",
    "**visitors**\n",
    "- date — дата;\n",
    "-  group — группа A/B-теста;\n",
    "- visitors — количество пользователей в указанную дату в указанной группе A/B-теста\n",
    "\n",
    "**План работы**:\n",
    "**Часть 1. Приоритизация гипотез.**\n",
    "* Применить фреймворк ICE для приоритизации гипотез. \n",
    "* Применить фреймворк RICE для приоритизации гипотез. \n",
    "* Указать, как изменилась приоритизация гипотез при применении RICE вместо ICE. Объяснить, почему так произошло.\n",
    "\n",
    "**Часть 2. Анализ A/B-теста**\n",
    "Мы провели A/B-тест и получили результаты, которые описаны в файлах /datasets/orders.csv и /datasets/visitors.csv.\n",
    "\n",
    "Проанализируем A/B-тест:\n",
    "* Построим график кумулятивной выручки по группам. \n",
    "* Построим график кумулятивного среднего чека по группам. \n",
    "* Построим график относительного изменения кумулятивного среднего чека группы B к группе A. \n",
    "* Построим график кумулятивного среднего количества заказов на посетителя по группам. \n",
    "* Построим график относительного изменения кумулятивного среднего количества заказов на посетителя группы B к группе A. \n",
    "* Построим точечный график количества заказов по пользователям. \n",
    "* Посчитаем 95-й и 99-й перцентили количества заказов на пользователя. Выберем границу для определения аномальных пользователей.\n",
    "* Построим точечный график стоимостей заказов. \n",
    "* Посчитаем 95-й и 99-й перцентили стоимости заказов. Выберем границу для определения аномальных заказов.\n",
    "* Посчитаем статистическую значимость различий в среднем количестве заказов на посетителя между группами по «сырым» данным. \n",
    "* Посчитаем статистическую значимость различий в среднем чеке заказа между группами по «сырым» данным. \n",
    "* Посчитаем статистическую значимость различий в среднем количестве заказов на посетителя между группами по «очищенным» данным. \n",
    "* Посчитаем статистическую значимость различий в среднем чеке заказа между группами по «очищенным» данным. \n",
    "* Примем решение по результатам теста. Варианты решений:\n",
    "1. Остановить тест, зафиксировать победу одной из групп.\n",
    "2. Остановить тест, зафиксировать отсутствие различий между группами.\n",
    "3. Продолжить тест.\n",
    "\n",
    "По каждому пункту сделаем выводы и предположения.\n",
    "\n",
    "## часть"
   ]
  },
  {
   "cell_type": "code",
   "execution_count": 1,
   "metadata": {},
   "outputs": [],
   "source": [
    "import pandas as pd\n",
    "import datetime as dt\n",
    "import numpy as np\n",
    "import scipy.stats as stats\n",
    "import matplotlib.pyplot as plt\n",
    "from pandas.plotting import register_matplotlib_converters\n",
    "import warnings\n",
    "register_matplotlib_converters()"
   ]
  },
  {
   "cell_type": "code",
   "execution_count": 2,
   "metadata": {},
   "outputs": [
    {
     "data": {
      "text/html": [
       "<div>\n",
       "<style scoped>\n",
       "    .dataframe tbody tr th:only-of-type {\n",
       "        vertical-align: middle;\n",
       "    }\n",
       "\n",
       "    .dataframe tbody tr th {\n",
       "        vertical-align: top;\n",
       "    }\n",
       "\n",
       "    .dataframe thead th {\n",
       "        text-align: right;\n",
       "    }\n",
       "</style>\n",
       "<table border=\"1\" class=\"dataframe\">\n",
       "  <thead>\n",
       "    <tr style=\"text-align: right;\">\n",
       "      <th></th>\n",
       "      <th>Hypothesis</th>\n",
       "      <th>Reach</th>\n",
       "      <th>Impact</th>\n",
       "      <th>Confidence</th>\n",
       "      <th>Efforts</th>\n",
       "    </tr>\n",
       "  </thead>\n",
       "  <tbody>\n",
       "    <tr>\n",
       "      <th>0</th>\n",
       "      <td>Добавить два новых канала привлечения трафика,...</td>\n",
       "      <td>3</td>\n",
       "      <td>10</td>\n",
       "      <td>8</td>\n",
       "      <td>6</td>\n",
       "    </tr>\n",
       "    <tr>\n",
       "      <th>1</th>\n",
       "      <td>Запустить собственную службу доставки, что сок...</td>\n",
       "      <td>2</td>\n",
       "      <td>5</td>\n",
       "      <td>4</td>\n",
       "      <td>10</td>\n",
       "    </tr>\n",
       "    <tr>\n",
       "      <th>2</th>\n",
       "      <td>Добавить блоки рекомендаций товаров на сайт ин...</td>\n",
       "      <td>8</td>\n",
       "      <td>3</td>\n",
       "      <td>7</td>\n",
       "      <td>3</td>\n",
       "    </tr>\n",
       "    <tr>\n",
       "      <th>3</th>\n",
       "      <td>Изменить структура категорий, что увеличит кон...</td>\n",
       "      <td>8</td>\n",
       "      <td>3</td>\n",
       "      <td>3</td>\n",
       "      <td>8</td>\n",
       "    </tr>\n",
       "    <tr>\n",
       "      <th>4</th>\n",
       "      <td>Изменить цвет фона главной страницы, чтобы уве...</td>\n",
       "      <td>3</td>\n",
       "      <td>1</td>\n",
       "      <td>1</td>\n",
       "      <td>1</td>\n",
       "    </tr>\n",
       "  </tbody>\n",
       "</table>\n",
       "</div>"
      ],
      "text/plain": [
       "                                          Hypothesis  Reach  Impact  \\\n",
       "0  Добавить два новых канала привлечения трафика,...      3      10   \n",
       "1  Запустить собственную службу доставки, что сок...      2       5   \n",
       "2  Добавить блоки рекомендаций товаров на сайт ин...      8       3   \n",
       "3  Изменить структура категорий, что увеличит кон...      8       3   \n",
       "4  Изменить цвет фона главной страницы, чтобы уве...      3       1   \n",
       "\n",
       "   Confidence  Efforts  \n",
       "0           8        6  \n",
       "1           4       10  \n",
       "2           7        3  \n",
       "3           3        8  \n",
       "4           1        1  "
      ]
     },
     "execution_count": 2,
     "metadata": {},
     "output_type": "execute_result"
    }
   ],
   "source": [
    "data = pd.read_csv('/datasets/hypothesis.csv')\n",
    "data.head(5)"
   ]
  },
  {
   "cell_type": "code",
   "execution_count": 3,
   "metadata": {},
   "outputs": [
    {
     "data": {
      "text/html": [
       "<div>\n",
       "<style scoped>\n",
       "    .dataframe tbody tr th:only-of-type {\n",
       "        vertical-align: middle;\n",
       "    }\n",
       "\n",
       "    .dataframe tbody tr th {\n",
       "        vertical-align: top;\n",
       "    }\n",
       "\n",
       "    .dataframe thead th {\n",
       "        text-align: right;\n",
       "    }\n",
       "</style>\n",
       "<table border=\"1\" class=\"dataframe\">\n",
       "  <thead>\n",
       "    <tr style=\"text-align: right;\">\n",
       "      <th></th>\n",
       "      <th>Hypothesis</th>\n",
       "      <th>ICE</th>\n",
       "    </tr>\n",
       "  </thead>\n",
       "  <tbody>\n",
       "    <tr>\n",
       "      <th>8</th>\n",
       "      <td>Запустить акцию, дающую скидку на товар в день рождения</td>\n",
       "      <td>16.20</td>\n",
       "    </tr>\n",
       "    <tr>\n",
       "      <th>0</th>\n",
       "      <td>Добавить два новых канала привлечения трафика, что позволит привлекать на 30% больше пользователей</td>\n",
       "      <td>13.33</td>\n",
       "    </tr>\n",
       "    <tr>\n",
       "      <th>7</th>\n",
       "      <td>Добавить форму подписки на все основные страницы, чтобы собрать базу клиентов для email-рассылок</td>\n",
       "      <td>11.20</td>\n",
       "    </tr>\n",
       "    <tr>\n",
       "      <th>6</th>\n",
       "      <td>Показать на главной странице баннеры с актуальными акциями и распродажами, чтобы увеличить конверсию</td>\n",
       "      <td>8.00</td>\n",
       "    </tr>\n",
       "    <tr>\n",
       "      <th>2</th>\n",
       "      <td>Добавить блоки рекомендаций товаров на сайт интернет магазина, чтобы повысить конверсию и средний чек заказа</td>\n",
       "      <td>7.00</td>\n",
       "    </tr>\n",
       "    <tr>\n",
       "      <th>1</th>\n",
       "      <td>Запустить собственную службу доставки, что сократит срок доставки заказов</td>\n",
       "      <td>2.00</td>\n",
       "    </tr>\n",
       "    <tr>\n",
       "      <th>5</th>\n",
       "      <td>Добавить страницу отзывов клиентов о магазине, что позволит увеличить количество заказов</td>\n",
       "      <td>1.33</td>\n",
       "    </tr>\n",
       "    <tr>\n",
       "      <th>3</th>\n",
       "      <td>Изменить структура категорий, что увеличит конверсию, т.к. пользователи быстрее найдут нужный товар</td>\n",
       "      <td>1.12</td>\n",
       "    </tr>\n",
       "    <tr>\n",
       "      <th>4</th>\n",
       "      <td>Изменить цвет фона главной страницы, чтобы увеличить вовлеченность пользователей</td>\n",
       "      <td>1.00</td>\n",
       "    </tr>\n",
       "  </tbody>\n",
       "</table>\n",
       "</div>"
      ],
      "text/plain": [
       "                                                                                                     Hypothesis  \\\n",
       "8                                                       Запустить акцию, дающую скидку на товар в день рождения   \n",
       "0            Добавить два новых канала привлечения трафика, что позволит привлекать на 30% больше пользователей   \n",
       "7              Добавить форму подписки на все основные страницы, чтобы собрать базу клиентов для email-рассылок   \n",
       "6          Показать на главной странице баннеры с актуальными акциями и распродажами, чтобы увеличить конверсию   \n",
       "2  Добавить блоки рекомендаций товаров на сайт интернет магазина, чтобы повысить конверсию и средний чек заказа   \n",
       "1                                     Запустить собственную службу доставки, что сократит срок доставки заказов   \n",
       "5                      Добавить страницу отзывов клиентов о магазине, что позволит увеличить количество заказов   \n",
       "3           Изменить структура категорий, что увеличит конверсию, т.к. пользователи быстрее найдут нужный товар   \n",
       "4                              Изменить цвет фона главной страницы, чтобы увеличить вовлеченность пользователей   \n",
       "\n",
       "     ICE  \n",
       "8  16.20  \n",
       "0  13.33  \n",
       "7  11.20  \n",
       "6   8.00  \n",
       "2   7.00  \n",
       "1   2.00  \n",
       "5   1.33  \n",
       "3   1.12  \n",
       "4   1.00  "
      ]
     },
     "execution_count": 3,
     "metadata": {},
     "output_type": "execute_result"
    }
   ],
   "source": [
    "data['ICE']  =  round((data['Impact'] * data['Confidence']) / data['Efforts'],2)\n",
    "\n",
    "sorted_data = data[['Hypothesis', 'ICE']].sort_values(by='ICE', ascending=False)\n",
    "pd.set_option('max_colwidth', 200)\n",
    "sorted_data"
   ]
  },
  {
   "cell_type": "code",
   "execution_count": 4,
   "metadata": {},
   "outputs": [
    {
     "data": {
      "text/html": [
       "<div>\n",
       "<style scoped>\n",
       "    .dataframe tbody tr th:only-of-type {\n",
       "        vertical-align: middle;\n",
       "    }\n",
       "\n",
       "    .dataframe tbody tr th {\n",
       "        vertical-align: top;\n",
       "    }\n",
       "\n",
       "    .dataframe thead th {\n",
       "        text-align: right;\n",
       "    }\n",
       "</style>\n",
       "<table border=\"1\" class=\"dataframe\">\n",
       "  <thead>\n",
       "    <tr style=\"text-align: right;\">\n",
       "      <th></th>\n",
       "      <th>Hypothesis</th>\n",
       "      <th>RICE</th>\n",
       "    </tr>\n",
       "  </thead>\n",
       "  <tbody>\n",
       "    <tr>\n",
       "      <th>7</th>\n",
       "      <td>Добавить форму подписки на все основные страницы, чтобы собрать базу клиентов для email-рассылок</td>\n",
       "      <td>112.0</td>\n",
       "    </tr>\n",
       "    <tr>\n",
       "      <th>2</th>\n",
       "      <td>Добавить блоки рекомендаций товаров на сайт интернет магазина, чтобы повысить конверсию и средний чек заказа</td>\n",
       "      <td>56.0</td>\n",
       "    </tr>\n",
       "    <tr>\n",
       "      <th>0</th>\n",
       "      <td>Добавить два новых канала привлечения трафика, что позволит привлекать на 30% больше пользователей</td>\n",
       "      <td>40.0</td>\n",
       "    </tr>\n",
       "    <tr>\n",
       "      <th>6</th>\n",
       "      <td>Показать на главной странице баннеры с актуальными акциями и распродажами, чтобы увеличить конверсию</td>\n",
       "      <td>40.0</td>\n",
       "    </tr>\n",
       "    <tr>\n",
       "      <th>8</th>\n",
       "      <td>Запустить акцию, дающую скидку на товар в день рождения</td>\n",
       "      <td>16.2</td>\n",
       "    </tr>\n",
       "    <tr>\n",
       "      <th>3</th>\n",
       "      <td>Изменить структура категорий, что увеличит конверсию, т.к. пользователи быстрее найдут нужный товар</td>\n",
       "      <td>9.0</td>\n",
       "    </tr>\n",
       "    <tr>\n",
       "      <th>1</th>\n",
       "      <td>Запустить собственную службу доставки, что сократит срок доставки заказов</td>\n",
       "      <td>4.0</td>\n",
       "    </tr>\n",
       "    <tr>\n",
       "      <th>5</th>\n",
       "      <td>Добавить страницу отзывов клиентов о магазине, что позволит увеличить количество заказов</td>\n",
       "      <td>4.0</td>\n",
       "    </tr>\n",
       "    <tr>\n",
       "      <th>4</th>\n",
       "      <td>Изменить цвет фона главной страницы, чтобы увеличить вовлеченность пользователей</td>\n",
       "      <td>3.0</td>\n",
       "    </tr>\n",
       "  </tbody>\n",
       "</table>\n",
       "</div>"
      ],
      "text/plain": [
       "                                                                                                     Hypothesis  \\\n",
       "7              Добавить форму подписки на все основные страницы, чтобы собрать базу клиентов для email-рассылок   \n",
       "2  Добавить блоки рекомендаций товаров на сайт интернет магазина, чтобы повысить конверсию и средний чек заказа   \n",
       "0            Добавить два новых канала привлечения трафика, что позволит привлекать на 30% больше пользователей   \n",
       "6          Показать на главной странице баннеры с актуальными акциями и распродажами, чтобы увеличить конверсию   \n",
       "8                                                       Запустить акцию, дающую скидку на товар в день рождения   \n",
       "3           Изменить структура категорий, что увеличит конверсию, т.к. пользователи быстрее найдут нужный товар   \n",
       "1                                     Запустить собственную службу доставки, что сократит срок доставки заказов   \n",
       "5                      Добавить страницу отзывов клиентов о магазине, что позволит увеличить количество заказов   \n",
       "4                              Изменить цвет фона главной страницы, чтобы увеличить вовлеченность пользователей   \n",
       "\n",
       "    RICE  \n",
       "7  112.0  \n",
       "2   56.0  \n",
       "0   40.0  \n",
       "6   40.0  \n",
       "8   16.2  \n",
       "3    9.0  \n",
       "1    4.0  \n",
       "5    4.0  \n",
       "4    3.0  "
      ]
     },
     "execution_count": 4,
     "metadata": {},
     "output_type": "execute_result"
    }
   ],
   "source": [
    "data['RICE']  =  round((data['Reach'] * data['Impact'] * data['Confidence']) / data['Efforts'], 2)\n",
    "\n",
    "sorted_data = data[['Hypothesis', 'RICE']].sort_values(by='RICE', ascending=False)\n",
    "sorted_data"
   ]
  },
  {
   "cell_type": "markdown",
   "metadata": {},
   "source": [
    "При приотизации методом ICE мы получили следующий порядок: 8, 0, 7, 6, 2, 1, 5, 3, 4.\n",
    "При приотизации методом RICE мы получили: 7, 2, 0, 6, 8, 3, 1, 5, 4\n",
    "\n",
    "После применения RICE, мы видим, что гипотеза с индексом 7 переместилась на первое место, тогда как гипотеза с индексом 8, которая была на первом месте по ICE, опустилась на пятое место. Последние 4 гипотезы в списках одинаковые, хоть и в немного отличающемся порядке. Их можно больше не учитывать. \n",
    "Фреймворк RICE включает дополнительную компоненту \"Reach\" (Охват), которая измеряет, скольких пользователей затронет изменение, она может значительно влиять на приоритет гипотезы. Гипотеза с индексом 7, вероятно, имеет высокий Reach, что сделало её более приоритетной в RICE\n",
    "\n",
    "\n",
    "## часть\n",
    "\n",
    "Построим график кумулятивной выручки по группам. Сначала выгрузим датасеты, ознакомимся с данными, посчитаем по группам сумму с накоплением. Проверим на дубликаты."
   ]
  },
  {
   "cell_type": "code",
   "execution_count": 5,
   "metadata": {},
   "outputs": [
    {
     "data": {
      "text/html": [
       "<div>\n",
       "<style scoped>\n",
       "    .dataframe tbody tr th:only-of-type {\n",
       "        vertical-align: middle;\n",
       "    }\n",
       "\n",
       "    .dataframe tbody tr th {\n",
       "        vertical-align: top;\n",
       "    }\n",
       "\n",
       "    .dataframe thead th {\n",
       "        text-align: right;\n",
       "    }\n",
       "</style>\n",
       "<table border=\"1\" class=\"dataframe\">\n",
       "  <thead>\n",
       "    <tr style=\"text-align: right;\">\n",
       "      <th></th>\n",
       "      <th>transactionId</th>\n",
       "      <th>visitorId</th>\n",
       "      <th>date</th>\n",
       "      <th>revenue</th>\n",
       "      <th>group</th>\n",
       "    </tr>\n",
       "  </thead>\n",
       "  <tbody>\n",
       "    <tr>\n",
       "      <th>0</th>\n",
       "      <td>3667963787</td>\n",
       "      <td>3312258926</td>\n",
       "      <td>2019-08-15</td>\n",
       "      <td>1650</td>\n",
       "      <td>B</td>\n",
       "    </tr>\n",
       "    <tr>\n",
       "      <th>1</th>\n",
       "      <td>2804400009</td>\n",
       "      <td>3642806036</td>\n",
       "      <td>2019-08-15</td>\n",
       "      <td>730</td>\n",
       "      <td>B</td>\n",
       "    </tr>\n",
       "    <tr>\n",
       "      <th>2</th>\n",
       "      <td>2961555356</td>\n",
       "      <td>4069496402</td>\n",
       "      <td>2019-08-15</td>\n",
       "      <td>400</td>\n",
       "      <td>A</td>\n",
       "    </tr>\n",
       "    <tr>\n",
       "      <th>3</th>\n",
       "      <td>3797467345</td>\n",
       "      <td>1196621759</td>\n",
       "      <td>2019-08-15</td>\n",
       "      <td>9759</td>\n",
       "      <td>B</td>\n",
       "    </tr>\n",
       "    <tr>\n",
       "      <th>4</th>\n",
       "      <td>2282983706</td>\n",
       "      <td>2322279887</td>\n",
       "      <td>2019-08-15</td>\n",
       "      <td>2308</td>\n",
       "      <td>B</td>\n",
       "    </tr>\n",
       "  </tbody>\n",
       "</table>\n",
       "</div>"
      ],
      "text/plain": [
       "   transactionId   visitorId        date  revenue group\n",
       "0     3667963787  3312258926  2019-08-15     1650     B\n",
       "1     2804400009  3642806036  2019-08-15      730     B\n",
       "2     2961555356  4069496402  2019-08-15      400     A\n",
       "3     3797467345  1196621759  2019-08-15     9759     B\n",
       "4     2282983706  2322279887  2019-08-15     2308     B"
      ]
     },
     "metadata": {},
     "output_type": "display_data"
    },
    {
     "data": {
      "text/html": [
       "<div>\n",
       "<style scoped>\n",
       "    .dataframe tbody tr th:only-of-type {\n",
       "        vertical-align: middle;\n",
       "    }\n",
       "\n",
       "    .dataframe tbody tr th {\n",
       "        vertical-align: top;\n",
       "    }\n",
       "\n",
       "    .dataframe thead th {\n",
       "        text-align: right;\n",
       "    }\n",
       "</style>\n",
       "<table border=\"1\" class=\"dataframe\">\n",
       "  <thead>\n",
       "    <tr style=\"text-align: right;\">\n",
       "      <th></th>\n",
       "      <th>date</th>\n",
       "      <th>group</th>\n",
       "      <th>visitors</th>\n",
       "    </tr>\n",
       "  </thead>\n",
       "  <tbody>\n",
       "    <tr>\n",
       "      <th>0</th>\n",
       "      <td>2019-08-01</td>\n",
       "      <td>A</td>\n",
       "      <td>719</td>\n",
       "    </tr>\n",
       "    <tr>\n",
       "      <th>1</th>\n",
       "      <td>2019-08-02</td>\n",
       "      <td>A</td>\n",
       "      <td>619</td>\n",
       "    </tr>\n",
       "    <tr>\n",
       "      <th>2</th>\n",
       "      <td>2019-08-03</td>\n",
       "      <td>A</td>\n",
       "      <td>507</td>\n",
       "    </tr>\n",
       "    <tr>\n",
       "      <th>3</th>\n",
       "      <td>2019-08-04</td>\n",
       "      <td>A</td>\n",
       "      <td>717</td>\n",
       "    </tr>\n",
       "    <tr>\n",
       "      <th>4</th>\n",
       "      <td>2019-08-05</td>\n",
       "      <td>A</td>\n",
       "      <td>756</td>\n",
       "    </tr>\n",
       "  </tbody>\n",
       "</table>\n",
       "</div>"
      ],
      "text/plain": [
       "         date group  visitors\n",
       "0  2019-08-01     A       719\n",
       "1  2019-08-02     A       619\n",
       "2  2019-08-03     A       507\n",
       "3  2019-08-04     A       717\n",
       "4  2019-08-05     A       756"
      ]
     },
     "execution_count": 5,
     "metadata": {},
     "output_type": "execute_result"
    }
   ],
   "source": [
    "orders = pd.read_csv('/datasets/orders.csv')\n",
    "display(orders.head(5))\n",
    "visitors = pd.read_csv('/datasets/visitors.csv')\n",
    "visitors.head(5)"
   ]
  },
  {
   "cell_type": "code",
   "execution_count": 6,
   "metadata": {},
   "outputs": [
    {
     "data": {
      "text/plain": [
       "0"
      ]
     },
     "metadata": {},
     "output_type": "display_data"
    },
    {
     "data": {
      "text/plain": [
       "0"
      ]
     },
     "execution_count": 6,
     "metadata": {},
     "output_type": "execute_result"
    }
   ],
   "source": [
    "display(orders.duplicated().sum())\n",
    "\n",
    "visitors.duplicated().sum() "
   ]
  },
  {
   "cell_type": "markdown",
   "metadata": {},
   "source": [
    "Теперь выполним проверку, не попадают ли какие-то пользователи в обе группы. Не попадают, только А и В."
   ]
  },
  {
   "cell_type": "code",
   "execution_count": 7,
   "metadata": {},
   "outputs": [
    {
     "name": "stdout",
     "output_type": "stream",
     "text": [
      "58\n"
     ]
    }
   ],
   "source": [
    "group_a = set(orders[orders['group'] == 'A']['visitorId'])\n",
    "group_b = set(orders[orders['group'] == 'B']['visitorId'])\n",
    "\n",
    "common_users = group_a.intersection(group_b)\n",
    "print(len(common_users))"
   ]
  },
  {
   "cell_type": "markdown",
   "metadata": {},
   "source": [
    "58 пользователей. Их можно не удалять, так как мы можем очистить только таблицу с заказами, но не с посетителями."
   ]
  },
  {
   "cell_type": "code",
   "execution_count": 8,
   "metadata": {},
   "outputs": [
    {
     "name": "stdout",
     "output_type": "stream",
     "text": [
      "<class 'pandas.core.frame.DataFrame'>\n",
      "RangeIndex: 1197 entries, 0 to 1196\n",
      "Data columns (total 5 columns):\n",
      " #   Column         Non-Null Count  Dtype \n",
      "---  ------         --------------  ----- \n",
      " 0   transactionId  1197 non-null   int64 \n",
      " 1   visitorId      1197 non-null   int64 \n",
      " 2   date           1197 non-null   object\n",
      " 3   revenue        1197 non-null   int64 \n",
      " 4   group          1197 non-null   object\n",
      "dtypes: int64(3), object(2)\n",
      "memory usage: 46.9+ KB\n",
      "<class 'pandas.core.frame.DataFrame'>\n",
      "RangeIndex: 62 entries, 0 to 61\n",
      "Data columns (total 3 columns):\n",
      " #   Column    Non-Null Count  Dtype \n",
      "---  ------    --------------  ----- \n",
      " 0   date      62 non-null     object\n",
      " 1   group     62 non-null     object\n",
      " 2   visitors  62 non-null     int64 \n",
      "dtypes: int64(1), object(2)\n",
      "memory usage: 1.6+ KB\n"
     ]
    }
   ],
   "source": [
    "orders.info()\n",
    "visitors.info()"
   ]
  },
  {
   "cell_type": "markdown",
   "metadata": {},
   "source": [
    "В ходе ознакомления с данными обнаружила, что у дат формат object, поменяла."
   ]
  },
  {
   "cell_type": "code",
   "execution_count": 9,
   "metadata": {},
   "outputs": [],
   "source": [
    "orders['date'] = orders['date'].map(lambda x: dt.datetime.strptime(x, '%Y-%m-%d'))\n",
    "visitors['date'] = visitors['date'].map(lambda x: dt.datetime.strptime(x, '%Y-%m-%d'))"
   ]
  },
  {
   "cell_type": "code",
   "execution_count": 10,
   "metadata": {},
   "outputs": [
    {
     "data": {
      "image/png": "[encoded data removed]",
      "text/plain": [
       "<Figure size 864x432 with 1 Axes>"
      ]
     },
     "metadata": {
      "needs_background": "light"
     },
     "output_type": "display_data"
    }
   ],
   "source": [
    "datesGroups = orders[['date', 'group']].drop_duplicates()\n",
    "\n",
    "ordersAggregated = datesGroups.apply(\n",
    "    lambda x: orders[\n",
    "        np.logical_and(\n",
    "            orders['date'] <= x['date'], orders['group'] == x['group']\n",
    "        )\n",
    "    ].agg(\n",
    "        {\n",
    "            'date': 'max',\n",
    "            'group': 'max',\n",
    "            'transactionId': 'nunique',\n",
    "            'visitorId': 'nunique',\n",
    "            'revenue': 'sum',\n",
    "        }\n",
    "    ),\n",
    "    axis=1,\n",
    ").sort_values(by=['date', 'group'])\n",
    "\n",
    "visitorsAggregated = datesGroups.apply(\n",
    "    lambda x: visitors[\n",
    "        np.logical_and(\n",
    "            visitors['date'] <= x['date'], visitors['group'] == x['group']\n",
    "        )\n",
    "    ].agg({'date': 'max', 'group': 'max', 'visitors': 'sum'}),\n",
    "    axis=1,\n",
    ").sort_values(by=['date', 'group'])\n",
    "\n",
    "cumulativeData = ordersAggregated.merge(\n",
    "    visitorsAggregated, left_on=['date', 'group'], right_on=['date', 'group']\n",
    ")\n",
    "cumulativeData.columns = [\n",
    "    'date',\n",
    "    'group',\n",
    "    'orders',\n",
    "    'buyers',\n",
    "    'revenue',\n",
    "    'visitors',\n",
    "]\n",
    "\n",
    "cumulativeRevenueA = cumulativeData[cumulativeData['group']=='A'][['date','revenue', 'orders']]\n",
    "\n",
    "# датафрейм с кумулятивным количеством заказов и кумулятивной выручкой по дням и по группам\n",
    "cumulativeRevenueB = cumulativeData[cumulativeData['group']=='B'][['date','revenue', 'orders']]\n",
    "\n",
    "fig, ax = plt.subplots(figsize=(12, 6))\n",
    "# Строим график выручки группы А\n",
    "plt.plot(cumulativeRevenueA['date'], cumulativeRevenueA['revenue'], label='A')\n",
    "\n",
    "# Строим график выручки группы B\n",
    "plt.plot(cumulativeRevenueB['date'], cumulativeRevenueB['revenue'], label='B')\n",
    "\n",
    "plt.title('график кумулятивной выручки по группам')\n",
    "plt.xlabel('дата')\n",
    "plt.ylabel('выручка')\n",
    "plt.legend(title='группы')\n",
    "plt.show();"
   ]
  },
  {
   "cell_type": "markdown",
   "metadata": {},
   "source": [
    "Кумулятивная выручка группы В на 13 день теста начала резкий рост и значительно превысила группу А. Тенденция продожилась. Примерно на 18 день был особенно большой скачок.\n",
    "\n",
    "Теперь построим график кумулятивного среднего чека по группам."
   ]
  },
  {
   "cell_type": "code",
   "execution_count": 11,
   "metadata": {},
   "outputs": [
    {
     "data": {
      "image/png": "[encoded data removed]",
      "text/plain": [
       "<Figure size 864x432 with 1 Axes>"
      ]
     },
     "metadata": {
      "needs_background": "light"
     },
     "output_type": "display_data"
    }
   ],
   "source": [
    "fig, ax = plt.subplots(figsize=(12, 6))\n",
    "plt.plot(cumulativeRevenueA['date'], cumulativeRevenueA['revenue']/cumulativeRevenueA['orders'], label='A')\n",
    "plt.plot(cumulativeRevenueB['date'], cumulativeRevenueB['revenue']/cumulativeRevenueB['orders'], label='B')\n",
    "plt.title('график кумулятивного среднего чека по группам')\n",
    "plt.xlabel('дата')\n",
    "plt.ylabel('средний чек')\n",
    "plt.legend(title='группы')\n",
    "plt.show();"
   ]
  },
  {
   "cell_type": "markdown",
   "metadata": {},
   "source": [
    "Мы снова видим тот скачок, который был на предыдущем графике. Скорее всего это влияние аномально больших покупок. Вообще средний чек в тесте выше, чем в контроле, кроме одного интервала примерно с 11 по 14 день, где у контрольной группы наблюдался пик.\n",
    "\n",
    "Построим график относительного изменения кумулятивного среднего чека группы B к группе A."
   ]
  },
  {
   "cell_type": "code",
   "execution_count": 12,
   "metadata": {},
   "outputs": [
    {
     "data": {
      "image/png": "[encoded data removed]",
      "text/plain": [
       "<Figure size 864x432 with 1 Axes>"
      ]
     },
     "metadata": {
      "needs_background": "light"
     },
     "output_type": "display_data"
    }
   ],
   "source": [
    "fig, ax = plt.subplots(figsize=(12, 6))\n",
    "# собираем данные в одном датафрейме\n",
    "mergedCumulativeRevenue = cumulativeRevenueA.merge(cumulativeRevenueB, left_on='date', right_on='date', how='left', suffixes=['A', 'B'])\n",
    "\n",
    "# cтроим отношение средних чеков\n",
    "plt.plot(mergedCumulativeRevenue['date'], (mergedCumulativeRevenue['revenueB']/mergedCumulativeRevenue['ordersB'])/(mergedCumulativeRevenue['revenueA']/mergedCumulativeRevenue['ordersA'])-1)\n",
    "\n",
    "# добавляем ось X\n",
    "plt.axhline(y=0, color='black', linestyle='--')\n",
    "plt.title('график относительного изменения кумулятивного среднего чека группы B к группе A')\n",
    "plt.xlabel('дата')\n",
    "plt.ylabel('средний чек')\n",
    "plt.show();"
   ]
  },
  {
   "cell_type": "markdown",
   "metadata": {},
   "source": [
    "Результаты теста значительно и резко менялись в несколько дат. Видимо, тогда были совершены аномальные заказы.\n",
    "\n",
    "Построим график кумулятивного среднего количества заказов на посетителя по группам. "
   ]
  },
  {
   "cell_type": "code",
   "execution_count": 13,
   "metadata": {},
   "outputs": [
    {
     "data": {
      "image/png": "[encoded data removed]",
      "text/plain": [
       "<Figure size 864x432 with 1 Axes>"
      ]
     },
     "metadata": {
      "needs_background": "light"
     },
     "output_type": "display_data"
    }
   ],
   "source": [
    "# считаем среднее количество заказов на посетителя\n",
    "cumulativeData['conversion'] = cumulativeData['orders']/cumulativeData['visitors']\n",
    "\n",
    "# отделяем данные по группе A\n",
    "cumulativeDataA = cumulativeData[cumulativeData['group']=='A']\n",
    "\n",
    "# отделяем данные по группе B\n",
    "cumulativeDataB = cumulativeData[cumulativeData['group']=='B']\n",
    "\n",
    "# строим графики\n",
    "fig, ax = plt.subplots(figsize=(12, 6))\n",
    "plt.plot(cumulativeDataA['date'], cumulativeDataA['conversion'], label='A')\n",
    "plt.plot(cumulativeDataB['date'], cumulativeDataB['conversion'], label='B')\n",
    "plt.title('график кумулятивного среднего количества заказов на посетителя по группам')\n",
    "plt.xlabel('дата')\n",
    "plt.ylabel('среднее количество заказов на посетителя')\n",
    "plt.legend(title='группы')\n",
    "plt.show();"
   ]
  },
  {
   "cell_type": "markdown",
   "metadata": {},
   "source": [
    "В первые дни в контроле среднее количество заказов на посетителя было выше, чем в тесте, но потом тест стабильно показывал большие показатели. \n",
    "\n",
    "Построим график относительного изменения кумулятивного среднего количества заказов на посетителя группы B к группе A."
   ]
  },
  {
   "cell_type": "code",
   "execution_count": 14,
   "metadata": {},
   "outputs": [
    {
     "data": {
      "image/png": "[encoded data removed]",
      "text/plain": [
       "<Figure size 864x432 with 1 Axes>"
      ]
     },
     "metadata": {
      "needs_background": "light"
     },
     "output_type": "display_data"
    }
   ],
   "source": [
    "fig, ax = plt.subplots(figsize=(12, 6))\n",
    "mergedCumulativeConversions = cumulativeDataA[['date','conversion']].merge(cumulativeDataB[['date','conversion']], left_on='date', right_on='date', how='left', suffixes=['A', 'B'])\n",
    "\n",
    "plt.plot(mergedCumulativeConversions['date'], mergedCumulativeConversions['conversionB']/mergedCumulativeConversions['conversionA']-1, label=\"Относительный прирост кумулятивного среднего количества заказов на посетителя группы B относительно группы A\")\n",
    "\n",
    "plt.title('График относительного изменения кумулятивного среднего количества заказов на посетителя группы B к группе A')\n",
    "plt.xlabel('Дата')\n",
    "plt.ylabel('Кумулятивное среднее количество заказов на посетителя группы B к группе A')\n",
    "plt.axhline(y=0, color='black', linestyle='--')\n",
    "plt.axhline(y=0.15, color='grey', linestyle='--')\n",
    "plt.legend()\n",
    "plt.show()"
   ]
  },
  {
   "cell_type": "markdown",
   "metadata": {},
   "source": [
    "С 05.08.2019 начался резкий рост. Пик был достигнут 17го, после чего показатели немного упали и зафиксировались около прироста в 12% относительно группы A.\n",
    "\n",
    "Теперь построим точечный график количества заказов по пользователям. А затем посчитаем 95-й и 99-й перцентили количества заказов на пользователя."
   ]
  },
  {
   "cell_type": "code",
   "execution_count": 15,
   "metadata": {},
   "outputs": [
    {
     "name": "stdout",
     "output_type": "stream",
     "text": [
      "       visitorId  orders\n",
      "1023  4256040402      11\n",
      "591   2458001652      11\n",
      "569   2378935119       9\n",
      "487   2038680547       8\n",
      "44     199603092       5\n",
      "744   3062433592       5\n",
      "55     237748145       5\n",
      "917   3803269165       5\n",
      "299   1230306981       5\n",
      "897   3717692402       5\n",
      "90,95 и 99 процентили: [1. 2. 4.]\n"
     ]
    },
    {
     "data": {
      "image/png": "[encoded data removed]",
      "text/plain": [
       "<Figure size 720x432 with 1 Axes>"
      ]
     },
     "metadata": {
      "needs_background": "light"
     },
     "output_type": "display_data"
    }
   ],
   "source": [
    "fig, ax = plt.subplots(figsize=(10, 6))\n",
    "ordersByUsers = (\n",
    "    orders.groupby('visitorId', as_index=False)\n",
    "    .agg({'transactionId': 'nunique'})\n",
    ")\n",
    "ordersByUsers.columns = ['visitorId', 'orders']\n",
    "\n",
    "print(ordersByUsers.sort_values(by='orders', ascending=False).head(10))\n",
    "\n",
    "x_values = pd.Series(range(0,len(ordersByUsers)))\n",
    "\n",
    "plt.scatter(x_values, ordersByUsers['orders']);\n",
    "plt.title('График количества заказов по пользователям')\n",
    "plt.xlabel('Индексы пользователей')\n",
    "plt.ylabel('Количество заказов')\n",
    "print('90,95 и 99 процентили:',(np.percentile(ordersByUsers['orders'], [90, 95, 99]))) "
   ]
  },
  {
   "cell_type": "markdown",
   "metadata": {},
   "source": [
    "Не более 5% пользователей совершали больше двух заказов. И не более 1% пользователей — больше четырёх заказов. Сочту количество заказов больше четырёх аномальным.\n",
    "\n",
    "Теперь также проанализируем стоимость заказов. "
   ]
  },
  {
   "cell_type": "code",
   "execution_count": 16,
   "metadata": {},
   "outputs": [
    {
     "name": "stdout",
     "output_type": "stream",
     "text": [
      "      transactionId   visitorId       date  revenue group\n",
      "425       590470918  1920142716 2019-08-19  1294500     B\n",
      "1196     3936777065  2108080724 2019-08-15   202740     B\n",
      "858       192721366  1316129916 2019-08-27    93940     A\n",
      "1136      666610489  1307669133 2019-08-13    92550     A\n",
      "744      3668308183   888512513 2019-08-27    86620     B\n",
      "682      1216533772  4266935830 2019-08-29    78990     B\n",
      "662      1811671147  4266935830 2019-08-29    78990     A\n",
      "743      3603576309  4133034833 2019-08-09    67990     A\n",
      "1103     1348774318  1164614297 2019-08-12    66350     A\n",
      "1099      316924019   148427295 2019-08-12    65710     A\n",
      "90,95 и 99 процентили: [18168.  28000.  58233.2]\n"
     ]
    },
    {
     "data": {
      "image/png": "[encoded data removed]",
      "text/plain": [
       "<Figure size 720x432 with 1 Axes>"
      ]
     },
     "metadata": {
      "needs_background": "light"
     },
     "output_type": "display_data"
    }
   ],
   "source": [
    "print(orders.sort_values(by='revenue', ascending=False).head(10))\n",
    "fig, ax = plt.subplots(figsize=(10, 6))\n",
    "x_values = pd.Series(range(0, len(orders['revenue'])))\n",
    "\n",
    "plt.scatter(x_values, orders['revenue']);\n",
    "plt.title('График стоимостей заказов по пользователям')\n",
    "plt.xlabel('Индексы заказов')\n",
    "plt.ylabel('Стоимость заказов')\n",
    "print('90,95 и 99 процентили:',(np.percentile(orders['revenue'], [90, 95, 99]))) "
   ]
  },
  {
   "cell_type": "code",
   "execution_count": 17,
   "metadata": {},
   "outputs": [
    {
     "data": {
      "image/png": "[encoded data removed]",
      "text/plain": [
       "<Figure size 720x432 with 1 Axes>"
      ]
     },
     "metadata": {
      "needs_background": "light"
     },
     "output_type": "display_data"
    }
   ],
   "source": [
    "fig, ax = plt.subplots(figsize=(10, 6))\n",
    "x_values = pd.Series(range(0, len(orders['revenue'])))\n",
    "\n",
    "plt.scatter(x_values, orders['revenue'])\n",
    "plt.title('График стоимостей заказов по пользователям')\n",
    "plt.xlabel('Индексы заказов')\n",
    "plt.ylabel('Стоимость заказов')\n",
    "\n",
    "# Ограничение по оси Y\n",
    "plt.ylim(top=150000)\n",
    "\n",
    "plt.show()"
   ]
  },
  {
   "cell_type": "markdown",
   "metadata": {},
   "source": [
    "Не более, чем у 5% заказов чек дороже 2 800 рублей. И не больше, чем у 1% заказов — дороже 58 233 рублей. Сочту заказы стоимостью выше 58 000 аномальными.\n",
    "\n",
    "Посчитаем статистическую значимость различий в среднем количестве заказов на посетителя между группами по «сырым» данным.\n",
    "\n",
    "Нулевая гипотеза: различий в среднем количестве заказов на посетителя между группами по «сырым» данным нет\n",
    "\n",
    "Альтернативная гипотеза: различия в среднем количестве заказов на посетителя между группами по «сырым» данным есть\n",
    "\n",
    "alpha = 0.05\n",
    "\n",
    "Использую непараметрический тест Уилкоксона-Манна-Уитни, он лучше работает с выбросами."
   ]
  },
  {
   "cell_type": "code",
   "execution_count": 18,
   "metadata": {},
   "outputs": [
    {
     "name": "stdout",
     "output_type": "stream",
     "text": [
      "        date  ordersPerDateA  revenuePerDateA  ordersPerDateB  \\\n",
      "0 2019-08-01              24           148579              21   \n",
      "1 2019-08-02              20            93822              24   \n",
      "2 2019-08-03              24           112473              16   \n",
      "3 2019-08-04              16            70825              17   \n",
      "4 2019-08-05              25           124218              23   \n",
      "\n",
      "   revenuePerDateB  visitorsPerDateA  visitorsPerDateB  \n",
      "0           101217               719               713  \n",
      "1           165531               619               581  \n",
      "2           114248               507               509  \n",
      "3           108571               717               770  \n",
      "4            92428               756               707  \n",
      "\n",
      "p-value: 0.01679\n",
      "\n",
      "относительный прирост среднего числа заказов группы B: 0.138\n"
     ]
    }
   ],
   "source": [
    "visitorsADaily = visitors[visitors['group'] == 'A'][['date', 'visitors']]\n",
    "visitorsADaily.columns = ['date', 'visitorsPerDateA']\n",
    "\n",
    "\n",
    "visitorsBDaily = visitors[visitors['group'] == 'B'][['date', 'visitors']]\n",
    "visitorsBDaily.columns = ['date', 'visitorsPerDateB']\n",
    "\n",
    "ordersADaily = (\n",
    "    orders[orders['group'] == 'A'][['date', 'transactionId', 'visitorId', 'revenue']]\n",
    "    .groupby('date', as_index=False)\n",
    "    .agg({'transactionId': pd.Series.nunique, 'revenue': 'sum'})\n",
    ")\n",
    "ordersADaily.columns = ['date', 'ordersPerDateA', 'revenuePerDateA']\n",
    "\n",
    "ordersBDaily = (\n",
    "    orders[orders['group'] == 'B'][['date', 'transactionId', 'visitorId', 'revenue']]\n",
    "    .groupby('date', as_index=False)\n",
    "    .agg({'transactionId': pd.Series.nunique, 'revenue': 'sum'})\n",
    ")\n",
    "ordersBDaily.columns = ['date', 'ordersPerDateB', 'revenuePerDateB']\n",
    "\n",
    "\n",
    "data = (\n",
    "    ordersADaily.merge(\n",
    "        ordersBDaily, left_on='date', right_on='date', how='left'\n",
    "    )\n",
    "    .merge(visitorsADaily, left_on='date', right_on='date', how='left')\n",
    "    .merge(visitorsBDaily, left_on='date', right_on='date', how='left')\n",
    ")\n",
    "\n",
    "print(data.head(5))\n",
    "\n",
    "ordersByUsersA = (\n",
    "    orders[orders['group'] == 'A']\n",
    "    .groupby('visitorId', as_index=False)\n",
    "    .agg({'transactionId': pd.Series.nunique})\n",
    ")\n",
    "ordersByUsersA.columns = ['visitorId', 'orders']\n",
    "\n",
    "ordersByUsersB = (\n",
    "    orders[orders['group'] == 'B']\n",
    "    .groupby('visitorId', as_index=False)\n",
    "    .agg({'transactionId': pd.Series.nunique})\n",
    ")\n",
    "ordersByUsersB.columns = ['visitorId', 'orders']\n",
    "\n",
    "sampleA = pd.concat(\n",
    "    [\n",
    "        ordersByUsersA['orders'],\n",
    "        pd.Series(\n",
    "            0,\n",
    "            index=np.arange(\n",
    "                data['visitorsPerDateA'].sum() - len(ordersByUsersA['orders'])\n",
    "            ),\n",
    "            name='orders',\n",
    "        ),\n",
    "    ],\n",
    "    axis=0,\n",
    ")\n",
    "\n",
    "sampleB = pd.concat(\n",
    "    [\n",
    "        ordersByUsersB['orders'],\n",
    "        pd.Series(\n",
    "            0,\n",
    "            index=np.arange(\n",
    "                data['visitorsPerDateB'].sum() - len(ordersByUsersB['orders'])\n",
    "            ),\n",
    "            name='orders',\n",
    "        ),\n",
    "    ],\n",
    "    axis=0,\n",
    ")\n",
    "print()\n",
    "print('p-value:', (\"{0:.5f}\".format(stats.mannwhitneyu(sampleA, sampleB)[1])))\n",
    "print()\n",
    "print ('относительный прирост среднего числа заказов группы B:', (\"{0:.3f}\".format((data['ordersPerDateB'].sum()/data['visitorsPerDateB'].sum())/(data['ordersPerDateA'].sum()/data['visitorsPerDateA'].sum())-1)))"
   ]
  },
  {
   "cell_type": "markdown",
   "metadata": {},
   "source": [
    "P-value  меньше 0.05, потому нулевую гипотезу отвергаем. Анализ «сырых данных» сообщает, что в среднем количестве заказов между группами есть статистически значимые различия. Относительный прирост среднего группы B к конверсии группы A равен 13.8%."
   ]
  },
  {
   "cell_type": "markdown",
   "metadata": {},
   "source": [
    "Нулевая гипотеза: различий в среднем чеке заказа между группами по «сырым» данным нет\n",
    "\n",
    "Альтернативная гипотеза: различия в среднем чеке заказа между группами по «сырым» данным есть\n",
    "\n",
    "alpha = 0.05\n",
    "\n",
    "Использую непараметрический тест Уилкоксона-Манна-Уитни, он лучше работает с выбросами."
   ]
  },
  {
   "cell_type": "code",
   "execution_count": 19,
   "metadata": {},
   "outputs": [
    {
     "name": "stdout",
     "output_type": "stream",
     "text": [
      "p-value: 0.729\n",
      "относительный прирост среднего чека заказов группы B: 0.259\n"
     ]
    }
   ],
   "source": [
    "print('p-value:', ('{0:.3f}'.format(stats.mannwhitneyu(orders[orders['group']=='A']['revenue'], orders[orders['group']=='B']['revenue'])[1])))\n",
    "print('относительный прирост среднего чека заказов группы B:',('{0:.3f}'.\n",
    "format(orders[orders['group']=='B']['revenue'].mean()/orders[orders['group']=='A']['revenue'].mean()-1)))"
   ]
  },
  {
   "cell_type": "markdown",
   "metadata": {},
   "source": [
    "P-value больше 0.05 — нулевую гипотезу не отвергаем, статистически значимых отличий в среднем чеке между группами нет. Кроме того, относительное различие среднего чека между сегментами 25.9%\n",
    "\n",
    "Нулевая гипотеза: различий в среднем количестве заказов на посетителя между группами по «очищенным» данным нет\n",
    "\n",
    "Альтернативная гипотеза: различия в среднем количестве заказов на посетителя между группами по «очищенным» данным есть\n",
    "\n",
    "alpha = 0.05\n",
    "\n",
    "По примеру в уроке я также использовала тест Уилкоксона-Манна-Уитни"
   ]
  },
  {
   "cell_type": "code",
   "execution_count": 20,
   "metadata": {},
   "outputs": [
    {
     "name": "stdout",
     "output_type": "stream",
     "text": [
      "1099     148427295\n",
      "949      887908475\n",
      "744      888512513\n",
      "1103    1164614297\n",
      "1136    1307669133\n",
      "Name: visitorId, dtype: int64\n"
     ]
    }
   ],
   "source": [
    "usersWithManyOrders = pd.concat(\n",
    "    [\n",
    "        ordersByUsersA[ordersByUsersA['orders'] > 4]['visitorId'],\n",
    "        ordersByUsersB[ordersByUsersB['orders'] > 4]['visitorId'],\n",
    "    ],\n",
    "    axis=0,\n",
    ")\n",
    "usersWithExpensiveOrders = orders[orders['revenue'] > 58000]['visitorId']\n",
    "abnormalUsers = (\n",
    "    pd.concat([usersWithManyOrders, usersWithExpensiveOrders], axis=0)\n",
    "    .drop_duplicates()\n",
    "    .sort_values()\n",
    ")\n",
    "print(abnormalUsers.head(5))"
   ]
  },
  {
   "cell_type": "code",
   "execution_count": 21,
   "metadata": {},
   "outputs": [
    {
     "name": "stdout",
     "output_type": "stream",
     "text": [
      "p-value: 0.014\n",
      "относительный прирост среднего числа заказов группы B: 0.153\n"
     ]
    }
   ],
   "source": [
    "sampleAFiltered = pd.concat(\n",
    "    [\n",
    "        ordersByUsersA[\n",
    "            np.logical_not(ordersByUsersA['visitorId'].isin(abnormalUsers))\n",
    "        ]['orders'],\n",
    "        pd.Series(\n",
    "            0,\n",
    "            index=np.arange(\n",
    "                data['visitorsPerDateA'].sum() - len(ordersByUsersA['orders'])\n",
    "            ),\n",
    "            name='orders',\n",
    "        ),\n",
    "    ],\n",
    "    axis=0,\n",
    ")\n",
    "\n",
    "sampleBFiltered = pd.concat(\n",
    "    [\n",
    "        ordersByUsersB[\n",
    "            np.logical_not(ordersByUsersB['visitorId'].isin(abnormalUsers))\n",
    "        ]['orders'],\n",
    "        pd.Series(\n",
    "            0,\n",
    "            index=np.arange(\n",
    "                data['visitorsPerDateB'].sum() - len(ordersByUsersB['orders'])\n",
    "            ),\n",
    "            name='orders',\n",
    "        ),\n",
    "    ],\n",
    "    axis=0,\n",
    ")\n",
    "\n",
    "print('p-value:', ('{0:.3f}'.format(stats.mannwhitneyu(sampleAFiltered, sampleBFiltered)[1])))\n",
    "print('относительный прирост среднего числа заказов группы B:' , ('{0:.3f}'\n",
    "                .format(sampleBFiltered.mean()/sampleAFiltered.mean()-1)))\n"
   ]
  },
  {
   "cell_type": "markdown",
   "metadata": {},
   "source": [
    "P-value меньше 0.05, потому нулевую гипотезу отвергаем. Анализ данных сообщает, что в среднем количестве заказов между группами есть статистически значимые различия. Относительный прирост среднего группы B к конверсии группы A равен 14.8%.\n",
    "\n",
    "Нулевая гипотеза: различий в среднем чеке заказа между группами по «очищенным» данным нет\n",
    "\n",
    "Альтернативная гипотеза: различия в среднем чеке заказа между группами по «очищенным» данным есть\n",
    "\n",
    "alpha = 0.05\n",
    "\n",
    "Я также использовала тест Уилкоксона-Манна-Уитни"
   ]
  },
  {
   "cell_type": "code",
   "execution_count": 22,
   "metadata": {},
   "outputs": [
    {
     "name": "stdout",
     "output_type": "stream",
     "text": [
      "p-value: 0.851\n",
      "относительный прирост среднего чека заказов группы B: -0.006\n"
     ]
    }
   ],
   "source": [
    "print( 'p-value:' ,(\n",
    "    '{0:.3f}'.format(\n",
    "        stats.mannwhitneyu(\n",
    "            orders[\n",
    "                np.logical_and(\n",
    "                    orders['group'] == 'A',\n",
    "                    np.logical_not(orders['visitorId'].isin(abnormalUsers)),\n",
    "                )\n",
    "            ]['revenue'],\n",
    "            orders[\n",
    "                np.logical_and(\n",
    "                    orders['group'] == 'B',\n",
    "                    np.logical_not(orders['visitorId'].isin(abnormalUsers)),\n",
    "                )\n",
    "            ]['revenue'],\n",
    "        )[1]\n",
    "    )\n",
    "))\n",
    "\n",
    "print('относительный прирост среднего чека заказов группы B:', (\n",
    "    \"{0:.3f}\".format(\n",
    "        orders[\n",
    "            np.logical_and(\n",
    "                orders['group'] == 'B',\n",
    "                np.logical_not(orders['visitorId'].isin(abnormalUsers)),\n",
    "            )\n",
    "        ]['revenue'].mean()\n",
    "        / orders[\n",
    "            np.logical_and(\n",
    "                orders['group'] == 'A',\n",
    "                np.logical_not(orders['visitorId'].isin(abnormalUsers)),\n",
    "            )\n",
    "        ]['revenue'].mean()\n",
    "        - 1\n",
    "    )\n",
    "))"
   ]
  },
  {
   "cell_type": "markdown",
   "metadata": {},
   "source": [
    "P-value больше 0.05 — статистически значимых отличий в среднем чеке между группами нет, нулевую гипотезу не отвергаем."
   ]
  },
  {
   "cell_type": "markdown",
   "metadata": {},
   "source": [
    "**Вывод:**\n",
    "\n",
    "Мы провели анализ по сырым и по очищенным данным.\n",
    "\n",
    "\n",
    "* статистическая значимость различий в среднем количестве заказов на посетителя между группами.\n",
    "По сырым данным P-value меньше 0.05, потому нулевую гипотезу отвергаем. Относительный прирост среднего группы B к конверсии группы A равен 13.8%. \n",
    "\n",
    "По очищенным данным P-value также меньше 0.05. Относительный прирост среднего группы B к конверсии группы A равен 14.8%.\n",
    "\n",
    "* статистическая значимость различий в среднем чеке заказа между группами \n",
    "По сырым данным P-value больше 0.05 — статистически значимых отличий в среднем чеке между группами нет. Кроме того, относительное различие среднего чека между сегментами всего 2.59%\n",
    "\n",
    "По очищенным данным P-value также больше 0.05 — статистически значимых отличий в среднем чеке между группами нет.\n",
    "\n",
    "Да, данные были с аномалиями, но очистка не изменила выводы.\n",
    "\n",
    "**Заключение**\n",
    "\n",
    "Я считаю, что можно остановить тест и зафиксировать победу группы В. Так как несмотря на то, что средний чек не изменился, у нас есть статистически значимые изменения в количестве заказов, а значит тест был успешным."
   ]
  },
  {
   "cell_type": "code",
   "execution_count": null,
   "metadata": {},
   "outputs": [],
   "source": []
  }
 ],
 "metadata": {
  "ExecuteTimeLog": [
   {
    "duration": 408,
    "start_time": "2024-01-05T16:54:30.580Z"
   },
   {
    "duration": 69,
    "start_time": "2024-01-05T16:54:50.405Z"
   },
   {
    "duration": 64,
    "start_time": "2024-01-05T16:55:08.532Z"
   },
   {
    "duration": 47,
    "start_time": "2024-01-05T16:55:56.622Z"
   },
   {
    "duration": 29,
    "start_time": "2024-01-05T16:56:01.693Z"
   },
   {
    "duration": 35,
    "start_time": "2024-01-05T16:56:05.759Z"
   },
   {
    "duration": 66,
    "start_time": "2024-01-05T16:56:58.898Z"
   },
   {
    "duration": 10,
    "start_time": "2024-01-05T16:57:05.760Z"
   },
   {
    "duration": 9,
    "start_time": "2024-01-05T16:58:10.221Z"
   },
   {
    "duration": 11,
    "start_time": "2024-01-05T16:59:16.358Z"
   },
   {
    "duration": 41,
    "start_time": "2024-01-08T06:11:38.912Z"
   },
   {
    "duration": 351,
    "start_time": "2024-01-08T06:11:47.194Z"
   },
   {
    "duration": 73,
    "start_time": "2024-01-08T06:11:47.546Z"
   },
   {
    "duration": 10,
    "start_time": "2024-01-08T06:11:47.621Z"
   },
   {
    "duration": 13,
    "start_time": "2024-01-08T06:11:47.633Z"
   },
   {
    "duration": 144,
    "start_time": "2024-01-08T06:11:47.648Z"
   },
   {
    "duration": 113,
    "start_time": "2024-01-08T06:11:55.007Z"
   },
   {
    "duration": 13,
    "start_time": "2024-01-08T06:17:28.471Z"
   },
   {
    "duration": 71,
    "start_time": "2024-01-08T06:17:35.843Z"
   },
   {
    "duration": 16,
    "start_time": "2024-01-08T06:17:38.718Z"
   },
   {
    "duration": 316,
    "start_time": "2024-01-08T06:18:48.294Z"
   },
   {
    "duration": 364,
    "start_time": "2024-01-08T06:19:23.969Z"
   },
   {
    "duration": 380,
    "start_time": "2024-01-08T06:19:32.742Z"
   },
   {
    "duration": 355,
    "start_time": "2024-01-08T06:20:17.584Z"
   },
   {
    "duration": 13,
    "start_time": "2024-01-08T06:23:16.669Z"
   },
   {
    "duration": 16,
    "start_time": "2024-01-08T06:23:24.454Z"
   },
   {
    "duration": 27,
    "start_time": "2024-01-08T06:24:49.583Z"
   },
   {
    "duration": 250,
    "start_time": "2024-01-08T06:25:43.409Z"
   },
   {
    "duration": 253,
    "start_time": "2024-01-08T06:26:12.999Z"
   },
   {
    "duration": 245,
    "start_time": "2024-01-08T06:26:21.506Z"
   },
   {
    "duration": 447,
    "start_time": "2024-01-08T06:29:11.804Z"
   },
   {
    "duration": 420,
    "start_time": "2024-01-08T06:29:19.304Z"
   },
   {
    "duration": 402,
    "start_time": "2024-01-08T06:31:16.614Z"
   },
   {
    "duration": 431,
    "start_time": "2024-01-08T06:33:15.952Z"
   },
   {
    "duration": 440,
    "start_time": "2024-01-08T06:33:47.639Z"
   },
   {
    "duration": 179,
    "start_time": "2024-01-08T06:35:27.135Z"
   },
   {
    "duration": 179,
    "start_time": "2024-01-08T06:36:16.947Z"
   },
   {
    "duration": 285,
    "start_time": "2024-01-08T06:39:36.286Z"
   },
   {
    "duration": 286,
    "start_time": "2024-01-08T06:39:52.419Z"
   },
   {
    "duration": 278,
    "start_time": "2024-01-08T06:40:39.369Z"
   },
   {
    "duration": 191,
    "start_time": "2024-01-08T06:46:01.375Z"
   },
   {
    "duration": 212,
    "start_time": "2024-01-08T06:47:07.681Z"
   },
   {
    "duration": 347,
    "start_time": "2024-01-08T06:50:14.107Z"
   },
   {
    "duration": 265,
    "start_time": "2024-01-08T06:51:32.289Z"
   },
   {
    "duration": 273,
    "start_time": "2024-01-08T06:51:38.537Z"
   },
   {
    "duration": 321,
    "start_time": "2024-01-08T07:00:53.701Z"
   },
   {
    "duration": 254,
    "start_time": "2024-01-08T07:01:24.793Z"
   },
   {
    "duration": 269,
    "start_time": "2024-01-08T07:01:32.054Z"
   },
   {
    "duration": 334,
    "start_time": "2024-01-08T07:01:45.662Z"
   },
   {
    "duration": 328,
    "start_time": "2024-01-08T07:02:53.526Z"
   },
   {
    "duration": 221,
    "start_time": "2024-01-08T07:03:05.848Z"
   },
   {
    "duration": 333,
    "start_time": "2024-01-08T07:03:13.277Z"
   },
   {
    "duration": 12,
    "start_time": "2024-01-08T07:05:26.121Z"
   },
   {
    "duration": 115,
    "start_time": "2024-01-08T07:06:27.043Z"
   },
   {
    "duration": 170,
    "start_time": "2024-01-08T07:06:36.549Z"
   },
   {
    "duration": 101,
    "start_time": "2024-01-08T07:07:30.869Z"
   },
   {
    "duration": 102,
    "start_time": "2024-01-08T07:08:09.574Z"
   },
   {
    "duration": 10,
    "start_time": "2024-01-08T07:09:51.462Z"
   },
   {
    "duration": 1229,
    "start_time": "2024-01-08T07:10:11.676Z"
   },
   {
    "duration": 118,
    "start_time": "2024-01-08T07:10:56.489Z"
   },
   {
    "duration": 105,
    "start_time": "2024-01-08T07:11:03.847Z"
   },
   {
    "duration": 116,
    "start_time": "2024-01-08T07:15:54.171Z"
   },
   {
    "duration": 125,
    "start_time": "2024-01-08T07:16:37.102Z"
   },
   {
    "duration": 131,
    "start_time": "2024-01-08T07:17:15.181Z"
   },
   {
    "duration": 79,
    "start_time": "2024-01-08T07:17:27.780Z"
   },
   {
    "duration": 121,
    "start_time": "2024-01-08T07:17:30.931Z"
   },
   {
    "duration": 145,
    "start_time": "2024-01-08T07:18:03.339Z"
   },
   {
    "duration": 166,
    "start_time": "2024-01-08T07:19:37.604Z"
   },
   {
    "duration": 150,
    "start_time": "2024-01-08T07:20:35.232Z"
   },
   {
    "duration": 638,
    "start_time": "2024-01-08T07:54:52.150Z"
   },
   {
    "duration": 34,
    "start_time": "2024-01-08T07:54:52.790Z"
   },
   {
    "duration": 13,
    "start_time": "2024-01-08T07:54:52.826Z"
   },
   {
    "duration": 29,
    "start_time": "2024-01-08T07:54:52.842Z"
   },
   {
    "duration": 86,
    "start_time": "2024-01-08T07:54:52.873Z"
   },
   {
    "duration": 16,
    "start_time": "2024-01-08T07:54:52.961Z"
   },
   {
    "duration": 40,
    "start_time": "2024-01-08T07:54:52.978Z"
   },
   {
    "duration": 563,
    "start_time": "2024-01-08T07:54:53.019Z"
   },
   {
    "duration": 220,
    "start_time": "2024-01-08T07:54:53.585Z"
   },
   {
    "duration": 288,
    "start_time": "2024-01-08T07:54:53.807Z"
   },
   {
    "duration": 268,
    "start_time": "2024-01-08T07:54:54.096Z"
   },
   {
    "duration": 347,
    "start_time": "2024-01-08T07:54:54.365Z"
   },
   {
    "duration": 140,
    "start_time": "2024-01-08T07:54:54.714Z"
   },
   {
    "duration": 150,
    "start_time": "2024-01-08T07:54:54.856Z"
   },
   {
    "duration": 189,
    "start_time": "2024-01-08T07:54:55.007Z"
   },
   {
    "duration": 320,
    "start_time": "2024-01-08T07:57:03.765Z"
   },
   {
    "duration": 350,
    "start_time": "2024-01-08T07:57:51.686Z"
   },
   {
    "duration": 367,
    "start_time": "2024-01-08T07:57:57.402Z"
   },
   {
    "duration": 396,
    "start_time": "2024-01-08T07:58:32.870Z"
   },
   {
    "duration": 1266,
    "start_time": "2024-01-08T09:43:43.101Z"
   },
   {
    "duration": 71,
    "start_time": "2024-01-08T09:43:44.369Z"
   },
   {
    "duration": 12,
    "start_time": "2024-01-08T09:43:44.441Z"
   },
   {
    "duration": 11,
    "start_time": "2024-01-08T09:43:44.454Z"
   },
   {
    "duration": 153,
    "start_time": "2024-01-08T09:43:44.467Z"
   },
   {
    "duration": 16,
    "start_time": "2024-01-08T09:43:44.621Z"
   },
   {
    "duration": 13,
    "start_time": "2024-01-08T09:43:44.639Z"
   },
   {
    "duration": 537,
    "start_time": "2024-01-08T09:43:44.653Z"
   },
   {
    "duration": 222,
    "start_time": "2024-01-08T09:43:45.191Z"
   },
   {
    "duration": 344,
    "start_time": "2024-01-08T09:43:45.414Z"
   },
   {
    "duration": 230,
    "start_time": "2024-01-08T09:43:45.759Z"
   },
   {
    "duration": 363,
    "start_time": "2024-01-08T09:43:45.990Z"
   },
   {
    "duration": 161,
    "start_time": "2024-01-08T09:43:46.355Z"
   },
   {
    "duration": 155,
    "start_time": "2024-01-08T09:43:46.518Z"
   },
   {
    "duration": 336,
    "start_time": "2024-01-08T09:43:46.675Z"
   },
   {
    "duration": 9,
    "start_time": "2024-01-08T09:44:02.142Z"
   },
   {
    "duration": 9,
    "start_time": "2024-01-08T09:47:38.884Z"
   },
   {
    "duration": 28,
    "start_time": "2024-01-08T09:49:08.906Z"
   },
   {
    "duration": 1345,
    "start_time": "2024-01-08T09:51:32.491Z"
   },
   {
    "duration": 17,
    "start_time": "2024-01-08T09:54:34.872Z"
   },
   {
    "duration": 1080,
    "start_time": "2024-01-08T11:30:30.237Z"
   },
   {
    "duration": 36,
    "start_time": "2024-01-08T11:30:31.319Z"
   },
   {
    "duration": 14,
    "start_time": "2024-01-08T11:30:31.356Z"
   },
   {
    "duration": 38,
    "start_time": "2024-01-08T11:30:31.372Z"
   },
   {
    "duration": 112,
    "start_time": "2024-01-08T11:30:31.412Z"
   },
   {
    "duration": 18,
    "start_time": "2024-01-08T11:30:31.526Z"
   },
   {
    "duration": 58,
    "start_time": "2024-01-08T11:30:31.546Z"
   },
   {
    "duration": 607,
    "start_time": "2024-01-08T11:30:31.606Z"
   },
   {
    "duration": 211,
    "start_time": "2024-01-08T11:30:32.215Z"
   },
   {
    "duration": 303,
    "start_time": "2024-01-08T11:30:32.428Z"
   },
   {
    "duration": 1233,
    "start_time": "2024-01-08T11:53:47.255Z"
   },
   {
    "duration": 69,
    "start_time": "2024-01-08T11:53:48.490Z"
   },
   {
    "duration": 25,
    "start_time": "2024-01-08T11:53:48.560Z"
   },
   {
    "duration": 16,
    "start_time": "2024-01-08T11:53:48.587Z"
   },
   {
    "duration": 143,
    "start_time": "2024-01-08T11:53:48.605Z"
   },
   {
    "duration": 15,
    "start_time": "2024-01-08T11:53:48.750Z"
   },
   {
    "duration": 47,
    "start_time": "2024-01-08T11:53:48.766Z"
   },
   {
    "duration": 527,
    "start_time": "2024-01-08T11:53:48.814Z"
   },
   {
    "duration": 197,
    "start_time": "2024-01-08T11:53:49.342Z"
   },
   {
    "duration": 381,
    "start_time": "2024-01-08T11:53:49.541Z"
   },
   {
    "duration": 222,
    "start_time": "2024-01-08T11:53:49.924Z"
   },
   {
    "duration": 361,
    "start_time": "2024-01-08T11:53:50.148Z"
   },
   {
    "duration": 140,
    "start_time": "2024-01-08T11:53:50.510Z"
   },
   {
    "duration": 164,
    "start_time": "2024-01-08T11:53:50.651Z"
   },
   {
    "duration": 363,
    "start_time": "2024-01-08T11:53:50.817Z"
   },
   {
    "duration": 10,
    "start_time": "2024-01-08T11:53:51.181Z"
   },
   {
    "duration": 9,
    "start_time": "2024-01-08T11:53:51.192Z"
   },
   {
    "duration": 32,
    "start_time": "2024-01-08T11:53:51.203Z"
   },
   {
    "duration": 32,
    "start_time": "2024-01-08T11:53:51.237Z"
   },
   {
    "duration": 146,
    "start_time": "2024-01-08T11:59:21.466Z"
   },
   {
    "duration": 44,
    "start_time": "2024-01-08T14:23:45.590Z"
   },
   {
    "duration": 1287,
    "start_time": "2024-01-08T14:23:52.244Z"
   },
   {
    "duration": 70,
    "start_time": "2024-01-08T14:23:53.532Z"
   },
   {
    "duration": 16,
    "start_time": "2024-01-08T14:23:53.603Z"
   },
   {
    "duration": 20,
    "start_time": "2024-01-08T14:23:53.621Z"
   },
   {
    "duration": 186,
    "start_time": "2024-01-08T14:23:53.643Z"
   },
   {
    "duration": 17,
    "start_time": "2024-01-08T14:23:53.831Z"
   },
   {
    "duration": 26,
    "start_time": "2024-01-08T14:23:53.850Z"
   },
   {
    "duration": 557,
    "start_time": "2024-01-08T14:23:53.878Z"
   },
   {
    "duration": 204,
    "start_time": "2024-01-08T14:23:54.438Z"
   },
   {
    "duration": 383,
    "start_time": "2024-01-08T14:23:54.645Z"
   },
   {
    "duration": 224,
    "start_time": "2024-01-08T14:23:55.030Z"
   },
   {
    "duration": 402,
    "start_time": "2024-01-08T14:23:55.256Z"
   },
   {
    "duration": 150,
    "start_time": "2024-01-08T14:23:55.665Z"
   },
   {
    "duration": 190,
    "start_time": "2024-01-08T14:23:55.817Z"
   },
   {
    "duration": 363,
    "start_time": "2024-01-08T14:23:56.008Z"
   },
   {
    "duration": 11,
    "start_time": "2024-01-08T14:23:56.372Z"
   },
   {
    "duration": 9,
    "start_time": "2024-01-08T14:23:56.384Z"
   },
   {
    "duration": 34,
    "start_time": "2024-01-08T14:23:56.395Z"
   },
   {
    "duration": 38,
    "start_time": "2024-01-08T14:23:56.431Z"
   },
   {
    "duration": 19,
    "start_time": "2024-01-08T14:25:58.479Z"
   },
   {
    "duration": 1111,
    "start_time": "2024-01-08T14:27:38.639Z"
   },
   {
    "duration": 34,
    "start_time": "2024-01-08T14:27:39.752Z"
   },
   {
    "duration": 18,
    "start_time": "2024-01-08T14:27:39.788Z"
   },
   {
    "duration": 11,
    "start_time": "2024-01-08T14:27:39.808Z"
   },
   {
    "duration": 61,
    "start_time": "2024-01-08T14:27:39.820Z"
   },
   {
    "duration": 15,
    "start_time": "2024-01-08T14:27:39.883Z"
   },
   {
    "duration": 18,
    "start_time": "2024-01-08T14:27:39.899Z"
   },
   {
    "duration": 103,
    "start_time": "2024-01-08T14:27:39.919Z"
   },
   {
    "duration": 0,
    "start_time": "2024-01-08T14:27:40.024Z"
   },
   {
    "duration": 0,
    "start_time": "2024-01-08T14:27:40.026Z"
   },
   {
    "duration": 0,
    "start_time": "2024-01-08T14:27:40.027Z"
   },
   {
    "duration": 0,
    "start_time": "2024-01-08T14:27:40.028Z"
   },
   {
    "duration": 0,
    "start_time": "2024-01-08T14:27:40.030Z"
   },
   {
    "duration": 0,
    "start_time": "2024-01-08T14:27:40.031Z"
   },
   {
    "duration": 0,
    "start_time": "2024-01-08T14:27:40.033Z"
   },
   {
    "duration": 0,
    "start_time": "2024-01-08T14:27:40.034Z"
   },
   {
    "duration": 1,
    "start_time": "2024-01-08T14:27:40.035Z"
   },
   {
    "duration": 0,
    "start_time": "2024-01-08T14:27:40.037Z"
   },
   {
    "duration": 0,
    "start_time": "2024-01-08T14:27:40.038Z"
   },
   {
    "duration": 0,
    "start_time": "2024-01-08T14:27:40.039Z"
   },
   {
    "duration": 0,
    "start_time": "2024-01-08T14:27:40.041Z"
   },
   {
    "duration": 10,
    "start_time": "2024-01-08T14:29:21.167Z"
   },
   {
    "duration": 5,
    "start_time": "2024-01-08T14:29:41.124Z"
   },
   {
    "duration": 1064,
    "start_time": "2024-01-08T14:31:00.459Z"
   },
   {
    "duration": 34,
    "start_time": "2024-01-08T14:31:01.525Z"
   },
   {
    "duration": 12,
    "start_time": "2024-01-08T14:31:01.561Z"
   },
   {
    "duration": 23,
    "start_time": "2024-01-08T14:31:01.575Z"
   },
   {
    "duration": 100,
    "start_time": "2024-01-08T14:31:01.599Z"
   },
   {
    "duration": 16,
    "start_time": "2024-01-08T14:31:01.700Z"
   },
   {
    "duration": 32,
    "start_time": "2024-01-08T14:31:01.718Z"
   },
   {
    "duration": 18,
    "start_time": "2024-01-08T14:31:01.752Z"
   },
   {
    "duration": 42,
    "start_time": "2024-01-08T14:31:01.772Z"
   },
   {
    "duration": 555,
    "start_time": "2024-01-08T14:31:01.816Z"
   },
   {
    "duration": 210,
    "start_time": "2024-01-08T14:31:02.373Z"
   },
   {
    "duration": 291,
    "start_time": "2024-01-08T14:31:02.585Z"
   },
   {
    "duration": 232,
    "start_time": "2024-01-08T14:31:02.878Z"
   },
   {
    "duration": 341,
    "start_time": "2024-01-08T14:31:03.111Z"
   },
   {
    "duration": 159,
    "start_time": "2024-01-08T14:31:03.454Z"
   },
   {
    "duration": 163,
    "start_time": "2024-01-08T14:31:03.614Z"
   },
   {
    "duration": 359,
    "start_time": "2024-01-08T14:31:03.779Z"
   },
   {
    "duration": 9,
    "start_time": "2024-01-08T14:31:04.139Z"
   },
   {
    "duration": 36,
    "start_time": "2024-01-08T14:31:04.149Z"
   },
   {
    "duration": 54,
    "start_time": "2024-01-08T14:31:04.187Z"
   },
   {
    "duration": 15,
    "start_time": "2024-01-08T14:31:04.242Z"
   },
   {
    "duration": 307,
    "start_time": "2024-01-08T14:31:49.419Z"
   },
   {
    "duration": 384,
    "start_time": "2024-01-08T14:32:26.543Z"
   },
   {
    "duration": 9,
    "start_time": "2024-01-08T14:34:32.828Z"
   },
   {
    "duration": 158,
    "start_time": "2024-01-08T14:37:22.357Z"
   },
   {
    "duration": 151,
    "start_time": "2024-01-08T14:37:47.279Z"
   },
   {
    "duration": 158,
    "start_time": "2024-01-08T14:38:15.353Z"
   },
   {
    "duration": 131,
    "start_time": "2024-01-08T14:38:33.380Z"
   },
   {
    "duration": 142,
    "start_time": "2024-01-08T14:38:42.700Z"
   },
   {
    "duration": 178,
    "start_time": "2024-01-08T14:38:55.756Z"
   },
   {
    "duration": 8,
    "start_time": "2024-01-08T14:40:09.663Z"
   },
   {
    "duration": 8,
    "start_time": "2024-01-08T15:39:48.965Z"
   },
   {
    "duration": 7,
    "start_time": "2024-01-08T15:39:57.399Z"
   },
   {
    "duration": 15,
    "start_time": "2024-01-08T15:47:45.523Z"
   },
   {
    "duration": 101,
    "start_time": "2024-01-08T15:51:51.403Z"
   },
   {
    "duration": 1188,
    "start_time": "2024-01-08T15:54:19.741Z"
   },
   {
    "duration": 8,
    "start_time": "2024-01-08T15:56:19.355Z"
   },
   {
    "duration": 15,
    "start_time": "2024-01-08T16:16:43.167Z"
   },
   {
    "duration": 28,
    "start_time": "2024-01-08T16:17:59.900Z"
   },
   {
    "duration": 9,
    "start_time": "2024-01-08T16:19:22.520Z"
   },
   {
    "duration": 344,
    "start_time": "2024-01-08T16:20:41.036Z"
   },
   {
    "duration": 176,
    "start_time": "2024-01-08T16:21:45.210Z"
   },
   {
    "duration": 1018,
    "start_time": "2024-01-08T16:23:06.221Z"
   },
   {
    "duration": 34,
    "start_time": "2024-01-08T16:23:07.241Z"
   },
   {
    "duration": 12,
    "start_time": "2024-01-08T16:23:07.276Z"
   },
   {
    "duration": 9,
    "start_time": "2024-01-08T16:23:07.290Z"
   },
   {
    "duration": 71,
    "start_time": "2024-01-08T16:23:07.301Z"
   },
   {
    "duration": 8,
    "start_time": "2024-01-08T16:23:07.374Z"
   },
   {
    "duration": 6,
    "start_time": "2024-01-08T16:23:07.383Z"
   },
   {
    "duration": 16,
    "start_time": "2024-01-08T16:23:07.390Z"
   },
   {
    "duration": 14,
    "start_time": "2024-01-08T16:23:07.408Z"
   },
   {
    "duration": 561,
    "start_time": "2024-01-08T16:23:07.424Z"
   },
   {
    "duration": 204,
    "start_time": "2024-01-08T16:23:07.987Z"
   },
   {
    "duration": 290,
    "start_time": "2024-01-08T16:23:08.192Z"
   },
   {
    "duration": 239,
    "start_time": "2024-01-08T16:23:08.484Z"
   },
   {
    "duration": 341,
    "start_time": "2024-01-08T16:23:08.725Z"
   },
   {
    "duration": 140,
    "start_time": "2024-01-08T16:23:09.068Z"
   },
   {
    "duration": 157,
    "start_time": "2024-01-08T16:23:09.210Z"
   },
   {
    "duration": 157,
    "start_time": "2024-01-08T16:23:09.369Z"
   },
   {
    "duration": 100,
    "start_time": "2024-01-08T16:23:09.527Z"
   },
   {
    "duration": 0,
    "start_time": "2024-01-08T16:23:09.629Z"
   },
   {
    "duration": 0,
    "start_time": "2024-01-08T16:23:09.630Z"
   },
   {
    "duration": 0,
    "start_time": "2024-01-08T16:23:09.631Z"
   },
   {
    "duration": 0,
    "start_time": "2024-01-08T16:23:09.632Z"
   },
   {
    "duration": 1125,
    "start_time": "2024-01-08T16:41:25.451Z"
   },
   {
    "duration": 68,
    "start_time": "2024-01-08T16:41:26.577Z"
   },
   {
    "duration": 11,
    "start_time": "2024-01-08T16:41:26.647Z"
   },
   {
    "duration": 11,
    "start_time": "2024-01-08T16:41:26.660Z"
   },
   {
    "duration": 136,
    "start_time": "2024-01-08T16:41:26.673Z"
   },
   {
    "duration": 8,
    "start_time": "2024-01-08T16:41:26.810Z"
   },
   {
    "duration": 5,
    "start_time": "2024-01-08T16:41:26.819Z"
   },
   {
    "duration": 53,
    "start_time": "2024-01-08T16:41:26.826Z"
   },
   {
    "duration": 13,
    "start_time": "2024-01-08T16:41:26.881Z"
   },
   {
    "duration": 572,
    "start_time": "2024-01-08T16:41:26.895Z"
   },
   {
    "duration": 218,
    "start_time": "2024-01-08T16:41:27.469Z"
   },
   {
    "duration": 378,
    "start_time": "2024-01-08T16:41:27.689Z"
   },
   {
    "duration": 251,
    "start_time": "2024-01-08T16:41:28.069Z"
   },
   {
    "duration": 409,
    "start_time": "2024-01-08T16:41:28.322Z"
   },
   {
    "duration": 202,
    "start_time": "2024-01-08T16:41:28.733Z"
   },
   {
    "duration": 185,
    "start_time": "2024-01-08T16:41:28.937Z"
   },
   {
    "duration": 190,
    "start_time": "2024-01-08T16:41:29.123Z"
   },
   {
    "duration": 110,
    "start_time": "2024-01-08T16:41:29.315Z"
   },
   {
    "duration": 0,
    "start_time": "2024-01-08T16:41:29.427Z"
   },
   {
    "duration": 0,
    "start_time": "2024-01-08T16:41:29.428Z"
   },
   {
    "duration": 0,
    "start_time": "2024-01-08T16:41:29.429Z"
   },
   {
    "duration": 0,
    "start_time": "2024-01-08T16:41:29.431Z"
   },
   {
    "duration": 44,
    "start_time": "2024-01-08T17:53:05.986Z"
   },
   {
    "duration": 1198,
    "start_time": "2024-01-08T17:53:11.607Z"
   },
   {
    "duration": 77,
    "start_time": "2024-01-08T17:53:12.807Z"
   },
   {
    "duration": 12,
    "start_time": "2024-01-08T17:53:12.885Z"
   },
   {
    "duration": 10,
    "start_time": "2024-01-08T17:53:12.898Z"
   },
   {
    "duration": 136,
    "start_time": "2024-01-08T17:53:12.910Z"
   },
   {
    "duration": 8,
    "start_time": "2024-01-08T17:53:13.048Z"
   },
   {
    "duration": 92,
    "start_time": "2024-01-08T17:53:13.057Z"
   },
   {
    "duration": 0,
    "start_time": "2024-01-08T17:53:13.151Z"
   },
   {
    "duration": 0,
    "start_time": "2024-01-08T17:53:13.152Z"
   },
   {
    "duration": 0,
    "start_time": "2024-01-08T17:53:13.153Z"
   },
   {
    "duration": 0,
    "start_time": "2024-01-08T17:53:13.154Z"
   },
   {
    "duration": 0,
    "start_time": "2024-01-08T17:53:13.155Z"
   },
   {
    "duration": 0,
    "start_time": "2024-01-08T17:53:13.156Z"
   },
   {
    "duration": 0,
    "start_time": "2024-01-08T17:53:13.157Z"
   },
   {
    "duration": 0,
    "start_time": "2024-01-08T17:53:13.158Z"
   },
   {
    "duration": 0,
    "start_time": "2024-01-08T17:53:13.159Z"
   },
   {
    "duration": 0,
    "start_time": "2024-01-08T17:53:13.166Z"
   },
   {
    "duration": 0,
    "start_time": "2024-01-08T17:53:13.167Z"
   },
   {
    "duration": 0,
    "start_time": "2024-01-08T17:53:13.168Z"
   },
   {
    "duration": 0,
    "start_time": "2024-01-08T17:53:13.169Z"
   },
   {
    "duration": 0,
    "start_time": "2024-01-08T17:53:13.171Z"
   },
   {
    "duration": 0,
    "start_time": "2024-01-08T17:53:13.172Z"
   },
   {
    "duration": 3,
    "start_time": "2024-01-08T17:57:00.030Z"
   },
   {
    "duration": 10,
    "start_time": "2024-01-08T17:57:07.120Z"
   },
   {
    "duration": 1085,
    "start_time": "2024-01-08T17:58:33.653Z"
   },
   {
    "duration": 6,
    "start_time": "2024-01-08T17:58:49.698Z"
   },
   {
    "duration": 10,
    "start_time": "2024-01-08T17:58:59.122Z"
   },
   {
    "duration": 7,
    "start_time": "2024-01-08T17:59:13.885Z"
   },
   {
    "duration": 1075,
    "start_time": "2024-01-08T18:06:19.978Z"
   },
   {
    "duration": 33,
    "start_time": "2024-01-08T18:06:21.054Z"
   },
   {
    "duration": 11,
    "start_time": "2024-01-08T18:06:21.089Z"
   },
   {
    "duration": 10,
    "start_time": "2024-01-08T18:06:21.101Z"
   },
   {
    "duration": 78,
    "start_time": "2024-01-08T18:06:21.113Z"
   },
   {
    "duration": 7,
    "start_time": "2024-01-08T18:06:21.193Z"
   },
   {
    "duration": 6,
    "start_time": "2024-01-08T18:06:21.202Z"
   },
   {
    "duration": 19,
    "start_time": "2024-01-08T18:06:21.210Z"
   },
   {
    "duration": 21,
    "start_time": "2024-01-08T18:06:21.230Z"
   },
   {
    "duration": 551,
    "start_time": "2024-01-08T18:06:21.253Z"
   },
   {
    "duration": 210,
    "start_time": "2024-01-08T18:06:21.806Z"
   },
   {
    "duration": 279,
    "start_time": "2024-01-08T18:06:22.017Z"
   },
   {
    "duration": 227,
    "start_time": "2024-01-08T18:06:22.297Z"
   },
   {
    "duration": 327,
    "start_time": "2024-01-08T18:06:22.526Z"
   },
   {
    "duration": 150,
    "start_time": "2024-01-08T18:06:22.855Z"
   },
   {
    "duration": 164,
    "start_time": "2024-01-08T18:06:23.007Z"
   },
   {
    "duration": 161,
    "start_time": "2024-01-08T18:06:23.173Z"
   },
   {
    "duration": 116,
    "start_time": "2024-01-08T18:06:23.336Z"
   },
   {
    "duration": 0,
    "start_time": "2024-01-08T18:06:23.454Z"
   },
   {
    "duration": 0,
    "start_time": "2024-01-08T18:06:23.455Z"
   },
   {
    "duration": 0,
    "start_time": "2024-01-08T18:06:23.456Z"
   },
   {
    "duration": 0,
    "start_time": "2024-01-08T18:06:23.457Z"
   },
   {
    "duration": 1069,
    "start_time": "2024-01-08T18:07:59.085Z"
   },
   {
    "duration": 34,
    "start_time": "2024-01-08T18:08:00.156Z"
   },
   {
    "duration": 53,
    "start_time": "2024-01-08T18:08:00.191Z"
   },
   {
    "duration": 50,
    "start_time": "2024-01-08T18:08:00.245Z"
   },
   {
    "duration": 82,
    "start_time": "2024-01-08T18:08:00.296Z"
   },
   {
    "duration": 8,
    "start_time": "2024-01-08T18:08:00.380Z"
   },
   {
    "duration": 38,
    "start_time": "2024-01-08T18:08:00.389Z"
   },
   {
    "duration": 43,
    "start_time": "2024-01-08T18:08:00.428Z"
   },
   {
    "duration": 130,
    "start_time": "2024-01-08T18:08:00.473Z"
   },
   {
    "duration": 628,
    "start_time": "2024-01-08T18:08:00.605Z"
   },
   {
    "duration": 205,
    "start_time": "2024-01-08T18:08:01.235Z"
   },
   {
    "duration": 337,
    "start_time": "2024-01-08T18:08:01.441Z"
   },
   {
    "duration": 218,
    "start_time": "2024-01-08T18:08:01.779Z"
   },
   {
    "duration": 323,
    "start_time": "2024-01-08T18:08:01.999Z"
   },
   {
    "duration": 143,
    "start_time": "2024-01-08T18:08:02.324Z"
   },
   {
    "duration": 150,
    "start_time": "2024-01-08T18:08:02.468Z"
   },
   {
    "duration": 156,
    "start_time": "2024-01-08T18:08:02.620Z"
   },
   {
    "duration": 297,
    "start_time": "2024-01-08T18:08:02.778Z"
   },
   {
    "duration": 9,
    "start_time": "2024-01-08T18:08:03.076Z"
   },
   {
    "duration": 83,
    "start_time": "2024-01-08T18:08:03.087Z"
   },
   {
    "duration": 74,
    "start_time": "2024-01-08T18:08:03.171Z"
   },
   {
    "duration": 14,
    "start_time": "2024-01-08T18:08:03.246Z"
   },
   {
    "duration": 87,
    "start_time": "2024-01-08T18:08:28.746Z"
   },
   {
    "duration": 1352,
    "start_time": "2024-01-08T18:31:31.143Z"
   },
   {
    "duration": 83,
    "start_time": "2024-01-08T18:31:32.497Z"
   },
   {
    "duration": 14,
    "start_time": "2024-01-08T18:31:32.581Z"
   },
   {
    "duration": 12,
    "start_time": "2024-01-08T18:31:32.597Z"
   },
   {
    "duration": 151,
    "start_time": "2024-01-08T18:31:32.610Z"
   },
   {
    "duration": 9,
    "start_time": "2024-01-08T18:31:32.763Z"
   },
   {
    "duration": 6,
    "start_time": "2024-01-08T18:31:32.774Z"
   },
   {
    "duration": 20,
    "start_time": "2024-01-08T18:31:32.782Z"
   },
   {
    "duration": 14,
    "start_time": "2024-01-08T18:31:32.804Z"
   },
   {
    "duration": 642,
    "start_time": "2024-01-08T18:31:32.820Z"
   },
   {
    "duration": 258,
    "start_time": "2024-01-08T18:31:33.463Z"
   },
   {
    "duration": 417,
    "start_time": "2024-01-08T18:31:33.730Z"
   },
   {
    "duration": 266,
    "start_time": "2024-01-08T18:31:34.149Z"
   },
   {
    "duration": 405,
    "start_time": "2024-01-08T18:31:34.417Z"
   },
   {
    "duration": 195,
    "start_time": "2024-01-08T18:31:34.825Z"
   },
   {
    "duration": 199,
    "start_time": "2024-01-08T18:31:35.021Z"
   },
   {
    "duration": 190,
    "start_time": "2024-01-08T18:31:35.222Z"
   },
   {
    "duration": 235,
    "start_time": "2024-01-08T18:31:35.413Z"
   },
   {
    "duration": 10,
    "start_time": "2024-01-08T18:31:35.650Z"
   },
   {
    "duration": 8,
    "start_time": "2024-01-08T18:31:35.662Z"
   },
   {
    "duration": 36,
    "start_time": "2024-01-08T18:31:35.672Z"
   },
   {
    "duration": 30,
    "start_time": "2024-01-08T18:31:35.709Z"
   },
   {
    "duration": 1104,
    "start_time": "2024-04-16T17:28:34.688Z"
   },
   {
    "duration": 91,
    "start_time": "2024-04-16T17:28:35.794Z"
   },
   {
    "duration": 12,
    "start_time": "2024-04-16T17:28:35.887Z"
   },
   {
    "duration": 11,
    "start_time": "2024-04-16T17:28:35.901Z"
   },
   {
    "duration": 158,
    "start_time": "2024-04-16T17:28:35.914Z"
   },
   {
    "duration": 8,
    "start_time": "2024-04-16T17:28:36.074Z"
   },
   {
    "duration": 6,
    "start_time": "2024-04-16T17:28:36.083Z"
   },
   {
    "duration": 20,
    "start_time": "2024-04-16T17:28:36.091Z"
   },
   {
    "duration": 25,
    "start_time": "2024-04-16T17:28:36.112Z"
   },
   {
    "duration": 585,
    "start_time": "2024-04-16T17:28:36.139Z"
   },
   {
    "duration": 225,
    "start_time": "2024-04-16T17:28:36.726Z"
   },
   {
    "duration": 333,
    "start_time": "2024-04-16T17:28:36.953Z"
   },
   {
    "duration": 257,
    "start_time": "2024-04-16T17:28:37.288Z"
   },
   {
    "duration": 388,
    "start_time": "2024-04-16T17:28:37.555Z"
   },
   {
    "duration": 164,
    "start_time": "2024-04-16T17:28:37.944Z"
   },
   {
    "duration": 172,
    "start_time": "2024-04-16T17:28:38.110Z"
   },
   {
    "duration": 176,
    "start_time": "2024-04-16T17:28:38.284Z"
   },
   {
    "duration": 209,
    "start_time": "2024-04-16T17:28:38.461Z"
   },
   {
    "duration": 10,
    "start_time": "2024-04-16T17:28:38.672Z"
   },
   {
    "duration": 8,
    "start_time": "2024-04-16T17:28:38.683Z"
   },
   {
    "duration": 33,
    "start_time": "2024-04-16T17:28:38.692Z"
   },
   {
    "duration": 38,
    "start_time": "2024-04-16T17:28:38.726Z"
   }
  ],
  "kernelspec": {
   "display_name": "Python 3 (ipykernel)",
   "language": "python",
   "name": "python3"
  },
  "language_info": {
   "codemirror_mode": {
    "name": "ipython",
    "version": 3
   },
   "file_extension": ".py",
   "mimetype": "text/x-python",
   "name": "python",
   "nbconvert_exporter": "python",
   "pygments_lexer": "ipython3",
   "version": "3.9.5"
  },
  "toc": {
   "base_numbering": 1,
   "nav_menu": {},
   "number_sections": true,
   "sideBar": true,
   "skip_h1_title": true,
   "title_cell": "Table of Contents",
   "title_sidebar": "Contents",
   "toc_cell": false,
   "toc_position": {},
   "toc_section_display": true,
   "toc_window_display": false
  }
 },
 "nbformat": 4,
 "nbformat_minor": 2
}
