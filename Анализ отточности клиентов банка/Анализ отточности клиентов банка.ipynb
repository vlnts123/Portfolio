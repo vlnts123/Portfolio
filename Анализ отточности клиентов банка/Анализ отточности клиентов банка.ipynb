{
 "cells": [
  {
   "cell_type": "markdown",
   "metadata": {},
   "source": [
    "# Выпускной проект\n",
    "Анализ отточности клиентов банка \"Метанпром\"\n",
    "\n",
    "**Цель исследования:**\n",
    "Анализ поведения клиентов регионального банка и выделение сегментов клиентов, которые склонны уходить из банка.\n",
    "Составление рекомендаций для отдела маркетинга по конкретным сегментам.\n",
    "\n",
    "**Описание данных:**\n",
    "Датасет содержит данные о клиентах банка «Метанпром». Банк располагается в Ярославле и областных городах: Ростов Великий и Рыбинск.\n",
    "* USERID — идентификатор пользователя,\n",
    "* score — баллы кредитного скоринга,\n",
    "* city — город,\n",
    "* gender — пол,\n",
    "* age — возраст,\n",
    "* equity — количество баллов собственности\n",
    "* balance — баланс на счёте,\n",
    "* products — количество продуктов, которыми пользуется клиент,\n",
    "* credit_card — есть ли кредитная карта,\n",
    "* last_activity — активный клиент,\n",
    "* EST_SALARY — оценочный доход клиента,\n",
    "* сhurn — признак оттока.\n",
    "\n",
    "**План работы:**\n",
    "\n",
    "По каждому шагу работы должны быть сформулированы промежуточные выводы.\n",
    "\n",
    "**Шаг 1. Открыть файл с данными и изучить общую информацию:**\n",
    "* Импортируйте  нужные библиотеки. \n",
    "* Считайте данные из csv-файла в датафрейм и сохраните в переменную, выведите первые 20 строчек.\n",
    "* Выведите основную информацию о датафрейме с помощью метода info(). \n",
    "\n",
    "**Шаг 2. Предобработка данных:**\n",
    "* Проверка на корректность наименований колонок\n",
    "* Рассмотрите типы данных в каждом столбце:\n",
    " - Найдите столбцы, в которых нужно изменить тип данных.\n",
    " - Преобразуйте тип данных в выбранных столбцах.\n",
    "* Найдите и изучите пропущенные значения в столбцах:\n",
    " - Определите, в каких столбцах есть пропуски.\n",
    " - Определить какой именно тип пропусков  встречается: MCAR, MAR, MNAR\n",
    " - Понять как эти пропуски зависят от имеющихся данных\n",
    " - Заполните пропущенные значения там, где это возможно. \n",
    "* Проверка на аномальные значения\n",
    "* Проверка на явные дубликаты\n",
    "* Изучите уникальные значения в столбцах city и user_id, проверьте на наличие неявных дубликатов.\n",
    "* Кодирование переменных \n",
    "\n",
    "**Шаг 3. Исследовательский анализ данных:**\n",
    "* Изучите распределения характеристик в разрезе оттока. Для непрерывных характеристик постройте гистограммы или kde-графики, для категориальных — столбчатые диаграммы с уровнями оттока, либо тепловую карту с долями пользующихся N продуктами в каждой из категорий.\n",
    "* Проанализируйте все данные на предмет наличия корреляций с оттоком, опишите всё, что превосходит по модулю 10%, указывая размер корреляции\n",
    "* По результатам подготовьте тепловую карту\n",
    "* Определите факторы, которые больше всего влияют на отточность\n",
    "* Составьте портреты типичных клиентов, которые склонны и не склонны уходить из банка\n",
    "\n",
    "**Шаг 4. Проверка гипотез:**\n",
    "\n",
    "* Проверьте гипотезу различия дохода между теми клиентами, которые ушли и теми, которые остались, используя t-критерий и u-критерий.\n",
    "* Сформулируйте и проверьте статистическую гипотезу относительно представленных данных, которая поможет внести ясность в исследовании\n",
    "\n",
    "**Шаг 5 Сегментация пользователей и их приоритизация:**\n",
    "* Объединяя признаки отточности, сформируйте сегменты, отберите из них лучшие\n",
    "\n",
    "**Шаг 6. Напишите общий вывод и рекомендации по сегментам**"
   ]
  },
  {
   "cell_type": "markdown",
   "metadata": {},
   "source": [
    "### Материалы:\n",
    "Презентация: <https://disk.yandex.ru/i/YMYaPhlBysun6w>"
   ]
  },
  {
   "cell_type": "markdown",
   "metadata": {},
   "source": [
    "## шаг. Открыть файл с данными и изучить общую информацию:"
   ]
  },
  {
   "cell_type": "code",
   "execution_count": 1,
   "metadata": {},
   "outputs": [],
   "source": [
    "import pandas as pd\n",
    "import numpy as np\n",
    "import seaborn as sns\n",
    "import matplotlib.pyplot as plt\n",
    "from scipy import stats as st\n",
    "from scipy.stats import ttest_ind\n",
    "from scipy.stats import mannwhitneyu"
   ]
  },
  {
   "cell_type": "code",
   "execution_count": 2,
   "metadata": {},
   "outputs": [
    {
     "data": {
      "text/html": [
       "<div>\n",
       "<style scoped>\n",
       "    .dataframe tbody tr th:only-of-type {\n",
       "        vertical-align: middle;\n",
       "    }\n",
       "\n",
       "    .dataframe tbody tr th {\n",
       "        vertical-align: top;\n",
       "    }\n",
       "\n",
       "    .dataframe thead th {\n",
       "        text-align: right;\n",
       "    }\n",
       "</style>\n",
       "<table border=\"1\" class=\"dataframe\">\n",
       "  <thead>\n",
       "    <tr style=\"text-align: right;\">\n",
       "      <th></th>\n",
       "      <th>USERID</th>\n",
       "      <th>score</th>\n",
       "      <th>city</th>\n",
       "      <th>gender</th>\n",
       "      <th>age</th>\n",
       "      <th>equity</th>\n",
       "      <th>balance</th>\n",
       "      <th>products</th>\n",
       "      <th>credit_card</th>\n",
       "      <th>last_activity</th>\n",
       "      <th>EST_SALARY</th>\n",
       "      <th>churn</th>\n",
       "    </tr>\n",
       "  </thead>\n",
       "  <tbody>\n",
       "    <tr>\n",
       "      <th>0</th>\n",
       "      <td>183012</td>\n",
       "      <td>850.0</td>\n",
       "      <td>Рыбинск</td>\n",
       "      <td>Ж</td>\n",
       "      <td>25.0</td>\n",
       "      <td>1</td>\n",
       "      <td>59214.82</td>\n",
       "      <td>2</td>\n",
       "      <td>0</td>\n",
       "      <td>1</td>\n",
       "      <td>75719.14</td>\n",
       "      <td>1</td>\n",
       "    </tr>\n",
       "    <tr>\n",
       "      <th>1</th>\n",
       "      <td>146556</td>\n",
       "      <td>861.0</td>\n",
       "      <td>Рыбинск</td>\n",
       "      <td>Ж</td>\n",
       "      <td>37.0</td>\n",
       "      <td>5</td>\n",
       "      <td>850594.33</td>\n",
       "      <td>3</td>\n",
       "      <td>1</td>\n",
       "      <td>0</td>\n",
       "      <td>86621.77</td>\n",
       "      <td>0</td>\n",
       "    </tr>\n",
       "    <tr>\n",
       "      <th>2</th>\n",
       "      <td>120722</td>\n",
       "      <td>892.0</td>\n",
       "      <td>Рыбинск</td>\n",
       "      <td>Ж</td>\n",
       "      <td>30.0</td>\n",
       "      <td>0</td>\n",
       "      <td>NaN</td>\n",
       "      <td>1</td>\n",
       "      <td>1</td>\n",
       "      <td>1</td>\n",
       "      <td>107683.34</td>\n",
       "      <td>0</td>\n",
       "    </tr>\n",
       "    <tr>\n",
       "      <th>3</th>\n",
       "      <td>225363</td>\n",
       "      <td>866.0</td>\n",
       "      <td>Ярославль</td>\n",
       "      <td>Ж</td>\n",
       "      <td>51.0</td>\n",
       "      <td>5</td>\n",
       "      <td>1524746.26</td>\n",
       "      <td>2</td>\n",
       "      <td>0</td>\n",
       "      <td>1</td>\n",
       "      <td>174423.53</td>\n",
       "      <td>1</td>\n",
       "    </tr>\n",
       "    <tr>\n",
       "      <th>4</th>\n",
       "      <td>157978</td>\n",
       "      <td>730.0</td>\n",
       "      <td>Ярославль</td>\n",
       "      <td>М</td>\n",
       "      <td>34.0</td>\n",
       "      <td>5</td>\n",
       "      <td>174.00</td>\n",
       "      <td>1</td>\n",
       "      <td>1</td>\n",
       "      <td>0</td>\n",
       "      <td>67353.16</td>\n",
       "      <td>1</td>\n",
       "    </tr>\n",
       "  </tbody>\n",
       "</table>\n",
       "</div>"
      ],
      "text/plain": [
       "   USERID  score       city gender   age  equity     balance  products  \\\n",
       "0  183012  850.0    Рыбинск      Ж  25.0       1    59214.82         2   \n",
       "1  146556  861.0    Рыбинск      Ж  37.0       5   850594.33         3   \n",
       "2  120722  892.0    Рыбинск      Ж  30.0       0         NaN         1   \n",
       "3  225363  866.0  Ярославль      Ж  51.0       5  1524746.26         2   \n",
       "4  157978  730.0  Ярославль      М  34.0       5      174.00         1   \n",
       "\n",
       "   credit_card  last_activity  EST_SALARY  churn  \n",
       "0            0              1    75719.14      1  \n",
       "1            1              0    86621.77      0  \n",
       "2            1              1   107683.34      0  \n",
       "3            0              1   174423.53      1  \n",
       "4            1              0    67353.16      1  "
      ]
     },
     "metadata": {},
     "output_type": "display_data"
    },
    {
     "name": "stdout",
     "output_type": "stream",
     "text": [
      "<class 'pandas.core.frame.DataFrame'>\n",
      "RangeIndex: 10000 entries, 0 to 9999\n",
      "Data columns (total 12 columns):\n",
      " #   Column         Non-Null Count  Dtype  \n",
      "---  ------         --------------  -----  \n",
      " 0   USERID         10000 non-null  int64  \n",
      " 1   score          10000 non-null  float64\n",
      " 2   city           10000 non-null  object \n",
      " 3   gender         10000 non-null  object \n",
      " 4   age            9974 non-null   float64\n",
      " 5   equity         10000 non-null  int64  \n",
      " 6   balance        7705 non-null   float64\n",
      " 7   products       10000 non-null  int64  \n",
      " 8   credit_card    10000 non-null  int64  \n",
      " 9   last_activity  10000 non-null  int64  \n",
      " 10  EST_SALARY     10000 non-null  float64\n",
      " 11  churn          10000 non-null  int64  \n",
      "dtypes: float64(4), int64(6), object(2)\n",
      "memory usage: 937.6+ KB\n"
     ]
    }
   ],
   "source": [
    "data = pd.read_csv('https://code.s3.yandex.net/datasets/bank_scrooge.csv')\n",
    "display(data.head())\n",
    "data.info()"
   ]
  },
  {
   "cell_type": "markdown",
   "metadata": {},
   "source": [
    "**Промежуточный вывод:** Мы импортировали необходимые для дальнейшей работы библиотеки, познакомились с данными.\n",
    "\n",
    "## шаг. Предобработка данных\n",
    "\n",
    "Для начала откорректируем названия столбцов."
   ]
  },
  {
   "cell_type": "code",
   "execution_count": 3,
   "metadata": {},
   "outputs": [],
   "source": [
    "data = data.rename(columns={'USERID': 'user_id', 'EST_SALARY': 'est_salary'})"
   ]
  },
  {
   "cell_type": "markdown",
   "metadata": {},
   "source": [
    "Столбцы переименованы. Теперь рассмотрим типы данных в каждом столбце. В столбце age указан тип данных float64, в то время как должен быть int64. Но данный столбец будет закодирован, поэтому менять смысла нет.\n",
    "\n",
    "В столбцах credit_card, last_activity и churn по сути булево значение. Также менять пока не будем.\n",
    "\n",
    "Приступим к обработке пропущенных значений в столбцах. Для начала определим в каких столбцах есть пропуски и посмотрим их долю."
   ]
  },
  {
   "cell_type": "code",
   "execution_count": 4,
   "metadata": {},
   "outputs": [
    {
     "data": {
      "text/html": [
       "<style  type=\"text/css\" >\n",
       "#T_ab122_row0_col0,#T_ab122_row1_col0,#T_ab122_row2_col0,#T_ab122_row3_col0,#T_ab122_row5_col0,#T_ab122_row7_col0,#T_ab122_row8_col0,#T_ab122_row9_col0,#T_ab122_row10_col0,#T_ab122_row11_col0{\n",
       "            background-color:  #3b4cc0;\n",
       "            color:  #f1f1f1;\n",
       "        }#T_ab122_row4_col0{\n",
       "            background-color:  #3e51c5;\n",
       "            color:  #f1f1f1;\n",
       "        }#T_ab122_row6_col0{\n",
       "            background-color:  #b40426;\n",
       "            color:  #f1f1f1;\n",
       "        }</style><table id=\"T_ab122_\" ><thead>    <tr>        <th class=\"blank level0\" ></th>        <th class=\"col_heading level0 col0\" >0</th>    </tr></thead><tbody>\n",
       "                <tr>\n",
       "                        <th id=\"T_ab122_level0_row0\" class=\"row_heading level0 row0\" >user_id</th>\n",
       "                        <td id=\"T_ab122_row0_col0\" class=\"data row0 col0\" >0.000000</td>\n",
       "            </tr>\n",
       "            <tr>\n",
       "                        <th id=\"T_ab122_level0_row1\" class=\"row_heading level0 row1\" >score</th>\n",
       "                        <td id=\"T_ab122_row1_col0\" class=\"data row1 col0\" >0.000000</td>\n",
       "            </tr>\n",
       "            <tr>\n",
       "                        <th id=\"T_ab122_level0_row2\" class=\"row_heading level0 row2\" >city</th>\n",
       "                        <td id=\"T_ab122_row2_col0\" class=\"data row2 col0\" >0.000000</td>\n",
       "            </tr>\n",
       "            <tr>\n",
       "                        <th id=\"T_ab122_level0_row3\" class=\"row_heading level0 row3\" >gender</th>\n",
       "                        <td id=\"T_ab122_row3_col0\" class=\"data row3 col0\" >0.000000</td>\n",
       "            </tr>\n",
       "            <tr>\n",
       "                        <th id=\"T_ab122_level0_row4\" class=\"row_heading level0 row4\" >age</th>\n",
       "                        <td id=\"T_ab122_row4_col0\" class=\"data row4 col0\" >0.300000</td>\n",
       "            </tr>\n",
       "            <tr>\n",
       "                        <th id=\"T_ab122_level0_row5\" class=\"row_heading level0 row5\" >equity</th>\n",
       "                        <td id=\"T_ab122_row5_col0\" class=\"data row5 col0\" >0.000000</td>\n",
       "            </tr>\n",
       "            <tr>\n",
       "                        <th id=\"T_ab122_level0_row6\" class=\"row_heading level0 row6\" >balance</th>\n",
       "                        <td id=\"T_ab122_row6_col0\" class=\"data row6 col0\" >23.000000</td>\n",
       "            </tr>\n",
       "            <tr>\n",
       "                        <th id=\"T_ab122_level0_row7\" class=\"row_heading level0 row7\" >products</th>\n",
       "                        <td id=\"T_ab122_row7_col0\" class=\"data row7 col0\" >0.000000</td>\n",
       "            </tr>\n",
       "            <tr>\n",
       "                        <th id=\"T_ab122_level0_row8\" class=\"row_heading level0 row8\" >credit_card</th>\n",
       "                        <td id=\"T_ab122_row8_col0\" class=\"data row8 col0\" >0.000000</td>\n",
       "            </tr>\n",
       "            <tr>\n",
       "                        <th id=\"T_ab122_level0_row9\" class=\"row_heading level0 row9\" >last_activity</th>\n",
       "                        <td id=\"T_ab122_row9_col0\" class=\"data row9 col0\" >0.000000</td>\n",
       "            </tr>\n",
       "            <tr>\n",
       "                        <th id=\"T_ab122_level0_row10\" class=\"row_heading level0 row10\" >est_salary</th>\n",
       "                        <td id=\"T_ab122_row10_col0\" class=\"data row10 col0\" >0.000000</td>\n",
       "            </tr>\n",
       "            <tr>\n",
       "                        <th id=\"T_ab122_level0_row11\" class=\"row_heading level0 row11\" >churn</th>\n",
       "                        <td id=\"T_ab122_row11_col0\" class=\"data row11 col0\" >0.000000</td>\n",
       "            </tr>\n",
       "    </tbody></table>"
      ],
      "text/plain": [
       "<pandas.io.formats.style.Styler at 0x7f320c1e9a60>"
      ]
     },
     "execution_count": 4,
     "metadata": {},
     "output_type": "execute_result"
    }
   ],
   "source": [
    "pd.DataFrame(round(data.isna().mean()*100,1)).style.background_gradient('coolwarm')"
   ]
  },
  {
   "cell_type": "markdown",
   "metadata": {},
   "source": [
    "Пропуски имеются только в столбце balance, однако их достаточно много (23%), мы их не можем удалить, так как потеряем почти четверть данных. Заменить средним или медианой также не можем, так как это может повлиять на результаты  анализа. Нужно определить какой именно тип пропусков встречается: MCAR, MAR, MNAR. Для этого мы можем сравнить распределение других переменных между группами с пропусками и без пропусков. Для этого добавим столбец, где пропущенные значения в столбце с балансом будут обозначаться 1, а  остальные 0."
   ]
  },
  {
   "cell_type": "code",
   "execution_count": 5,
   "metadata": {},
   "outputs": [
    {
     "data": {
      "image/png": "[encoded data removed]",
      "text/plain": [
       "<Figure size 720x576 with 2 Axes>"
      ]
     },
     "metadata": {
      "needs_background": "light"
     },
     "output_type": "display_data"
    }
   ],
   "source": [
    "data['missing_balance'] = data['balance'].isnull().astype(int)\n",
    "\n",
    "plt.figure(figsize=(10, 8))\n",
    "sns.heatmap(data.corr(), annot=True, cmap='coolwarm', fmt=\".2f\")\n",
    "plt.title('Тепловая карта корреляции')\n",
    "plt.show()"
   ]
  },
  {
   "cell_type": "markdown",
   "metadata": {},
   "source": [
    "Самая высокая корреляция с missing_balance:\n",
    "* -0.71 с equity\n",
    "* -0.49 с products\n",
    "* 0.31 с est_salary\n",
    "\n",
    "чем выше значение переменных \"equity\" и \"products\", тем меньше вероятность наличия пропусков в столбце \"balance\". возможно пользователи с более высоким уровнем активов или использующие больше банковских продуктов могут быть более склонны к поддержанию полных данных в своих банковских записях.\n",
    "\n",
    "Положительная корреляция 0.31 с переменной \"est_salary\" указывает на обратную связь: чем выше заработная плата клиента, тем больше вероятность наличия пропущенных значений в столбце \"balance\". "
   ]
  },
  {
   "cell_type": "code",
   "execution_count": 6,
   "metadata": {},
   "outputs": [
    {
     "data": {
      "text/html": [
       "<div>\n",
       "<style scoped>\n",
       "    .dataframe tbody tr th:only-of-type {\n",
       "        vertical-align: middle;\n",
       "    }\n",
       "\n",
       "    .dataframe tbody tr th {\n",
       "        vertical-align: top;\n",
       "    }\n",
       "\n",
       "    .dataframe thead th {\n",
       "        text-align: right;\n",
       "    }\n",
       "</style>\n",
       "<table border=\"1\" class=\"dataframe\">\n",
       "  <thead>\n",
       "    <tr style=\"text-align: right;\">\n",
       "      <th></th>\n",
       "      <th>Missing Balance equity</th>\n",
       "      <th>Missing Balance products</th>\n",
       "      <th>Missing Balance est_salary</th>\n",
       "    </tr>\n",
       "  </thead>\n",
       "  <tbody>\n",
       "    <tr>\n",
       "      <th>mean</th>\n",
       "      <td>0.05098</td>\n",
       "      <td>1.162092</td>\n",
       "      <td>226310.208654</td>\n",
       "    </tr>\n",
       "    <tr>\n",
       "      <th>median</th>\n",
       "      <td>0.00000</td>\n",
       "      <td>1.000000</td>\n",
       "      <td>174160.680000</td>\n",
       "    </tr>\n",
       "  </tbody>\n",
       "</table>\n",
       "</div>"
      ],
      "text/plain": [
       "        Missing Balance equity  Missing Balance products  \\\n",
       "mean                   0.05098                  1.162092   \n",
       "median                 0.00000                  1.000000   \n",
       "\n",
       "        Missing Balance est_salary  \n",
       "mean                 226310.208654  \n",
       "median               174160.680000  "
      ]
     },
     "metadata": {},
     "output_type": "display_data"
    },
    {
     "data": {
      "text/html": [
       "<div>\n",
       "<style scoped>\n",
       "    .dataframe tbody tr th:only-of-type {\n",
       "        vertical-align: middle;\n",
       "    }\n",
       "\n",
       "    .dataframe tbody tr th {\n",
       "        vertical-align: top;\n",
       "    }\n",
       "\n",
       "    .dataframe thead th {\n",
       "        text-align: right;\n",
       "    }\n",
       "</style>\n",
       "<table border=\"1\" class=\"dataframe\">\n",
       "  <thead>\n",
       "    <tr style=\"text-align: right;\">\n",
       "      <th></th>\n",
       "      <th>Non-Missing Balance equity</th>\n",
       "      <th>Non-Missing Balance products</th>\n",
       "      <th>Non-Missing Balance est_salary</th>\n",
       "    </tr>\n",
       "  </thead>\n",
       "  <tbody>\n",
       "    <tr>\n",
       "      <th>mean</th>\n",
       "      <td>3.395068</td>\n",
       "      <td>2.080986</td>\n",
       "      <td>124501.872366</td>\n",
       "    </tr>\n",
       "    <tr>\n",
       "      <th>median</th>\n",
       "      <td>4.000000</td>\n",
       "      <td>2.000000</td>\n",
       "      <td>106222.200000</td>\n",
       "    </tr>\n",
       "  </tbody>\n",
       "</table>\n",
       "</div>"
      ],
      "text/plain": [
       "        Non-Missing Balance equity  Non-Missing Balance products  \\\n",
       "mean                      3.395068                      2.080986   \n",
       "median                    4.000000                      2.000000   \n",
       "\n",
       "        Non-Missing Balance est_salary  \n",
       "mean                     124501.872366  \n",
       "median                   106222.200000  "
      ]
     },
     "execution_count": 6,
     "metadata": {},
     "output_type": "execute_result"
    }
   ],
   "source": [
    "# Разделение данных на две группы: с пропусками в столбце \"balance\" и без пропусков\n",
    "missing_balance_group = data[data['balance'].isnull()]\n",
    "non_missing_balance_group = data[data['balance'].notnull()]\n",
    "\n",
    "# Вычисление средних и медианных значений для каждой группы по параметрам \"equity\", \"products\" и \"est_salary\"\n",
    "missing_balance_stats = missing_balance_group[['equity', 'products', 'est_salary']].agg(['mean', 'median'])\n",
    "non_missing_balance_stats = non_missing_balance_group[['equity', 'products', 'est_salary']].agg(['mean', 'median'])\n",
    "\n",
    "# Переименование столбцов\n",
    "missing_balance_stats.columns = [f'Missing Balance {stat}' for stat in missing_balance_stats.columns]\n",
    "non_missing_balance_stats.columns = [f'Non-Missing Balance {stat}' for stat in non_missing_balance_stats.columns]\n",
    "\n",
    "display(missing_balance_stats)\n",
    "non_missing_balance_stats"
   ]
  },
  {
   "cell_type": "markdown",
   "metadata": {},
   "source": [
    "Оценки баллов собственности у пользователей с пропущенным балансом равны нулю, количество используемых продуктов меньше в два раза, но зарплата намного выше.\n",
    "\n",
    "Проверка на аномальные значения:"
   ]
  },
  {
   "cell_type": "code",
   "execution_count": 7,
   "metadata": {},
   "outputs": [
    {
     "data": {
      "text/html": [
       "<div>\n",
       "<style scoped>\n",
       "    .dataframe tbody tr th:only-of-type {\n",
       "        vertical-align: middle;\n",
       "    }\n",
       "\n",
       "    .dataframe tbody tr th {\n",
       "        vertical-align: top;\n",
       "    }\n",
       "\n",
       "    .dataframe thead th {\n",
       "        text-align: right;\n",
       "    }\n",
       "</style>\n",
       "<table border=\"1\" class=\"dataframe\">\n",
       "  <thead>\n",
       "    <tr style=\"text-align: right;\">\n",
       "      <th></th>\n",
       "      <th>user_id</th>\n",
       "      <th>score</th>\n",
       "      <th>age</th>\n",
       "      <th>equity</th>\n",
       "      <th>balance</th>\n",
       "      <th>products</th>\n",
       "      <th>credit_card</th>\n",
       "      <th>last_activity</th>\n",
       "      <th>est_salary</th>\n",
       "      <th>churn</th>\n",
       "      <th>missing_balance</th>\n",
       "    </tr>\n",
       "  </thead>\n",
       "  <tbody>\n",
       "    <tr>\n",
       "      <th>count</th>\n",
       "      <td>10000.00000</td>\n",
       "      <td>10000.000000</td>\n",
       "      <td>9974.000000</td>\n",
       "      <td>10000.000000</td>\n",
       "      <td>7.705000e+03</td>\n",
       "      <td>10000.000000</td>\n",
       "      <td>10000.000000</td>\n",
       "      <td>10000.000000</td>\n",
       "      <td>1.000000e+04</td>\n",
       "      <td>10000.000000</td>\n",
       "      <td>10000.000000</td>\n",
       "    </tr>\n",
       "    <tr>\n",
       "      <th>mean</th>\n",
       "      <td>171814.71260</td>\n",
       "      <td>848.699400</td>\n",
       "      <td>42.734409</td>\n",
       "      <td>2.627600</td>\n",
       "      <td>8.277943e+05</td>\n",
       "      <td>1.870100</td>\n",
       "      <td>0.680400</td>\n",
       "      <td>0.523500</td>\n",
       "      <td>1.478669e+05</td>\n",
       "      <td>0.182000</td>\n",
       "      <td>0.229500</td>\n",
       "    </tr>\n",
       "    <tr>\n",
       "      <th>std</th>\n",
       "      <td>33708.23812</td>\n",
       "      <td>65.448519</td>\n",
       "      <td>12.179971</td>\n",
       "      <td>1.980836</td>\n",
       "      <td>1.980614e+06</td>\n",
       "      <td>0.792647</td>\n",
       "      <td>0.466345</td>\n",
       "      <td>0.499472</td>\n",
       "      <td>1.393885e+05</td>\n",
       "      <td>0.385864</td>\n",
       "      <td>0.420532</td>\n",
       "    </tr>\n",
       "    <tr>\n",
       "      <th>min</th>\n",
       "      <td>94561.00000</td>\n",
       "      <td>642.000000</td>\n",
       "      <td>18.000000</td>\n",
       "      <td>0.000000</td>\n",
       "      <td>0.000000e+00</td>\n",
       "      <td>0.000000</td>\n",
       "      <td>0.000000</td>\n",
       "      <td>0.000000</td>\n",
       "      <td>2.546300e+03</td>\n",
       "      <td>0.000000</td>\n",
       "      <td>0.000000</td>\n",
       "    </tr>\n",
       "    <tr>\n",
       "      <th>25%</th>\n",
       "      <td>142810.25000</td>\n",
       "      <td>802.000000</td>\n",
       "      <td>33.000000</td>\n",
       "      <td>0.000000</td>\n",
       "      <td>2.955542e+05</td>\n",
       "      <td>1.000000</td>\n",
       "      <td>0.000000</td>\n",
       "      <td>0.000000</td>\n",
       "      <td>7.525190e+04</td>\n",
       "      <td>0.000000</td>\n",
       "      <td>0.000000</td>\n",
       "    </tr>\n",
       "    <tr>\n",
       "      <th>50%</th>\n",
       "      <td>172728.00000</td>\n",
       "      <td>853.000000</td>\n",
       "      <td>40.000000</td>\n",
       "      <td>3.000000</td>\n",
       "      <td>5.242722e+05</td>\n",
       "      <td>2.000000</td>\n",
       "      <td>1.000000</td>\n",
       "      <td>1.000000</td>\n",
       "      <td>1.196581e+05</td>\n",
       "      <td>0.000000</td>\n",
       "      <td>0.000000</td>\n",
       "    </tr>\n",
       "    <tr>\n",
       "      <th>75%</th>\n",
       "      <td>201261.75000</td>\n",
       "      <td>900.000000</td>\n",
       "      <td>51.000000</td>\n",
       "      <td>4.000000</td>\n",
       "      <td>9.807058e+05</td>\n",
       "      <td>2.000000</td>\n",
       "      <td>1.000000</td>\n",
       "      <td>1.000000</td>\n",
       "      <td>1.745005e+05</td>\n",
       "      <td>0.000000</td>\n",
       "      <td>0.000000</td>\n",
       "    </tr>\n",
       "    <tr>\n",
       "      <th>max</th>\n",
       "      <td>229145.00000</td>\n",
       "      <td>1000.000000</td>\n",
       "      <td>86.000000</td>\n",
       "      <td>9.000000</td>\n",
       "      <td>1.191136e+08</td>\n",
       "      <td>5.000000</td>\n",
       "      <td>1.000000</td>\n",
       "      <td>1.000000</td>\n",
       "      <td>1.395064e+06</td>\n",
       "      <td>1.000000</td>\n",
       "      <td>1.000000</td>\n",
       "    </tr>\n",
       "  </tbody>\n",
       "</table>\n",
       "</div>"
      ],
      "text/plain": [
       "            user_id         score          age        equity       balance  \\\n",
       "count   10000.00000  10000.000000  9974.000000  10000.000000  7.705000e+03   \n",
       "mean   171814.71260    848.699400    42.734409      2.627600  8.277943e+05   \n",
       "std     33708.23812     65.448519    12.179971      1.980836  1.980614e+06   \n",
       "min     94561.00000    642.000000    18.000000      0.000000  0.000000e+00   \n",
       "25%    142810.25000    802.000000    33.000000      0.000000  2.955542e+05   \n",
       "50%    172728.00000    853.000000    40.000000      3.000000  5.242722e+05   \n",
       "75%    201261.75000    900.000000    51.000000      4.000000  9.807058e+05   \n",
       "max    229145.00000   1000.000000    86.000000      9.000000  1.191136e+08   \n",
       "\n",
       "           products   credit_card  last_activity    est_salary         churn  \\\n",
       "count  10000.000000  10000.000000   10000.000000  1.000000e+04  10000.000000   \n",
       "mean       1.870100      0.680400       0.523500  1.478669e+05      0.182000   \n",
       "std        0.792647      0.466345       0.499472  1.393885e+05      0.385864   \n",
       "min        0.000000      0.000000       0.000000  2.546300e+03      0.000000   \n",
       "25%        1.000000      0.000000       0.000000  7.525190e+04      0.000000   \n",
       "50%        2.000000      1.000000       1.000000  1.196581e+05      0.000000   \n",
       "75%        2.000000      1.000000       1.000000  1.745005e+05      0.000000   \n",
       "max        5.000000      1.000000       1.000000  1.395064e+06      1.000000   \n",
       "\n",
       "       missing_balance  \n",
       "count     10000.000000  \n",
       "mean          0.229500  \n",
       "std           0.420532  \n",
       "min           0.000000  \n",
       "25%           0.000000  \n",
       "50%           0.000000  \n",
       "75%           0.000000  \n",
       "max           1.000000  "
      ]
     },
     "execution_count": 7,
     "metadata": {},
     "output_type": "execute_result"
    }
   ],
   "source": [
    "data.describe()"
   ]
  },
  {
   "cell_type": "markdown",
   "metadata": {},
   "source": [
    "Странно, что у некоторых пользователей в products стоит значение 0. Это всего одна строка, удалим её."
   ]
  },
  {
   "cell_type": "code",
   "execution_count": 8,
   "metadata": {},
   "outputs": [
    {
     "data": {
      "text/html": [
       "<div>\n",
       "<style scoped>\n",
       "    .dataframe tbody tr th:only-of-type {\n",
       "        vertical-align: middle;\n",
       "    }\n",
       "\n",
       "    .dataframe tbody tr th {\n",
       "        vertical-align: top;\n",
       "    }\n",
       "\n",
       "    .dataframe thead th {\n",
       "        text-align: right;\n",
       "    }\n",
       "</style>\n",
       "<table border=\"1\" class=\"dataframe\">\n",
       "  <thead>\n",
       "    <tr style=\"text-align: right;\">\n",
       "      <th></th>\n",
       "      <th>user_id</th>\n",
       "      <th>score</th>\n",
       "      <th>city</th>\n",
       "      <th>gender</th>\n",
       "      <th>age</th>\n",
       "      <th>equity</th>\n",
       "      <th>balance</th>\n",
       "      <th>products</th>\n",
       "      <th>credit_card</th>\n",
       "      <th>last_activity</th>\n",
       "      <th>est_salary</th>\n",
       "      <th>churn</th>\n",
       "      <th>missing_balance</th>\n",
       "    </tr>\n",
       "  </thead>\n",
       "  <tbody>\n",
       "    <tr>\n",
       "      <th>8957</th>\n",
       "      <td>147837</td>\n",
       "      <td>962.0</td>\n",
       "      <td>Рыбинск</td>\n",
       "      <td>Ж</td>\n",
       "      <td>79.0</td>\n",
       "      <td>3</td>\n",
       "      <td>NaN</td>\n",
       "      <td>0</td>\n",
       "      <td>0</td>\n",
       "      <td>0</td>\n",
       "      <td>25063.96</td>\n",
       "      <td>1</td>\n",
       "      <td>1</td>\n",
       "    </tr>\n",
       "  </tbody>\n",
       "</table>\n",
       "</div>"
      ],
      "text/plain": [
       "      user_id  score     city gender   age  equity  balance  products  \\\n",
       "8957   147837  962.0  Рыбинск      Ж  79.0       3      NaN         0   \n",
       "\n",
       "      credit_card  last_activity  est_salary  churn  missing_balance  \n",
       "8957            0              0    25063.96      1                1  "
      ]
     },
     "execution_count": 8,
     "metadata": {},
     "output_type": "execute_result"
    }
   ],
   "source": [
    "data[data['products']==0]"
   ]
  },
  {
   "cell_type": "code",
   "execution_count": 9,
   "metadata": {},
   "outputs": [],
   "source": [
    "data = data[data['products']!=0]"
   ]
  },
  {
   "cell_type": "markdown",
   "metadata": {},
   "source": [
    "Проведём проверку на явные дубликаты"
   ]
  },
  {
   "cell_type": "code",
   "execution_count": 10,
   "metadata": {},
   "outputs": [
    {
     "data": {
      "text/plain": [
       "0"
      ]
     },
     "execution_count": 10,
     "metadata": {},
     "output_type": "execute_result"
    }
   ],
   "source": [
    "data.duplicated().sum()"
   ]
  },
  {
   "cell_type": "markdown",
   "metadata": {},
   "source": [
    "Полных дубликатов не обнаружено. Изучим уникальные значения в столбцах city и user_id, проверим на наличие неявных дубликатов."
   ]
  },
  {
   "cell_type": "code",
   "execution_count": 11,
   "metadata": {},
   "outputs": [
    {
     "data": {
      "text/plain": [
       "array(['Рыбинск', 'Ярославль', 'Ростов'], dtype=object)"
      ]
     },
     "execution_count": 11,
     "metadata": {},
     "output_type": "execute_result"
    }
   ],
   "source": [
    "data['city'].unique()"
   ]
  },
  {
   "cell_type": "code",
   "execution_count": 12,
   "metadata": {},
   "outputs": [
    {
     "data": {
      "text/plain": [
       "73"
      ]
     },
     "execution_count": 12,
     "metadata": {},
     "output_type": "execute_result"
    }
   ],
   "source": [
    "data['user_id'].duplicated().sum()"
   ]
  },
  {
   "cell_type": "code",
   "execution_count": 13,
   "metadata": {},
   "outputs": [
    {
     "data": {
      "text/plain": [
       "227795    2\n",
       "191520    2\n",
       "221809    2\n",
       "187459    2\n",
       "216848    2\n",
       "         ..\n",
       "176098    1\n",
       "148085    1\n",
       "163728    1\n",
       "190219    1\n",
       "215039    1\n",
       "Name: user_id, Length: 9926, dtype: int64"
      ]
     },
     "execution_count": 13,
     "metadata": {},
     "output_type": "execute_result"
    }
   ],
   "source": [
    "data['user_id'].value_counts().sort_values(ascending=False)"
   ]
  },
  {
   "cell_type": "code",
   "execution_count": 14,
   "metadata": {},
   "outputs": [
    {
     "data": {
      "text/html": [
       "<div>\n",
       "<style scoped>\n",
       "    .dataframe tbody tr th:only-of-type {\n",
       "        vertical-align: middle;\n",
       "    }\n",
       "\n",
       "    .dataframe tbody tr th {\n",
       "        vertical-align: top;\n",
       "    }\n",
       "\n",
       "    .dataframe thead th {\n",
       "        text-align: right;\n",
       "    }\n",
       "</style>\n",
       "<table border=\"1\" class=\"dataframe\">\n",
       "  <thead>\n",
       "    <tr style=\"text-align: right;\">\n",
       "      <th></th>\n",
       "      <th>user_id</th>\n",
       "      <th>score</th>\n",
       "      <th>city</th>\n",
       "      <th>gender</th>\n",
       "      <th>age</th>\n",
       "      <th>equity</th>\n",
       "      <th>balance</th>\n",
       "      <th>products</th>\n",
       "      <th>credit_card</th>\n",
       "      <th>last_activity</th>\n",
       "      <th>est_salary</th>\n",
       "      <th>churn</th>\n",
       "      <th>missing_balance</th>\n",
       "    </tr>\n",
       "  </thead>\n",
       "  <tbody>\n",
       "    <tr>\n",
       "      <th>7</th>\n",
       "      <td>218868</td>\n",
       "      <td>825.0</td>\n",
       "      <td>Ярославль</td>\n",
       "      <td>Ж</td>\n",
       "      <td>38.0</td>\n",
       "      <td>4</td>\n",
       "      <td>458145.40</td>\n",
       "      <td>2</td>\n",
       "      <td>1</td>\n",
       "      <td>1</td>\n",
       "      <td>68085.48</td>\n",
       "      <td>0</td>\n",
       "      <td>0</td>\n",
       "    </tr>\n",
       "    <tr>\n",
       "      <th>58</th>\n",
       "      <td>164676</td>\n",
       "      <td>860.0</td>\n",
       "      <td>Ярославль</td>\n",
       "      <td>М</td>\n",
       "      <td>37.0</td>\n",
       "      <td>5</td>\n",
       "      <td>648594.03</td>\n",
       "      <td>2</td>\n",
       "      <td>1</td>\n",
       "      <td>1</td>\n",
       "      <td>213586.86</td>\n",
       "      <td>1</td>\n",
       "      <td>0</td>\n",
       "    </tr>\n",
       "    <tr>\n",
       "      <th>150</th>\n",
       "      <td>185748</td>\n",
       "      <td>850.0</td>\n",
       "      <td>Рыбинск</td>\n",
       "      <td>М</td>\n",
       "      <td>36.0</td>\n",
       "      <td>5</td>\n",
       "      <td>1203376.67</td>\n",
       "      <td>2</td>\n",
       "      <td>0</td>\n",
       "      <td>1</td>\n",
       "      <td>89401.82</td>\n",
       "      <td>1</td>\n",
       "      <td>0</td>\n",
       "    </tr>\n",
       "    <tr>\n",
       "      <th>161</th>\n",
       "      <td>197364</td>\n",
       "      <td>928.0</td>\n",
       "      <td>Рыбинск</td>\n",
       "      <td>Ж</td>\n",
       "      <td>53.0</td>\n",
       "      <td>6</td>\n",
       "      <td>1347183.86</td>\n",
       "      <td>2</td>\n",
       "      <td>0</td>\n",
       "      <td>1</td>\n",
       "      <td>168189.49</td>\n",
       "      <td>1</td>\n",
       "      <td>0</td>\n",
       "    </tr>\n",
       "    <tr>\n",
       "      <th>231</th>\n",
       "      <td>190253</td>\n",
       "      <td>823.0</td>\n",
       "      <td>Рыбинск</td>\n",
       "      <td>М</td>\n",
       "      <td>37.0</td>\n",
       "      <td>4</td>\n",
       "      <td>373348.39</td>\n",
       "      <td>2</td>\n",
       "      <td>0</td>\n",
       "      <td>1</td>\n",
       "      <td>131947.92</td>\n",
       "      <td>1</td>\n",
       "      <td>0</td>\n",
       "    </tr>\n",
       "    <tr>\n",
       "      <th>...</th>\n",
       "      <td>...</td>\n",
       "      <td>...</td>\n",
       "      <td>...</td>\n",
       "      <td>...</td>\n",
       "      <td>...</td>\n",
       "      <td>...</td>\n",
       "      <td>...</td>\n",
       "      <td>...</td>\n",
       "      <td>...</td>\n",
       "      <td>...</td>\n",
       "      <td>...</td>\n",
       "      <td>...</td>\n",
       "      <td>...</td>\n",
       "    </tr>\n",
       "    <tr>\n",
       "      <th>9775</th>\n",
       "      <td>124450</td>\n",
       "      <td>758.0</td>\n",
       "      <td>Рыбинск</td>\n",
       "      <td>Ж</td>\n",
       "      <td>36.0</td>\n",
       "      <td>0</td>\n",
       "      <td>73574.07</td>\n",
       "      <td>2</td>\n",
       "      <td>0</td>\n",
       "      <td>1</td>\n",
       "      <td>79963.59</td>\n",
       "      <td>0</td>\n",
       "      <td>0</td>\n",
       "    </tr>\n",
       "    <tr>\n",
       "      <th>9785</th>\n",
       "      <td>168998</td>\n",
       "      <td>895.0</td>\n",
       "      <td>Рыбинск</td>\n",
       "      <td>М</td>\n",
       "      <td>44.0</td>\n",
       "      <td>0</td>\n",
       "      <td>282653.53</td>\n",
       "      <td>3</td>\n",
       "      <td>0</td>\n",
       "      <td>0</td>\n",
       "      <td>255296.47</td>\n",
       "      <td>0</td>\n",
       "      <td>0</td>\n",
       "    </tr>\n",
       "    <tr>\n",
       "      <th>9819</th>\n",
       "      <td>140934</td>\n",
       "      <td>832.0</td>\n",
       "      <td>Рыбинск</td>\n",
       "      <td>Ж</td>\n",
       "      <td>NaN</td>\n",
       "      <td>3</td>\n",
       "      <td>385763.16</td>\n",
       "      <td>2</td>\n",
       "      <td>0</td>\n",
       "      <td>1</td>\n",
       "      <td>59651.35</td>\n",
       "      <td>0</td>\n",
       "      <td>0</td>\n",
       "    </tr>\n",
       "    <tr>\n",
       "      <th>9880</th>\n",
       "      <td>217412</td>\n",
       "      <td>886.0</td>\n",
       "      <td>Ярославль</td>\n",
       "      <td>Ж</td>\n",
       "      <td>35.0</td>\n",
       "      <td>3</td>\n",
       "      <td>1026172.14</td>\n",
       "      <td>2</td>\n",
       "      <td>1</td>\n",
       "      <td>0</td>\n",
       "      <td>53099.16</td>\n",
       "      <td>0</td>\n",
       "      <td>0</td>\n",
       "    </tr>\n",
       "    <tr>\n",
       "      <th>9970</th>\n",
       "      <td>175730</td>\n",
       "      <td>816.0</td>\n",
       "      <td>Рыбинск</td>\n",
       "      <td>М</td>\n",
       "      <td>36.0</td>\n",
       "      <td>4</td>\n",
       "      <td>477892.07</td>\n",
       "      <td>3</td>\n",
       "      <td>1</td>\n",
       "      <td>0</td>\n",
       "      <td>81100.60</td>\n",
       "      <td>0</td>\n",
       "      <td>0</td>\n",
       "    </tr>\n",
       "  </tbody>\n",
       "</table>\n",
       "<p>146 rows × 13 columns</p>\n",
       "</div>"
      ],
      "text/plain": [
       "      user_id  score       city gender   age  equity     balance  products  \\\n",
       "7      218868  825.0  Ярославль      Ж  38.0       4   458145.40         2   \n",
       "58     164676  860.0  Ярославль      М  37.0       5   648594.03         2   \n",
       "150    185748  850.0    Рыбинск      М  36.0       5  1203376.67         2   \n",
       "161    197364  928.0    Рыбинск      Ж  53.0       6  1347183.86         2   \n",
       "231    190253  823.0    Рыбинск      М  37.0       4   373348.39         2   \n",
       "...       ...    ...        ...    ...   ...     ...         ...       ...   \n",
       "9775   124450  758.0    Рыбинск      Ж  36.0       0    73574.07         2   \n",
       "9785   168998  895.0    Рыбинск      М  44.0       0   282653.53         3   \n",
       "9819   140934  832.0    Рыбинск      Ж   NaN       3   385763.16         2   \n",
       "9880   217412  886.0  Ярославль      Ж  35.0       3  1026172.14         2   \n",
       "9970   175730  816.0    Рыбинск      М  36.0       4   477892.07         3   \n",
       "\n",
       "      credit_card  last_activity  est_salary  churn  missing_balance  \n",
       "7               1              1    68085.48      0                0  \n",
       "58              1              1   213586.86      1                0  \n",
       "150             0              1    89401.82      1                0  \n",
       "161             0              1   168189.49      1                0  \n",
       "231             0              1   131947.92      1                0  \n",
       "...           ...            ...         ...    ...              ...  \n",
       "9775            0              1    79963.59      0                0  \n",
       "9785            0              0   255296.47      0                0  \n",
       "9819            0              1    59651.35      0                0  \n",
       "9880            1              0    53099.16      0                0  \n",
       "9970            1              0    81100.60      0                0  \n",
       "\n",
       "[146 rows x 13 columns]"
      ]
     },
     "execution_count": 14,
     "metadata": {},
     "output_type": "execute_result"
    }
   ],
   "source": [
    "data[data.duplicated(subset=['user_id'], keep=False)]"
   ]
  },
  {
   "cell_type": "markdown",
   "metadata": {},
   "source": [
    "Так не очень понятно в чём причина дубликатов, давайте посмотрим на конкретные пары. Чаще всего информация отличается незначительно и одна из записей менее полная."
   ]
  },
  {
   "cell_type": "code",
   "execution_count": 15,
   "metadata": {},
   "outputs": [
    {
     "data": {
      "text/html": [
       "<div>\n",
       "<style scoped>\n",
       "    .dataframe tbody tr th:only-of-type {\n",
       "        vertical-align: middle;\n",
       "    }\n",
       "\n",
       "    .dataframe tbody tr th {\n",
       "        vertical-align: top;\n",
       "    }\n",
       "\n",
       "    .dataframe thead th {\n",
       "        text-align: right;\n",
       "    }\n",
       "</style>\n",
       "<table border=\"1\" class=\"dataframe\">\n",
       "  <thead>\n",
       "    <tr style=\"text-align: right;\">\n",
       "      <th></th>\n",
       "      <th>user_id</th>\n",
       "      <th>score</th>\n",
       "      <th>city</th>\n",
       "      <th>gender</th>\n",
       "      <th>age</th>\n",
       "      <th>equity</th>\n",
       "      <th>balance</th>\n",
       "      <th>products</th>\n",
       "      <th>credit_card</th>\n",
       "      <th>last_activity</th>\n",
       "      <th>est_salary</th>\n",
       "      <th>churn</th>\n",
       "      <th>missing_balance</th>\n",
       "    </tr>\n",
       "  </thead>\n",
       "  <tbody>\n",
       "    <tr>\n",
       "      <th>3859</th>\n",
       "      <td>191520</td>\n",
       "      <td>773.0</td>\n",
       "      <td>Рыбинск</td>\n",
       "      <td>М</td>\n",
       "      <td>36.0</td>\n",
       "      <td>3</td>\n",
       "      <td>1219918.08</td>\n",
       "      <td>4</td>\n",
       "      <td>1</td>\n",
       "      <td>1</td>\n",
       "      <td>119933.13</td>\n",
       "      <td>1</td>\n",
       "      <td>0</td>\n",
       "    </tr>\n",
       "    <tr>\n",
       "      <th>4401</th>\n",
       "      <td>216848</td>\n",
       "      <td>929.0</td>\n",
       "      <td>Рыбинск</td>\n",
       "      <td>М</td>\n",
       "      <td>68.0</td>\n",
       "      <td>0</td>\n",
       "      <td>NaN</td>\n",
       "      <td>1</td>\n",
       "      <td>1</td>\n",
       "      <td>1</td>\n",
       "      <td>195902.59</td>\n",
       "      <td>0</td>\n",
       "      <td>1</td>\n",
       "    </tr>\n",
       "    <tr>\n",
       "      <th>4720</th>\n",
       "      <td>187459</td>\n",
       "      <td>895.0</td>\n",
       "      <td>Ярославль</td>\n",
       "      <td>М</td>\n",
       "      <td>48.0</td>\n",
       "      <td>0</td>\n",
       "      <td>NaN</td>\n",
       "      <td>1</td>\n",
       "      <td>1</td>\n",
       "      <td>0</td>\n",
       "      <td>180887.50</td>\n",
       "      <td>0</td>\n",
       "      <td>1</td>\n",
       "    </tr>\n",
       "    <tr>\n",
       "      <th>7931</th>\n",
       "      <td>191520</td>\n",
       "      <td>767.0</td>\n",
       "      <td>Ярославль</td>\n",
       "      <td>М</td>\n",
       "      <td>45.0</td>\n",
       "      <td>0</td>\n",
       "      <td>NaN</td>\n",
       "      <td>1</td>\n",
       "      <td>1</td>\n",
       "      <td>1</td>\n",
       "      <td>880005.05</td>\n",
       "      <td>0</td>\n",
       "      <td>1</td>\n",
       "    </tr>\n",
       "    <tr>\n",
       "      <th>8205</th>\n",
       "      <td>227795</td>\n",
       "      <td>840.0</td>\n",
       "      <td>Рыбинск</td>\n",
       "      <td>М</td>\n",
       "      <td>34.0</td>\n",
       "      <td>2</td>\n",
       "      <td>350768.03</td>\n",
       "      <td>1</td>\n",
       "      <td>1</td>\n",
       "      <td>0</td>\n",
       "      <td>102036.14</td>\n",
       "      <td>1</td>\n",
       "      <td>0</td>\n",
       "    </tr>\n",
       "    <tr>\n",
       "      <th>8293</th>\n",
       "      <td>216848</td>\n",
       "      <td>930.0</td>\n",
       "      <td>Ярославль</td>\n",
       "      <td>М</td>\n",
       "      <td>NaN</td>\n",
       "      <td>0</td>\n",
       "      <td>NaN</td>\n",
       "      <td>1</td>\n",
       "      <td>1</td>\n",
       "      <td>1</td>\n",
       "      <td>199542.51</td>\n",
       "      <td>0</td>\n",
       "      <td>1</td>\n",
       "    </tr>\n",
       "    <tr>\n",
       "      <th>8497</th>\n",
       "      <td>227795</td>\n",
       "      <td>839.0</td>\n",
       "      <td>Ярославль</td>\n",
       "      <td>М</td>\n",
       "      <td>34.0</td>\n",
       "      <td>2</td>\n",
       "      <td>326593.14</td>\n",
       "      <td>2</td>\n",
       "      <td>1</td>\n",
       "      <td>0</td>\n",
       "      <td>103314.92</td>\n",
       "      <td>0</td>\n",
       "      <td>0</td>\n",
       "    </tr>\n",
       "    <tr>\n",
       "      <th>9322</th>\n",
       "      <td>221809</td>\n",
       "      <td>917.0</td>\n",
       "      <td>Рыбинск</td>\n",
       "      <td>М</td>\n",
       "      <td>45.0</td>\n",
       "      <td>0</td>\n",
       "      <td>NaN</td>\n",
       "      <td>1</td>\n",
       "      <td>1</td>\n",
       "      <td>1</td>\n",
       "      <td>199728.29</td>\n",
       "      <td>0</td>\n",
       "      <td>1</td>\n",
       "    </tr>\n",
       "    <tr>\n",
       "      <th>9380</th>\n",
       "      <td>187459</td>\n",
       "      <td>894.0</td>\n",
       "      <td>Рыбинск</td>\n",
       "      <td>М</td>\n",
       "      <td>NaN</td>\n",
       "      <td>0</td>\n",
       "      <td>NaN</td>\n",
       "      <td>1</td>\n",
       "      <td>1</td>\n",
       "      <td>0</td>\n",
       "      <td>178012.28</td>\n",
       "      <td>0</td>\n",
       "      <td>1</td>\n",
       "    </tr>\n",
       "    <tr>\n",
       "      <th>9634</th>\n",
       "      <td>221809</td>\n",
       "      <td>917.0</td>\n",
       "      <td>Ярославль</td>\n",
       "      <td>М</td>\n",
       "      <td>NaN</td>\n",
       "      <td>0</td>\n",
       "      <td>NaN</td>\n",
       "      <td>1</td>\n",
       "      <td>1</td>\n",
       "      <td>1</td>\n",
       "      <td>192644.15</td>\n",
       "      <td>0</td>\n",
       "      <td>1</td>\n",
       "    </tr>\n",
       "  </tbody>\n",
       "</table>\n",
       "</div>"
      ],
      "text/plain": [
       "      user_id  score       city gender   age  equity     balance  products  \\\n",
       "3859   191520  773.0    Рыбинск      М  36.0       3  1219918.08         4   \n",
       "4401   216848  929.0    Рыбинск      М  68.0       0         NaN         1   \n",
       "4720   187459  895.0  Ярославль      М  48.0       0         NaN         1   \n",
       "7931   191520  767.0  Ярославль      М  45.0       0         NaN         1   \n",
       "8205   227795  840.0    Рыбинск      М  34.0       2   350768.03         1   \n",
       "8293   216848  930.0  Ярославль      М   NaN       0         NaN         1   \n",
       "8497   227795  839.0  Ярославль      М  34.0       2   326593.14         2   \n",
       "9322   221809  917.0    Рыбинск      М  45.0       0         NaN         1   \n",
       "9380   187459  894.0    Рыбинск      М   NaN       0         NaN         1   \n",
       "9634   221809  917.0  Ярославль      М   NaN       0         NaN         1   \n",
       "\n",
       "      credit_card  last_activity  est_salary  churn  missing_balance  \n",
       "3859            1              1   119933.13      1                0  \n",
       "4401            1              1   195902.59      0                1  \n",
       "4720            1              0   180887.50      0                1  \n",
       "7931            1              1   880005.05      0                1  \n",
       "8205            1              0   102036.14      1                0  \n",
       "8293            1              1   199542.51      0                1  \n",
       "8497            1              0   103314.92      0                0  \n",
       "9322            1              1   199728.29      0                1  \n",
       "9380            1              0   178012.28      0                1  \n",
       "9634            1              1   192644.15      0                1  "
      ]
     },
     "execution_count": 15,
     "metadata": {},
     "output_type": "execute_result"
    }
   ],
   "source": [
    "duples = [227795, 191520, 221809, 187459, 216848]\n",
    "data[data['user_id'].isin(duples)]"
   ]
  },
  {
   "cell_type": "markdown",
   "metadata": {},
   "source": [
    "Так как это разные пользователи под одним номером, не стала удалять дубликаты. Но рекомендуется проверить систему по присваиванию айдишников."
   ]
  },
  {
   "cell_type": "markdown",
   "metadata": {},
   "source": [
    "Произведём кодирование переменных (пол и город), используя one-hot encoding "
   ]
  },
  {
   "cell_type": "code",
   "execution_count": 16,
   "metadata": {},
   "outputs": [
    {
     "data": {
      "text/html": [
       "<div>\n",
       "<style scoped>\n",
       "    .dataframe tbody tr th:only-of-type {\n",
       "        vertical-align: middle;\n",
       "    }\n",
       "\n",
       "    .dataframe tbody tr th {\n",
       "        vertical-align: top;\n",
       "    }\n",
       "\n",
       "    .dataframe thead th {\n",
       "        text-align: right;\n",
       "    }\n",
       "</style>\n",
       "<table border=\"1\" class=\"dataframe\">\n",
       "  <thead>\n",
       "    <tr style=\"text-align: right;\">\n",
       "      <th></th>\n",
       "      <th>user_id</th>\n",
       "      <th>score</th>\n",
       "      <th>age</th>\n",
       "      <th>equity</th>\n",
       "      <th>balance</th>\n",
       "      <th>products</th>\n",
       "      <th>credit_card</th>\n",
       "      <th>last_activity</th>\n",
       "      <th>est_salary</th>\n",
       "      <th>churn</th>\n",
       "      <th>missing_balance</th>\n",
       "      <th>Ростов</th>\n",
       "      <th>Рыбинск</th>\n",
       "      <th>Ярославль</th>\n",
       "      <th>male</th>\n",
       "    </tr>\n",
       "  </thead>\n",
       "  <tbody>\n",
       "    <tr>\n",
       "      <th>0</th>\n",
       "      <td>183012</td>\n",
       "      <td>850.0</td>\n",
       "      <td>25.0</td>\n",
       "      <td>1</td>\n",
       "      <td>59214.82</td>\n",
       "      <td>2</td>\n",
       "      <td>0</td>\n",
       "      <td>1</td>\n",
       "      <td>75719.14</td>\n",
       "      <td>1</td>\n",
       "      <td>0</td>\n",
       "      <td>0</td>\n",
       "      <td>1</td>\n",
       "      <td>0</td>\n",
       "      <td>0</td>\n",
       "    </tr>\n",
       "    <tr>\n",
       "      <th>1</th>\n",
       "      <td>146556</td>\n",
       "      <td>861.0</td>\n",
       "      <td>37.0</td>\n",
       "      <td>5</td>\n",
       "      <td>850594.33</td>\n",
       "      <td>3</td>\n",
       "      <td>1</td>\n",
       "      <td>0</td>\n",
       "      <td>86621.77</td>\n",
       "      <td>0</td>\n",
       "      <td>0</td>\n",
       "      <td>0</td>\n",
       "      <td>1</td>\n",
       "      <td>0</td>\n",
       "      <td>0</td>\n",
       "    </tr>\n",
       "    <tr>\n",
       "      <th>2</th>\n",
       "      <td>120722</td>\n",
       "      <td>892.0</td>\n",
       "      <td>30.0</td>\n",
       "      <td>0</td>\n",
       "      <td>NaN</td>\n",
       "      <td>1</td>\n",
       "      <td>1</td>\n",
       "      <td>1</td>\n",
       "      <td>107683.34</td>\n",
       "      <td>0</td>\n",
       "      <td>1</td>\n",
       "      <td>0</td>\n",
       "      <td>1</td>\n",
       "      <td>0</td>\n",
       "      <td>0</td>\n",
       "    </tr>\n",
       "    <tr>\n",
       "      <th>3</th>\n",
       "      <td>225363</td>\n",
       "      <td>866.0</td>\n",
       "      <td>51.0</td>\n",
       "      <td>5</td>\n",
       "      <td>1524746.26</td>\n",
       "      <td>2</td>\n",
       "      <td>0</td>\n",
       "      <td>1</td>\n",
       "      <td>174423.53</td>\n",
       "      <td>1</td>\n",
       "      <td>0</td>\n",
       "      <td>0</td>\n",
       "      <td>0</td>\n",
       "      <td>1</td>\n",
       "      <td>0</td>\n",
       "    </tr>\n",
       "    <tr>\n",
       "      <th>4</th>\n",
       "      <td>157978</td>\n",
       "      <td>730.0</td>\n",
       "      <td>34.0</td>\n",
       "      <td>5</td>\n",
       "      <td>174.00</td>\n",
       "      <td>1</td>\n",
       "      <td>1</td>\n",
       "      <td>0</td>\n",
       "      <td>67353.16</td>\n",
       "      <td>1</td>\n",
       "      <td>0</td>\n",
       "      <td>0</td>\n",
       "      <td>0</td>\n",
       "      <td>1</td>\n",
       "      <td>1</td>\n",
       "    </tr>\n",
       "  </tbody>\n",
       "</table>\n",
       "</div>"
      ],
      "text/plain": [
       "   user_id  score   age  equity     balance  products  credit_card  \\\n",
       "0   183012  850.0  25.0       1    59214.82         2            0   \n",
       "1   146556  861.0  37.0       5   850594.33         3            1   \n",
       "2   120722  892.0  30.0       0         NaN         1            1   \n",
       "3   225363  866.0  51.0       5  1524746.26         2            0   \n",
       "4   157978  730.0  34.0       5      174.00         1            1   \n",
       "\n",
       "   last_activity  est_salary  churn  missing_balance  Ростов  Рыбинск  \\\n",
       "0              1    75719.14      1                0       0        1   \n",
       "1              0    86621.77      0                0       0        1   \n",
       "2              1   107683.34      0                1       0        1   \n",
       "3              1   174423.53      1                0       0        0   \n",
       "4              0    67353.16      1                0       0        0   \n",
       "\n",
       "   Ярославль  male  \n",
       "0          0     0  \n",
       "1          0     0  \n",
       "2          0     0  \n",
       "3          1     0  \n",
       "4          1     1  "
      ]
     },
     "execution_count": 16,
     "metadata": {},
     "output_type": "execute_result"
    }
   ],
   "source": [
    "processed_data = data.copy()\n",
    "processed_data = pd.get_dummies(processed_data, columns=['city'])\n",
    "processed_data = pd.get_dummies(processed_data, columns=['gender'], drop_first=True)\n",
    "processed_data = processed_data.rename (\n",
    "    columns = ({\n",
    "        'city_Ростов':'Ростов', 'city_Рыбинск':'Рыбинск','city_Ярославль':'Ярославль', 'gender_М':'male'}))\n",
    "processed_data.head()"
   ]
  },
  {
   "cell_type": "markdown",
   "metadata": {},
   "source": [
    "**Промежуточный вывод:** В рамках предобработки данных мы переименовали столбцы, проанализировали типы данных, проанализировали пропуски, избавились от аномального значения, удалили дубликаты по столбцу user_id, а также произвели кодирование переменных по городу и полу.\n",
    "\n",
    "## шаг. Исследовательский анализ данных\n",
    "\n",
    "Изучим распределения характеристик в разрезе оттока. Для непрерывных характеристик построим гистограммы или kde-графики, для категориальных — столбчатые диаграммы с уровнями оттока, либо тепловую карту с долями пользующихся N продуктами в каждой из категорий. \n",
    "\n",
    "Начнём с анализа распределения непрерывных характеристик: баланс, зарплата, баллы кредитного скоринга, возраст"
   ]
  },
  {
   "cell_type": "code",
   "execution_count": 17,
   "metadata": {},
   "outputs": [
    {
     "data": {
      "image/png": "[encoded data removed]",
      "text/plain": [
       "<Figure size 1008x504 with 1 Axes>"
      ]
     },
     "metadata": {
      "needs_background": "light"
     },
     "output_type": "display_data"
    }
   ],
   "source": [
    "# Разделяем данные на две группы по оттоку\n",
    "churned_clients = processed_data[processed_data['churn'] == 1]\n",
    "not_churned_clients = processed_data[processed_data['churn'] == 0]\n",
    "\n",
    "# Построение графика распределения для возраста\n",
    "plt.figure(figsize=(14, 7))\n",
    "sns.kdeplot(data=churned_clients['age'], color='red', label='Отточные', shade=True)\n",
    "sns.kdeplot(data=not_churned_clients['age'], color='blue', label='Не отточные', shade=True)\n",
    "plt.title('Распределение клиентов по возрасту в соответствии с оттоком')\n",
    "plt.xlabel('Возраст')\n",
    "plt.ylabel('Плотность')\n",
    "plt.legend()\n",
    "\n",
    "plt.show()"
   ]
  },
  {
   "cell_type": "markdown",
   "metadata": {},
   "source": [
    "отточные клиенты немного преобладают в интервале от 23 до 35 лет и значительно преобладают в интервале от 50 до 62 лет."
   ]
  },
  {
   "cell_type": "code",
   "execution_count": 18,
   "metadata": {},
   "outputs": [
    {
     "data": {
      "image/png": "[encoded data removed]",
      "text/plain": [
       "<Figure size 720x432 with 1 Axes>"
      ]
     },
     "metadata": {
      "needs_background": "light"
     },
     "output_type": "display_data"
    }
   ],
   "source": [
    "# Построение графика распределения для скоринга\n",
    "plt.figure(figsize=(10, 6))\n",
    "sns.kdeplot(data=churned_clients['score'], color='red', label='Отточные', shade=True)\n",
    "sns.kdeplot(data=not_churned_clients['score'], color='blue', label='Не отточные', shade=True)\n",
    "plt.title('Распределение клиентов по скорингу в соответствии с оттоком')\n",
    "plt.xlabel('Скоринг')\n",
    "plt.ylabel('Плотность')\n",
    "plt.legend()\n",
    "\n",
    "plt.show()"
   ]
  },
  {
   "cell_type": "markdown",
   "metadata": {},
   "source": [
    "отточные клиенты преобладают в интервале от 810 до 910 баллов скоринга"
   ]
  },
  {
   "cell_type": "code",
   "execution_count": 19,
   "metadata": {},
   "outputs": [
    {
     "data": {
      "image/png": "[encoded data removed]",
      "text/plain": [
       "<Figure size 720x432 with 1 Axes>"
      ]
     },
     "metadata": {
      "needs_background": "light"
     },
     "output_type": "display_data"
    },
    {
     "data": {
      "text/plain": [
       "count    1.819000e+03\n",
       "mean     1.483107e+05\n",
       "std      1.229143e+05\n",
       "min      1.088027e+04\n",
       "25%      8.319661e+04\n",
       "50%      1.253952e+05\n",
       "75%      1.759854e+05\n",
       "max      1.263028e+06\n",
       "Name: est_salary, dtype: float64"
      ]
     },
     "execution_count": 19,
     "metadata": {},
     "output_type": "execute_result"
    }
   ],
   "source": [
    "# Построение графика распределения для зарплаты\n",
    "plt.figure(figsize=(10, 6))\n",
    "sns.kdeplot(data=churned_clients['est_salary'], color='red', label='Отточные', shade=True)\n",
    "sns.kdeplot(data=not_churned_clients['est_salary'], color='blue', label='Не отточные', shade=True)\n",
    "plt.title('Распределение клиентов по зарплате в соответствии с оттоком')\n",
    "plt.xlabel('Зарплата')\n",
    "plt.ylabel('Плотность')\n",
    "plt.gca().set_xlim(left=0, right=800000)\n",
    "plt.legend()\n",
    "\n",
    "plt.show()\n",
    "\n",
    "churned_clients['est_salary'].describe()"
   ]
  },
  {
   "cell_type": "markdown",
   "metadata": {},
   "source": [
    "на данном графике отточные клиенты преобладают в интервале размера зарплаты от 100 000 до 250 000"
   ]
  },
  {
   "cell_type": "code",
   "execution_count": 20,
   "metadata": {
    "scrolled": true
   },
   "outputs": [
    {
     "data": {
      "text/plain": [
       "count    8.180000e+03\n",
       "mean     1.477832e+05\n",
       "std      1.428024e+05\n",
       "min      2.546300e+03\n",
       "25%      7.350615e+04\n",
       "50%      1.182577e+05\n",
       "75%      1.739901e+05\n",
       "max      1.395064e+06\n",
       "Name: est_salary, dtype: float64"
      ]
     },
     "execution_count": 20,
     "metadata": {},
     "output_type": "execute_result"
    }
   ],
   "source": [
    "not_churned_clients['est_salary'].describe()"
   ]
  },
  {
   "cell_type": "code",
   "execution_count": 21,
   "metadata": {},
   "outputs": [
    {
     "data": {
      "image/png": "[encoded data removed]",
      "text/plain": [
       "<Figure size 720x432 with 1 Axes>"
      ]
     },
     "metadata": {
      "needs_background": "light"
     },
     "output_type": "display_data"
    }
   ],
   "source": [
    "plt.figure(figsize=(10, 6))\n",
    "sns.kdeplot(data=churned_clients['balance'], color='red', label='Отточные', shade=True)\n",
    "sns.kdeplot(data=not_churned_clients['balance'], color='blue', label='Не отточные', shade=True)\n",
    "plt.title('Распределение клиентов по балансу в соответствии с оттоком')\n",
    "plt.xlabel('Баланс на счету')\n",
    "plt.ylabel('Плотность')\n",
    "plt.gca().set_xlim(left=0, right=6000000)\n",
    "plt.legend()\n",
    "\n",
    "plt.show()"
   ]
  },
  {
   "cell_type": "markdown",
   "metadata": {},
   "source": [
    "Когда значение баланса превышает 1.1 млн, то количество отточных клиентов становится больше, чем неотточных."
   ]
  },
  {
   "cell_type": "markdown",
   "metadata": {},
   "source": [
    "Выводы по графикам, отточных клиентов больше, чем неотточных в следующих интервалах:\n",
    "* в интервале от 23 до 35 лет (незначительно) и в интервале от 50 до 62 лет (значительно).\n",
    "* от 810 до 910 баллов скоринга\n",
    "* при размере зарплаты от 100 000 до 250 000\n",
    "* при балансе на счету от 1.1 млн\n",
    "\n",
    "Итого по данным графикам у нас наиболее отточные клиенты в возрасте от 50 до 62, с высокими оценками скоринга, с более высокой зарплатой и большим балансом на счету.\n",
    "\n",
    "Теперь построим графики для категориальных переменных"
   ]
  },
  {
   "cell_type": "code",
   "execution_count": 22,
   "metadata": {},
   "outputs": [
    {
     "name": "stdout",
     "output_type": "stream",
     "text": [
      "Средний отток по всему датасету: 0.18\n"
     ]
    }
   ],
   "source": [
    "print(\"Средний отток по всему датасету:\", round(data['churn'].mean(),2))"
   ]
  },
  {
   "cell_type": "code",
   "execution_count": 23,
   "metadata": {},
   "outputs": [
    {
     "data": {
      "image/png": "[encoded data removed]",
      "text/plain": [
       "<Figure size 720x432 with 1 Axes>"
      ]
     },
     "metadata": {
      "needs_background": "light"
     },
     "output_type": "display_data"
    }
   ],
   "source": [
    "pivot_table = pd.pivot_table(processed_data, index='products', values='churn', aggfunc='mean')\n",
    "\n",
    "pivot_table.plot(kind='bar', figsize=(10, 6))\n",
    "plt.title('Уровень оттока в зависимости от количества продуктов')\n",
    "plt.xlabel('Количество продуктов')\n",
    "plt.ylabel('Отток')\n",
    "plt.xticks(rotation=0)\n",
    "\n",
    "mean_churn = data['churn'].mean()\n",
    "plt.axhline(y=mean_churn, color='r', linestyle='--', label='Средний отток')\n",
    "plt.legend()\n",
    "\n",
    "plt.show()"
   ]
  },
  {
   "cell_type": "markdown",
   "metadata": {},
   "source": [
    "Количество продуктов: максимальный отток наблюдается у клиентов, которые используют 4 продукта, затем 5 и 3. У них значения выше среднего показателя оттока. То есть, чем больше продуктов использует пользователь, тем выше у него отточность."
   ]
  },
  {
   "cell_type": "code",
   "execution_count": 24,
   "metadata": {},
   "outputs": [
    {
     "data": {
      "image/png": "[encoded data removed]",
      "text/plain": [
       "<Figure size 720x432 with 1 Axes>"
      ]
     },
     "metadata": {
      "needs_background": "light"
     },
     "output_type": "display_data"
    }
   ],
   "source": [
    "pivot_table = pd.pivot_table(processed_data, index='equity', values='churn', aggfunc='mean')\n",
    "\n",
    "pivot_table.plot(kind='bar', figsize=(10, 6))\n",
    "plt.title('Уровень оттока в зависимости от оценки собственности')\n",
    "plt.xlabel('Оценка собственности')\n",
    "plt.ylabel('Отток')\n",
    "plt.xticks(rotation=0)\n",
    "\n",
    "mean_churn = data['churn'].mean()\n",
    "plt.axhline(y=mean_churn, color='r', linestyle='--', label='Средний отток')\n",
    "plt.legend()\n",
    "\n",
    "plt.show()"
   ]
  },
  {
   "cell_type": "markdown",
   "metadata": {},
   "source": [
    "Оценка собственности: максимальное  значения оттока у пользователей с оценкой собственности = 9, затем 7, 6, 8, 5, 4, 3. То есть, чем больше у пользователя недвижимости, тем выше отточность. Так как для пользователей с оценкой недвижимости 0, 1 и 2 отточность ниже среднего."
   ]
  },
  {
   "cell_type": "code",
   "execution_count": 25,
   "metadata": {},
   "outputs": [
    {
     "data": {
      "image/png": "[encoded data removed]",
      "text/plain": [
       "<Figure size 720x432 with 1 Axes>"
      ]
     },
     "metadata": {
      "needs_background": "light"
     },
     "output_type": "display_data"
    }
   ],
   "source": [
    "pivot_table = pd.pivot_table(processed_data, index='last_activity', values='churn', aggfunc='mean')\n",
    "\n",
    "pivot_table.plot(kind='bar', figsize=(10, 6))\n",
    "plt.title('Уровень оттока в зависимости от активности в последний месяц')\n",
    "plt.xlabel('Активность')\n",
    "plt.ylabel('Отток')\n",
    "plt.xticks (ticks=[False, True], labels=['Нет', 'Есть'])\n",
    "\n",
    "mean_churn = data['churn'].mean()\n",
    "plt.axhline(y=mean_churn, color='r', linestyle='--', label='Средний отток')\n",
    "plt.legend()\n",
    "\n",
    "plt.show()"
   ]
  },
  {
   "cell_type": "markdown",
   "metadata": {},
   "source": [
    "Активность: пользователи, которые были активны в последний  месяц склонны покидать банк значительно чаще (примерно в два раза)"
   ]
  },
  {
   "cell_type": "code",
   "execution_count": 26,
   "metadata": {},
   "outputs": [
    {
     "data": {
      "image/png": "[encoded data removed]",
      "text/plain": [
       "<Figure size 720x432 with 1 Axes>"
      ]
     },
     "metadata": {
      "needs_background": "light"
     },
     "output_type": "display_data"
    }
   ],
   "source": [
    "pivot_table = pd.pivot_table(processed_data, index='credit_card', values='churn', aggfunc='mean')\n",
    "\n",
    "pivot_table.plot(kind='bar', figsize=(10, 6))\n",
    "plt.title('Уровень оттока в зависимости от наличия кредитной карты')\n",
    "plt.xlabel('Есть ли кредитная карта')\n",
    "plt.ylabel('Отток')\n",
    "plt.xticks (ticks=[False, True], labels=['Нет', 'Есть'])\n",
    "\n",
    "mean_churn = data['churn'].mean()\n",
    "plt.axhline(y=mean_churn, color='r', linestyle='--', label='Средний отток')\n",
    "plt.legend()\n",
    "\n",
    "plt.show()"
   ]
  },
  {
   "cell_type": "markdown",
   "metadata": {},
   "source": [
    "Кредитная карта: пользователи без кредитной карты склонны покидать банк намного чаще."
   ]
  },
  {
   "cell_type": "code",
   "execution_count": 27,
   "metadata": {},
   "outputs": [
    {
     "data": {
      "image/png": "[encoded data removed]",
      "text/plain": [
       "<Figure size 720x432 with 1 Axes>"
      ]
     },
     "metadata": {
      "needs_background": "light"
     },
     "output_type": "display_data"
    }
   ],
   "source": [
    "pivot_table = pd.pivot_table(processed_data, index='male', values='churn', aggfunc='mean')\n",
    "\n",
    "pivot_table.plot(kind='bar', figsize=(10, 6))\n",
    "plt.title('Уровень оттока в зависимости от пола')\n",
    "plt.xlabel('Пол')\n",
    "plt.ylabel('Отток')\n",
    "plt.xticks (ticks=[False, True], labels=['женский', 'мужской'])\n",
    "\n",
    "mean_churn = data['churn'].mean()\n",
    "plt.axhline(y=mean_churn, color='r', linestyle='--', label='Средний отток')\n",
    "plt.legend()\n",
    "\n",
    "plt.show()"
   ]
  },
  {
   "cell_type": "markdown",
   "metadata": {},
   "source": [
    "Пол: мужчины покидают банк намного чаще"
   ]
  },
  {
   "cell_type": "code",
   "execution_count": 28,
   "metadata": {},
   "outputs": [
    {
     "data": {
      "image/png": "[encoded data removed]",
      "text/plain": [
       "<Figure size 720x432 with 1 Axes>"
      ]
     },
     "metadata": {
      "needs_background": "light"
     },
     "output_type": "display_data"
    }
   ],
   "source": [
    "pivot_table = pd.pivot_table(data, index='city', values='churn', aggfunc='mean')\n",
    "\n",
    "pivot_table.plot(kind='bar', figsize=(10, 6))\n",
    "plt.title('Уровень оттока в зависимости от города')\n",
    "plt.xlabel('Город')\n",
    "plt.ylabel('Отток')\n",
    "plt.xticks(rotation=0)\n",
    "\n",
    "mean_churn = data['churn'].mean()\n",
    "plt.axhline(y=mean_churn, color='r', linestyle='--', label='Средний отток')\n",
    "plt.legend()\n",
    "\n",
    "plt.show()"
   ]
  },
  {
   "cell_type": "markdown",
   "metadata": {},
   "source": [
    "Результаты анализа категориальных переменных:\n",
    "- Количество продуктов: максимальный отток наблюдается у клиентов, которые используют 4 продукта, затем 5 и 3. У них значения выше среднего показателя оттока. То есть, чем больше продуктов использует пользователь, тем выше у него отточность.\n",
    "- Оценка собственности: максимальное  значения оттока у пользователей с оценкой собственности = 9, затем 7, 6, 8, 5, 4, 3. То есть, чем больше у пользователя недвижимости, тем выше отточность. Так как для пользователей с оценкой недвижимости 0, 1 и 2 отточность ниже среднего.\n",
    "- Активность: пользователи, которые были активны в последний  месяц склонны покидать банк значительно чаще (примерно в два раза) ",
    "\n",
    "- Кредитная карта: пользователи без кредитной карты склонны покидать банк намного чаще.\n",
    "- Пол: мужчины покидают банк намного чаще\n",
    "- Город: чуть выше среднего отток в Ярославле и Ростове."
   ]
  },
  {
   "cell_type": "code",
   "execution_count": 29,
   "metadata": {},
   "outputs": [
    {
     "data": {
      "text/html": [
       "<div>\n",
       "<style scoped>\n",
       "    .dataframe tbody tr th:only-of-type {\n",
       "        vertical-align: middle;\n",
       "    }\n",
       "\n",
       "    .dataframe tbody tr th {\n",
       "        vertical-align: top;\n",
       "    }\n",
       "\n",
       "    .dataframe thead th {\n",
       "        text-align: right;\n",
       "    }\n",
       "</style>\n",
       "<table border=\"1\" class=\"dataframe\">\n",
       "  <thead>\n",
       "    <tr style=\"text-align: right;\">\n",
       "      <th></th>\n",
       "      <th>user_id</th>\n",
       "      <th>score</th>\n",
       "      <th>age</th>\n",
       "      <th>equity</th>\n",
       "      <th>balance</th>\n",
       "      <th>products</th>\n",
       "      <th>credit_card</th>\n",
       "      <th>last_activity</th>\n",
       "      <th>est_salary</th>\n",
       "      <th>churn</th>\n",
       "      <th>missing_balance</th>\n",
       "      <th>Ростов</th>\n",
       "      <th>Рыбинск</th>\n",
       "      <th>Ярославль</th>\n",
       "      <th>male</th>\n",
       "    </tr>\n",
       "  </thead>\n",
       "  <tbody>\n",
       "    <tr>\n",
       "      <th>0</th>\n",
       "      <td>183012</td>\n",
       "      <td>850.0</td>\n",
       "      <td>25.0</td>\n",
       "      <td>1</td>\n",
       "      <td>59214.82</td>\n",
       "      <td>2</td>\n",
       "      <td>0</td>\n",
       "      <td>1</td>\n",
       "      <td>75719.14</td>\n",
       "      <td>1</td>\n",
       "      <td>0</td>\n",
       "      <td>0</td>\n",
       "      <td>1</td>\n",
       "      <td>0</td>\n",
       "      <td>0</td>\n",
       "    </tr>\n",
       "    <tr>\n",
       "      <th>1</th>\n",
       "      <td>146556</td>\n",
       "      <td>861.0</td>\n",
       "      <td>37.0</td>\n",
       "      <td>5</td>\n",
       "      <td>850594.33</td>\n",
       "      <td>3</td>\n",
       "      <td>1</td>\n",
       "      <td>0</td>\n",
       "      <td>86621.77</td>\n",
       "      <td>0</td>\n",
       "      <td>0</td>\n",
       "      <td>0</td>\n",
       "      <td>1</td>\n",
       "      <td>0</td>\n",
       "      <td>0</td>\n",
       "    </tr>\n",
       "    <tr>\n",
       "      <th>2</th>\n",
       "      <td>120722</td>\n",
       "      <td>892.0</td>\n",
       "      <td>30.0</td>\n",
       "      <td>0</td>\n",
       "      <td>NaN</td>\n",
       "      <td>1</td>\n",
       "      <td>1</td>\n",
       "      <td>1</td>\n",
       "      <td>107683.34</td>\n",
       "      <td>0</td>\n",
       "      <td>1</td>\n",
       "      <td>0</td>\n",
       "      <td>1</td>\n",
       "      <td>0</td>\n",
       "      <td>0</td>\n",
       "    </tr>\n",
       "    <tr>\n",
       "      <th>3</th>\n",
       "      <td>225363</td>\n",
       "      <td>866.0</td>\n",
       "      <td>51.0</td>\n",
       "      <td>5</td>\n",
       "      <td>1524746.26</td>\n",
       "      <td>2</td>\n",
       "      <td>0</td>\n",
       "      <td>1</td>\n",
       "      <td>174423.53</td>\n",
       "      <td>1</td>\n",
       "      <td>0</td>\n",
       "      <td>0</td>\n",
       "      <td>0</td>\n",
       "      <td>1</td>\n",
       "      <td>0</td>\n",
       "    </tr>\n",
       "    <tr>\n",
       "      <th>4</th>\n",
       "      <td>157978</td>\n",
       "      <td>730.0</td>\n",
       "      <td>34.0</td>\n",
       "      <td>5</td>\n",
       "      <td>174.00</td>\n",
       "      <td>1</td>\n",
       "      <td>1</td>\n",
       "      <td>0</td>\n",
       "      <td>67353.16</td>\n",
       "      <td>1</td>\n",
       "      <td>0</td>\n",
       "      <td>0</td>\n",
       "      <td>0</td>\n",
       "      <td>1</td>\n",
       "      <td>1</td>\n",
       "    </tr>\n",
       "  </tbody>\n",
       "</table>\n",
       "</div>"
      ],
      "text/plain": [
       "   user_id  score   age  equity     balance  products  credit_card  \\\n",
       "0   183012  850.0  25.0       1    59214.82         2            0   \n",
       "1   146556  861.0  37.0       5   850594.33         3            1   \n",
       "2   120722  892.0  30.0       0         NaN         1            1   \n",
       "3   225363  866.0  51.0       5  1524746.26         2            0   \n",
       "4   157978  730.0  34.0       5      174.00         1            1   \n",
       "\n",
       "   last_activity  est_salary  churn  missing_balance  Ростов  Рыбинск  \\\n",
       "0              1    75719.14      1                0       0        1   \n",
       "1              0    86621.77      0                0       0        1   \n",
       "2              1   107683.34      0                1       0        1   \n",
       "3              1   174423.53      1                0       0        0   \n",
       "4              0    67353.16      1                0       0        0   \n",
       "\n",
       "   Ярославль  male  \n",
       "0          0     0  \n",
       "1          0     0  \n",
       "2          0     0  \n",
       "3          1     0  \n",
       "4          1     1  "
      ]
     },
     "execution_count": 29,
     "metadata": {},
     "output_type": "execute_result"
    }
   ],
   "source": [
    "processed_data.head()"
   ]
  },
  {
   "cell_type": "code",
   "execution_count": 30,
   "metadata": {
    "scrolled": false
   },
   "outputs": [
    {
     "data": {
      "image/png": "[encoded data removed]",
      "text/plain": [
       "<Figure size 720x432 with 1 Axes>"
      ]
     },
     "metadata": {
      "needs_background": "light"
     },
     "output_type": "display_data"
    }
   ],
   "source": [
    "numeric_variables = ['score', 'age', 'equity', 'balance', 'products', 'est_salary', 'churn', 'Ростов', \n",
    "                     'Рыбинск', 'Ярославль', 'male', 'credit_card', 'last_activity']\n",
    "correlation_matrix = processed_data[numeric_variables].corr()\n",
    "churn_correlation = correlation_matrix['churn'].drop('churn') \n",
    "significant_correlations = churn_correlation[abs(churn_correlation) > 0.1]  # Выбираем только значимые корреляции\n",
    "\n",
    "plt.figure(figsize=(10, 6))\n",
    "sns.heatmap(significant_correlations.to_frame(), annot=True, cmap=\"coolwarm\", fmt=\".2f\", linewidths=0.5, cbar=False)\n",
    "plt.title('Корреляция с оттоком > 0.1')\n",
    "plt.show()"
   ]
  },
  {
   "cell_type": "code",
   "execution_count": 31,
   "metadata": {
    "scrolled": true
   },
   "outputs": [
    {
     "name": "stdout",
     "output_type": "stream",
     "text": [
      "Корреляция между 'Ярославль' и 'Рыбинск': -0.73\n",
      "Корреляция между 'Рыбинск' и 'Ярославль': -0.73\n",
      "Корреляция между 'Ярославль' и 'Ростов': -0.49\n",
      "Корреляция между 'Ростов' и 'Ярославль': -0.49\n",
      "Корреляция между 'equity' и 'products': 0.43\n",
      "Корреляция между 'products' и 'equity': 0.43\n",
      "Корреляция между 'balance' и 'est_salary': 0.34\n",
      "Корреляция между 'est_salary' и 'balance': 0.34\n",
      "Корреляция между 'churn' и 'products': 0.30\n",
      "Корреляция между 'products' и 'churn': 0.30\n",
      "Корреляция между 'churn' и 'equity': 0.27\n",
      "Корреляция между 'equity' и 'churn': 0.27\n",
      "Корреляция между 'products' и 'credit_card': -0.25\n",
      "Корреляция между 'credit_card' и 'products': -0.25\n",
      "Корреляция между 'Рыбинск' и 'Ростов': -0.25\n",
      "Корреляция между 'Ростов' и 'Рыбинск': -0.25\n",
      "Корреляция между 'score' и 'balance': 0.24\n",
      "Корреляция между 'balance' и 'score': 0.24\n",
      "Корреляция между 'male' и 'age': -0.21\n",
      "Корреляция между 'age' и 'male': -0.21\n",
      "Корреляция между 'equity' и 'est_salary': -0.17\n",
      "Корреляция между 'est_salary' и 'equity': -0.17\n",
      "Корреляция между 'churn' и 'last_activity': 0.17\n",
      "Корреляция между 'last_activity' и 'churn': 0.17\n",
      "Корреляция между 'equity' и 'credit_card': -0.17\n",
      "Корреляция между 'credit_card' и 'equity': -0.17\n",
      "Корреляция между 'balance' и 'equity': 0.16\n",
      "Корреляция между 'equity' и 'balance': 0.16\n",
      "Корреляция между 'score' и 'est_salary': 0.16\n",
      "Корреляция между 'est_salary' и 'score': 0.16\n",
      "Корреляция между 'male' и 'churn': 0.14\n",
      "Корреляция между 'churn' и 'male': 0.14\n",
      "Корреляция между 'churn' и 'credit_card': -0.13\n",
      "Корреляция между 'credit_card' и 'churn': -0.13\n",
      "Корреляция между 'est_salary' и 'Ярославль': 0.13\n",
      "Корреляция между 'Ярославль' и 'est_salary': 0.13\n",
      "Корреляция между 'male' и 'credit_card': 0.13\n",
      "Корреляция между 'credit_card' и 'male': 0.13\n",
      "Корреляция между 'age' и 'credit_card': -0.12\n",
      "Корреляция между 'credit_card' и 'age': -0.12\n",
      "Корреляция между 'products' и 'est_salary': -0.12\n",
      "Корреляция между 'est_salary' и 'products': -0.12\n",
      "Корреляция между 'Ярославль' и 'credit_card': 0.11\n",
      "Корреляция между 'credit_card' и 'Ярославль': 0.11\n",
      "Корреляция между 'Ростов' и 'est_salary': -0.11\n",
      "Корреляция между 'est_salary' и 'Ростов': -0.11\n",
      "Корреляция между 'churn' и 'score': 0.11\n",
      "Корреляция между 'score' и 'churn': 0.11\n"
     ]
    }
   ],
   "source": [
    "significant_correlations = correlation_matrix[(correlation_matrix.abs() > 0.1) & (correlation_matrix != 1)]\n",
    "significant_correlations = significant_correlations.abs().stack().sort_values(ascending=False)\n",
    "\n",
    "for index, value in significant_correlations.items():\n",
    "    if abs(value) > 0.1:\n",
    "        print(f\"Корреляция между '{index[0]}' и '{index[1]}': {correlation_matrix.loc[index[0], index[1]]:.2f}\")\n"
   ]
  },
  {
   "cell_type": "code",
   "execution_count": 32,
   "metadata": {},
   "outputs": [
    {
     "data": {
      "image/png": "[encoded data removed]",
      "text/plain": [
       "<Figure size 720x576 with 2 Axes>"
      ]
     },
     "metadata": {
      "needs_background": "light"
     },
     "output_type": "display_data"
    }
   ],
   "source": [
    "plt.figure(figsize=(10, 8))\n",
    "sns.heatmap(correlation_matrix, annot=True, cmap=\"coolwarm\", fmt=\".2f\", linewidths=0.5)\n",
    "plt.title('Correlation Heatmap')\n",
    "plt.show()"
   ]
  },
  {
   "cell_type": "markdown",
   "metadata": {},
   "source": [
    "Итого обнаружены три корреляции >10% с churn:\n",
    "- products 0.30\n",
    "- equity 0.27\n",
    "- last_activity 0.17\n",
    "- male 0.14\n",
    "- credit_card  -0.13\n",
    "- score 0.11\n",
    "\n",
    "Таккже наблюдается корреляция между следующими параметрами:\n",
    "- корреляция между 'products' и 'equity': 0.43\n",
    "- корреляция между 'balance' и 'est_salary': 0.34\n",
    "- корреляция между 'balance' и 'score': 0.24"
   ]
  },
  {
   "cell_type": "markdown",
   "metadata": {},
   "source": [
    "Сравнение портретов типичных клиентов.  Типичные клиенты это типичные отточные  (churn  = 1) и типичные неотточные (churn = 0). Это группировка по показателю оттока. Для бинарных будем использовать медианы, для остальных средние\n",
    "Для баланса и зарплаты считаем и среднее, и медиану из-за выбросов."
   ]
  },
  {
   "cell_type": "code",
   "execution_count": 33,
   "metadata": {},
   "outputs": [
    {
     "data": {
      "text/html": [
       "<div>\n",
       "<style scoped>\n",
       "    .dataframe tbody tr th:only-of-type {\n",
       "        vertical-align: middle;\n",
       "    }\n",
       "\n",
       "    .dataframe tbody tr th {\n",
       "        vertical-align: top;\n",
       "    }\n",
       "\n",
       "    .dataframe thead th {\n",
       "        text-align: right;\n",
       "    }\n",
       "</style>\n",
       "<table border=\"1\" class=\"dataframe\">\n",
       "  <thead>\n",
       "    <tr style=\"text-align: right;\">\n",
       "      <th></th>\n",
       "      <th></th>\n",
       "      <th>0</th>\n",
       "      <th>1</th>\n",
       "    </tr>\n",
       "  </thead>\n",
       "  <tbody>\n",
       "    <tr>\n",
       "      <th>churn</th>\n",
       "      <th></th>\n",
       "      <td>0.000000</td>\n",
       "      <td>1.000000e+00</td>\n",
       "    </tr>\n",
       "    <tr>\n",
       "      <th>score</th>\n",
       "      <th>mean</th>\n",
       "      <td>845.428362</td>\n",
       "      <td>8.633469e+02</td>\n",
       "    </tr>\n",
       "    <tr>\n",
       "      <th>age</th>\n",
       "      <th>mean</th>\n",
       "      <td>43.020846</td>\n",
       "      <td>4.142959e+01</td>\n",
       "    </tr>\n",
       "    <tr>\n",
       "      <th>equity</th>\n",
       "      <th>mean</th>\n",
       "      <td>2.374817</td>\n",
       "      <td>3.764156e+00</td>\n",
       "    </tr>\n",
       "    <tr>\n",
       "      <th rowspan=\"2\" valign=\"top\">balance</th>\n",
       "      <th>mean</th>\n",
       "      <td>733982.585648</td>\n",
       "      <td>1.133993e+06</td>\n",
       "    </tr>\n",
       "    <tr>\n",
       "      <th>median</th>\n",
       "      <td>475382.445000</td>\n",
       "      <td>7.824105e+05</td>\n",
       "    </tr>\n",
       "    <tr>\n",
       "      <th>products</th>\n",
       "      <th>mean</th>\n",
       "      <td>1.757579</td>\n",
       "      <td>2.377130e+00</td>\n",
       "    </tr>\n",
       "    <tr>\n",
       "      <th rowspan=\"2\" valign=\"top\">est_salary</th>\n",
       "      <th>mean</th>\n",
       "      <td>147783.200108</td>\n",
       "      <td>1.483107e+05</td>\n",
       "    </tr>\n",
       "    <tr>\n",
       "      <th>median</th>\n",
       "      <td>118257.715000</td>\n",
       "      <td>1.253952e+05</td>\n",
       "    </tr>\n",
       "    <tr>\n",
       "      <th>male</th>\n",
       "      <th>median</th>\n",
       "      <td>0.000000</td>\n",
       "      <td>1.000000e+00</td>\n",
       "    </tr>\n",
       "    <tr>\n",
       "      <th>Ростов</th>\n",
       "      <th>median</th>\n",
       "      <td>0.000000</td>\n",
       "      <td>0.000000e+00</td>\n",
       "    </tr>\n",
       "    <tr>\n",
       "      <th>Рыбинск</th>\n",
       "      <th>median</th>\n",
       "      <td>0.000000</td>\n",
       "      <td>0.000000e+00</td>\n",
       "    </tr>\n",
       "    <tr>\n",
       "      <th>Ярославль</th>\n",
       "      <th>median</th>\n",
       "      <td>1.000000</td>\n",
       "      <td>1.000000e+00</td>\n",
       "    </tr>\n",
       "    <tr>\n",
       "      <th>credit_card</th>\n",
       "      <th>median</th>\n",
       "      <td>1.000000</td>\n",
       "      <td>1.000000e+00</td>\n",
       "    </tr>\n",
       "    <tr>\n",
       "      <th>last_activity</th>\n",
       "      <th>median</th>\n",
       "      <td>0.000000</td>\n",
       "      <td>1.000000e+00</td>\n",
       "    </tr>\n",
       "  </tbody>\n",
       "</table>\n",
       "</div>"
      ],
      "text/plain": [
       "                                  0             1\n",
       "churn                      0.000000  1.000000e+00\n",
       "score         mean       845.428362  8.633469e+02\n",
       "age           mean        43.020846  4.142959e+01\n",
       "equity        mean         2.374817  3.764156e+00\n",
       "balance       mean    733982.585648  1.133993e+06\n",
       "              median  475382.445000  7.824105e+05\n",
       "products      mean         1.757579  2.377130e+00\n",
       "est_salary    mean    147783.200108  1.483107e+05\n",
       "              median  118257.715000  1.253952e+05\n",
       "male          median       0.000000  1.000000e+00\n",
       "Ростов        median       0.000000  0.000000e+00\n",
       "Рыбинск       median       0.000000  0.000000e+00\n",
       "Ярославль     median       1.000000  1.000000e+00\n",
       "credit_card   median       1.000000  1.000000e+00\n",
       "last_activity median       0.000000  1.000000e+00"
      ]
     },
     "execution_count": 33,
     "metadata": {},
     "output_type": "execute_result"
    }
   ],
   "source": [
    "# Создание словаря для агрегации\n",
    "agg_dict = {\n",
    "    'score': 'mean',\n",
    "    'age': 'mean',\n",
    "    'equity': 'mean',\n",
    "    'balance': ['mean', 'median'],\n",
    "    'products': 'mean',\n",
    "    'est_salary': ['mean', 'median'],\n",
    "    'male': 'median',\n",
    "    'Ростов': 'median',\n",
    "    'Рыбинск': 'median',\n",
    "    'Ярославль': 'median',\n",
    "    'credit_card': 'median',\n",
    "    'last_activity': 'median'\n",
    "}\n",
    "\n",
    "processed_data.groupby('churn').agg(agg_dict).reset_index().T\n"
   ]
  },
  {
   "cell_type": "code",
   "execution_count": 34,
   "metadata": {},
   "outputs": [
    {
     "data": {
      "text/html": [
       "<div>\n",
       "<style scoped>\n",
       "    .dataframe tbody tr th:only-of-type {\n",
       "        vertical-align: middle;\n",
       "    }\n",
       "\n",
       "    .dataframe tbody tr th {\n",
       "        vertical-align: top;\n",
       "    }\n",
       "\n",
       "    .dataframe thead th {\n",
       "        text-align: right;\n",
       "    }\n",
       "</style>\n",
       "<table border=\"1\" class=\"dataframe\">\n",
       "  <thead>\n",
       "    <tr style=\"text-align: right;\">\n",
       "      <th></th>\n",
       "      <th>0</th>\n",
       "      <th>1</th>\n",
       "    </tr>\n",
       "  </thead>\n",
       "  <tbody>\n",
       "    <tr>\n",
       "      <th>churn</th>\n",
       "      <td>0.000000</td>\n",
       "      <td>1.000000</td>\n",
       "    </tr>\n",
       "    <tr>\n",
       "      <th>male_percentage</th>\n",
       "      <td>0.467237</td>\n",
       "      <td>0.650357</td>\n",
       "    </tr>\n",
       "    <tr>\n",
       "      <th>Rostov_percentage</th>\n",
       "      <td>0.140709</td>\n",
       "      <td>0.146234</td>\n",
       "    </tr>\n",
       "    <tr>\n",
       "      <th>Rybinsk_percentage</th>\n",
       "      <td>0.276039</td>\n",
       "      <td>0.239692</td>\n",
       "    </tr>\n",
       "    <tr>\n",
       "      <th>Yaroslavl_percentage</th>\n",
       "      <td>0.583252</td>\n",
       "      <td>0.614074</td>\n",
       "    </tr>\n",
       "    <tr>\n",
       "      <th>credit_card</th>\n",
       "      <td>0.709169</td>\n",
       "      <td>0.551402</td>\n",
       "    </tr>\n",
       "    <tr>\n",
       "      <th>last_activity</th>\n",
       "      <td>0.483741</td>\n",
       "      <td>0.702584</td>\n",
       "    </tr>\n",
       "  </tbody>\n",
       "</table>\n",
       "</div>"
      ],
      "text/plain": [
       "                             0         1\n",
       "churn                 0.000000  1.000000\n",
       "male_percentage       0.467237  0.650357\n",
       "Rostov_percentage     0.140709  0.146234\n",
       "Rybinsk_percentage    0.276039  0.239692\n",
       "Yaroslavl_percentage  0.583252  0.614074\n",
       "credit_card           0.709169  0.551402\n",
       "last_activity         0.483741  0.702584"
      ]
     },
     "execution_count": 34,
     "metadata": {},
     "output_type": "execute_result"
    }
   ],
   "source": [
    "#для бинарных переменных решила посмотреть процент единиц\n",
    "summary_statistics = processed_data.groupby('churn').agg({\n",
    "    'male': lambda x: x.mean(),\n",
    "    'Ростов': lambda x: x.mean(),\n",
    "    'Рыбинск': lambda x: x.mean(),\n",
    "    'Ярославль': lambda x: x.mean(),\n",
    "    'credit_card': lambda x: x.mean(),\n",
    "    'last_activity': lambda x: x.mean()\n",
    "}).reset_index()\n",
    "\n",
    "summary_statistics.rename(columns={'female': 'female_percentage', 'male': 'male_percentage',\n",
    "                                   'Ростов': 'Rostov_percentage', 'Рыбинск': 'Rybinsk_percentage',\n",
    "                                   'Ярославль': 'Yaroslavl_percentage'}, inplace=True)\n",
    "\n",
    "summary_statistics.T"
   ]
  },
  {
   "cell_type": "markdown",
   "metadata": {},
   "source": [
    "**Промежуточный вывод:**\n",
    "\n",
    "* По возрасту есть пик отточных клиентов от 25 до 40, но здесь же есть пик и у неотточных. Однако специфический пик для ушедших клиентов есть от 50 до 60 лет.\n",
    "* Для скоринга есть небольшой пик отточных клиентов от 675 до 840 и более выраженный пик для 875 и 925.\n",
    "* Медиана по зарплата у отточных клиентов чуть ниже, но вообще они расположены рядом. У отточных медиана = 118 000, а у неотточных 125 000.\n",
    "* Когда баланс превышает 1 100 000, то отточных клиентов становится больше, чем неотточных.\n",
    "* Количество продуктов: максимальный отток наблюдается у клиентов, которые используют 4 продукта, затем 5 и 3. У них значения выше среднего показателя оттока. То есть, чем больше продуктов использует пользователь, тем выше у него отточность.\n",
    "* Оценка собственности: максимальное  значения оттока у пользователей с оценкой собственности = 9, затем 7, 6, 8, 5, 4, 3. То есть, чем больше у пользователя недвижимости, тем выше отточность. Так как для пользователей с оценкой недвижимости 0, 1 и 2 отточность ниже среднего.\n",
    "\n",
    "Обнаружены три значительные корреляции с churn:\n",
    "\n",
    "- products 0.30\n",
    "- equity 0.27\n",
    "- score 0.11\n",
    "\n",
    "**Типичный неотточный клиент:** более вероятно, что это женщина, её скоринг в среднем 845, а возраст 43, среднее количество используемых продуктов 1,7, а средняя оценка собственности 2.3, она скорее всего из ярославля, медиана по зарплате 118 000, у неё почти наверняка есть кредитка, в последний месяц она чуть более вероятно, что не была активна.\n",
    "\n",
    "**Типичный отточный клиент:** скорее всего это мужчина из Ярославля, ему 41 год, средний скоринг 863, а оценка собственности 3.8. В среднем такой клиент использует 2,4 продукта, а его зарплата около 125 000. Вероятность наличия кредитки ниже,чем у неотточного клиента, но активнсть в последний месяц выше.\n",
    "\n",
    "\n",
    "## шаг. Проверка гипотез\n",
    "\n",
    "Во всех гипотезах будет использоваться уровень значимости 0.01.\n",
    "\n",
    "Проверьте гипотезу различия дохода между теми клиентами, которые ушли и теми, которые остались, используя t-критерий и u-критерий.\n",
    "\n",
    "Нулевая гипотеза: средние значения дохода между теми клиентами, которые ушли (churn=1) и теми, которые остались (churn=0), равны\n",
    "Альтернативная гипотеза: средние значения дохода между теми клиентами, которые ушли (churn=1) и теми, которые остались (churn=0), не равны"
   ]
  },
  {
   "cell_type": "code",
   "execution_count": 35,
   "metadata": {},
   "outputs": [
    {
     "name": "stdout",
     "output_type": "stream",
     "text": [
      "t-статистика: 0.1459846578083951\n",
      "t-значение: 0.8839364433181659\n",
      "U-статистика: 7852245.0\n",
      "U-значение: 0.00021160652203623057\n"
     ]
    }
   ],
   "source": [
    "salary_churned = processed_data[processed_data['churn'] == 1]['est_salary']\n",
    "salary_not_churned = processed_data[processed_data['churn'] == 0]['est_salary']\n",
    "\n",
    "# Проведение тестов\n",
    "t_statistic, t_p_value = ttest_ind(salary_churned, salary_not_churned)\n",
    "u_statistic, u_p_value = mannwhitneyu(salary_churned, salary_not_churned)\n",
    "\n",
    "# Анализ результатов\n",
    "print(\"t-статистика:\", t_statistic)\n",
    "print(\"t-значение:\", t_p_value)\n",
    "print(\"U-статистика:\", u_statistic)\n",
    "print(\"U-значение:\", u_p_value)"
   ]
  },
  {
   "cell_type": "markdown",
   "metadata": {},
   "source": [
    "Проведенный t-test показал, что нулевую гипотезу об отсутствии различий в доходах отточных и оставшихся клиентов опровергнуть не удалось. Но U-значение очень низкое, это говорит о том, что есть статистически значимые различия между распределениями дохода ушедших и оставшихся клиентов. Нулевая гипотеза о равенстве распределений отвергается в пользу альтернативной гипотезы.\n",
    "\n",
    "Так как мы анализируем зарплаты, то я предпочитаю тест Манна-Уитни, так как он менее чувствительный к выбросам, которые наблюдаются по этому полю.\n",
    "\n",
    "**Гипотеза 2. различие в количестве используемых банковских продуктов.**\n",
    "\n",
    "Нулевая гипотеза: среднее количество используемых банковских продуктов между теми клиентами, которые ушли (churn=1) и теми, которые остались (churn=0), равны.\n",
    "\n",
    "Альтернативная гипотеза: среднее количество используемых банковских продуктов между теми клиентами, которые ушли (churn=1) и теми, которые остались (churn=0), не равны.\n",
    "\n",
    "Буду проводить t-test, так как эта переменная принимает значения от 1 до 5 и здесь нет выбросов."
   ]
  },
  {
   "cell_type": "code",
   "execution_count": 36,
   "metadata": {},
   "outputs": [
    {
     "name": "stdout",
     "output_type": "stream",
     "text": [
      "t-статистика: 31.630126751850124\n",
      "t-значение: 2.3430165753532827e-209\n"
     ]
    }
   ],
   "source": [
    "products_churned = processed_data[processed_data['churn'] == 1]['products']\n",
    "products_not_churned = processed_data[processed_data['churn'] == 0]['products']\n",
    "\n",
    "t_statistic, t_p_value = ttest_ind(products_churned, products_not_churned)\n",
    "\n",
    "print(\"t-статистика:\", t_statistic)\n",
    "print(\"t-значение:\", t_p_value)"
   ]
  },
  {
   "cell_type": "markdown",
   "metadata": {},
   "source": [
    "Мы  отвергаем нулевую гипотезу в пользу альтернативной, так как p-значение (2.3068834568881753e-208) значительно ниже уровня значимости.\n",
    "\n",
    "**Гипотеза 3. различие в баллах оценки собственности.**\n",
    "\n",
    "Нулевая гипотеза: средние оценки собственности тех клиентов, которые ушли (churn=1) и тех, которые остались (churn=0), равны.\n",
    "\n",
    "Альтернативная гипотеза: средние оценки собственности тех клиентов, которые ушли (churn=1) и тех, которые остались (churn=0), не равны.\n",
    "\n",
    "Буду проводить t-test, так как эта переменная принимает значения от 0 до 9 и здесь нет выбросов."
   ]
  },
  {
   "cell_type": "code",
   "execution_count": 37,
   "metadata": {},
   "outputs": [
    {
     "name": "stdout",
     "output_type": "stream",
     "text": [
      "t-статистика: 28.102322724336787\n",
      "t-значение: 2.6060183523439987e-167\n"
     ]
    }
   ],
   "source": [
    "equity_churned = processed_data[processed_data['churn'] == 1]['equity']\n",
    "equity_not_churned = processed_data[processed_data['churn'] == 0]['equity']\n",
    "\n",
    "t_statistic, t_p_value = ttest_ind(equity_churned, equity_not_churned)\n",
    "\n",
    "print(\"t-статистика:\", t_statistic)\n",
    "print(\"t-значение:\", t_p_value)"
   ]
  },
  {
   "cell_type": "markdown",
   "metadata": {},
   "source": [
    "Мы также отвергаем нулевую гипотезу в пользу альтернативной, так как p-значение (8.784114370183455e-166) значительно ниже уровня значимости.\n",
    "\n",
    "**Гипотеза 4. различие средних значениях скоринга.**\n",
    "\n",
    "Нулевая гипотеза: средние значения скоринга тех клиентов, которые ушли (churn=1) и тех, которые остались (churn=0), равны.\n",
    "\n",
    "Альтернативная гипотеза: средние значения скоринга тех клиентов, которые ушли (churn=1) и тех, которые остались (churn=0), не равны.\n",
    "\n",
    "Разброс не сильный, но я предпочту тест Манна-Уитни."
   ]
  },
  {
   "cell_type": "code",
   "execution_count": 38,
   "metadata": {},
   "outputs": [
    {
     "data": {
      "text/plain": [
       "count    9999.000000\n",
       "mean      848.688069\n",
       "std        65.441981\n",
       "min       642.000000\n",
       "25%       802.000000\n",
       "50%       853.000000\n",
       "75%       900.000000\n",
       "max      1000.000000\n",
       "Name: score, dtype: float64"
      ]
     },
     "execution_count": 38,
     "metadata": {},
     "output_type": "execute_result"
    }
   ],
   "source": [
    "data['score'].describe()"
   ]
  },
  {
   "cell_type": "code",
   "execution_count": 39,
   "metadata": {},
   "outputs": [
    {
     "name": "stdout",
     "output_type": "stream",
     "text": [
      "U-статистика: 8509630.0\n",
      "U-значение: 7.364570509844462e-22\n"
     ]
    }
   ],
   "source": [
    "score_churned = processed_data[processed_data['churn'] == 1]['score']\n",
    "score_not_churned = processed_data[processed_data['churn'] == 0]['score']\n",
    "\n",
    "u_statistic, u_p_value = mannwhitneyu(score_churned, score_not_churned)\n",
    "\n",
    "print(\"U-статистика:\", u_statistic)\n",
    "print(\"U-значение:\", u_p_value)"
   ]
  },
  {
   "cell_type": "markdown",
   "metadata": {},
   "source": [
    "При таком низком значении u-значения (7.364570509844462e-22), которое намного меньше выбранного уровня значимости 0.01, мы также отвергаем нулевую гипотезу в пользу альтернативной.\n",
    "\n",
    "**Промежуточный вывод:** Нами были обнаружены различия средних значений дохода, оценки собственности, количества используемых продуктов и скоринга между теми клиентами, которые ушли и теми, которые остались. Это подтверждает наши выводы из исследовательского анализа.\n",
    "\n",
    "## шаг. Сегментация пользователей и их приоритизация\n",
    "\n",
    "Мы будем объединять по 2-3 признака и так, чтобы доля оттока сегмента была выше среднего по банку значения в два раза. Размер сегмента должен быть от 300 до 2000 человек."
   ]
  },
  {
   "cell_type": "code",
   "execution_count": 40,
   "metadata": {},
   "outputs": [
    {
     "data": {
      "text/plain": [
       "0.18191819181918192"
      ]
     },
     "execution_count": 40,
     "metadata": {},
     "output_type": "execute_result"
    }
   ],
   "source": [
    "processed_data['churn'].mean()"
   ]
  },
  {
   "cell_type": "code",
   "execution_count": 41,
   "metadata": {},
   "outputs": [
    {
     "name": "stdout",
     "output_type": "stream",
     "text": [
      "Число отточных пользователей в 1 сегменте: 468\n",
      "Доля оттока в сегменте пользователей со скорингом выше 865 и баллами собственности >3.8, количеством продуктов >3: 0.59\n"
     ]
    }
   ],
   "source": [
    "segment_1 = processed_data[(processed_data['score'] >= 865) & (processed_data['equity'] >= 3.8)& (processed_data['products'] >= 3)]\n",
    "churn_rate_segment_1 = round(segment_1['churn'].mean(), 2)\n",
    "print ('Число отточных пользователей в 1 сегменте:', segment_1.shape[0])\n",
    "print(\"Доля оттока в сегменте пользователей со скорингом выше 865 и баллами собственности >3.8, количеством продуктов >3:\", churn_rate_segment_1)"
   ]
  },
  {
   "cell_type": "code",
   "execution_count": 42,
   "metadata": {},
   "outputs": [
    {
     "name": "stdout",
     "output_type": "stream",
     "text": [
      "Число отточных пользователей в 2 сегменте: 720\n",
      "Доля оттока в сегменте активных в последний месяц пользователей мужчин без кредитной карты: 0.42\n"
     ]
    }
   ],
   "source": [
    "segment_2 = processed_data[(processed_data['credit_card'] == 0) & (processed_data['last_activity'] == 1) & (processed_data['male'] == 1)]\n",
    "churn_rate_segment_2 = round(segment_2['churn'].mean(), 2)\n",
    "print ('Число отточных пользователей в 2 сегменте:', segment_2.shape[0])\n",
    "print(\"Доля оттока в сегменте активных в последний месяц пользователей мужчин без кредитной карты:\", churn_rate_segment_2)"
   ]
  },
  {
   "cell_type": "code",
   "execution_count": 43,
   "metadata": {},
   "outputs": [
    {
     "name": "stdout",
     "output_type": "stream",
     "text": [
      "Число отточных пользователей в 3 сегменте: 1895\n",
      "Доля оттока в сегменте пользователей со скорингом выше 865 и баллами собственности выше 3.8: 0.39\n"
     ]
    }
   ],
   "source": [
    "segment_3 = processed_data[(processed_data['score'] >= 865) & (processed_data['equity'] >= 3.8)]\n",
    "churn_rate_segment_3 = round(segment_3['churn'].mean(), 2)\n",
    "print ('Число отточных пользователей в 3 сегменте:', segment_3.shape[0])\n",
    "print(\"Доля оттока в сегменте пользователей со скорингом выше 865 и баллами собственности выше 3.8:\", churn_rate_segment_3)"
   ]
  },
  {
   "cell_type": "code",
   "execution_count": 44,
   "metadata": {},
   "outputs": [
    {
     "name": "stdout",
     "output_type": "stream",
     "text": [
      "Число отточных пользователей в 4 сегменте: 683\n",
      "Доля оттока в сегменте пользователей с зарплатой выше 120к, использующих более 3 продуктов: 0.51\n"
     ]
    }
   ],
   "source": [
    "segment_4 = processed_data[(processed_data['est_salary'] >= 120000) & (processed_data['products'] >= 3)]\n",
    "churn_rate_segment_4 = round(segment_4['churn'].mean(), 2)\n",
    "print ('Число отточных пользователей в 4 сегменте:', segment_4.shape[0])\n",
    "print(\"Доля оттока в сегменте пользователей с зарплатой выше 120к, использующих более 3 продуктов:\", churn_rate_segment_4)"
   ]
  },
  {
   "cell_type": "code",
   "execution_count": 45,
   "metadata": {},
   "outputs": [
    {
     "name": "stdout",
     "output_type": "stream",
     "text": [
      "Число отточных пользователей в 5 сегменте: 864\n",
      "Доля оттока в сегменте пользователей-мужчин с балансом выше 1.1млн: 0.51\n"
     ]
    }
   ],
   "source": [
    "segment_5 = processed_data[(processed_data['balance'] >= 1100000) & (processed_data['male'] == 1)]\n",
    "churn_rate_segment_5 = round(segment_5['churn'].mean(), 2)\n",
    "print ('Число отточных пользователей в 5 сегменте:', segment_5.shape[0])\n",
    "print(\"Доля оттока в сегменте пользователей-мужчин с балансом выше 1.1млн:\", churn_rate_segment_5)"
   ]
  },
  {
   "cell_type": "markdown",
   "metadata": {},
   "source": [
    "**Промежуточный вывод:**\n",
    "\n",
    "Самые отточные сегменты:\n",
    "* Доля оттока в 1 сегменте пользователей со скорингом выше 865 и баллами собственности выше 3.8 и количеством продуктов выше 3: 0.59 (466 человек)\n",
    "* Доля оттока в 4 сегменте пользователей с зарплатой выше 120к, использующих более 3 продуктов: 0.52 (680 человек)\n",
    "* Доля оттока в 5 сегменте пользователей-мужчин с балансом выше 1.1млн: 0.51 (862 человека)\n",
    "* Доля оттока в 2 сегменте активных в последний месяц пользователей мужчин без кредитной карты: 0.42 (717 человек)\n",
    "* Доля оттока в 3 сегменте пользователей со скорингом выше 865 и баллами собственности выше 3.8: 0.4 (1891 человек)"
   ]
  },
  {
   "cell_type": "markdown",
   "metadata": {},
   "source": [
    "## шаг. Общий вывод  и рекомендации.\n",
    "\n",
    "В данном исследовании мы определили, какие характеристики влияют на отток, в скобках указано значение корреляции: \n",
    "* количество используемых продуктов 0.30\n",
    "* баллы оценки собственности 0.27\n",
    "* активность 0.17\n",
    "* пол 0.14\n",
    "* наличие кредитки -0.13\n",
    "* скоринговая оценка 0.11\n",
    "\n",
    "Также по каждой из характеристик мы определили наиболее отточные интервалы:\n",
    "* Пол: мужской\n",
    "* Возраст: специфический пик для отточных клиентов есть от 50 до 60 лет.\n",
    "* Скоринг: есть небольшой пик отточных клиентов от 675 до 840 и более выраженный пик для 875 и 925.\n",
    "* Зарплата: у отточных медиана = 118 000, а у неотточных 125 000.\n",
    "* Баланс: когда баланс превышает 1 100 000, то отточных клиентов становится больше, чем неотточных.\n",
    "* Количество продуктов: максимальный отток наблюдается у клиентов, которые используют 4 продукта, затем 5 и 3. У них значения выше среднего показателя оттока. То есть, чем больше продуктов использует пользователь, тем выше у него отточность.\n",
    "* Оценка собственности: максимальное значения оттока у пользователей с оценкой собственности = 9, затем 7, 6, 8, 5, 4, 3. То есть, чем больше у пользователя недвижимости, тем выше отточность. Так как для пользователей с оценкой недвижимости 0, 1 и 2 отточность ниже среднего.\n",
    "* Наличие кредитной карты: обычно у отточных клиентов нет кредитки\n",
    "* Активность: чаще всего отточные клиенты были активны в последний месяц\n",
    "* Город: чуть выше среднего отток в Ярославле и Ростове.\n",
    "\n",
    "Составили портреты типичного отточного и неотточного клиентов: \n",
    "\n",
    "Типичный неотточный клиент: более вероятно, что это женщина, её скоринг в среднем 845, а возраст 43, среднее количество используемых продуктов 1,7, а средняя оценка собственности 2.3, она скорее всего из ярославля, медиана по зарплате 118 000, у неё почти наверняка есть кредитка, в последний месяц она чуть более вероятно не была активна.\n",
    "\n",
    "Типичный отточный клиент: скорее всего это мужчина из Ярославля, ему 41 год, средний скоринг 863, а оценка собственности 3.8. В среднем такой клиент использует 2,4 продукта, а его зарплата около 125 000. Вероятность наличия кредитки ниже,чем у неотточного клиента, но активность в последний месяц выше.\n",
    "\n",
    "Мы также провели статистический анализ данных по пунктам с самой высокой корреляцией. Нами были обнаружены различия средних значений дохода, оценки собственности, количества используемых продуктов и скоринга между теми клиентами, которые ушли и теми, которые остались. Это подтверждает наши выводы из исследовательского анализа.\n",
    "\n",
    "По выделенным параметрам мы сформировали наиболее отточные сегменты:\n",
    "\n",
    "- Доля оттока в 1 сегменте пользователей со скорингом выше 865 и баллами собственности выше 3.8 и количеством продуктов выше 3: 0.59 (466 человек)\n",
    "- Доля оттока в 4 сегменте пользователей с зарплатой выше 120к, использующих более 3 продуктов: 0.52 (680 человек)\n",
    "- Доля оттока в 5 сегменте пользователей-мужчин с балансом выше 1.1млн: 0.51 (862 человека)\n",
    "- Доля оттока в 2 сегменте активных в последний месяц пользователей мужчин без кредитной карты: 0.42 (717 человек)\n",
    "- Доля оттока в 3 сегменте пользователей со скорингом выше 865 и баллами собственности выше 3.8: 0.4 (1891 человек)\n",
    "\n",
    "\n",
    "**Рекомендации:**\n",
    "* Сегмент со скорингом выше 865 и оценкой собственности выше 3.8, использующие более 3 продуктов (Доля оттока: 59%):\n",
    " - предложить специальные условия по страхованию объектов собственности;\n",
    " - специальные предложения по кредитам для пользователей с высоким скорингом\n",
    " - льготные условия для перевода пенсии или зарплаты\n",
    " \n",
    "* Сегмент с заработной платой выше 120 000 и использующих более 3 продуктов (Доля оттока: 52%):\n",
    " - льготные условия для перевода пенсии или зарплаты\n",
    " \n",
    "* Сегмент мужчин с балансом выше 1.1 млн (Доля оттока: 51%):\n",
    " - предложения по депозитам\n",
    " - дополнительные бонусы для тех, кто откроет заработную карту в нашем банке\n",
    " - кэшбек по категориям хобби, строительство и ремонт, \n",
    " - информирование о новых доступных банковских продуктах\n",
    " - льготные условия для перевода пенсии или зарплаты\n",
    " \n",
    "* Сегмент активных в последний месяц пользователей мужчин без кредитной карты (Доля оттока: 42%):\n",
    " - создать специализированные маркетинговые кампании, которые бы подчеркивали преимущества использования кредитных карт.\n",
    " - предложить выгодные условия и привилегии для обладателей кредитных карт.\n",
    " - информирование о новых доступных банковских продуктах\n",
    " - льготные условия для перевода пенсии или зарплаты\n",
    " \n",
    "* Сегмент со скорингом выше 865 и оценкой собственности выше 3.8 (Доля оттока: 40%):\n",
    " - предложить специальные условия по страхованию объектов собственности;\n",
    " - специальные предложения по кредитам для пользователей с высоким скорингом\n",
    " -  информирование о новых доступных банковских продуктах\n",
    " - льготные условия для перевода пенсии или зарплаты\n",
    " \n",
    " Также хотела бы отметить, что хуже всего мы удерживаем именно прибыльных клиентов: с высокой зарплатой, с балансом на счету свыше 1.1млн и высокими оценками собственности. Возможно, стоит рассмотреть возможность прредоставления персонализированных услуг и индивидуальных предложений для повышения лояльности клиентов."
   ]
  }
 ],
 "metadata": {
  "ExecuteTimeLog": [
   {
    "duration": 1280,
    "start_time": "2024-02-15T05:28:00.544Z"
   },
   {
    "duration": 92,
    "start_time": "2024-02-15T05:30:55.589Z"
   },
   {
    "duration": 76,
    "start_time": "2024-02-15T05:31:04.373Z"
   },
   {
    "duration": 78,
    "start_time": "2024-02-15T05:31:33.159Z"
   },
   {
    "duration": 196,
    "start_time": "2024-02-15T05:31:43.519Z"
   },
   {
    "duration": 3,
    "start_time": "2024-02-15T05:35:23.315Z"
   },
   {
    "duration": 20,
    "start_time": "2024-02-15T05:35:27.874Z"
   },
   {
    "duration": 3,
    "start_time": "2024-02-15T05:35:33.423Z"
   },
   {
    "duration": 108,
    "start_time": "2024-02-15T05:40:29.931Z"
   },
   {
    "duration": 9,
    "start_time": "2024-02-15T05:45:32.050Z"
   },
   {
    "duration": 49,
    "start_time": "2024-02-15T05:45:42.236Z"
   },
   {
    "duration": 941,
    "start_time": "2024-02-15T05:58:35.925Z"
   },
   {
    "duration": 16,
    "start_time": "2024-02-15T06:04:07.506Z"
   },
   {
    "duration": 1004,
    "start_time": "2024-02-15T06:04:28.944Z"
   },
   {
    "duration": 1302,
    "start_time": "2024-02-15T16:22:08.202Z"
   },
   {
    "duration": 1273,
    "start_time": "2024-02-15T16:22:16.397Z"
   },
   {
    "duration": 99,
    "start_time": "2024-02-15T16:22:17.671Z"
   },
   {
    "duration": 5,
    "start_time": "2024-02-15T16:22:17.772Z"
   },
   {
    "duration": 133,
    "start_time": "2024-02-15T16:22:17.779Z"
   },
   {
    "duration": 957,
    "start_time": "2024-02-15T16:22:17.915Z"
   },
   {
    "duration": 1019,
    "start_time": "2024-02-15T16:22:18.874Z"
   },
   {
    "duration": 39,
    "start_time": "2024-02-15T16:22:19.895Z"
   },
   {
    "duration": 13,
    "start_time": "2024-02-15T16:24:34.563Z"
   },
   {
    "duration": 4,
    "start_time": "2024-02-15T16:25:07.446Z"
   },
   {
    "duration": 18,
    "start_time": "2024-02-15T16:30:18.596Z"
   },
   {
    "duration": 5,
    "start_time": "2024-02-15T16:31:44.089Z"
   },
   {
    "duration": 5,
    "start_time": "2024-02-15T16:32:59.318Z"
   },
   {
    "duration": 8,
    "start_time": "2024-02-15T16:34:30.545Z"
   },
   {
    "duration": 5,
    "start_time": "2024-02-15T16:35:35.872Z"
   },
   {
    "duration": 119,
    "start_time": "2024-02-15T16:37:03.983Z"
   },
   {
    "duration": 9,
    "start_time": "2024-02-15T16:41:38.807Z"
   },
   {
    "duration": 16,
    "start_time": "2024-02-15T16:42:14.277Z"
   },
   {
    "duration": 5,
    "start_time": "2024-02-15T16:44:13.111Z"
   },
   {
    "duration": 9,
    "start_time": "2024-02-15T16:44:31.608Z"
   },
   {
    "duration": 35,
    "start_time": "2024-02-15T17:01:59.725Z"
   },
   {
    "duration": 26,
    "start_time": "2024-02-15T17:07:13.795Z"
   },
   {
    "duration": 1309,
    "start_time": "2024-02-16T09:38:49.517Z"
   },
   {
    "duration": 97,
    "start_time": "2024-02-16T09:38:50.828Z"
   },
   {
    "duration": 4,
    "start_time": "2024-02-16T09:38:50.926Z"
   },
   {
    "duration": 56,
    "start_time": "2024-02-16T09:38:50.932Z"
   },
   {
    "duration": 986,
    "start_time": "2024-02-16T09:38:50.990Z"
   },
   {
    "duration": 946,
    "start_time": "2024-02-16T09:38:51.977Z"
   },
   {
    "duration": 38,
    "start_time": "2024-02-16T09:38:52.925Z"
   },
   {
    "duration": 24,
    "start_time": "2024-02-16T09:38:52.964Z"
   },
   {
    "duration": 23,
    "start_time": "2024-02-16T09:38:52.990Z"
   },
   {
    "duration": 24,
    "start_time": "2024-02-16T09:38:53.014Z"
   },
   {
    "duration": 81,
    "start_time": "2024-02-16T09:38:53.040Z"
   },
   {
    "duration": 14,
    "start_time": "2024-02-16T09:38:53.123Z"
   },
   {
    "duration": 14,
    "start_time": "2024-02-16T09:38:53.139Z"
   },
   {
    "duration": 21,
    "start_time": "2024-02-16T09:38:53.155Z"
   },
   {
    "duration": 19,
    "start_time": "2024-02-16T09:38:53.178Z"
   },
   {
    "duration": 21,
    "start_time": "2024-02-16T09:38:53.198Z"
   },
   {
    "duration": 22,
    "start_time": "2024-02-16T09:38:53.221Z"
   },
   {
    "duration": 24,
    "start_time": "2024-02-16T09:41:14.077Z"
   },
   {
    "duration": 24,
    "start_time": "2024-02-16T09:41:36.919Z"
   },
   {
    "duration": 6,
    "start_time": "2024-02-16T10:08:00.552Z"
   },
   {
    "duration": 736,
    "start_time": "2024-02-16T10:08:59.203Z"
   },
   {
    "duration": 672,
    "start_time": "2024-02-16T10:15:13.918Z"
   },
   {
    "duration": 1008,
    "start_time": "2024-02-16T10:16:55.205Z"
   },
   {
    "duration": 5,
    "start_time": "2024-02-16T10:17:23.564Z"
   },
   {
    "duration": 1101,
    "start_time": "2024-02-16T10:17:24.217Z"
   },
   {
    "duration": 1963,
    "start_time": "2024-02-16T10:23:16.483Z"
   },
   {
    "duration": 1167,
    "start_time": "2024-02-16T11:07:21.465Z"
   },
   {
    "duration": 156,
    "start_time": "2024-02-16T11:07:22.634Z"
   },
   {
    "duration": 4,
    "start_time": "2024-02-16T11:07:22.791Z"
   },
   {
    "duration": 62,
    "start_time": "2024-02-16T11:07:22.796Z"
   },
   {
    "duration": 973,
    "start_time": "2024-02-16T11:07:22.859Z"
   },
   {
    "duration": 1013,
    "start_time": "2024-02-16T11:07:23.833Z"
   },
   {
    "duration": 41,
    "start_time": "2024-02-16T11:07:24.847Z"
   },
   {
    "duration": 12,
    "start_time": "2024-02-16T11:07:24.890Z"
   },
   {
    "duration": 12,
    "start_time": "2024-02-16T11:07:24.904Z"
   },
   {
    "duration": 11,
    "start_time": "2024-02-16T11:07:24.918Z"
   },
   {
    "duration": 103,
    "start_time": "2024-02-16T11:07:24.931Z"
   },
   {
    "duration": 9,
    "start_time": "2024-02-16T11:07:25.036Z"
   },
   {
    "duration": 14,
    "start_time": "2024-02-16T11:07:25.046Z"
   },
   {
    "duration": 34,
    "start_time": "2024-02-16T11:07:25.062Z"
   },
   {
    "duration": 14,
    "start_time": "2024-02-16T11:07:25.098Z"
   },
   {
    "duration": 7,
    "start_time": "2024-02-16T11:07:25.114Z"
   },
   {
    "duration": 33,
    "start_time": "2024-02-16T11:07:25.122Z"
   },
   {
    "duration": 5,
    "start_time": "2024-02-16T11:07:25.156Z"
   },
   {
    "duration": 1860,
    "start_time": "2024-02-16T11:07:25.188Z"
   },
   {
    "duration": 5,
    "start_time": "2024-02-16T11:08:09.738Z"
   },
   {
    "duration": 1807,
    "start_time": "2024-02-16T11:08:10.467Z"
   },
   {
    "duration": 986,
    "start_time": "2024-02-16T11:09:27.053Z"
   },
   {
    "duration": 5,
    "start_time": "2024-02-16T11:11:06.682Z"
   },
   {
    "duration": 1061,
    "start_time": "2024-02-16T11:11:07.594Z"
   },
   {
    "duration": 5,
    "start_time": "2024-02-16T11:14:19.541Z"
   },
   {
    "duration": 935,
    "start_time": "2024-02-16T11:14:20.124Z"
   },
   {
    "duration": 1423,
    "start_time": "2024-02-16T11:20:12.779Z"
   },
   {
    "duration": 19,
    "start_time": "2024-02-16T11:21:03.890Z"
   },
   {
    "duration": 13,
    "start_time": "2024-02-16T11:21:24.686Z"
   },
   {
    "duration": 17,
    "start_time": "2024-02-16T11:23:03.141Z"
   },
   {
    "duration": 15,
    "start_time": "2024-02-16T11:24:02.571Z"
   },
   {
    "duration": 14,
    "start_time": "2024-02-16T11:24:30.221Z"
   },
   {
    "duration": 540,
    "start_time": "2024-02-16T11:31:53.814Z"
   },
   {
    "duration": 11,
    "start_time": "2024-02-16T11:32:01.238Z"
   },
   {
    "duration": 357,
    "start_time": "2024-02-16T11:42:24.896Z"
   },
   {
    "duration": 9,
    "start_time": "2024-02-16T11:42:59.257Z"
   },
   {
    "duration": 21,
    "start_time": "2024-02-16T12:21:03.481Z"
   },
   {
    "duration": 27,
    "start_time": "2024-02-16T12:21:15.238Z"
   },
   {
    "duration": 15,
    "start_time": "2024-02-16T12:24:23.942Z"
   },
   {
    "duration": 23,
    "start_time": "2024-02-16T12:24:38.746Z"
   },
   {
    "duration": 89,
    "start_time": "2024-02-16T12:28:58.087Z"
   },
   {
    "duration": 33,
    "start_time": "2024-02-16T12:30:28.799Z"
   },
   {
    "duration": 23,
    "start_time": "2024-02-16T12:30:41.744Z"
   },
   {
    "duration": 25,
    "start_time": "2024-02-16T12:33:44.945Z"
   },
   {
    "duration": 1376,
    "start_time": "2024-02-18T04:38:56.142Z"
   },
   {
    "duration": 125,
    "start_time": "2024-02-18T04:38:57.520Z"
   },
   {
    "duration": 3,
    "start_time": "2024-02-18T04:38:57.647Z"
   },
   {
    "duration": 52,
    "start_time": "2024-02-18T04:38:57.652Z"
   },
   {
    "duration": 986,
    "start_time": "2024-02-18T04:38:57.706Z"
   },
   {
    "duration": 996,
    "start_time": "2024-02-18T04:38:58.694Z"
   },
   {
    "duration": 38,
    "start_time": "2024-02-18T04:38:59.692Z"
   },
   {
    "duration": 11,
    "start_time": "2024-02-18T04:38:59.731Z"
   },
   {
    "duration": 16,
    "start_time": "2024-02-18T04:38:59.743Z"
   },
   {
    "duration": 23,
    "start_time": "2024-02-18T04:38:59.760Z"
   },
   {
    "duration": 5,
    "start_time": "2024-02-18T04:38:59.785Z"
   },
   {
    "duration": 93,
    "start_time": "2024-02-18T04:38:59.792Z"
   },
   {
    "duration": 8,
    "start_time": "2024-02-18T04:38:59.886Z"
   },
   {
    "duration": 21,
    "start_time": "2024-02-18T04:38:59.897Z"
   },
   {
    "duration": 16,
    "start_time": "2024-02-18T04:38:59.920Z"
   },
   {
    "duration": 8,
    "start_time": "2024-02-18T04:38:59.938Z"
   },
   {
    "duration": 24,
    "start_time": "2024-02-18T04:38:59.982Z"
   },
   {
    "duration": 5,
    "start_time": "2024-02-18T04:39:00.008Z"
   },
   {
    "duration": 436,
    "start_time": "2024-02-18T04:39:00.015Z"
   },
   {
    "duration": 10,
    "start_time": "2024-02-18T04:39:00.452Z"
   },
   {
    "duration": 86,
    "start_time": "2024-02-18T04:39:00.463Z"
   },
   {
    "duration": 23,
    "start_time": "2024-02-18T04:39:00.551Z"
   },
   {
    "duration": 338,
    "start_time": "2024-02-18T04:57:15.617Z"
   },
   {
    "duration": 450,
    "start_time": "2024-02-18T04:58:31.110Z"
   },
   {
    "duration": 1342,
    "start_time": "2024-02-18T04:58:55.458Z"
   },
   {
    "duration": 355,
    "start_time": "2024-02-18T05:00:29.765Z"
   },
   {
    "duration": 606,
    "start_time": "2024-02-18T05:01:12.993Z"
   },
   {
    "duration": 363,
    "start_time": "2024-02-18T05:01:45.104Z"
   },
   {
    "duration": 4326,
    "start_time": "2024-02-18T05:01:58.176Z"
   },
   {
    "duration": 4299,
    "start_time": "2024-02-18T05:04:38.152Z"
   },
   {
    "duration": 4326,
    "start_time": "2024-02-18T05:05:15.522Z"
   },
   {
    "duration": 4366,
    "start_time": "2024-02-18T05:05:51.974Z"
   },
   {
    "duration": 4436,
    "start_time": "2024-02-18T05:06:14.719Z"
   },
   {
    "duration": 650,
    "start_time": "2024-02-18T05:06:55.350Z"
   },
   {
    "duration": 619,
    "start_time": "2024-02-18T05:08:29.329Z"
   },
   {
    "duration": 372,
    "start_time": "2024-02-18T05:09:23.333Z"
   },
   {
    "duration": 678,
    "start_time": "2024-02-18T05:10:02.352Z"
   },
   {
    "duration": 4425,
    "start_time": "2024-02-18T05:10:40.504Z"
   },
   {
    "duration": 4,
    "start_time": "2024-02-18T05:12:27.100Z"
   },
   {
    "duration": 230,
    "start_time": "2024-02-18T05:24:40.798Z"
   },
   {
    "duration": 227,
    "start_time": "2024-02-18T05:24:50.696Z"
   },
   {
    "duration": 242,
    "start_time": "2024-02-18T05:26:20.737Z"
   },
   {
    "duration": 245,
    "start_time": "2024-02-18T05:27:11.461Z"
   },
   {
    "duration": 269,
    "start_time": "2024-02-18T05:30:55.674Z"
   },
   {
    "duration": 250,
    "start_time": "2024-02-18T05:31:28.851Z"
   },
   {
    "duration": 465,
    "start_time": "2024-02-18T05:32:14.587Z"
   },
   {
    "duration": 262,
    "start_time": "2024-02-18T05:32:17.981Z"
   },
   {
    "duration": 254,
    "start_time": "2024-02-18T05:32:46.647Z"
   },
   {
    "duration": 185,
    "start_time": "2024-02-18T05:44:51.862Z"
   },
   {
    "duration": 166,
    "start_time": "2024-02-18T05:45:58.606Z"
   },
   {
    "duration": 185,
    "start_time": "2024-02-18T05:49:48.882Z"
   },
   {
    "duration": 30,
    "start_time": "2024-02-18T05:52:39.241Z"
   },
   {
    "duration": 12,
    "start_time": "2024-02-18T05:59:12.407Z"
   },
   {
    "duration": 25,
    "start_time": "2024-02-18T05:59:18.771Z"
   },
   {
    "duration": 30,
    "start_time": "2024-02-18T06:01:30.374Z"
   },
   {
    "duration": 26,
    "start_time": "2024-02-18T06:01:52.460Z"
   },
   {
    "duration": 25,
    "start_time": "2024-02-18T06:01:52.991Z"
   },
   {
    "duration": 48,
    "start_time": "2024-02-18T06:06:43.149Z"
   },
   {
    "duration": 178,
    "start_time": "2024-02-18T06:08:49.733Z"
   },
   {
    "duration": 4,
    "start_time": "2024-02-18T06:11:38.133Z"
   },
   {
    "duration": 71,
    "start_time": "2024-02-18T06:11:58.052Z"
   },
   {
    "duration": 4,
    "start_time": "2024-02-18T06:12:05.994Z"
   },
   {
    "duration": 293,
    "start_time": "2024-02-18T06:13:51.777Z"
   },
   {
    "duration": 309,
    "start_time": "2024-02-18T06:14:12.639Z"
   },
   {
    "duration": 4,
    "start_time": "2024-02-18T06:21:09.090Z"
   },
   {
    "duration": 1203,
    "start_time": "2024-02-18T06:21:33.047Z"
   },
   {
    "duration": 135,
    "start_time": "2024-02-18T06:21:34.251Z"
   },
   {
    "duration": 3,
    "start_time": "2024-02-18T06:21:34.388Z"
   },
   {
    "duration": 59,
    "start_time": "2024-02-18T06:21:34.393Z"
   },
   {
    "duration": 987,
    "start_time": "2024-02-18T06:21:34.453Z"
   },
   {
    "duration": 1015,
    "start_time": "2024-02-18T06:21:35.442Z"
   },
   {
    "duration": 52,
    "start_time": "2024-02-18T06:21:36.458Z"
   },
   {
    "duration": 12,
    "start_time": "2024-02-18T06:21:36.512Z"
   },
   {
    "duration": 6,
    "start_time": "2024-02-18T06:21:36.526Z"
   },
   {
    "duration": 108,
    "start_time": "2024-02-18T06:21:36.534Z"
   },
   {
    "duration": 5,
    "start_time": "2024-02-18T06:21:36.643Z"
   },
   {
    "duration": 13,
    "start_time": "2024-02-18T06:21:36.650Z"
   },
   {
    "duration": 20,
    "start_time": "2024-02-18T06:21:36.664Z"
   },
   {
    "duration": 24,
    "start_time": "2024-02-18T06:21:36.685Z"
   },
   {
    "duration": 15,
    "start_time": "2024-02-18T06:21:36.710Z"
   },
   {
    "duration": 8,
    "start_time": "2024-02-18T06:21:36.726Z"
   },
   {
    "duration": 51,
    "start_time": "2024-02-18T06:21:36.735Z"
   },
   {
    "duration": 261,
    "start_time": "2024-02-18T06:21:36.787Z"
   },
   {
    "duration": 238,
    "start_time": "2024-02-18T06:21:37.050Z"
   },
   {
    "duration": 251,
    "start_time": "2024-02-18T06:21:37.289Z"
   },
   {
    "duration": 227,
    "start_time": "2024-02-18T06:21:37.541Z"
   },
   {
    "duration": 4,
    "start_time": "2024-02-18T06:21:37.770Z"
   },
   {
    "duration": 293,
    "start_time": "2024-02-18T06:21:37.782Z"
   },
   {
    "duration": 290,
    "start_time": "2024-02-18T06:21:38.082Z"
   },
   {
    "duration": 386,
    "start_time": "2024-02-18T06:21:38.374Z"
   },
   {
    "duration": 22,
    "start_time": "2024-02-18T06:21:38.761Z"
   },
   {
    "duration": 41,
    "start_time": "2024-02-18T06:21:38.784Z"
   },
   {
    "duration": 22,
    "start_time": "2024-02-18T06:21:38.828Z"
   },
   {
    "duration": 10,
    "start_time": "2024-02-18T06:22:46.028Z"
   },
   {
    "duration": 17,
    "start_time": "2024-02-18T06:26:25.372Z"
   },
   {
    "duration": 273,
    "start_time": "2024-02-18T07:17:38.075Z"
   },
   {
    "duration": 247,
    "start_time": "2024-02-18T07:22:31.966Z"
   },
   {
    "duration": 301,
    "start_time": "2024-02-18T07:22:55.138Z"
   },
   {
    "duration": 255,
    "start_time": "2024-02-18T07:23:29.089Z"
   },
   {
    "duration": 9,
    "start_time": "2024-02-18T07:23:32.475Z"
   },
   {
    "duration": 446,
    "start_time": "2024-02-18T07:45:48.445Z"
   },
   {
    "duration": 1464,
    "start_time": "2024-02-19T04:50:47.716Z"
   },
   {
    "duration": 95,
    "start_time": "2024-02-19T04:50:49.182Z"
   },
   {
    "duration": 3,
    "start_time": "2024-02-19T04:50:49.279Z"
   },
   {
    "duration": 56,
    "start_time": "2024-02-19T04:50:49.284Z"
   },
   {
    "duration": 1087,
    "start_time": "2024-02-19T04:50:49.341Z"
   },
   {
    "duration": 1053,
    "start_time": "2024-02-19T04:50:50.430Z"
   },
   {
    "duration": 45,
    "start_time": "2024-02-19T04:50:51.484Z"
   },
   {
    "duration": 12,
    "start_time": "2024-02-19T04:50:51.530Z"
   },
   {
    "duration": 15,
    "start_time": "2024-02-19T04:50:51.544Z"
   },
   {
    "duration": 102,
    "start_time": "2024-02-19T04:50:51.561Z"
   },
   {
    "duration": 5,
    "start_time": "2024-02-19T04:50:51.664Z"
   },
   {
    "duration": 24,
    "start_time": "2024-02-19T04:50:51.670Z"
   },
   {
    "duration": 12,
    "start_time": "2024-02-19T04:50:51.696Z"
   },
   {
    "duration": 24,
    "start_time": "2024-02-19T04:50:51.710Z"
   },
   {
    "duration": 15,
    "start_time": "2024-02-19T04:50:51.736Z"
   },
   {
    "duration": 26,
    "start_time": "2024-02-19T04:50:51.753Z"
   },
   {
    "duration": 25,
    "start_time": "2024-02-19T04:50:51.792Z"
   },
   {
    "duration": 322,
    "start_time": "2024-02-19T04:50:51.819Z"
   },
   {
    "duration": 251,
    "start_time": "2024-02-19T04:50:52.143Z"
   },
   {
    "duration": 263,
    "start_time": "2024-02-19T04:50:52.395Z"
   },
   {
    "duration": 8,
    "start_time": "2024-02-19T04:50:52.660Z"
   },
   {
    "duration": 245,
    "start_time": "2024-02-19T04:50:52.669Z"
   },
   {
    "duration": 4,
    "start_time": "2024-02-19T04:50:52.916Z"
   },
   {
    "duration": 295,
    "start_time": "2024-02-19T04:50:52.921Z"
   },
   {
    "duration": 314,
    "start_time": "2024-02-19T04:50:53.218Z"
   },
   {
    "duration": 409,
    "start_time": "2024-02-19T04:50:53.533Z"
   },
   {
    "duration": 11,
    "start_time": "2024-02-19T04:50:53.944Z"
   },
   {
    "duration": 58,
    "start_time": "2024-02-19T04:50:53.958Z"
   },
   {
    "duration": 26,
    "start_time": "2024-02-19T04:50:54.018Z"
   },
   {
    "duration": 18,
    "start_time": "2024-02-19T04:50:54.046Z"
   },
   {
    "duration": 6,
    "start_time": "2024-02-19T04:55:42.736Z"
   },
   {
    "duration": 8,
    "start_time": "2024-02-19T04:57:52.071Z"
   },
   {
    "duration": 8,
    "start_time": "2024-02-19T05:03:12.062Z"
   },
   {
    "duration": 10,
    "start_time": "2024-02-19T05:03:55.794Z"
   },
   {
    "duration": 6,
    "start_time": "2024-02-19T05:07:06.947Z"
   },
   {
    "duration": 5,
    "start_time": "2024-02-19T05:07:16.757Z"
   },
   {
    "duration": 8,
    "start_time": "2024-02-19T05:07:40.486Z"
   },
   {
    "duration": 9,
    "start_time": "2024-02-19T05:12:04.165Z"
   },
   {
    "duration": 8,
    "start_time": "2024-02-19T05:12:37.777Z"
   },
   {
    "duration": 10,
    "start_time": "2024-02-19T05:13:42.836Z"
   },
   {
    "duration": 1778,
    "start_time": "2024-02-19T05:33:02.134Z"
   },
   {
    "duration": 7,
    "start_time": "2024-02-19T05:33:24.977Z"
   },
   {
    "duration": 7,
    "start_time": "2024-02-19T05:34:26.481Z"
   },
   {
    "duration": 3,
    "start_time": "2024-02-19T05:34:48.336Z"
   },
   {
    "duration": 5,
    "start_time": "2024-02-19T05:34:51.953Z"
   },
   {
    "duration": 5,
    "start_time": "2024-02-19T05:35:00.228Z"
   },
   {
    "duration": 7,
    "start_time": "2024-02-19T05:35:11.469Z"
   },
   {
    "duration": 8,
    "start_time": "2024-02-19T05:35:47.861Z"
   },
   {
    "duration": 7,
    "start_time": "2024-02-19T05:35:53.789Z"
   },
   {
    "duration": 6,
    "start_time": "2024-02-19T05:36:10.409Z"
   },
   {
    "duration": 6,
    "start_time": "2024-02-19T05:36:32.889Z"
   },
   {
    "duration": 7,
    "start_time": "2024-02-19T05:37:10.076Z"
   },
   {
    "duration": 6,
    "start_time": "2024-02-19T05:37:17.992Z"
   },
   {
    "duration": 7,
    "start_time": "2024-02-19T05:37:42.137Z"
   },
   {
    "duration": 6,
    "start_time": "2024-02-19T05:39:34.399Z"
   },
   {
    "duration": 8,
    "start_time": "2024-02-19T05:40:07.429Z"
   },
   {
    "duration": 6,
    "start_time": "2024-02-19T05:40:18.215Z"
   },
   {
    "duration": 8,
    "start_time": "2024-02-19T05:40:30.540Z"
   },
   {
    "duration": 7,
    "start_time": "2024-02-19T05:40:40.370Z"
   },
   {
    "duration": 7,
    "start_time": "2024-02-19T05:41:01.705Z"
   },
   {
    "duration": 7,
    "start_time": "2024-02-19T05:41:11.106Z"
   },
   {
    "duration": 8,
    "start_time": "2024-02-19T05:42:34.694Z"
   },
   {
    "duration": 7,
    "start_time": "2024-02-19T05:43:04.181Z"
   },
   {
    "duration": 1587,
    "start_time": "2024-02-19T05:44:42.996Z"
   },
   {
    "duration": 7,
    "start_time": "2024-02-19T05:44:56.564Z"
   },
   {
    "duration": 7,
    "start_time": "2024-02-19T05:45:39.446Z"
   },
   {
    "duration": 12,
    "start_time": "2024-02-19T05:46:39.924Z"
   },
   {
    "duration": 15,
    "start_time": "2024-02-19T05:46:48.841Z"
   },
   {
    "duration": 8,
    "start_time": "2024-02-19T05:49:14.141Z"
   },
   {
    "duration": 8,
    "start_time": "2024-02-19T05:49:49.644Z"
   },
   {
    "duration": 7,
    "start_time": "2024-02-19T05:49:59.038Z"
   },
   {
    "duration": 10,
    "start_time": "2024-02-19T05:50:07.990Z"
   },
   {
    "duration": 7,
    "start_time": "2024-02-19T05:50:25.099Z"
   },
   {
    "duration": 7,
    "start_time": "2024-02-19T05:50:29.375Z"
   },
   {
    "duration": 8,
    "start_time": "2024-02-19T05:51:14.255Z"
   },
   {
    "duration": 111,
    "start_time": "2024-02-19T05:51:27.773Z"
   },
   {
    "duration": 8,
    "start_time": "2024-02-19T05:51:33.727Z"
   },
   {
    "duration": 7,
    "start_time": "2024-02-19T05:52:18.016Z"
   },
   {
    "duration": 8,
    "start_time": "2024-02-19T05:52:26.588Z"
   },
   {
    "duration": 10,
    "start_time": "2024-02-19T05:52:55.789Z"
   },
   {
    "duration": 7,
    "start_time": "2024-02-19T05:54:00.425Z"
   },
   {
    "duration": 7,
    "start_time": "2024-02-19T05:55:59.008Z"
   },
   {
    "duration": 8,
    "start_time": "2024-02-19T05:56:18.118Z"
   },
   {
    "duration": 114,
    "start_time": "2024-02-19T05:56:21.568Z"
   },
   {
    "duration": 9,
    "start_time": "2024-02-19T05:56:29.118Z"
   },
   {
    "duration": 8,
    "start_time": "2024-02-19T05:56:46.865Z"
   },
   {
    "duration": 7,
    "start_time": "2024-02-19T05:56:56.842Z"
   },
   {
    "duration": 8,
    "start_time": "2024-02-19T05:57:21.892Z"
   },
   {
    "duration": 7,
    "start_time": "2024-02-19T05:57:32.651Z"
   },
   {
    "duration": 263,
    "start_time": "2024-02-19T06:11:02.166Z"
   },
   {
    "duration": 211,
    "start_time": "2024-02-19T06:11:38.398Z"
   },
   {
    "duration": 239,
    "start_time": "2024-02-19T06:11:43.762Z"
   },
   {
    "duration": 1303,
    "start_time": "2024-02-19T06:12:06.377Z"
   },
   {
    "duration": 207,
    "start_time": "2024-02-19T06:12:07.682Z"
   },
   {
    "duration": 4,
    "start_time": "2024-02-19T06:12:07.891Z"
   },
   {
    "duration": 61,
    "start_time": "2024-02-19T06:12:07.897Z"
   },
   {
    "duration": 1012,
    "start_time": "2024-02-19T06:12:07.960Z"
   },
   {
    "duration": 1040,
    "start_time": "2024-02-19T06:12:08.973Z"
   },
   {
    "duration": 44,
    "start_time": "2024-02-19T06:12:10.015Z"
   },
   {
    "duration": 14,
    "start_time": "2024-02-19T06:12:10.061Z"
   },
   {
    "duration": 4,
    "start_time": "2024-02-19T06:12:10.093Z"
   },
   {
    "duration": 115,
    "start_time": "2024-02-19T06:12:10.100Z"
   },
   {
    "duration": 5,
    "start_time": "2024-02-19T06:12:10.216Z"
   },
   {
    "duration": 19,
    "start_time": "2024-02-19T06:12:10.222Z"
   },
   {
    "duration": 12,
    "start_time": "2024-02-19T06:12:10.243Z"
   },
   {
    "duration": 45,
    "start_time": "2024-02-19T06:12:10.257Z"
   },
   {
    "duration": 39,
    "start_time": "2024-02-19T06:12:10.303Z"
   },
   {
    "duration": 37,
    "start_time": "2024-02-19T06:12:10.343Z"
   },
   {
    "duration": 26,
    "start_time": "2024-02-19T06:12:10.382Z"
   },
   {
    "duration": 291,
    "start_time": "2024-02-19T06:12:10.410Z"
   },
   {
    "duration": 273,
    "start_time": "2024-02-19T06:12:10.703Z"
   },
   {
    "duration": 281,
    "start_time": "2024-02-19T06:12:10.978Z"
   },
   {
    "duration": 9,
    "start_time": "2024-02-19T06:12:11.261Z"
   },
   {
    "duration": 258,
    "start_time": "2024-02-19T06:12:11.272Z"
   },
   {
    "duration": 4,
    "start_time": "2024-02-19T06:12:11.532Z"
   },
   {
    "duration": 359,
    "start_time": "2024-02-19T06:12:11.538Z"
   },
   {
    "duration": 345,
    "start_time": "2024-02-19T06:12:11.899Z"
   },
   {
    "duration": 186,
    "start_time": "2024-02-19T06:12:12.246Z"
   },
   {
    "duration": 9,
    "start_time": "2024-02-19T06:12:12.434Z"
   },
   {
    "duration": 46,
    "start_time": "2024-02-19T06:12:12.494Z"
   },
   {
    "duration": 25,
    "start_time": "2024-02-19T06:12:12.542Z"
   },
   {
    "duration": 39,
    "start_time": "2024-02-19T06:12:12.569Z"
   },
   {
    "duration": 7,
    "start_time": "2024-02-19T06:12:12.610Z"
   },
   {
    "duration": 19,
    "start_time": "2024-02-19T06:12:12.619Z"
   },
   {
    "duration": 14,
    "start_time": "2024-02-19T06:12:12.639Z"
   },
   {
    "duration": 8,
    "start_time": "2024-02-19T06:12:12.655Z"
   },
   {
    "duration": 28,
    "start_time": "2024-02-19T06:12:12.665Z"
   },
   {
    "duration": 8,
    "start_time": "2024-02-19T06:12:12.695Z"
   },
   {
    "duration": 8,
    "start_time": "2024-02-19T06:12:12.705Z"
   },
   {
    "duration": 10,
    "start_time": "2024-02-19T06:12:12.715Z"
   },
   {
    "duration": 37,
    "start_time": "2024-02-19T06:12:12.727Z"
   },
   {
    "duration": 8,
    "start_time": "2024-02-19T06:12:12.766Z"
   },
   {
    "duration": 18,
    "start_time": "2024-02-19T06:12:12.776Z"
   },
   {
    "duration": 8,
    "start_time": "2024-02-19T06:13:39.759Z"
   },
   {
    "duration": 9,
    "start_time": "2024-02-19T06:14:35.861Z"
   },
   {
    "duration": 8,
    "start_time": "2024-02-19T06:15:57.244Z"
   },
   {
    "duration": 8,
    "start_time": "2024-02-19T06:16:15.880Z"
   },
   {
    "duration": 8,
    "start_time": "2024-02-19T06:17:06.452Z"
   },
   {
    "duration": 7,
    "start_time": "2024-02-19T06:17:10.681Z"
   },
   {
    "duration": 8,
    "start_time": "2024-02-19T06:17:15.626Z"
   },
   {
    "duration": 6,
    "start_time": "2024-02-19T06:17:34.253Z"
   },
   {
    "duration": 8,
    "start_time": "2024-02-19T06:17:39.070Z"
   },
   {
    "duration": 5,
    "start_time": "2024-02-19T06:17:57.402Z"
   },
   {
    "duration": 9,
    "start_time": "2024-02-19T06:18:01.553Z"
   },
   {
    "duration": 7,
    "start_time": "2024-02-19T06:18:13.087Z"
   },
   {
    "duration": 7,
    "start_time": "2024-02-19T06:18:20.932Z"
   },
   {
    "duration": 8,
    "start_time": "2024-02-19T06:18:52.849Z"
   },
   {
    "duration": 8,
    "start_time": "2024-02-19T06:19:20.183Z"
   },
   {
    "duration": 8,
    "start_time": "2024-02-19T06:19:34.742Z"
   },
   {
    "duration": 7,
    "start_time": "2024-02-19T06:20:14.526Z"
   },
   {
    "duration": 7,
    "start_time": "2024-02-19T06:20:25.614Z"
   },
   {
    "duration": 8,
    "start_time": "2024-02-19T06:20:42.145Z"
   },
   {
    "duration": 7,
    "start_time": "2024-02-19T06:21:03.777Z"
   },
   {
    "duration": 8,
    "start_time": "2024-02-19T06:21:28.226Z"
   },
   {
    "duration": 8,
    "start_time": "2024-02-19T06:21:40.846Z"
   },
   {
    "duration": 7,
    "start_time": "2024-02-19T06:23:06.351Z"
   },
   {
    "duration": 8,
    "start_time": "2024-02-19T06:25:30.561Z"
   },
   {
    "duration": 10,
    "start_time": "2024-02-19T06:25:44.327Z"
   },
   {
    "duration": 9,
    "start_time": "2024-02-19T06:31:06.797Z"
   },
   {
    "duration": 6,
    "start_time": "2024-02-19T06:31:18.897Z"
   },
   {
    "duration": 8,
    "start_time": "2024-02-19T06:31:22.015Z"
   },
   {
    "duration": 7,
    "start_time": "2024-02-19T06:31:32.293Z"
   },
   {
    "duration": 9,
    "start_time": "2024-02-19T06:31:36.696Z"
   },
   {
    "duration": 9,
    "start_time": "2024-02-19T06:31:39.420Z"
   },
   {
    "duration": 8,
    "start_time": "2024-02-19T06:31:44.884Z"
   },
   {
    "duration": 7,
    "start_time": "2024-02-19T06:31:50.724Z"
   },
   {
    "duration": 8,
    "start_time": "2024-02-19T06:32:18.145Z"
   },
   {
    "duration": 1354,
    "start_time": "2024-02-19T19:56:01.558Z"
   },
   {
    "duration": 89,
    "start_time": "2024-02-19T19:56:02.914Z"
   },
   {
    "duration": 5,
    "start_time": "2024-02-19T19:56:03.005Z"
   },
   {
    "duration": 68,
    "start_time": "2024-02-19T19:56:03.012Z"
   },
   {
    "duration": 966,
    "start_time": "2024-02-19T19:56:03.082Z"
   },
   {
    "duration": 1068,
    "start_time": "2024-02-19T19:56:04.050Z"
   },
   {
    "duration": 42,
    "start_time": "2024-02-19T19:56:05.119Z"
   },
   {
    "duration": 29,
    "start_time": "2024-02-19T19:56:05.163Z"
   },
   {
    "duration": 5,
    "start_time": "2024-02-19T19:56:05.194Z"
   },
   {
    "duration": 107,
    "start_time": "2024-02-19T19:56:05.203Z"
   },
   {
    "duration": 5,
    "start_time": "2024-02-19T19:56:05.312Z"
   },
   {
    "duration": 5,
    "start_time": "2024-02-19T19:56:05.319Z"
   },
   {
    "duration": 7,
    "start_time": "2024-02-19T19:56:05.326Z"
   },
   {
    "duration": 22,
    "start_time": "2024-02-19T19:56:05.335Z"
   },
   {
    "duration": 45,
    "start_time": "2024-02-19T19:56:05.359Z"
   },
   {
    "duration": 15,
    "start_time": "2024-02-19T19:56:05.405Z"
   },
   {
    "duration": 36,
    "start_time": "2024-02-19T19:56:05.422Z"
   },
   {
    "duration": 319,
    "start_time": "2024-02-19T19:56:05.461Z"
   },
   {
    "duration": 253,
    "start_time": "2024-02-19T19:56:05.782Z"
   },
   {
    "duration": 264,
    "start_time": "2024-02-19T19:56:06.036Z"
   },
   {
    "duration": 10,
    "start_time": "2024-02-19T19:56:06.303Z"
   },
   {
    "duration": 264,
    "start_time": "2024-02-19T19:56:06.315Z"
   },
   {
    "duration": 5,
    "start_time": "2024-02-19T19:56:06.591Z"
   },
   {
    "duration": 348,
    "start_time": "2024-02-19T19:56:06.598Z"
   },
   {
    "duration": 370,
    "start_time": "2024-02-19T19:56:06.948Z"
   },
   {
    "duration": 301,
    "start_time": "2024-02-19T19:56:07.320Z"
   },
   {
    "duration": 10,
    "start_time": "2024-02-19T19:56:07.623Z"
   },
   {
    "duration": 73,
    "start_time": "2024-02-19T19:56:07.637Z"
   },
   {
    "duration": 25,
    "start_time": "2024-02-19T19:56:07.712Z"
   },
   {
    "duration": 17,
    "start_time": "2024-02-19T19:56:07.738Z"
   },
   {
    "duration": 8,
    "start_time": "2024-02-19T19:56:07.756Z"
   },
   {
    "duration": 9,
    "start_time": "2024-02-19T19:56:07.792Z"
   },
   {
    "duration": 10,
    "start_time": "2024-02-19T19:56:07.802Z"
   },
   {
    "duration": 8,
    "start_time": "2024-02-19T19:56:07.814Z"
   },
   {
    "duration": 9,
    "start_time": "2024-02-19T19:56:07.823Z"
   },
   {
    "duration": 7,
    "start_time": "2024-02-19T19:56:07.833Z"
   },
   {
    "duration": 54,
    "start_time": "2024-02-19T19:56:07.842Z"
   },
   {
    "duration": 15,
    "start_time": "2024-02-19T19:56:07.898Z"
   },
   {
    "duration": 12,
    "start_time": "2024-02-19T19:56:07.915Z"
   },
   {
    "duration": 7,
    "start_time": "2024-02-19T19:56:07.929Z"
   },
   {
    "duration": 1344,
    "start_time": "2024-02-19T20:52:13.958Z"
   },
   {
    "duration": 102,
    "start_time": "2024-02-19T20:52:15.304Z"
   },
   {
    "duration": 4,
    "start_time": "2024-02-19T20:52:15.408Z"
   },
   {
    "duration": 61,
    "start_time": "2024-02-19T20:52:15.414Z"
   },
   {
    "duration": 996,
    "start_time": "2024-02-19T20:52:15.477Z"
   },
   {
    "duration": 1088,
    "start_time": "2024-02-19T20:52:16.475Z"
   },
   {
    "duration": 51,
    "start_time": "2024-02-19T20:52:17.565Z"
   },
   {
    "duration": 14,
    "start_time": "2024-02-19T20:52:17.618Z"
   },
   {
    "duration": 9,
    "start_time": "2024-02-19T20:52:17.634Z"
   },
   {
    "duration": 129,
    "start_time": "2024-02-19T20:52:17.647Z"
   },
   {
    "duration": 5,
    "start_time": "2024-02-19T20:52:17.778Z"
   },
   {
    "duration": 7,
    "start_time": "2024-02-19T20:52:17.792Z"
   },
   {
    "duration": 9,
    "start_time": "2024-02-19T20:52:17.801Z"
   },
   {
    "duration": 35,
    "start_time": "2024-02-19T20:52:17.812Z"
   },
   {
    "duration": 17,
    "start_time": "2024-02-19T20:52:17.848Z"
   },
   {
    "duration": 8,
    "start_time": "2024-02-19T20:52:17.891Z"
   },
   {
    "duration": 26,
    "start_time": "2024-02-19T20:52:17.901Z"
   },
   {
    "duration": 304,
    "start_time": "2024-02-19T20:52:17.928Z"
   },
   {
    "duration": 278,
    "start_time": "2024-02-19T20:52:18.234Z"
   },
   {
    "duration": 262,
    "start_time": "2024-02-19T20:52:18.514Z"
   },
   {
    "duration": 18,
    "start_time": "2024-02-19T20:52:18.777Z"
   },
   {
    "duration": 247,
    "start_time": "2024-02-19T20:52:18.797Z"
   },
   {
    "duration": 4,
    "start_time": "2024-02-19T20:52:19.047Z"
   },
   {
    "duration": 351,
    "start_time": "2024-02-19T20:52:19.053Z"
   },
   {
    "duration": 301,
    "start_time": "2024-02-19T20:52:19.406Z"
   },
   {
    "duration": 214,
    "start_time": "2024-02-19T20:52:19.710Z"
   },
   {
    "duration": 11,
    "start_time": "2024-02-19T20:52:19.926Z"
   },
   {
    "duration": 73,
    "start_time": "2024-02-19T20:52:19.941Z"
   },
   {
    "duration": 32,
    "start_time": "2024-02-19T20:52:20.017Z"
   },
   {
    "duration": 40,
    "start_time": "2024-02-19T20:52:20.052Z"
   },
   {
    "duration": 12,
    "start_time": "2024-02-19T20:52:20.095Z"
   },
   {
    "duration": 76,
    "start_time": "2024-02-19T20:52:20.110Z"
   },
   {
    "duration": 35,
    "start_time": "2024-02-19T20:52:20.188Z"
   },
   {
    "duration": 23,
    "start_time": "2024-02-19T20:52:20.226Z"
   },
   {
    "duration": 26,
    "start_time": "2024-02-19T20:52:20.252Z"
   },
   {
    "duration": 28,
    "start_time": "2024-02-19T20:52:20.280Z"
   },
   {
    "duration": 23,
    "start_time": "2024-02-19T20:52:20.310Z"
   },
   {
    "duration": 51,
    "start_time": "2024-02-19T20:52:20.335Z"
   },
   {
    "duration": 19,
    "start_time": "2024-02-19T20:52:20.387Z"
   },
   {
    "duration": 57,
    "start_time": "2024-02-19T20:52:20.408Z"
   },
   {
    "duration": 13,
    "start_time": "2024-02-19T21:38:14.024Z"
   },
   {
    "duration": 64,
    "start_time": "2024-02-19T21:57:02.108Z"
   },
   {
    "duration": 50,
    "start_time": "2024-02-20T05:26:57.643Z"
   },
   {
    "duration": 1517,
    "start_time": "2024-02-20T05:27:03.819Z"
   },
   {
    "duration": 332,
    "start_time": "2024-02-20T05:27:05.337Z"
   },
   {
    "duration": 3,
    "start_time": "2024-02-20T05:27:05.671Z"
   },
   {
    "duration": 70,
    "start_time": "2024-02-20T05:27:05.676Z"
   },
   {
    "duration": 1032,
    "start_time": "2024-02-20T05:27:05.748Z"
   },
   {
    "duration": 1017,
    "start_time": "2024-02-20T05:27:06.782Z"
   },
   {
    "duration": 39,
    "start_time": "2024-02-20T05:27:07.801Z"
   },
   {
    "duration": 13,
    "start_time": "2024-02-20T05:27:07.842Z"
   },
   {
    "duration": 7,
    "start_time": "2024-02-20T05:27:07.856Z"
   },
   {
    "duration": 116,
    "start_time": "2024-02-20T05:27:07.865Z"
   },
   {
    "duration": 10,
    "start_time": "2024-02-20T05:27:07.983Z"
   },
   {
    "duration": 7,
    "start_time": "2024-02-20T05:27:07.995Z"
   },
   {
    "duration": 7,
    "start_time": "2024-02-20T05:27:08.003Z"
   },
   {
    "duration": 21,
    "start_time": "2024-02-20T05:27:08.012Z"
   },
   {
    "duration": 15,
    "start_time": "2024-02-20T05:27:08.035Z"
   },
   {
    "duration": 42,
    "start_time": "2024-02-20T05:27:08.051Z"
   },
   {
    "duration": 24,
    "start_time": "2024-02-20T05:27:08.095Z"
   },
   {
    "duration": 279,
    "start_time": "2024-02-20T05:27:08.120Z"
   },
   {
    "duration": 252,
    "start_time": "2024-02-20T05:27:08.401Z"
   },
   {
    "duration": 256,
    "start_time": "2024-02-20T05:27:08.654Z"
   },
   {
    "duration": 8,
    "start_time": "2024-02-20T05:27:08.911Z"
   },
   {
    "duration": 233,
    "start_time": "2024-02-20T05:27:08.920Z"
   },
   {
    "duration": 4,
    "start_time": "2024-02-20T05:27:09.155Z"
   },
   {
    "duration": 315,
    "start_time": "2024-02-20T05:27:09.160Z"
   },
   {
    "duration": 328,
    "start_time": "2024-02-20T05:27:09.477Z"
   },
   {
    "duration": 216,
    "start_time": "2024-02-20T05:27:09.807Z"
   },
   {
    "duration": 13,
    "start_time": "2024-02-20T05:27:10.026Z"
   },
   {
    "duration": 61,
    "start_time": "2024-02-20T05:27:10.042Z"
   },
   {
    "duration": 24,
    "start_time": "2024-02-20T05:27:10.105Z"
   },
   {
    "duration": 17,
    "start_time": "2024-02-20T05:27:10.130Z"
   },
   {
    "duration": 8,
    "start_time": "2024-02-20T05:27:10.148Z"
   },
   {
    "duration": 38,
    "start_time": "2024-02-20T05:27:10.157Z"
   },
   {
    "duration": 24,
    "start_time": "2024-02-20T05:27:10.197Z"
   },
   {
    "duration": 8,
    "start_time": "2024-02-20T05:27:10.223Z"
   },
   {
    "duration": 77,
    "start_time": "2024-02-20T05:27:10.232Z"
   },
   {
    "duration": 14,
    "start_time": "2024-02-20T05:27:10.311Z"
   },
   {
    "duration": 42,
    "start_time": "2024-02-20T05:27:10.326Z"
   },
   {
    "duration": 30,
    "start_time": "2024-02-20T05:27:10.369Z"
   },
   {
    "duration": 9,
    "start_time": "2024-02-20T05:27:10.401Z"
   },
   {
    "duration": 10,
    "start_time": "2024-02-20T05:27:10.412Z"
   },
   {
    "duration": 1034,
    "start_time": "2024-02-20T05:31:34.532Z"
   },
   {
    "duration": 601,
    "start_time": "2024-02-20T05:40:31.517Z"
   },
   {
    "duration": 19,
    "start_time": "2024-02-20T05:42:14.073Z"
   },
   {
    "duration": 24,
    "start_time": "2024-02-20T05:43:04.056Z"
   },
   {
    "duration": 26,
    "start_time": "2024-02-20T05:43:19.950Z"
   },
   {
    "duration": 28,
    "start_time": "2024-02-20T05:48:07.468Z"
   },
   {
    "duration": 27,
    "start_time": "2024-02-20T05:50:49.228Z"
   },
   {
    "duration": 27,
    "start_time": "2024-02-20T05:51:06.246Z"
   },
   {
    "duration": 1521,
    "start_time": "2024-02-20T10:16:38.658Z"
   },
   {
    "duration": 108,
    "start_time": "2024-02-20T10:16:40.181Z"
   },
   {
    "duration": 3,
    "start_time": "2024-02-20T10:16:40.291Z"
   },
   {
    "duration": 66,
    "start_time": "2024-02-20T10:16:40.296Z"
   },
   {
    "duration": 1153,
    "start_time": "2024-02-20T10:16:40.363Z"
   },
   {
    "duration": 29,
    "start_time": "2024-02-20T10:16:41.518Z"
   },
   {
    "duration": 43,
    "start_time": "2024-02-20T10:16:41.549Z"
   },
   {
    "duration": 12,
    "start_time": "2024-02-20T10:16:41.594Z"
   },
   {
    "duration": 6,
    "start_time": "2024-02-20T10:16:41.608Z"
   },
   {
    "duration": 12,
    "start_time": "2024-02-20T10:16:41.618Z"
   },
   {
    "duration": 5,
    "start_time": "2024-02-20T10:16:41.632Z"
   },
   {
    "duration": 5,
    "start_time": "2024-02-20T10:16:41.639Z"
   },
   {
    "duration": 45,
    "start_time": "2024-02-20T10:16:41.646Z"
   },
   {
    "duration": 23,
    "start_time": "2024-02-20T10:16:41.693Z"
   },
   {
    "duration": 16,
    "start_time": "2024-02-20T10:16:41.717Z"
   },
   {
    "duration": 28,
    "start_time": "2024-02-20T10:16:41.735Z"
   },
   {
    "duration": 301,
    "start_time": "2024-02-20T10:16:41.765Z"
   },
   {
    "duration": 247,
    "start_time": "2024-02-20T10:16:42.069Z"
   },
   {
    "duration": 258,
    "start_time": "2024-02-20T10:16:42.318Z"
   },
   {
    "duration": 17,
    "start_time": "2024-02-20T10:16:42.578Z"
   },
   {
    "duration": 243,
    "start_time": "2024-02-20T10:16:42.597Z"
   },
   {
    "duration": 4,
    "start_time": "2024-02-20T10:16:42.842Z"
   },
   {
    "duration": 328,
    "start_time": "2024-02-20T10:16:42.848Z"
   },
   {
    "duration": 302,
    "start_time": "2024-02-20T10:16:43.178Z"
   },
   {
    "duration": 307,
    "start_time": "2024-02-20T10:16:43.487Z"
   },
   {
    "duration": 11,
    "start_time": "2024-02-20T10:16:43.796Z"
   },
   {
    "duration": 136,
    "start_time": "2024-02-20T10:16:43.809Z"
   },
   {
    "duration": 0,
    "start_time": "2024-02-20T10:16:43.947Z"
   },
   {
    "duration": 0,
    "start_time": "2024-02-20T10:16:43.948Z"
   },
   {
    "duration": 0,
    "start_time": "2024-02-20T10:16:43.950Z"
   },
   {
    "duration": 0,
    "start_time": "2024-02-20T10:16:43.951Z"
   },
   {
    "duration": 0,
    "start_time": "2024-02-20T10:16:43.952Z"
   },
   {
    "duration": 0,
    "start_time": "2024-02-20T10:16:43.954Z"
   },
   {
    "duration": 0,
    "start_time": "2024-02-20T10:16:43.955Z"
   },
   {
    "duration": 0,
    "start_time": "2024-02-20T10:16:43.956Z"
   },
   {
    "duration": 0,
    "start_time": "2024-02-20T10:16:43.957Z"
   },
   {
    "duration": 0,
    "start_time": "2024-02-20T10:16:43.958Z"
   },
   {
    "duration": 0,
    "start_time": "2024-02-20T10:16:43.959Z"
   },
   {
    "duration": 0,
    "start_time": "2024-02-20T10:16:43.960Z"
   },
   {
    "duration": 237,
    "start_time": "2024-02-20T10:30:18.102Z"
   },
   {
    "duration": 281,
    "start_time": "2024-02-20T10:32:56.855Z"
   },
   {
    "duration": 99,
    "start_time": "2024-02-20T10:34:48.327Z"
   },
   {
    "duration": 265,
    "start_time": "2024-02-20T10:35:05.672Z"
   },
   {
    "duration": 275,
    "start_time": "2024-02-20T10:46:33.426Z"
   },
   {
    "duration": 281,
    "start_time": "2024-02-20T10:46:50.540Z"
   },
   {
    "duration": 613,
    "start_time": "2024-02-20T11:01:37.566Z"
   },
   {
    "duration": 41,
    "start_time": "2024-02-20T11:03:14.687Z"
   },
   {
    "duration": 19,
    "start_time": "2024-02-20T11:03:28.133Z"
   },
   {
    "duration": 21,
    "start_time": "2024-02-20T11:04:25.997Z"
   },
   {
    "duration": 40,
    "start_time": "2024-02-20T11:04:31.922Z"
   },
   {
    "duration": 35,
    "start_time": "2024-02-20T11:04:43.885Z"
   },
   {
    "duration": 13,
    "start_time": "2024-02-20T11:05:59.476Z"
   },
   {
    "duration": 149,
    "start_time": "2024-02-20T11:06:27.147Z"
   },
   {
    "duration": 1112,
    "start_time": "2024-02-20T12:43:58.451Z"
   },
   {
    "duration": 138,
    "start_time": "2024-02-20T12:43:59.566Z"
   },
   {
    "duration": 4,
    "start_time": "2024-02-20T12:43:59.705Z"
   },
   {
    "duration": 49,
    "start_time": "2024-02-20T12:43:59.711Z"
   },
   {
    "duration": 1138,
    "start_time": "2024-02-20T12:43:59.762Z"
   },
   {
    "duration": 26,
    "start_time": "2024-02-20T12:44:00.902Z"
   },
   {
    "duration": 70,
    "start_time": "2024-02-20T12:44:00.929Z"
   },
   {
    "duration": 14,
    "start_time": "2024-02-20T12:44:01.001Z"
   },
   {
    "duration": 99,
    "start_time": "2024-02-20T12:44:01.016Z"
   },
   {
    "duration": 106,
    "start_time": "2024-02-20T12:44:01.117Z"
   },
   {
    "duration": 50,
    "start_time": "2024-02-20T12:44:01.225Z"
   },
   {
    "duration": 103,
    "start_time": "2024-02-20T12:44:01.276Z"
   },
   {
    "duration": 72,
    "start_time": "2024-02-20T12:44:01.380Z"
   },
   {
    "duration": 60,
    "start_time": "2024-02-20T12:44:01.455Z"
   },
   {
    "duration": 33,
    "start_time": "2024-02-20T12:44:01.518Z"
   },
   {
    "duration": 67,
    "start_time": "2024-02-20T12:44:01.553Z"
   },
   {
    "duration": 302,
    "start_time": "2024-02-20T12:44:01.622Z"
   },
   {
    "duration": 242,
    "start_time": "2024-02-20T12:44:01.926Z"
   },
   {
    "duration": 264,
    "start_time": "2024-02-20T12:44:02.169Z"
   },
   {
    "duration": 9,
    "start_time": "2024-02-20T12:44:02.435Z"
   },
   {
    "duration": 260,
    "start_time": "2024-02-20T12:44:02.445Z"
   },
   {
    "duration": 4,
    "start_time": "2024-02-20T12:44:02.707Z"
   },
   {
    "duration": 357,
    "start_time": "2024-02-20T12:44:02.712Z"
   },
   {
    "duration": 323,
    "start_time": "2024-02-20T12:44:03.071Z"
   },
   {
    "duration": 360,
    "start_time": "2024-02-20T12:44:03.402Z"
   },
   {
    "duration": 288,
    "start_time": "2024-02-20T12:44:03.764Z"
   },
   {
    "duration": 297,
    "start_time": "2024-02-20T12:44:04.054Z"
   },
   {
    "duration": 326,
    "start_time": "2024-02-20T12:44:04.353Z"
   },
   {
    "duration": 240,
    "start_time": "2024-02-20T12:44:04.681Z"
   },
   {
    "duration": 9,
    "start_time": "2024-02-20T12:44:04.923Z"
   },
   {
    "duration": 635,
    "start_time": "2024-02-20T12:44:04.933Z"
   },
   {
    "duration": 44,
    "start_time": "2024-02-20T12:44:05.570Z"
   },
   {
    "duration": 28,
    "start_time": "2024-02-20T12:44:05.615Z"
   },
   {
    "duration": 17,
    "start_time": "2024-02-20T12:44:05.645Z"
   },
   {
    "duration": 37,
    "start_time": "2024-02-20T12:44:05.664Z"
   },
   {
    "duration": 10,
    "start_time": "2024-02-20T12:44:05.704Z"
   },
   {
    "duration": 8,
    "start_time": "2024-02-20T12:44:05.716Z"
   },
   {
    "duration": 20,
    "start_time": "2024-02-20T12:44:05.725Z"
   },
   {
    "duration": 4,
    "start_time": "2024-02-20T12:44:05.747Z"
   },
   {
    "duration": 7,
    "start_time": "2024-02-20T12:44:05.752Z"
   },
   {
    "duration": 35,
    "start_time": "2024-02-20T12:44:05.763Z"
   },
   {
    "duration": 8,
    "start_time": "2024-02-20T12:44:05.800Z"
   },
   {
    "duration": 7,
    "start_time": "2024-02-20T12:44:05.810Z"
   },
   {
    "duration": 6,
    "start_time": "2024-02-20T12:44:05.819Z"
   },
   {
    "duration": 45,
    "start_time": "2024-02-21T04:43:34.464Z"
   },
   {
    "duration": 1210,
    "start_time": "2024-02-21T04:43:40.422Z"
   },
   {
    "duration": 126,
    "start_time": "2024-02-21T04:43:41.634Z"
   },
   {
    "duration": 3,
    "start_time": "2024-02-21T04:43:41.761Z"
   },
   {
    "duration": 47,
    "start_time": "2024-02-21T04:43:41.766Z"
   },
   {
    "duration": 864,
    "start_time": "2024-02-21T04:43:41.816Z"
   },
   {
    "duration": 22,
    "start_time": "2024-02-21T04:43:42.682Z"
   },
   {
    "duration": 34,
    "start_time": "2024-02-21T04:43:42.706Z"
   },
   {
    "duration": 9,
    "start_time": "2024-02-21T04:43:42.742Z"
   },
   {
    "duration": 13,
    "start_time": "2024-02-21T04:43:42.753Z"
   },
   {
    "duration": 12,
    "start_time": "2024-02-21T04:43:42.767Z"
   },
   {
    "duration": 5,
    "start_time": "2024-02-21T04:43:42.780Z"
   },
   {
    "duration": 16,
    "start_time": "2024-02-21T04:43:42.787Z"
   },
   {
    "duration": 7,
    "start_time": "2024-02-21T04:43:42.804Z"
   },
   {
    "duration": 20,
    "start_time": "2024-02-21T04:43:42.814Z"
   },
   {
    "duration": 13,
    "start_time": "2024-02-21T04:43:42.836Z"
   },
   {
    "duration": 22,
    "start_time": "2024-02-21T04:43:42.850Z"
   },
   {
    "duration": 233,
    "start_time": "2024-02-21T04:43:42.874Z"
   },
   {
    "duration": 194,
    "start_time": "2024-02-21T04:43:43.108Z"
   },
   {
    "duration": 205,
    "start_time": "2024-02-21T04:43:43.303Z"
   },
   {
    "duration": 6,
    "start_time": "2024-02-21T04:43:43.510Z"
   },
   {
    "duration": 189,
    "start_time": "2024-02-21T04:43:43.517Z"
   },
   {
    "duration": 4,
    "start_time": "2024-02-21T04:43:43.707Z"
   },
   {
    "duration": 248,
    "start_time": "2024-02-21T04:43:43.712Z"
   },
   {
    "duration": 287,
    "start_time": "2024-02-21T04:43:43.961Z"
   },
   {
    "duration": 293,
    "start_time": "2024-02-21T04:43:44.250Z"
   },
   {
    "duration": 226,
    "start_time": "2024-02-21T04:43:44.545Z"
   },
   {
    "duration": 266,
    "start_time": "2024-02-21T04:43:44.773Z"
   },
   {
    "duration": 225,
    "start_time": "2024-02-21T04:43:45.041Z"
   },
   {
    "duration": 156,
    "start_time": "2024-02-21T04:43:45.267Z"
   },
   {
    "duration": 8,
    "start_time": "2024-02-21T04:43:45.425Z"
   },
   {
    "duration": 555,
    "start_time": "2024-02-21T04:43:45.434Z"
   },
   {
    "duration": 31,
    "start_time": "2024-02-21T04:43:45.990Z"
   },
   {
    "duration": 15,
    "start_time": "2024-02-21T04:43:46.022Z"
   },
   {
    "duration": 12,
    "start_time": "2024-02-21T04:43:46.038Z"
   },
   {
    "duration": 6,
    "start_time": "2024-02-21T04:43:46.052Z"
   },
   {
    "duration": 6,
    "start_time": "2024-02-21T04:43:46.059Z"
   },
   {
    "duration": 6,
    "start_time": "2024-02-21T04:43:46.066Z"
   },
   {
    "duration": 39,
    "start_time": "2024-02-21T04:43:46.073Z"
   },
   {
    "duration": 4,
    "start_time": "2024-02-21T04:43:46.113Z"
   },
   {
    "duration": 5,
    "start_time": "2024-02-21T04:43:46.118Z"
   },
   {
    "duration": 6,
    "start_time": "2024-02-21T04:43:46.126Z"
   },
   {
    "duration": 6,
    "start_time": "2024-02-21T04:43:46.134Z"
   },
   {
    "duration": 6,
    "start_time": "2024-02-21T04:43:46.141Z"
   },
   {
    "duration": 14,
    "start_time": "2024-02-21T04:43:46.149Z"
   },
   {
    "duration": 261,
    "start_time": "2024-02-21T04:45:50.185Z"
   },
   {
    "duration": 255,
    "start_time": "2024-02-21T04:46:16.467Z"
   },
   {
    "duration": 11,
    "start_time": "2024-02-21T04:47:11.203Z"
   },
   {
    "duration": 223,
    "start_time": "2024-02-21T04:48:45.304Z"
   },
   {
    "duration": 175,
    "start_time": "2024-02-21T04:49:02.752Z"
   },
   {
    "duration": 1043,
    "start_time": "2024-02-21T04:50:39.325Z"
   },
   {
    "duration": 1103,
    "start_time": "2024-02-21T05:21:21.472Z"
   },
   {
    "duration": 357,
    "start_time": "2024-02-21T05:21:22.577Z"
   },
   {
    "duration": 3,
    "start_time": "2024-02-21T05:21:22.935Z"
   },
   {
    "duration": 57,
    "start_time": "2024-02-21T05:21:22.939Z"
   },
   {
    "duration": 814,
    "start_time": "2024-02-21T05:21:22.998Z"
   },
   {
    "duration": 20,
    "start_time": "2024-02-21T05:21:23.813Z"
   },
   {
    "duration": 31,
    "start_time": "2024-02-21T05:21:23.834Z"
   },
   {
    "duration": 9,
    "start_time": "2024-02-21T05:21:23.867Z"
   },
   {
    "duration": 9,
    "start_time": "2024-02-21T05:21:23.877Z"
   },
   {
    "duration": 16,
    "start_time": "2024-02-21T05:21:23.887Z"
   },
   {
    "duration": 3,
    "start_time": "2024-02-21T05:21:23.905Z"
   },
   {
    "duration": 12,
    "start_time": "2024-02-21T05:21:23.909Z"
   },
   {
    "duration": 6,
    "start_time": "2024-02-21T05:21:23.922Z"
   },
   {
    "duration": 16,
    "start_time": "2024-02-21T05:21:23.929Z"
   },
   {
    "duration": 12,
    "start_time": "2024-02-21T05:21:23.946Z"
   },
   {
    "duration": 21,
    "start_time": "2024-02-21T05:21:23.959Z"
   },
   {
    "duration": 233,
    "start_time": "2024-02-21T05:21:23.981Z"
   },
   {
    "duration": 210,
    "start_time": "2024-02-21T05:21:24.216Z"
   },
   {
    "duration": 196,
    "start_time": "2024-02-21T05:21:24.427Z"
   },
   {
    "duration": 5,
    "start_time": "2024-02-21T05:21:24.625Z"
   },
   {
    "duration": 184,
    "start_time": "2024-02-21T05:21:24.632Z"
   },
   {
    "duration": 3,
    "start_time": "2024-02-21T05:21:24.818Z"
   },
   {
    "duration": 240,
    "start_time": "2024-02-21T05:21:24.822Z"
   },
   {
    "duration": 287,
    "start_time": "2024-02-21T05:21:25.064Z"
   },
   {
    "duration": 293,
    "start_time": "2024-02-21T05:21:25.352Z"
   },
   {
    "duration": 213,
    "start_time": "2024-02-21T05:21:25.646Z"
   },
   {
    "duration": 273,
    "start_time": "2024-02-21T05:21:25.860Z"
   },
   {
    "duration": 231,
    "start_time": "2024-02-21T05:21:26.136Z"
   },
   {
    "duration": 11,
    "start_time": "2024-02-21T05:21:26.368Z"
   },
   {
    "duration": 238,
    "start_time": "2024-02-21T05:21:26.380Z"
   },
   {
    "duration": 11,
    "start_time": "2024-02-21T05:21:26.620Z"
   },
   {
    "duration": 947,
    "start_time": "2024-02-21T05:21:26.632Z"
   },
   {
    "duration": 34,
    "start_time": "2024-02-21T05:21:27.581Z"
   },
   {
    "duration": 14,
    "start_time": "2024-02-21T05:21:27.617Z"
   },
   {
    "duration": 12,
    "start_time": "2024-02-21T05:21:27.632Z"
   },
   {
    "duration": 6,
    "start_time": "2024-02-21T05:21:27.646Z"
   },
   {
    "duration": 6,
    "start_time": "2024-02-21T05:21:27.653Z"
   },
   {
    "duration": 6,
    "start_time": "2024-02-21T05:21:27.660Z"
   },
   {
    "duration": 42,
    "start_time": "2024-02-21T05:21:27.667Z"
   },
   {
    "duration": 4,
    "start_time": "2024-02-21T05:21:27.710Z"
   },
   {
    "duration": 5,
    "start_time": "2024-02-21T05:21:27.715Z"
   },
   {
    "duration": 16,
    "start_time": "2024-02-21T05:21:27.721Z"
   },
   {
    "duration": 6,
    "start_time": "2024-02-21T05:21:27.738Z"
   },
   {
    "duration": 6,
    "start_time": "2024-02-21T05:21:27.746Z"
   },
   {
    "duration": 8,
    "start_time": "2024-02-21T05:21:27.753Z"
   },
   {
    "duration": 1193,
    "start_time": "2024-02-21T12:01:36.295Z"
   },
   {
    "duration": 90,
    "start_time": "2024-02-21T12:01:37.490Z"
   },
   {
    "duration": 4,
    "start_time": "2024-02-21T12:01:37.581Z"
   },
   {
    "duration": 74,
    "start_time": "2024-02-21T12:01:37.587Z"
   },
   {
    "duration": 989,
    "start_time": "2024-02-21T12:01:37.662Z"
   },
   {
    "duration": 32,
    "start_time": "2024-02-21T12:01:38.652Z"
   },
   {
    "duration": 39,
    "start_time": "2024-02-21T12:01:38.686Z"
   },
   {
    "duration": 11,
    "start_time": "2024-02-21T12:01:38.726Z"
   },
   {
    "duration": 29,
    "start_time": "2024-02-21T12:01:38.739Z"
   },
   {
    "duration": 18,
    "start_time": "2024-02-21T12:01:38.771Z"
   },
   {
    "duration": 5,
    "start_time": "2024-02-21T12:01:38.791Z"
   },
   {
    "duration": 14,
    "start_time": "2024-02-21T12:01:38.798Z"
   },
   {
    "duration": 30,
    "start_time": "2024-02-21T12:01:38.813Z"
   },
   {
    "duration": 47,
    "start_time": "2024-02-21T12:01:38.844Z"
   },
   {
    "duration": 14,
    "start_time": "2024-02-21T12:01:38.892Z"
   },
   {
    "duration": 47,
    "start_time": "2024-02-21T12:01:38.907Z"
   },
   {
    "duration": 257,
    "start_time": "2024-02-21T12:01:38.955Z"
   },
   {
    "duration": 228,
    "start_time": "2024-02-21T12:01:39.214Z"
   },
   {
    "duration": 239,
    "start_time": "2024-02-21T12:01:39.444Z"
   },
   {
    "duration": 8,
    "start_time": "2024-02-21T12:01:39.684Z"
   },
   {
    "duration": 231,
    "start_time": "2024-02-21T12:01:39.693Z"
   },
   {
    "duration": 3,
    "start_time": "2024-02-21T12:01:39.926Z"
   },
   {
    "duration": 309,
    "start_time": "2024-02-21T12:01:39.931Z"
   },
   {
    "duration": 309,
    "start_time": "2024-02-21T12:01:40.242Z"
   },
   {
    "duration": 375,
    "start_time": "2024-02-21T12:01:40.553Z"
   },
   {
    "duration": 296,
    "start_time": "2024-02-21T12:01:40.930Z"
   },
   {
    "duration": 279,
    "start_time": "2024-02-21T12:01:41.227Z"
   },
   {
    "duration": 258,
    "start_time": "2024-02-21T12:01:41.510Z"
   },
   {
    "duration": 12,
    "start_time": "2024-02-21T12:01:41.769Z"
   },
   {
    "duration": 230,
    "start_time": "2024-02-21T12:01:41.783Z"
   },
   {
    "duration": 13,
    "start_time": "2024-02-21T12:01:42.015Z"
   },
   {
    "duration": 1223,
    "start_time": "2024-02-21T12:01:42.029Z"
   },
   {
    "duration": 37,
    "start_time": "2024-02-21T12:01:43.253Z"
   },
   {
    "duration": 18,
    "start_time": "2024-02-21T12:01:43.291Z"
   },
   {
    "duration": 17,
    "start_time": "2024-02-21T12:01:43.311Z"
   },
   {
    "duration": 16,
    "start_time": "2024-02-21T12:01:43.329Z"
   },
   {
    "duration": 43,
    "start_time": "2024-02-21T12:01:43.346Z"
   },
   {
    "duration": 23,
    "start_time": "2024-02-21T12:01:43.391Z"
   },
   {
    "duration": 24,
    "start_time": "2024-02-21T12:01:43.415Z"
   },
   {
    "duration": 4,
    "start_time": "2024-02-21T12:01:43.440Z"
   },
   {
    "duration": 36,
    "start_time": "2024-02-21T12:01:43.446Z"
   },
   {
    "duration": 19,
    "start_time": "2024-02-21T12:01:43.483Z"
   },
   {
    "duration": 40,
    "start_time": "2024-02-21T12:01:43.503Z"
   },
   {
    "duration": 29,
    "start_time": "2024-02-21T12:01:43.544Z"
   },
   {
    "duration": 21,
    "start_time": "2024-02-21T12:01:43.575Z"
   },
   {
    "duration": 1205,
    "start_time": "2024-04-17T06:47:51.056Z"
   },
   {
    "duration": 94,
    "start_time": "2024-04-17T06:47:52.262Z"
   },
   {
    "duration": 3,
    "start_time": "2024-04-17T06:47:52.358Z"
   },
   {
    "duration": 73,
    "start_time": "2024-04-17T06:47:52.363Z"
   },
   {
    "duration": 1028,
    "start_time": "2024-04-17T06:47:52.438Z"
   },
   {
    "duration": 33,
    "start_time": "2024-04-17T06:47:53.469Z"
   },
   {
    "duration": 40,
    "start_time": "2024-04-17T06:47:53.504Z"
   },
   {
    "duration": 13,
    "start_time": "2024-04-17T06:47:53.561Z"
   },
   {
    "duration": 24,
    "start_time": "2024-04-17T06:47:53.575Z"
   },
   {
    "duration": 17,
    "start_time": "2024-04-17T06:47:53.602Z"
   },
   {
    "duration": 6,
    "start_time": "2024-04-17T06:47:53.620Z"
   },
   {
    "duration": 9,
    "start_time": "2024-04-17T06:47:53.628Z"
   },
   {
    "duration": 22,
    "start_time": "2024-04-17T06:47:53.638Z"
   },
   {
    "duration": 44,
    "start_time": "2024-04-17T06:47:53.662Z"
   },
   {
    "duration": 40,
    "start_time": "2024-04-17T06:47:53.708Z"
   },
   {
    "duration": 40,
    "start_time": "2024-04-17T06:47:53.750Z"
   },
   {
    "duration": 259,
    "start_time": "2024-04-17T06:47:53.792Z"
   },
   {
    "duration": 238,
    "start_time": "2024-04-17T06:47:54.053Z"
   },
   {
    "duration": 256,
    "start_time": "2024-04-17T06:47:54.292Z"
   },
   {
    "duration": 11,
    "start_time": "2024-04-17T06:47:54.550Z"
   },
   {
    "duration": 244,
    "start_time": "2024-04-17T06:47:54.563Z"
   },
   {
    "duration": 3,
    "start_time": "2024-04-17T06:47:54.809Z"
   },
   {
    "duration": 333,
    "start_time": "2024-04-17T06:47:54.814Z"
   },
   {
    "duration": 303,
    "start_time": "2024-04-17T06:47:55.149Z"
   },
   {
    "duration": 384,
    "start_time": "2024-04-17T06:47:55.461Z"
   },
   {
    "duration": 300,
    "start_time": "2024-04-17T06:47:55.848Z"
   },
   {
    "duration": 279,
    "start_time": "2024-04-17T06:47:56.161Z"
   },
   {
    "duration": 317,
    "start_time": "2024-04-17T06:47:56.445Z"
   },
   {
    "duration": 13,
    "start_time": "2024-04-17T06:47:56.764Z"
   },
   {
    "duration": 240,
    "start_time": "2024-04-17T06:47:56.778Z"
   },
   {
    "duration": 15,
    "start_time": "2024-04-17T06:47:57.020Z"
   },
   {
    "duration": 1319,
    "start_time": "2024-04-17T06:47:57.036Z"
   },
   {
    "duration": 38,
    "start_time": "2024-04-17T06:47:58.356Z"
   },
   {
    "duration": 20,
    "start_time": "2024-04-17T06:47:58.396Z"
   },
   {
    "duration": 25,
    "start_time": "2024-04-17T06:47:58.417Z"
   },
   {
    "duration": 25,
    "start_time": "2024-04-17T06:47:58.444Z"
   },
   {
    "duration": 11,
    "start_time": "2024-04-17T06:47:58.470Z"
   },
   {
    "duration": 9,
    "start_time": "2024-04-17T06:47:58.482Z"
   },
   {
    "duration": 16,
    "start_time": "2024-04-17T06:47:58.492Z"
   },
   {
    "duration": 35,
    "start_time": "2024-04-17T06:47:58.510Z"
   },
   {
    "duration": 24,
    "start_time": "2024-04-17T06:47:58.547Z"
   },
   {
    "duration": 7,
    "start_time": "2024-04-17T06:47:58.573Z"
   },
   {
    "duration": 7,
    "start_time": "2024-04-17T06:47:58.582Z"
   },
   {
    "duration": 20,
    "start_time": "2024-04-17T06:47:58.590Z"
   },
   {
    "duration": 7,
    "start_time": "2024-04-17T06:47:58.612Z"
   }
  ],
  "kernelspec": {
   "display_name": "Python 3 (ipykernel)",
   "language": "python",
   "name": "python3"
  },
  "language_info": {
   "codemirror_mode": {
    "name": "ipython",
    "version": 3
   },
   "file_extension": ".py",
   "mimetype": "text/x-python",
   "name": "python",
   "nbconvert_exporter": "python",
   "pygments_lexer": "ipython3",
   "version": "3.9.5"
  },
  "toc": {
   "base_numbering": 1,
   "nav_menu": {},
   "number_sections": true,
   "sideBar": true,
   "skip_h1_title": true,
   "title_cell": "Table of Contents",
   "title_sidebar": "Contents",
   "toc_cell": false,
   "toc_position": {},
   "toc_section_display": true,
   "toc_window_display": false
  }
 },
 "nbformat": 4,
 "nbformat_minor": 2
}
