{
 "cells": [
  {
   "cell_type": "markdown",
   "metadata": {},
   "source": [
    "# Стартап, который продаёт продукты питания \n",
    "\n",
    "**Цель исследования:**\n",
    "Анализ поведения пользователей мобильного приложения и анализ результатов A/A/B-эксперимента\n",
    "\n",
    "**Описание данных:**\n",
    "Каждая запись в логе — это действие пользователя, или событие. \n",
    "* EventName — название события;\n",
    "* DeviceIDHash — уникальный идентификатор пользователя;\n",
    "* EventTimestamp — время события;\n",
    "* ExpId — номер эксперимента: 246 и 247 — контрольные группы, а 248 — экспериментальная.\n",
    "\n",
    "**План работы:**\n",
    "Шаг 1. Открыть файл с данными и изучить общую информацию.\n",
    "\n",
    "Шаг 2. Подготовка данных\n",
    "* Заменить названия столбцов;\n",
    "* Проверить пропуски и типы данных;\n",
    "* Добавить столбец даты и времени, а также отдельный столбец дат;\n",
    "\n",
    "Шаг 3. Изучим и проверим данные\n",
    "* Сколько всего событий в логе?\n",
    "* Сколько всего пользователей в логе?\n",
    "* Сколько в среднем событий приходится на пользователя?\n",
    "* Данными за какой период мы располагаем? Изучим, как меняется количество данных.\n",
    "* Проверим, что у нас есть пользователи из всех трёх экспериментальных групп.\n",
    "\n",
    "Шаг 4. Изучим воронку событий\n",
    "* Посмотрим, какие события есть в логах, как часто они встречаются.\n",
    "* Посмотрим, сколько пользователей совершали каждое из этих событий. \n",
    "* Предположим, в каком порядке происходят события. \n",
    "* По воронке событий посчитаем, какая доля пользователей проходит на следующий шаг воронки (от числа пользователей на предыдущем). \n",
    "* На каком шаге теряем больше всего пользователей?\n",
    "* Какая доля пользователей доходит от первого события до оплаты?\n",
    "\n",
    "Шаг 5. Изучим результаты эксперимента\n",
    "* Сколько пользователей в каждой экспериментальной группе?\n",
    "* Есть 2 контрольные группы для А/А-эксперимента, чтобы проверить корректность всех механизмов и расчётов. Проверьте, находят ли статистические критерии разницу между выборками 246 и 247.\n",
    "* Выберите самое популярное событие. Посчитайте число пользователей, совершивших это событие в каждой из контрольных групп. Посчитайте долю пользователей, совершивших это событие. Проверьте, будет ли отличие между группами статистически достоверным. Проделайте то же самое для всех других событий (удобно обернуть проверку в отдельную функцию). Можно ли сказать, что разбиение на группы работает корректно?\n",
    "* Аналогично поступите с группой с изменённым шрифтом. Сравните результаты с каждой из контрольных групп в отдельности по каждому событию. Сравните результаты с объединённой контрольной группой. Какие выводы из эксперимента можно сделать?\n",
    "* Какой уровень значимости вы выбрали при проверке статистических гипотез выше? Посчитайте, сколько проверок статистических гипотез вы сделали."
   ]
  },
  {
   "cell_type": "markdown",
   "metadata": {},
   "source": [
    "## шаг"
   ]
  },
  {
   "cell_type": "code",
   "execution_count": 1,
   "metadata": {},
   "outputs": [],
   "source": [
    "import pandas as pd\n",
    "import datetime as dt\n",
    "import numpy as np\n",
    "import scipy.stats as stats\n",
    "import matplotlib.pyplot as plt\n",
    "from scipy.stats import ttest_ind\n",
    "import math as mth\n",
    "import scipy.stats as sps\n",
    "import plotly.express as px"
   ]
  },
  {
   "cell_type": "code",
   "execution_count": 2,
   "metadata": {},
   "outputs": [
    {
     "data": {
      "text/html": [
       "<div>\n",
       "<style scoped>\n",
       "    .dataframe tbody tr th:only-of-type {\n",
       "        vertical-align: middle;\n",
       "    }\n",
       "\n",
       "    .dataframe tbody tr th {\n",
       "        vertical-align: top;\n",
       "    }\n",
       "\n",
       "    .dataframe thead th {\n",
       "        text-align: right;\n",
       "    }\n",
       "</style>\n",
       "<table border=\"1\" class=\"dataframe\">\n",
       "  <thead>\n",
       "    <tr style=\"text-align: right;\">\n",
       "      <th></th>\n",
       "      <th>EventName</th>\n",
       "      <th>DeviceIDHash</th>\n",
       "      <th>EventTimestamp</th>\n",
       "      <th>ExpId</th>\n",
       "    </tr>\n",
       "  </thead>\n",
       "  <tbody>\n",
       "    <tr>\n",
       "      <th>0</th>\n",
       "      <td>MainScreenAppear</td>\n",
       "      <td>4575588528974610257</td>\n",
       "      <td>1564029816</td>\n",
       "      <td>246</td>\n",
       "    </tr>\n",
       "    <tr>\n",
       "      <th>1</th>\n",
       "      <td>MainScreenAppear</td>\n",
       "      <td>7416695313311560658</td>\n",
       "      <td>1564053102</td>\n",
       "      <td>246</td>\n",
       "    </tr>\n",
       "    <tr>\n",
       "      <th>2</th>\n",
       "      <td>PaymentScreenSuccessful</td>\n",
       "      <td>3518123091307005509</td>\n",
       "      <td>1564054127</td>\n",
       "      <td>248</td>\n",
       "    </tr>\n",
       "    <tr>\n",
       "      <th>3</th>\n",
       "      <td>CartScreenAppear</td>\n",
       "      <td>3518123091307005509</td>\n",
       "      <td>1564054127</td>\n",
       "      <td>248</td>\n",
       "    </tr>\n",
       "    <tr>\n",
       "      <th>4</th>\n",
       "      <td>PaymentScreenSuccessful</td>\n",
       "      <td>6217807653094995999</td>\n",
       "      <td>1564055322</td>\n",
       "      <td>248</td>\n",
       "    </tr>\n",
       "  </tbody>\n",
       "</table>\n",
       "</div>"
      ],
      "text/plain": [
       "                 EventName         DeviceIDHash  EventTimestamp  ExpId\n",
       "0         MainScreenAppear  4575588528974610257      1564029816    246\n",
       "1         MainScreenAppear  7416695313311560658      1564053102    246\n",
       "2  PaymentScreenSuccessful  3518123091307005509      1564054127    248\n",
       "3         CartScreenAppear  3518123091307005509      1564054127    248\n",
       "4  PaymentScreenSuccessful  6217807653094995999      1564055322    248"
      ]
     },
     "execution_count": 2,
     "metadata": {},
     "output_type": "execute_result"
    }
   ],
   "source": [
    "data = pd.read_csv('/datasets/logs_exp.csv', sep='\\t')\n",
    "data.head()"
   ]
  },
  {
   "cell_type": "markdown",
   "metadata": {},
   "source": [
    "**Промежуточный вывод:**\n",
    "Мы загрузили необходимые библиотеки и ознакомились с данными"
   ]
  },
  {
   "cell_type": "markdown",
   "metadata": {},
   "source": [
    "## шаг"
   ]
  },
  {
   "cell_type": "markdown",
   "metadata": {},
   "source": [
    "Переименую столбцы на более удобные, выполню проверку на дубликаты и избавлюсь от них."
   ]
  },
  {
   "cell_type": "code",
   "execution_count": 3,
   "metadata": {},
   "outputs": [],
   "source": [
    "data.rename(columns={'EventName': 'event_name', 'DeviceIDHash': 'device_id', 'EventTimestamp': 'event_time', 'ExpId':'exp_id'}, inplace=True)"
   ]
  },
  {
   "cell_type": "code",
   "execution_count": 4,
   "metadata": {},
   "outputs": [
    {
     "data": {
      "text/plain": [
       "413"
      ]
     },
     "execution_count": 4,
     "metadata": {},
     "output_type": "execute_result"
    }
   ],
   "source": [
    "data.duplicated().sum() "
   ]
  },
  {
   "cell_type": "code",
   "execution_count": 5,
   "metadata": {},
   "outputs": [],
   "source": [
    "data  = data.drop_duplicates()"
   ]
  },
  {
   "cell_type": "markdown",
   "metadata": {},
   "source": [
    "Теперь проверим соответствуют ли типы данных записанной информации."
   ]
  },
  {
   "cell_type": "code",
   "execution_count": 6,
   "metadata": {},
   "outputs": [
    {
     "name": "stdout",
     "output_type": "stream",
     "text": [
      "<class 'pandas.core.frame.DataFrame'>\n",
      "Int64Index: 243713 entries, 0 to 244125\n",
      "Data columns (total 4 columns):\n",
      " #   Column      Non-Null Count   Dtype \n",
      "---  ------      --------------   ----- \n",
      " 0   event_name  243713 non-null  object\n",
      " 1   device_id   243713 non-null  int64 \n",
      " 2   event_time  243713 non-null  int64 \n",
      " 3   exp_id      243713 non-null  int64 \n",
      "dtypes: int64(3), object(1)\n",
      "memory usage: 9.3+ MB\n"
     ]
    }
   ],
   "source": [
    "data.info()"
   ]
  },
  {
   "cell_type": "code",
   "execution_count": 7,
   "metadata": {},
   "outputs": [
    {
     "data": {
      "text/html": [
       "<div>\n",
       "<style scoped>\n",
       "    .dataframe tbody tr th:only-of-type {\n",
       "        vertical-align: middle;\n",
       "    }\n",
       "\n",
       "    .dataframe tbody tr th {\n",
       "        vertical-align: top;\n",
       "    }\n",
       "\n",
       "    .dataframe thead th {\n",
       "        text-align: right;\n",
       "    }\n",
       "</style>\n",
       "<table border=\"1\" class=\"dataframe\">\n",
       "  <thead>\n",
       "    <tr style=\"text-align: right;\">\n",
       "      <th></th>\n",
       "      <th>event_name</th>\n",
       "      <th>device_id</th>\n",
       "      <th>event_time</th>\n",
       "      <th>exp_id</th>\n",
       "    </tr>\n",
       "  </thead>\n",
       "  <tbody>\n",
       "    <tr>\n",
       "      <th>0</th>\n",
       "      <td>MainScreenAppear</td>\n",
       "      <td>4575588528974610257</td>\n",
       "      <td>2019-07-25 04:43:36</td>\n",
       "      <td>246</td>\n",
       "    </tr>\n",
       "    <tr>\n",
       "      <th>1</th>\n",
       "      <td>MainScreenAppear</td>\n",
       "      <td>7416695313311560658</td>\n",
       "      <td>2019-07-25 11:11:42</td>\n",
       "      <td>246</td>\n",
       "    </tr>\n",
       "    <tr>\n",
       "      <th>2</th>\n",
       "      <td>PaymentScreenSuccessful</td>\n",
       "      <td>3518123091307005509</td>\n",
       "      <td>2019-07-25 11:28:47</td>\n",
       "      <td>248</td>\n",
       "    </tr>\n",
       "    <tr>\n",
       "      <th>3</th>\n",
       "      <td>CartScreenAppear</td>\n",
       "      <td>3518123091307005509</td>\n",
       "      <td>2019-07-25 11:28:47</td>\n",
       "      <td>248</td>\n",
       "    </tr>\n",
       "    <tr>\n",
       "      <th>4</th>\n",
       "      <td>PaymentScreenSuccessful</td>\n",
       "      <td>6217807653094995999</td>\n",
       "      <td>2019-07-25 11:48:42</td>\n",
       "      <td>248</td>\n",
       "    </tr>\n",
       "    <tr>\n",
       "      <th>...</th>\n",
       "      <td>...</td>\n",
       "      <td>...</td>\n",
       "      <td>...</td>\n",
       "      <td>...</td>\n",
       "    </tr>\n",
       "    <tr>\n",
       "      <th>244121</th>\n",
       "      <td>MainScreenAppear</td>\n",
       "      <td>4599628364049201812</td>\n",
       "      <td>2019-08-07 21:12:25</td>\n",
       "      <td>247</td>\n",
       "    </tr>\n",
       "    <tr>\n",
       "      <th>244122</th>\n",
       "      <td>MainScreenAppear</td>\n",
       "      <td>5849806612437486590</td>\n",
       "      <td>2019-08-07 21:13:59</td>\n",
       "      <td>246</td>\n",
       "    </tr>\n",
       "    <tr>\n",
       "      <th>244123</th>\n",
       "      <td>MainScreenAppear</td>\n",
       "      <td>5746969938801999050</td>\n",
       "      <td>2019-08-07 21:14:43</td>\n",
       "      <td>246</td>\n",
       "    </tr>\n",
       "    <tr>\n",
       "      <th>244124</th>\n",
       "      <td>MainScreenAppear</td>\n",
       "      <td>5746969938801999050</td>\n",
       "      <td>2019-08-07 21:14:58</td>\n",
       "      <td>246</td>\n",
       "    </tr>\n",
       "    <tr>\n",
       "      <th>244125</th>\n",
       "      <td>OffersScreenAppear</td>\n",
       "      <td>5746969938801999050</td>\n",
       "      <td>2019-08-07 21:15:17</td>\n",
       "      <td>246</td>\n",
       "    </tr>\n",
       "  </tbody>\n",
       "</table>\n",
       "<p>243713 rows × 4 columns</p>\n",
       "</div>"
      ],
      "text/plain": [
       "                     event_name            device_id          event_time  \\\n",
       "0              MainScreenAppear  4575588528974610257 2019-07-25 04:43:36   \n",
       "1              MainScreenAppear  7416695313311560658 2019-07-25 11:11:42   \n",
       "2       PaymentScreenSuccessful  3518123091307005509 2019-07-25 11:28:47   \n",
       "3              CartScreenAppear  3518123091307005509 2019-07-25 11:28:47   \n",
       "4       PaymentScreenSuccessful  6217807653094995999 2019-07-25 11:48:42   \n",
       "...                         ...                  ...                 ...   \n",
       "244121         MainScreenAppear  4599628364049201812 2019-08-07 21:12:25   \n",
       "244122         MainScreenAppear  5849806612437486590 2019-08-07 21:13:59   \n",
       "244123         MainScreenAppear  5746969938801999050 2019-08-07 21:14:43   \n",
       "244124         MainScreenAppear  5746969938801999050 2019-08-07 21:14:58   \n",
       "244125       OffersScreenAppear  5746969938801999050 2019-08-07 21:15:17   \n",
       "\n",
       "        exp_id  \n",
       "0          246  \n",
       "1          246  \n",
       "2          248  \n",
       "3          248  \n",
       "4          248  \n",
       "...        ...  \n",
       "244121     247  \n",
       "244122     246  \n",
       "244123     246  \n",
       "244124     246  \n",
       "244125     246  \n",
       "\n",
       "[243713 rows x 4 columns]"
      ]
     },
     "execution_count": 7,
     "metadata": {},
     "output_type": "execute_result"
    }
   ],
   "source": [
    "data['event_time'] = pd.to_datetime(data['event_time'], unit='s')\n",
    "data"
   ]
  },
  {
   "cell_type": "code",
   "execution_count": 8,
   "metadata": {},
   "outputs": [],
   "source": [
    "data['date'] = pd.to_datetime(data['event_time']).dt.date\n",
    "data['date'] = pd.to_datetime(data['date'])"
   ]
  },
  {
   "cell_type": "code",
   "execution_count": 9,
   "metadata": {},
   "outputs": [
    {
     "data": {
      "text/html": [
       "<style  type=\"text/css\" >\n",
       "#T_98ec2_row0_col0,#T_98ec2_row1_col0,#T_98ec2_row2_col0,#T_98ec2_row3_col0,#T_98ec2_row4_col0{\n",
       "            background-color:  #3b4cc0;\n",
       "            color:  #f1f1f1;\n",
       "        }</style><table id=\"T_98ec2_\" ><thead>    <tr>        <th class=\"blank level0\" ></th>        <th class=\"col_heading level0 col0\" >0</th>    </tr></thead><tbody>\n",
       "                <tr>\n",
       "                        <th id=\"T_98ec2_level0_row0\" class=\"row_heading level0 row0\" >event_name</th>\n",
       "                        <td id=\"T_98ec2_row0_col0\" class=\"data row0 col0\" >0.000000</td>\n",
       "            </tr>\n",
       "            <tr>\n",
       "                        <th id=\"T_98ec2_level0_row1\" class=\"row_heading level0 row1\" >device_id</th>\n",
       "                        <td id=\"T_98ec2_row1_col0\" class=\"data row1 col0\" >0.000000</td>\n",
       "            </tr>\n",
       "            <tr>\n",
       "                        <th id=\"T_98ec2_level0_row2\" class=\"row_heading level0 row2\" >event_time</th>\n",
       "                        <td id=\"T_98ec2_row2_col0\" class=\"data row2 col0\" >0.000000</td>\n",
       "            </tr>\n",
       "            <tr>\n",
       "                        <th id=\"T_98ec2_level0_row3\" class=\"row_heading level0 row3\" >exp_id</th>\n",
       "                        <td id=\"T_98ec2_row3_col0\" class=\"data row3 col0\" >0.000000</td>\n",
       "            </tr>\n",
       "            <tr>\n",
       "                        <th id=\"T_98ec2_level0_row4\" class=\"row_heading level0 row4\" >date</th>\n",
       "                        <td id=\"T_98ec2_row4_col0\" class=\"data row4 col0\" >0.000000</td>\n",
       "            </tr>\n",
       "    </tbody></table>"
      ],
      "text/plain": [
       "<pandas.io.formats.style.Styler at 0x7f0422e64fa0>"
      ]
     },
     "execution_count": 9,
     "metadata": {},
     "output_type": "execute_result"
    }
   ],
   "source": [
    "pd.DataFrame(round(data.isna().mean()*100,1)).style.background_gradient('coolwarm')"
   ]
  },
  {
   "cell_type": "markdown",
   "metadata": {},
   "source": [
    "**Промежуточный вывод:** предобработка данных была выполнена, мы переименовали столбцы, избавились от дубликатов, а также откорректировали типы данных. Пропусков нет."
   ]
  },
  {
   "cell_type": "markdown",
   "metadata": {},
   "source": [
    "## шаг"
   ]
  },
  {
   "cell_type": "markdown",
   "metadata": {},
   "source": [
    "Изучим и проверим данные. Сколько всего событий в логе?"
   ]
  },
  {
   "cell_type": "code",
   "execution_count": 10,
   "metadata": {},
   "outputs": [
    {
     "name": "stdout",
     "output_type": "stream",
     "text": [
      "всего событий в логе: 243713\n"
     ]
    }
   ],
   "source": [
    "events = len(data)\n",
    "print('всего событий в логе:', events)"
   ]
  },
  {
   "cell_type": "markdown",
   "metadata": {},
   "source": [
    "Сколько всего пользователей в логе?"
   ]
  },
  {
   "cell_type": "code",
   "execution_count": 11,
   "metadata": {},
   "outputs": [
    {
     "name": "stdout",
     "output_type": "stream",
     "text": [
      "всего пользователей в логе: 7551\n"
     ]
    }
   ],
   "source": [
    "users = len(data['device_id'].unique())\n",
    "print('всего пользователей в логе:', users)"
   ]
  },
  {
   "cell_type": "markdown",
   "metadata": {},
   "source": [
    "Сколько в среднем событий приходится на пользователя?"
   ]
  },
  {
   "cell_type": "code",
   "execution_count": 12,
   "metadata": {},
   "outputs": [
    {
     "name": "stdout",
     "output_type": "stream",
     "text": [
      "в среднем на пользователя приходится: 32.28 событий\n"
     ]
    }
   ],
   "source": [
    "avg_events = round(events / users, 2)\n",
    "print('в среднем на пользователя приходится:', avg_events, 'событий')"
   ]
  },
  {
   "cell_type": "markdown",
   "metadata": {},
   "source": [
    "Данными за какой период мы располагаем? Найдём максимальную и минимальную дату. Изучим, как меняется количество данных: построим столбчатую диаграмму, которая отобразит количество событий в зависимости от времени в разрезе групп. Определим, с какого момента данные полные и отбросим более старые."
   ]
  },
  {
   "cell_type": "code",
   "execution_count": 13,
   "metadata": {},
   "outputs": [
    {
     "data": {
      "text/plain": [
       "Timestamp('2019-08-07 00:00:00')"
      ]
     },
     "execution_count": 13,
     "metadata": {},
     "output_type": "execute_result"
    }
   ],
   "source": [
    "max_date = data['date'].max()\n",
    "max_date"
   ]
  },
  {
   "cell_type": "code",
   "execution_count": 14,
   "metadata": {},
   "outputs": [
    {
     "data": {
      "text/plain": [
       "Timestamp('2019-07-25 00:00:00')"
      ]
     },
     "execution_count": 14,
     "metadata": {},
     "output_type": "execute_result"
    }
   ],
   "source": [
    "min_date = data['date'].min()\n",
    "min_date"
   ]
  },
  {
   "cell_type": "markdown",
   "metadata": {},
   "source": [
    "У нас есть данные с 25.07.2019 по 08.07.2019"
   ]
  },
  {
   "cell_type": "code",
   "execution_count": 15,
   "metadata": {},
   "outputs": [],
   "source": [
    "group_246 = data.query('exp_id == 246')\n",
    "group_247 = data.query('exp_id == 247')\n",
    "group_248 = data.query('exp_id == 248')"
   ]
  },
  {
   "cell_type": "code",
   "execution_count": 16,
   "metadata": {},
   "outputs": [
    {
     "data": {
      "image/png": "[encoded data removed]",
      "text/plain": [
       "<Figure size 1152x432 with 1 Axes>"
      ]
     },
     "metadata": {
      "needs_background": "light"
     },
     "output_type": "display_data"
    }
   ],
   "source": [
    "fig, ax = plt.subplots(figsize=(16, 6))\n",
    "plt.hist(group_246['event_time'], bins = 60, alpha=0.7, label='246')\n",
    "plt.hist(group_247['event_time'], bins = 60, alpha=0.7, label='247')\n",
    "plt.hist(group_248['event_time'], bins = 60, alpha=0.7, label='248')\n",
    "plt.title('количество событий в зависимости от времени в разрезе групп')\n",
    "plt.xlabel('дата')\n",
    "plt.ylabel('частота')\n",
    "plt.legend()\n",
    "plt.show()"
   ]
  },
  {
   "cell_type": "markdown",
   "metadata": {},
   "source": [
    "Судя по графику, у нас по всем трём группам  полные данные только с 1 по 8 августа. Отбросим строки с более ранними датами."
   ]
  },
  {
   "cell_type": "code",
   "execution_count": 17,
   "metadata": {},
   "outputs": [
    {
     "name": "stdout",
     "output_type": "stream",
     "text": [
      "<class 'pandas.core.frame.DataFrame'>\n",
      "Int64Index: 240887 entries, 2828 to 244125\n",
      "Data columns (total 5 columns):\n",
      " #   Column      Non-Null Count   Dtype         \n",
      "---  ------      --------------   -----         \n",
      " 0   event_name  240887 non-null  object        \n",
      " 1   device_id   240887 non-null  int64         \n",
      " 2   event_time  240887 non-null  datetime64[ns]\n",
      " 3   exp_id      240887 non-null  int64         \n",
      " 4   date        240887 non-null  datetime64[ns]\n",
      "dtypes: datetime64[ns](2), int64(2), object(1)\n",
      "memory usage: 11.0+ MB\n"
     ]
    }
   ],
   "source": [
    "date_threshold = pd.to_datetime('2019-08-01', format = '%Y-%m-%d')\n",
    "data = data[data['date'] >= date_threshold]\n",
    "data.info()"
   ]
  },
  {
   "cell_type": "code",
   "execution_count": 18,
   "metadata": {},
   "outputs": [
    {
     "name": "stdout",
     "output_type": "stream",
     "text": [
      "Количество событий до фильтрации: 243713\n",
      "Количество событий после фильтрации: 240887\n",
      "Абсолютная разница 2826\n",
      "Относительная разница -1.16\n",
      "\n",
      "Количество пользователей до фильтрации: 7551\n",
      "Количество пользователей после фильтрации: 7534\n",
      "Абсолютная разница 17\n",
      "Относительная разница -0.23\n",
      "\n"
     ]
    }
   ],
   "source": [
    "events_2 = len(data)\n",
    "events_diff_abs = events - events_2\n",
    "events_diff_rel = round((events_2 / events -1) * 100 , 2)\n",
    "print('Количество событий до фильтрации:', events)\n",
    "print('Количество событий после фильтрации:', events_2)\n",
    "print('Абсолютная разница', events_diff_abs)\n",
    "print('Относительная разница', events_diff_rel)\n",
    "print()\n",
    "\n",
    "users_2 = len(data['device_id'].unique())\n",
    "users_diff_abs = users - users_2\n",
    "users_diff_rel = round((users_2 / users -1) * 100 , 2)\n",
    "print('Количество пользователей до фильтрации:', users)\n",
    "print('Количество пользователей после фильтрации:', users_2)\n",
    "print('Абсолютная разница', users_diff_abs)\n",
    "print('Относительная разница', users_diff_rel)\n",
    "print()"
   ]
  },
  {
   "cell_type": "markdown",
   "metadata": {},
   "source": [
    "Количество событий до фильтрации - 243713, после - 240887, отбросили 2 826 записей. Количество пользователей до фильтрации - 7551, после - 7534. Разность - 17\n",
    "\n",
    "Проверим, что у нас есть пользователи из всех трёх экспериментальных групп."
   ]
  },
  {
   "cell_type": "code",
   "execution_count": 19,
   "metadata": {},
   "outputs": [
    {
     "data": {
      "text/plain": [
       "exp_id\n",
       "246    2484\n",
       "247    2513\n",
       "248    2537\n",
       "Name: device_id, dtype: int64"
      ]
     },
     "execution_count": 19,
     "metadata": {},
     "output_type": "execute_result"
    }
   ],
   "source": [
    "data.groupby('exp_id')['device_id'].nunique()"
   ]
  },
  {
   "cell_type": "markdown",
   "metadata": {},
   "source": [
    "**Промежуточный вывод:** Нам пришлось отбросить данные за половину периода, так как они были распределены неравномерно и почти  весь объём данных приходится на период с 1 по 8 августа. Количество событий до фильтрации - 243713, после - 240887, отбросили 2 826 записей. Количество пользователей до фильтрации - 7551, после - 7534. Разность - 17.\n",
    "\n",
    "## шаг"
   ]
  },
  {
   "cell_type": "markdown",
   "metadata": {},
   "source": [
    "Изучим воронку событий.\n",
    "Посмотрим, какие события есть в логах, как часто они встречаются. Отсортируем по частоте.\n",
    "Посчитаем, сколько пользователей совершали каждое из этих событий. Отсортируем по числу пользователей. Посчитаем долю пользователей, которые хоть раз совершали событие."
   ]
  },
  {
   "cell_type": "code",
   "execution_count": 20,
   "metadata": {},
   "outputs": [],
   "source": [
    "def event_count(event):\n",
    "    users_count = data[data['event_name'] == event]['device_id'].nunique()\n",
    "    return users_count"
   ]
  },
  {
   "cell_type": "code",
   "execution_count": 21,
   "metadata": {},
   "outputs": [
    {
     "data": {
      "text/html": [
       "<div>\n",
       "<style scoped>\n",
       "    .dataframe tbody tr th:only-of-type {\n",
       "        vertical-align: middle;\n",
       "    }\n",
       "\n",
       "    .dataframe tbody tr th {\n",
       "        vertical-align: top;\n",
       "    }\n",
       "\n",
       "    .dataframe thead th {\n",
       "        text-align: right;\n",
       "    }\n",
       "</style>\n",
       "<table border=\"1\" class=\"dataframe\">\n",
       "  <thead>\n",
       "    <tr style=\"text-align: right;\">\n",
       "      <th></th>\n",
       "      <th>event_name</th>\n",
       "      <th>events</th>\n",
       "      <th>users</th>\n",
       "      <th>percent</th>\n",
       "    </tr>\n",
       "  </thead>\n",
       "  <tbody>\n",
       "    <tr>\n",
       "      <th>0</th>\n",
       "      <td>MainScreenAppear</td>\n",
       "      <td>117328</td>\n",
       "      <td>7419</td>\n",
       "      <td>100.000000</td>\n",
       "    </tr>\n",
       "    <tr>\n",
       "      <th>1</th>\n",
       "      <td>OffersScreenAppear</td>\n",
       "      <td>46333</td>\n",
       "      <td>4593</td>\n",
       "      <td>61.908613</td>\n",
       "    </tr>\n",
       "    <tr>\n",
       "      <th>2</th>\n",
       "      <td>CartScreenAppear</td>\n",
       "      <td>42303</td>\n",
       "      <td>3734</td>\n",
       "      <td>50.330233</td>\n",
       "    </tr>\n",
       "    <tr>\n",
       "      <th>3</th>\n",
       "      <td>PaymentScreenSuccessful</td>\n",
       "      <td>33918</td>\n",
       "      <td>3539</td>\n",
       "      <td>47.701847</td>\n",
       "    </tr>\n",
       "  </tbody>\n",
       "</table>\n",
       "</div>"
      ],
      "text/plain": [
       "                event_name  events  users     percent\n",
       "0         MainScreenAppear  117328   7419  100.000000\n",
       "1       OffersScreenAppear   46333   4593   61.908613\n",
       "2         CartScreenAppear   42303   3734   50.330233\n",
       "3  PaymentScreenSuccessful   33918   3539   47.701847"
      ]
     },
     "execution_count": 21,
     "metadata": {},
     "output_type": "execute_result"
    }
   ],
   "source": [
    "n_events = data['event_name'].value_counts().reset_index()\n",
    "n_events.columns = ['event_name', 'events']\n",
    "n_events = n_events.query('event_name != \"Tutorial\"')\n",
    "n_events['users'] = n_events['event_name'].apply(event_count)\n",
    "n_events = n_events.sort_values(by='users', ascending=False)\n",
    "n_events['percent'] = n_events['users'] / 7419 * 100\n",
    "\n",
    "n_events"
   ]
  },
  {
   "cell_type": "markdown",
   "metadata": {},
   "source": [
    "Предположим, в каком порядке происходят события. \n",
    "Сначала пользователь заходит на главный экран(MainScreenAppear), потом он видит экран с предложением пройти обучение(MainScreenAppear). Всего 11% пользователей его проходят. Затем видит предложения по товарам(OffersScreenAppear). Потом отображается корзина(CartScreenAppear), а после уведомление об успешной оплате(PaymentScreenSuccessful).\n",
    "\n",
    "По воронке событий посчитайте, какая доля пользователей проходит на следующий шаг воронки (от числа пользователей на предыдущем)"
   ]
  },
  {
   "cell_type": "code",
   "execution_count": 22,
   "metadata": {},
   "outputs": [
    {
     "data": {
      "text/html": [
       "<div>\n",
       "<style scoped>\n",
       "    .dataframe tbody tr th:only-of-type {\n",
       "        vertical-align: middle;\n",
       "    }\n",
       "\n",
       "    .dataframe tbody tr th {\n",
       "        vertical-align: top;\n",
       "    }\n",
       "\n",
       "    .dataframe thead th {\n",
       "        text-align: right;\n",
       "    }\n",
       "</style>\n",
       "<table border=\"1\" class=\"dataframe\">\n",
       "  <thead>\n",
       "    <tr style=\"text-align: right;\">\n",
       "      <th></th>\n",
       "      <th>event_name</th>\n",
       "      <th>events</th>\n",
       "      <th>users</th>\n",
       "      <th>percent</th>\n",
       "      <th>conversion</th>\n",
       "    </tr>\n",
       "  </thead>\n",
       "  <tbody>\n",
       "    <tr>\n",
       "      <th>0</th>\n",
       "      <td>MainScreenAppear</td>\n",
       "      <td>117328</td>\n",
       "      <td>7419</td>\n",
       "      <td>100.000000</td>\n",
       "      <td>100</td>\n",
       "    </tr>\n",
       "    <tr>\n",
       "      <th>1</th>\n",
       "      <td>OffersScreenAppear</td>\n",
       "      <td>46333</td>\n",
       "      <td>4593</td>\n",
       "      <td>61.908613</td>\n",
       "      <td>62</td>\n",
       "    </tr>\n",
       "    <tr>\n",
       "      <th>2</th>\n",
       "      <td>CartScreenAppear</td>\n",
       "      <td>42303</td>\n",
       "      <td>3734</td>\n",
       "      <td>50.330233</td>\n",
       "      <td>81</td>\n",
       "    </tr>\n",
       "    <tr>\n",
       "      <th>3</th>\n",
       "      <td>PaymentScreenSuccessful</td>\n",
       "      <td>33918</td>\n",
       "      <td>3539</td>\n",
       "      <td>47.701847</td>\n",
       "      <td>95</td>\n",
       "    </tr>\n",
       "  </tbody>\n",
       "</table>\n",
       "</div>"
      ],
      "text/plain": [
       "                event_name  events  users     percent  conversion\n",
       "0         MainScreenAppear  117328   7419  100.000000         100\n",
       "1       OffersScreenAppear   46333   4593   61.908613          62\n",
       "2         CartScreenAppear   42303   3734   50.330233          81\n",
       "3  PaymentScreenSuccessful   33918   3539   47.701847          95"
      ]
     },
     "metadata": {},
     "output_type": "display_data"
    }
   ],
   "source": [
    "n_events['conversion'] = 0\n",
    "for i in range(0, len(n_events['percent'])):\n",
    "    if i == 0:\n",
    "        n_events.loc[i, 'conversion'] = 100\n",
    "    else:\n",
    "        n_events.loc[i, 'conversion'] = round(int(n_events['users'].iloc[i]) / int(n_events['users'].iloc[i-1]), 2) * 100\n",
    "\n",
    "display(n_events)"
   ]
  },
  {
   "cell_type": "markdown",
   "metadata": {},
   "source": [
    "Больше всего пользователей теряется при переходе с главного экрана на страницу с предложениями.\n",
    "\n",
    "Ответим на вопрос: какая доля пользователей доходит от первого события до оплаты?"
   ]
  },
  {
   "cell_type": "code",
   "execution_count": 23,
   "metadata": {},
   "outputs": [
    {
     "name": "stdout",
     "output_type": "stream",
     "text": [
      "От первого события до оплаты доходит 47.7 % пользователей\n"
     ]
    }
   ],
   "source": [
    "print('От первого события до оплаты доходит' , round((n_events['users'].iloc[3]/n_events['users'].iloc[0]) * 100, 2) ,'% пользователей')"
   ]
  },
  {
   "cell_type": "code",
   "execution_count": 36,
   "metadata": {},
   "outputs": [
    {
     "data": {
      "application/vnd.plotly.v1+json": {
       "config": {
        "plotlyServerURL": "https://plot.ly"
       },
       "data": [
        {
         "hovertemplate": "x=%{x}<br>y=%{y}<extra></extra>",
         "legendgroup": "",
         "marker": {
          "color": "#636efa"
         },
         "name": "",
         "orientation": "h",
         "showlegend": false,
         "type": "funnel",
         "x": [
          100,
          61.908613020622724,
          50.330233185065374,
          47.70184661005526
         ],
         "xaxis": "x",
         "y": [
          "MainScreenAppear",
          "OffersScreenAppear",
          "CartScreenAppear",
          "PaymentScreenSuccessful"
         ],
         "yaxis": "y"
        }
       ],
       "layout": {
        "legend": {
         "tracegroupgap": 0
        },
        "margin": {
         "t": 60
        },
        "template": {
         "data": {
          "bar": [
           {
            "error_x": {
             "color": "#2a3f5f"
            },
            "error_y": {
             "color": "#2a3f5f"
            },
            "marker": {
             "line": {
              "color": "#E5ECF6",
              "width": 0.5
             },
             "pattern": {
              "fillmode": "overlay",
              "size": 10,
              "solidity": 0.2
             }
            },
            "type": "bar"
           }
          ],
          "barpolar": [
           {
            "marker": {
             "line": {
              "color": "#E5ECF6",
              "width": 0.5
             },
             "pattern": {
              "fillmode": "overlay",
              "size": 10,
              "solidity": 0.2
             }
            },
            "type": "barpolar"
           }
          ],
          "carpet": [
           {
            "aaxis": {
             "endlinecolor": "#2a3f5f",
             "gridcolor": "white",
             "linecolor": "white",
             "minorgridcolor": "white",
             "startlinecolor": "#2a3f5f"
            },
            "baxis": {
             "endlinecolor": "#2a3f5f",
             "gridcolor": "white",
             "linecolor": "white",
             "minorgridcolor": "white",
             "startlinecolor": "#2a3f5f"
            },
            "type": "carpet"
           }
          ],
          "choropleth": [
           {
            "colorbar": {
             "outlinewidth": 0,
             "ticks": ""
            },
            "type": "choropleth"
           }
          ],
          "contour": [
           {
            "colorbar": {
             "outlinewidth": 0,
             "ticks": ""
            },
            "colorscale": [
             [
              0,
              "#0d0887"
             ],
             [
              0.1111111111111111,
              "#46039f"
             ],
             [
              0.2222222222222222,
              "#7201a8"
             ],
             [
              0.3333333333333333,
              "#9c179e"
             ],
             [
              0.4444444444444444,
              "#bd3786"
             ],
             [
              0.5555555555555556,
              "#d8576b"
             ],
             [
              0.6666666666666666,
              "#ed7953"
             ],
             [
              0.7777777777777778,
              "#fb9f3a"
             ],
             [
              0.8888888888888888,
              "#fdca26"
             ],
             [
              1,
              "#f0f921"
             ]
            ],
            "type": "contour"
           }
          ],
          "contourcarpet": [
           {
            "colorbar": {
             "outlinewidth": 0,
             "ticks": ""
            },
            "type": "contourcarpet"
           }
          ],
          "heatmap": [
           {
            "colorbar": {
             "outlinewidth": 0,
             "ticks": ""
            },
            "colorscale": [
             [
              0,
              "#0d0887"
             ],
             [
              0.1111111111111111,
              "#46039f"
             ],
             [
              0.2222222222222222,
              "#7201a8"
             ],
             [
              0.3333333333333333,
              "#9c179e"
             ],
             [
              0.4444444444444444,
              "#bd3786"
             ],
             [
              0.5555555555555556,
              "#d8576b"
             ],
             [
              0.6666666666666666,
              "#ed7953"
             ],
             [
              0.7777777777777778,
              "#fb9f3a"
             ],
             [
              0.8888888888888888,
              "#fdca26"
             ],
             [
              1,
              "#f0f921"
             ]
            ],
            "type": "heatmap"
           }
          ],
          "heatmapgl": [
           {
            "colorbar": {
             "outlinewidth": 0,
             "ticks": ""
            },
            "colorscale": [
             [
              0,
              "#0d0887"
             ],
             [
              0.1111111111111111,
              "#46039f"
             ],
             [
              0.2222222222222222,
              "#7201a8"
             ],
             [
              0.3333333333333333,
              "#9c179e"
             ],
             [
              0.4444444444444444,
              "#bd3786"
             ],
             [
              0.5555555555555556,
              "#d8576b"
             ],
             [
              0.6666666666666666,
              "#ed7953"
             ],
             [
              0.7777777777777778,
              "#fb9f3a"
             ],
             [
              0.8888888888888888,
              "#fdca26"
             ],
             [
              1,
              "#f0f921"
             ]
            ],
            "type": "heatmapgl"
           }
          ],
          "histogram": [
           {
            "marker": {
             "pattern": {
              "fillmode": "overlay",
              "size": 10,
              "solidity": 0.2
             }
            },
            "type": "histogram"
           }
          ],
          "histogram2d": [
           {
            "colorbar": {
             "outlinewidth": 0,
             "ticks": ""
            },
            "colorscale": [
             [
              0,
              "#0d0887"
             ],
             [
              0.1111111111111111,
              "#46039f"
             ],
             [
              0.2222222222222222,
              "#7201a8"
             ],
             [
              0.3333333333333333,
              "#9c179e"
             ],
             [
              0.4444444444444444,
              "#bd3786"
             ],
             [
              0.5555555555555556,
              "#d8576b"
             ],
             [
              0.6666666666666666,
              "#ed7953"
             ],
             [
              0.7777777777777778,
              "#fb9f3a"
             ],
             [
              0.8888888888888888,
              "#fdca26"
             ],
             [
              1,
              "#f0f921"
             ]
            ],
            "type": "histogram2d"
           }
          ],
          "histogram2dcontour": [
           {
            "colorbar": {
             "outlinewidth": 0,
             "ticks": ""
            },
            "colorscale": [
             [
              0,
              "#0d0887"
             ],
             [
              0.1111111111111111,
              "#46039f"
             ],
             [
              0.2222222222222222,
              "#7201a8"
             ],
             [
              0.3333333333333333,
              "#9c179e"
             ],
             [
              0.4444444444444444,
              "#bd3786"
             ],
             [
              0.5555555555555556,
              "#d8576b"
             ],
             [
              0.6666666666666666,
              "#ed7953"
             ],
             [
              0.7777777777777778,
              "#fb9f3a"
             ],
             [
              0.8888888888888888,
              "#fdca26"
             ],
             [
              1,
              "#f0f921"
             ]
            ],
            "type": "histogram2dcontour"
           }
          ],
          "mesh3d": [
           {
            "colorbar": {
             "outlinewidth": 0,
             "ticks": ""
            },
            "type": "mesh3d"
           }
          ],
          "parcoords": [
           {
            "line": {
             "colorbar": {
              "outlinewidth": 0,
              "ticks": ""
             }
            },
            "type": "parcoords"
           }
          ],
          "pie": [
           {
            "automargin": true,
            "type": "pie"
           }
          ],
          "scatter": [
           {
            "marker": {
             "colorbar": {
              "outlinewidth": 0,
              "ticks": ""
             }
            },
            "type": "scatter"
           }
          ],
          "scatter3d": [
           {
            "line": {
             "colorbar": {
              "outlinewidth": 0,
              "ticks": ""
             }
            },
            "marker": {
             "colorbar": {
              "outlinewidth": 0,
              "ticks": ""
             }
            },
            "type": "scatter3d"
           }
          ],
          "scattercarpet": [
           {
            "marker": {
             "colorbar": {
              "outlinewidth": 0,
              "ticks": ""
             }
            },
            "type": "scattercarpet"
           }
          ],
          "scattergeo": [
           {
            "marker": {
             "colorbar": {
              "outlinewidth": 0,
              "ticks": ""
             }
            },
            "type": "scattergeo"
           }
          ],
          "scattergl": [
           {
            "marker": {
             "colorbar": {
              "outlinewidth": 0,
              "ticks": ""
             }
            },
            "type": "scattergl"
           }
          ],
          "scattermapbox": [
           {
            "marker": {
             "colorbar": {
              "outlinewidth": 0,
              "ticks": ""
             }
            },
            "type": "scattermapbox"
           }
          ],
          "scatterpolar": [
           {
            "marker": {
             "colorbar": {
              "outlinewidth": 0,
              "ticks": ""
             }
            },
            "type": "scatterpolar"
           }
          ],
          "scatterpolargl": [
           {
            "marker": {
             "colorbar": {
              "outlinewidth": 0,
              "ticks": ""
             }
            },
            "type": "scatterpolargl"
           }
          ],
          "scatterternary": [
           {
            "marker": {
             "colorbar": {
              "outlinewidth": 0,
              "ticks": ""
             }
            },
            "type": "scatterternary"
           }
          ],
          "surface": [
           {
            "colorbar": {
             "outlinewidth": 0,
             "ticks": ""
            },
            "colorscale": [
             [
              0,
              "#0d0887"
             ],
             [
              0.1111111111111111,
              "#46039f"
             ],
             [
              0.2222222222222222,
              "#7201a8"
             ],
             [
              0.3333333333333333,
              "#9c179e"
             ],
             [
              0.4444444444444444,
              "#bd3786"
             ],
             [
              0.5555555555555556,
              "#d8576b"
             ],
             [
              0.6666666666666666,
              "#ed7953"
             ],
             [
              0.7777777777777778,
              "#fb9f3a"
             ],
             [
              0.8888888888888888,
              "#fdca26"
             ],
             [
              1,
              "#f0f921"
             ]
            ],
            "type": "surface"
           }
          ],
          "table": [
           {
            "cells": {
             "fill": {
              "color": "#EBF0F8"
             },
             "line": {
              "color": "white"
             }
            },
            "header": {
             "fill": {
              "color": "#C8D4E3"
             },
             "line": {
              "color": "white"
             }
            },
            "type": "table"
           }
          ]
         },
         "layout": {
          "annotationdefaults": {
           "arrowcolor": "#2a3f5f",
           "arrowhead": 0,
           "arrowwidth": 1
          },
          "autotypenumbers": "strict",
          "coloraxis": {
           "colorbar": {
            "outlinewidth": 0,
            "ticks": ""
           }
          },
          "colorscale": {
           "diverging": [
            [
             0,
             "#8e0152"
            ],
            [
             0.1,
             "#c51b7d"
            ],
            [
             0.2,
             "#de77ae"
            ],
            [
             0.3,
             "#f1b6da"
            ],
            [
             0.4,
             "#fde0ef"
            ],
            [
             0.5,
             "#f7f7f7"
            ],
            [
             0.6,
             "#e6f5d0"
            ],
            [
             0.7,
             "#b8e186"
            ],
            [
             0.8,
             "#7fbc41"
            ],
            [
             0.9,
             "#4d9221"
            ],
            [
             1,
             "#276419"
            ]
           ],
           "sequential": [
            [
             0,
             "#0d0887"
            ],
            [
             0.1111111111111111,
             "#46039f"
            ],
            [
             0.2222222222222222,
             "#7201a8"
            ],
            [
             0.3333333333333333,
             "#9c179e"
            ],
            [
             0.4444444444444444,
             "#bd3786"
            ],
            [
             0.5555555555555556,
             "#d8576b"
            ],
            [
             0.6666666666666666,
             "#ed7953"
            ],
            [
             0.7777777777777778,
             "#fb9f3a"
            ],
            [
             0.8888888888888888,
             "#fdca26"
            ],
            [
             1,
             "#f0f921"
            ]
           ],
           "sequentialminus": [
            [
             0,
             "#0d0887"
            ],
            [
             0.1111111111111111,
             "#46039f"
            ],
            [
             0.2222222222222222,
             "#7201a8"
            ],
            [
             0.3333333333333333,
             "#9c179e"
            ],
            [
             0.4444444444444444,
             "#bd3786"
            ],
            [
             0.5555555555555556,
             "#d8576b"
            ],
            [
             0.6666666666666666,
             "#ed7953"
            ],
            [
             0.7777777777777778,
             "#fb9f3a"
            ],
            [
             0.8888888888888888,
             "#fdca26"
            ],
            [
             1,
             "#f0f921"
            ]
           ]
          },
          "colorway": [
           "#636efa",
           "#EF553B",
           "#00cc96",
           "#ab63fa",
           "#FFA15A",
           "#19d3f3",
           "#FF6692",
           "#B6E880",
           "#FF97FF",
           "#FECB52"
          ],
          "font": {
           "color": "#2a3f5f"
          },
          "geo": {
           "bgcolor": "white",
           "lakecolor": "white",
           "landcolor": "#E5ECF6",
           "showlakes": true,
           "showland": true,
           "subunitcolor": "white"
          },
          "hoverlabel": {
           "align": "left"
          },
          "hovermode": "closest",
          "mapbox": {
           "style": "light"
          },
          "paper_bgcolor": "white",
          "plot_bgcolor": "#E5ECF6",
          "polar": {
           "angularaxis": {
            "gridcolor": "white",
            "linecolor": "white",
            "ticks": ""
           },
           "bgcolor": "#E5ECF6",
           "radialaxis": {
            "gridcolor": "white",
            "linecolor": "white",
            "ticks": ""
           }
          },
          "scene": {
           "xaxis": {
            "backgroundcolor": "#E5ECF6",
            "gridcolor": "white",
            "gridwidth": 2,
            "linecolor": "white",
            "showbackground": true,
            "ticks": "",
            "zerolinecolor": "white"
           },
           "yaxis": {
            "backgroundcolor": "#E5ECF6",
            "gridcolor": "white",
            "gridwidth": 2,
            "linecolor": "white",
            "showbackground": true,
            "ticks": "",
            "zerolinecolor": "white"
           },
           "zaxis": {
            "backgroundcolor": "#E5ECF6",
            "gridcolor": "white",
            "gridwidth": 2,
            "linecolor": "white",
            "showbackground": true,
            "ticks": "",
            "zerolinecolor": "white"
           }
          },
          "shapedefaults": {
           "line": {
            "color": "#2a3f5f"
           }
          },
          "ternary": {
           "aaxis": {
            "gridcolor": "white",
            "linecolor": "white",
            "ticks": ""
           },
           "baxis": {
            "gridcolor": "white",
            "linecolor": "white",
            "ticks": ""
           },
           "bgcolor": "#E5ECF6",
           "caxis": {
            "gridcolor": "white",
            "linecolor": "white",
            "ticks": ""
           }
          },
          "title": {
           "x": 0.05
          },
          "xaxis": {
           "automargin": true,
           "gridcolor": "white",
           "linecolor": "white",
           "ticks": "",
           "title": {
            "standoff": 15
           },
           "zerolinecolor": "white",
           "zerolinewidth": 2
          },
          "yaxis": {
           "automargin": true,
           "gridcolor": "white",
           "linecolor": "white",
           "ticks": "",
           "title": {
            "standoff": 15
           },
           "zerolinecolor": "white",
           "zerolinewidth": 2
          }
         }
        },
        "title": {
         "text": "Воронка",
         "x": 0.5
        },
        "xaxis": {
         "anchor": "y",
         "domain": [
          0,
          1
         ],
         "title": {
          "text": "x"
         }
        },
        "yaxis": {
         "anchor": "x",
         "domain": [
          0,
          1
         ],
         "title": {
          "text": "y"
         }
        }
       }
      },
      "text/html": [
       "<div>                            <div id=\"636dc034-7e18-455d-997e-f8240885256e\" class=\"plotly-graph-div\" style=\"height:525px; width:100%;\"></div>            <script type=\"text/javascript\">                require([\"plotly\"], function(Plotly) {                    window.PLOTLYENV=window.PLOTLYENV || {};                                    if (document.getElementById(\"636dc034-7e18-455d-997e-f8240885256e\")) {                    Plotly.newPlot(                        \"636dc034-7e18-455d-997e-f8240885256e\",                        [{\"hovertemplate\":\"x=%{x}<br>y=%{y}<extra></extra>\",\"legendgroup\":\"\",\"marker\":{\"color\":\"#636efa\"},\"name\":\"\",\"orientation\":\"h\",\"showlegend\":false,\"x\":[100.0,61.908613020622724,50.330233185065374,47.70184661005526],\"xaxis\":\"x\",\"y\":[\"MainScreenAppear\",\"OffersScreenAppear\",\"CartScreenAppear\",\"PaymentScreenSuccessful\"],\"yaxis\":\"y\",\"type\":\"funnel\"}],                        {\"template\":{\"data\":{\"bar\":[{\"error_x\":{\"color\":\"#2a3f5f\"},\"error_y\":{\"color\":\"#2a3f5f\"},\"marker\":{\"line\":{\"color\":\"#E5ECF6\",\"width\":0.5},\"pattern\":{\"fillmode\":\"overlay\",\"size\":10,\"solidity\":0.2}},\"type\":\"bar\"}],\"barpolar\":[{\"marker\":{\"line\":{\"color\":\"#E5ECF6\",\"width\":0.5},\"pattern\":{\"fillmode\":\"overlay\",\"size\":10,\"solidity\":0.2}},\"type\":\"barpolar\"}],\"carpet\":[{\"aaxis\":{\"endlinecolor\":\"#2a3f5f\",\"gridcolor\":\"white\",\"linecolor\":\"white\",\"minorgridcolor\":\"white\",\"startlinecolor\":\"#2a3f5f\"},\"baxis\":{\"endlinecolor\":\"#2a3f5f\",\"gridcolor\":\"white\",\"linecolor\":\"white\",\"minorgridcolor\":\"white\",\"startlinecolor\":\"#2a3f5f\"},\"type\":\"carpet\"}],\"choropleth\":[{\"colorbar\":{\"outlinewidth\":0,\"ticks\":\"\"},\"type\":\"choropleth\"}],\"contour\":[{\"colorbar\":{\"outlinewidth\":0,\"ticks\":\"\"},\"colorscale\":[[0.0,\"#0d0887\"],[0.1111111111111111,\"#46039f\"],[0.2222222222222222,\"#7201a8\"],[0.3333333333333333,\"#9c179e\"],[0.4444444444444444,\"#bd3786\"],[0.5555555555555556,\"#d8576b\"],[0.6666666666666666,\"#ed7953\"],[0.7777777777777778,\"#fb9f3a\"],[0.8888888888888888,\"#fdca26\"],[1.0,\"#f0f921\"]],\"type\":\"contour\"}],\"contourcarpet\":[{\"colorbar\":{\"outlinewidth\":0,\"ticks\":\"\"},\"type\":\"contourcarpet\"}],\"heatmap\":[{\"colorbar\":{\"outlinewidth\":0,\"ticks\":\"\"},\"colorscale\":[[0.0,\"#0d0887\"],[0.1111111111111111,\"#46039f\"],[0.2222222222222222,\"#7201a8\"],[0.3333333333333333,\"#9c179e\"],[0.4444444444444444,\"#bd3786\"],[0.5555555555555556,\"#d8576b\"],[0.6666666666666666,\"#ed7953\"],[0.7777777777777778,\"#fb9f3a\"],[0.8888888888888888,\"#fdca26\"],[1.0,\"#f0f921\"]],\"type\":\"heatmap\"}],\"heatmapgl\":[{\"colorbar\":{\"outlinewidth\":0,\"ticks\":\"\"},\"colorscale\":[[0.0,\"#0d0887\"],[0.1111111111111111,\"#46039f\"],[0.2222222222222222,\"#7201a8\"],[0.3333333333333333,\"#9c179e\"],[0.4444444444444444,\"#bd3786\"],[0.5555555555555556,\"#d8576b\"],[0.6666666666666666,\"#ed7953\"],[0.7777777777777778,\"#fb9f3a\"],[0.8888888888888888,\"#fdca26\"],[1.0,\"#f0f921\"]],\"type\":\"heatmapgl\"}],\"histogram\":[{\"marker\":{\"pattern\":{\"fillmode\":\"overlay\",\"size\":10,\"solidity\":0.2}},\"type\":\"histogram\"}],\"histogram2d\":[{\"colorbar\":{\"outlinewidth\":0,\"ticks\":\"\"},\"colorscale\":[[0.0,\"#0d0887\"],[0.1111111111111111,\"#46039f\"],[0.2222222222222222,\"#7201a8\"],[0.3333333333333333,\"#9c179e\"],[0.4444444444444444,\"#bd3786\"],[0.5555555555555556,\"#d8576b\"],[0.6666666666666666,\"#ed7953\"],[0.7777777777777778,\"#fb9f3a\"],[0.8888888888888888,\"#fdca26\"],[1.0,\"#f0f921\"]],\"type\":\"histogram2d\"}],\"histogram2dcontour\":[{\"colorbar\":{\"outlinewidth\":0,\"ticks\":\"\"},\"colorscale\":[[0.0,\"#0d0887\"],[0.1111111111111111,\"#46039f\"],[0.2222222222222222,\"#7201a8\"],[0.3333333333333333,\"#9c179e\"],[0.4444444444444444,\"#bd3786\"],[0.5555555555555556,\"#d8576b\"],[0.6666666666666666,\"#ed7953\"],[0.7777777777777778,\"#fb9f3a\"],[0.8888888888888888,\"#fdca26\"],[1.0,\"#f0f921\"]],\"type\":\"histogram2dcontour\"}],\"mesh3d\":[{\"colorbar\":{\"outlinewidth\":0,\"ticks\":\"\"},\"type\":\"mesh3d\"}],\"parcoords\":[{\"line\":{\"colorbar\":{\"outlinewidth\":0,\"ticks\":\"\"}},\"type\":\"parcoords\"}],\"pie\":[{\"automargin\":true,\"type\":\"pie\"}],\"scatter\":[{\"marker\":{\"colorbar\":{\"outlinewidth\":0,\"ticks\":\"\"}},\"type\":\"scatter\"}],\"scatter3d\":[{\"line\":{\"colorbar\":{\"outlinewidth\":0,\"ticks\":\"\"}},\"marker\":{\"colorbar\":{\"outlinewidth\":0,\"ticks\":\"\"}},\"type\":\"scatter3d\"}],\"scattercarpet\":[{\"marker\":{\"colorbar\":{\"outlinewidth\":0,\"ticks\":\"\"}},\"type\":\"scattercarpet\"}],\"scattergeo\":[{\"marker\":{\"colorbar\":{\"outlinewidth\":0,\"ticks\":\"\"}},\"type\":\"scattergeo\"}],\"scattergl\":[{\"marker\":{\"colorbar\":{\"outlinewidth\":0,\"ticks\":\"\"}},\"type\":\"scattergl\"}],\"scattermapbox\":[{\"marker\":{\"colorbar\":{\"outlinewidth\":0,\"ticks\":\"\"}},\"type\":\"scattermapbox\"}],\"scatterpolar\":[{\"marker\":{\"colorbar\":{\"outlinewidth\":0,\"ticks\":\"\"}},\"type\":\"scatterpolar\"}],\"scatterpolargl\":[{\"marker\":{\"colorbar\":{\"outlinewidth\":0,\"ticks\":\"\"}},\"type\":\"scatterpolargl\"}],\"scatterternary\":[{\"marker\":{\"colorbar\":{\"outlinewidth\":0,\"ticks\":\"\"}},\"type\":\"scatterternary\"}],\"surface\":[{\"colorbar\":{\"outlinewidth\":0,\"ticks\":\"\"},\"colorscale\":[[0.0,\"#0d0887\"],[0.1111111111111111,\"#46039f\"],[0.2222222222222222,\"#7201a8\"],[0.3333333333333333,\"#9c179e\"],[0.4444444444444444,\"#bd3786\"],[0.5555555555555556,\"#d8576b\"],[0.6666666666666666,\"#ed7953\"],[0.7777777777777778,\"#fb9f3a\"],[0.8888888888888888,\"#fdca26\"],[1.0,\"#f0f921\"]],\"type\":\"surface\"}],\"table\":[{\"cells\":{\"fill\":{\"color\":\"#EBF0F8\"},\"line\":{\"color\":\"white\"}},\"header\":{\"fill\":{\"color\":\"#C8D4E3\"},\"line\":{\"color\":\"white\"}},\"type\":\"table\"}]},\"layout\":{\"annotationdefaults\":{\"arrowcolor\":\"#2a3f5f\",\"arrowhead\":0,\"arrowwidth\":1},\"autotypenumbers\":\"strict\",\"coloraxis\":{\"colorbar\":{\"outlinewidth\":0,\"ticks\":\"\"}},\"colorscale\":{\"diverging\":[[0,\"#8e0152\"],[0.1,\"#c51b7d\"],[0.2,\"#de77ae\"],[0.3,\"#f1b6da\"],[0.4,\"#fde0ef\"],[0.5,\"#f7f7f7\"],[0.6,\"#e6f5d0\"],[0.7,\"#b8e186\"],[0.8,\"#7fbc41\"],[0.9,\"#4d9221\"],[1,\"#276419\"]],\"sequential\":[[0.0,\"#0d0887\"],[0.1111111111111111,\"#46039f\"],[0.2222222222222222,\"#7201a8\"],[0.3333333333333333,\"#9c179e\"],[0.4444444444444444,\"#bd3786\"],[0.5555555555555556,\"#d8576b\"],[0.6666666666666666,\"#ed7953\"],[0.7777777777777778,\"#fb9f3a\"],[0.8888888888888888,\"#fdca26\"],[1.0,\"#f0f921\"]],\"sequentialminus\":[[0.0,\"#0d0887\"],[0.1111111111111111,\"#46039f\"],[0.2222222222222222,\"#7201a8\"],[0.3333333333333333,\"#9c179e\"],[0.4444444444444444,\"#bd3786\"],[0.5555555555555556,\"#d8576b\"],[0.6666666666666666,\"#ed7953\"],[0.7777777777777778,\"#fb9f3a\"],[0.8888888888888888,\"#fdca26\"],[1.0,\"#f0f921\"]]},\"colorway\":[\"#636efa\",\"#EF553B\",\"#00cc96\",\"#ab63fa\",\"#FFA15A\",\"#19d3f3\",\"#FF6692\",\"#B6E880\",\"#FF97FF\",\"#FECB52\"],\"font\":{\"color\":\"#2a3f5f\"},\"geo\":{\"bgcolor\":\"white\",\"lakecolor\":\"white\",\"landcolor\":\"#E5ECF6\",\"showlakes\":true,\"showland\":true,\"subunitcolor\":\"white\"},\"hoverlabel\":{\"align\":\"left\"},\"hovermode\":\"closest\",\"mapbox\":{\"style\":\"light\"},\"paper_bgcolor\":\"white\",\"plot_bgcolor\":\"#E5ECF6\",\"polar\":{\"angularaxis\":{\"gridcolor\":\"white\",\"linecolor\":\"white\",\"ticks\":\"\"},\"bgcolor\":\"#E5ECF6\",\"radialaxis\":{\"gridcolor\":\"white\",\"linecolor\":\"white\",\"ticks\":\"\"}},\"scene\":{\"xaxis\":{\"backgroundcolor\":\"#E5ECF6\",\"gridcolor\":\"white\",\"gridwidth\":2,\"linecolor\":\"white\",\"showbackground\":true,\"ticks\":\"\",\"zerolinecolor\":\"white\"},\"yaxis\":{\"backgroundcolor\":\"#E5ECF6\",\"gridcolor\":\"white\",\"gridwidth\":2,\"linecolor\":\"white\",\"showbackground\":true,\"ticks\":\"\",\"zerolinecolor\":\"white\"},\"zaxis\":{\"backgroundcolor\":\"#E5ECF6\",\"gridcolor\":\"white\",\"gridwidth\":2,\"linecolor\":\"white\",\"showbackground\":true,\"ticks\":\"\",\"zerolinecolor\":\"white\"}},\"shapedefaults\":{\"line\":{\"color\":\"#2a3f5f\"}},\"ternary\":{\"aaxis\":{\"gridcolor\":\"white\",\"linecolor\":\"white\",\"ticks\":\"\"},\"baxis\":{\"gridcolor\":\"white\",\"linecolor\":\"white\",\"ticks\":\"\"},\"bgcolor\":\"#E5ECF6\",\"caxis\":{\"gridcolor\":\"white\",\"linecolor\":\"white\",\"ticks\":\"\"}},\"title\":{\"x\":0.05},\"xaxis\":{\"automargin\":true,\"gridcolor\":\"white\",\"linecolor\":\"white\",\"ticks\":\"\",\"title\":{\"standoff\":15},\"zerolinecolor\":\"white\",\"zerolinewidth\":2},\"yaxis\":{\"automargin\":true,\"gridcolor\":\"white\",\"linecolor\":\"white\",\"ticks\":\"\",\"title\":{\"standoff\":15},\"zerolinecolor\":\"white\",\"zerolinewidth\":2}}},\"xaxis\":{\"anchor\":\"y\",\"domain\":[0.0,1.0],\"title\":{\"text\":\"x\"}},\"yaxis\":{\"anchor\":\"x\",\"domain\":[0.0,1.0],\"title\":{\"text\":\"y\"}},\"legend\":{\"tracegroupgap\":0},\"margin\":{\"t\":60},\"title\":{\"text\":\"\\u0412\\u043e\\u0440\\u043e\\u043d\\u043a\\u0430\",\"x\":0.5}},                        {\"responsive\": true}                    ).then(function(){\n",
       "                            \n",
       "var gd = document.getElementById('636dc034-7e18-455d-997e-f8240885256e');\n",
       "var x = new MutationObserver(function (mutations, observer) {{\n",
       "        var display = window.getComputedStyle(gd).display;\n",
       "        if (!display || display === 'none') {{\n",
       "            console.log([gd, 'removed!']);\n",
       "            Plotly.purge(gd);\n",
       "            observer.disconnect();\n",
       "        }}\n",
       "}});\n",
       "\n",
       "// Listen for the removal of the full notebook cells\n",
       "var notebookContainer = gd.closest('#notebook-container');\n",
       "if (notebookContainer) {{\n",
       "    x.observe(notebookContainer, {childList: true});\n",
       "}}\n",
       "\n",
       "// Listen for the clearing of the current output cell\n",
       "var outputEl = gd.closest('.output');\n",
       "if (outputEl) {{\n",
       "    x.observe(outputEl, {childList: true});\n",
       "}}\n",
       "\n",
       "                        })                };                });            </script>        </div>"
      ]
     },
     "metadata": {},
     "output_type": "display_data"
    }
   ],
   "source": [
    "fig = px.funnel(data, x=n_events['percent'], y=n_events['event_name'])\n",
    "textposition = \"inside\",\n",
    "textinfo = \"value+percent initial\"\n",
    "fig.update_layout(title='Воронка', title_x = 0.5);\n",
    "fig.show()"
   ]
  },
  {
   "cell_type": "markdown",
   "metadata": {},
   "source": [
    "**Промежуточный вывод:** От первого события до оплаты доходит 47.7 % пользователей. \n",
    "\n",
    "Сначала пользователь заходит на главный экран(MainScreenAppear), потом он видит экран с предложением пройти обучение(MainScreenAppear). Всего 11% пользователей его проходят. Затем видит предложения по товарам(OffersScreenAppear). Потом отображается корзина(CartScreenAppear), а после уведомление об успешной оплате(PaymentScreenSuccessful). Больше всего пользователей теряется при переходе с главного экрана на страницу с предложениями (38%). Припереходе вв корзину теряется только 19% пользователей и припереходе к оплате 5%."
   ]
  },
  {
   "cell_type": "markdown",
   "metadata": {},
   "source": [
    "## шаг\n",
    "\n",
    "Изучим результаты эксперимента\n",
    "\n",
    "Определим сколько пользователей в каждой экспериментальной группе?"
   ]
  },
  {
   "cell_type": "code",
   "execution_count": 25,
   "metadata": {},
   "outputs": [
    {
     "data": {
      "text/html": [
       "<div>\n",
       "<style scoped>\n",
       "    .dataframe tbody tr th:only-of-type {\n",
       "        vertical-align: middle;\n",
       "    }\n",
       "\n",
       "    .dataframe tbody tr th {\n",
       "        vertical-align: top;\n",
       "    }\n",
       "\n",
       "    .dataframe thead th {\n",
       "        text-align: right;\n",
       "    }\n",
       "</style>\n",
       "<table border=\"1\" class=\"dataframe\">\n",
       "  <thead>\n",
       "    <tr style=\"text-align: right;\">\n",
       "      <th></th>\n",
       "      <th>exp_id</th>\n",
       "      <th>num_users</th>\n",
       "    </tr>\n",
       "  </thead>\n",
       "  <tbody>\n",
       "    <tr>\n",
       "      <th>0</th>\n",
       "      <td>246</td>\n",
       "      <td>2484</td>\n",
       "    </tr>\n",
       "    <tr>\n",
       "      <th>1</th>\n",
       "      <td>247</td>\n",
       "      <td>2513</td>\n",
       "    </tr>\n",
       "    <tr>\n",
       "      <th>2</th>\n",
       "      <td>248</td>\n",
       "      <td>2537</td>\n",
       "    </tr>\n",
       "  </tbody>\n",
       "</table>\n",
       "</div>"
      ],
      "text/plain": [
       "   exp_id  num_users\n",
       "0     246       2484\n",
       "1     247       2513\n",
       "2     248       2537"
      ]
     },
     "execution_count": 25,
     "metadata": {},
     "output_type": "execute_result"
    }
   ],
   "source": [
    "exp_users = data.groupby('exp_id')['device_id'].nunique().reset_index()\n",
    "exp_users.columns = ['exp_id', 'num_users']\n",
    "exp_users"
   ]
  },
  {
   "cell_type": "code",
   "execution_count": 26,
   "metadata": {},
   "outputs": [
    {
     "data": {
      "text/plain": [
       "7534"
      ]
     },
     "execution_count": 26,
     "metadata": {},
     "output_type": "execute_result"
    }
   ],
   "source": [
    "exp_users['num_users'].sum()"
   ]
  },
  {
   "cell_type": "code",
   "execution_count": 37,
   "metadata": {},
   "outputs": [
    {
     "data": {
      "text/html": [
       "<div>\n",
       "<style scoped>\n",
       "    .dataframe tbody tr th:only-of-type {\n",
       "        vertical-align: middle;\n",
       "    }\n",
       "\n",
       "    .dataframe tbody tr th {\n",
       "        vertical-align: top;\n",
       "    }\n",
       "\n",
       "    .dataframe thead th {\n",
       "        text-align: right;\n",
       "    }\n",
       "</style>\n",
       "<table border=\"1\" class=\"dataframe\">\n",
       "  <thead>\n",
       "    <tr style=\"text-align: right;\">\n",
       "      <th></th>\n",
       "      <th>exp_id</th>\n",
       "    </tr>\n",
       "    <tr>\n",
       "      <th>device_id</th>\n",
       "      <th></th>\n",
       "    </tr>\n",
       "  </thead>\n",
       "  <tbody>\n",
       "  </tbody>\n",
       "</table>\n",
       "</div>"
      ],
      "text/plain": [
       "Empty DataFrame\n",
       "Columns: [exp_id]\n",
       "Index: []"
      ]
     },
     "execution_count": 37,
     "metadata": {},
     "output_type": "execute_result"
    }
   ],
   "source": [
    "data.groupby('device_id').agg({'exp_id':'nunique'}).query('exp_id > 1') \n"
   ]
  },
  {
   "cell_type": "markdown",
   "metadata": {},
   "source": [
    "Группы соразмерные. Если какой-то пользователь встречается в нескольких группах, то общее количество уникальных пользователей во всех группах будет меньше, чем сумма по каждой группе. Количество пользователей после фильтрации = 7534, также, как и в сумме по группам. Значит каждый пользователь принадлежит только одной группе.\n",
    "\n",
    "Есть 2 контрольные группы для А/А-эксперимента, чтобы проверить корректность всех механизмов и расчётов. Проверим, находят ли статистические критерии разницу между выборками 246 и 247. Будем использовать z test, так как он лучше подходит для проверок конверсий. Далее будут упоминаться доли в значении конверсий.\n",
    "\n",
    "Нулевая гипотеза: нет оснований считать доли разными.\n",
    "\n",
    "Альтернативная гипотеза: между долями есть значительная разница."
   ]
  },
  {
   "cell_type": "code",
   "execution_count": 28,
   "metadata": {
    "scrolled": true
   },
   "outputs": [
    {
     "name": "stdout",
     "output_type": "stream",
     "text": [
      "p-значение: 0.794966374008732\n",
      "Конверсия в контроле: 0.03232841565105837\n",
      "Конверсия в тесте: 0.0310422668712039\n",
      "Не получилось отвергнуть нулевую гипотезу, нет оснований считать доли разными\n"
     ]
    }
   ],
   "source": [
    "import scipy.stats as stats\n",
    "import math\n",
    "\n",
    "def ABtest_Z(df_test, df_control, alpha=0.05):\n",
    "    \n",
    "    # Количество событий в тестовой группе\n",
    "    trial_t = df_test['event_name'].count()\n",
    "    \n",
    "    # Количество событий в контрольной группе\n",
    "    trial_c = df_control['event_name'].count()\n",
    "    \n",
    "    # Количество уникальных пользователей в тестовой группе\n",
    "    users_t = df_test['device_id'].nunique()\n",
    "    \n",
    "    # Количество уникальных пользователей в контрольной группе\n",
    "    users_c = df_control['device_id'].nunique()\n",
    "   \n",
    "    # Конверсия в тестовой группе\n",
    "    p1 = users_t / trial_t\n",
    "\n",
    "    # Конверсия в контрольной группе\n",
    "    p2 = users_c / trial_c\n",
    "\n",
    "    # Конверсия в комбинированном датасете\n",
    "    p_combined = (users_t + users_c) / (trial_c + trial_t)\n",
    "\n",
    "    # Разница конверсий в датасетах\n",
    "    difference = p1 - p2 \n",
    "\n",
    "    # Стандартная ошибка разницы конверсий\n",
    "    se = math.sqrt(p_combined * (1 - p_combined) * (1/users_c + 1/users_t))\n",
    "    \n",
    "    # Z-статистика\n",
    "    z_value = difference / se\n",
    "    \n",
    "    # P-value\n",
    "    p_value = 2 * (1 - stats.norm.cdf(abs(z_value)))\n",
    "\n",
    "    print('p-значение:', p_value)\n",
    "    print('Конверсия в контроле:', p2)\n",
    "    print('Конверсия в тесте:', p1)\n",
    "    \n",
    "    if p_value < alpha:\n",
    "        print('Отвергаем нулевую гипотезу: между долями есть значимая разница')\n",
    "    else:\n",
    "        print('Не получилось отвергнуть нулевую гипотезу, нет оснований считать доли разными')\n",
    "\n",
    "ABtest_Z(group_246, group_247)\n"
   ]
  },
  {
   "cell_type": "markdown",
   "metadata": {},
   "source": [
    "Можем считать контрольные группы равными.\n",
    "\n",
    "Выберем самое популярное событие. Посчитаем число пользователей, совершивших это событие в каждой из контрольных групп. Посчитаем долю пользователей, совершивших это событие (то есть конверсию). Проверим, будет ли отличие между группами статистически достоверным. Проделаем то же самое для всех других событий.\n",
    "\n",
    "Нулевая гипотеза: нет оснований считать доли разными.\n",
    "\n",
    "Альтернативная гипотеза: между долями есть значительная разница."
   ]
  },
  {
   "cell_type": "code",
   "execution_count": 29,
   "metadata": {},
   "outputs": [
    {
     "name": "stdout",
     "output_type": "stream",
     "text": [
      "p-значение: 0.794966374008732\n",
      "Конверсия в контроле: 0.03232841565105837\n",
      "Конверсия в тесте: 0.0310422668712039\n",
      "Не получилось отвергнуть нулевую гипотезу, нет оснований считать доли разными\n",
      "\n",
      "p-значение: 0.794966374008732\n",
      "Конверсия в контроле: 0.03232841565105837\n",
      "Конверсия в тесте: 0.0310422668712039\n",
      "Не получилось отвергнуть нулевую гипотезу, нет оснований считать доли разными\n",
      "\n",
      "p-значение: 0.794966374008732\n",
      "Конверсия в контроле: 0.03232841565105837\n",
      "Конверсия в тесте: 0.0310422668712039\n",
      "Не получилось отвергнуть нулевую гипотезу, нет оснований считать доли разными\n",
      "\n",
      "p-значение: 0.794966374008732\n",
      "Конверсия в контроле: 0.03232841565105837\n",
      "Конверсия в тесте: 0.0310422668712039\n",
      "Не получилось отвергнуть нулевую гипотезу, нет оснований считать доли разными\n"
     ]
    }
   ],
   "source": [
    "def ABtest_event(data,group_1, group_2, event, alpha=0.05):\n",
    "    users_1 = group_1[group_1['event_name'] == event]['device_id'].nunique()\n",
    "    users_2 = group_2[group_2['event_name'] == event]['device_id'].nunique()\n",
    "\n",
    "    conversion_1 = users_1 / group_1['device_id'].nunique()\n",
    "    conversion_2 = users_2 / group_2['device_id'].nunique()\n",
    "\n",
    "    ABtest_Z(group_1, group_2, alpha)\n",
    "\n",
    "ABtest_event(data,group_246, group_247, 'MainScreenAppear')\n",
    "print()\n",
    "ABtest_event(data, group_246, group_247, 'OffersScreenAppear')\n",
    "print()\n",
    "ABtest_event(data, group_246, group_247, 'CartScreenAppear')\n",
    "print()\n",
    "ABtest_event(data, group_246, group_247, 'PaymentScreenSuccessful')"
   ]
  },
  {
   "cell_type": "markdown",
   "metadata": {},
   "source": [
    "В каждом из событий статистически значимых отличий между контрольными группами (246 и 247) обнаружено не было.\n",
    "\n",
    "Аналогично поступим с группой с изменённым шрифтом. Сравним результаты с каждой из контрольных групп в отдельности по каждому событию, а потом с объединённой контрольной группой.\n",
    "\n",
    "Нулевая гипотеза: нет оснований считать доли разными.\n",
    "\n",
    "Альтернативная гипотеза: между долями есть значительная разница."
   ]
  },
  {
   "cell_type": "code",
   "execution_count": 30,
   "metadata": {},
   "outputs": [
    {
     "name": "stdout",
     "output_type": "stream",
     "text": [
      "p-значение: 0.7818147041870835\n",
      "Конверсия в контроле: 0.0310422668712039\n",
      "Конверсия в тесте: 0.029702507536631534\n",
      "Не получилось отвергнуть нулевую гипотезу, нет оснований считать доли разными\n"
     ]
    }
   ],
   "source": [
    "ABtest_Z(group_248, group_246)"
   ]
  },
  {
   "cell_type": "code",
   "execution_count": 31,
   "metadata": {},
   "outputs": [
    {
     "name": "stdout",
     "output_type": "stream",
     "text": [
      "p-значение: 0.5896419782111018\n",
      "Конверсия в контроле: 0.03232841565105837\n",
      "Конверсия в тесте: 0.029702507536631534\n",
      "Не получилось отвергнуть нулевую гипотезу, нет оснований считать доли разными\n"
     ]
    }
   ],
   "source": [
    "ABtest_Z(group_248, group_247)"
   ]
  },
  {
   "cell_type": "code",
   "execution_count": 32,
   "metadata": {},
   "outputs": [
    {
     "name": "stdout",
     "output_type": "stream",
     "text": [
      "p-значение: 0.7818147041870835\n",
      "Конверсия в контроле: 0.029702507536631534\n",
      "Конверсия в тесте: 0.0310422668712039\n",
      "Не получилось отвергнуть нулевую гипотезу, нет оснований считать доли разными\n",
      "\n",
      "p-значение: 0.7818147041870835\n",
      "Конверсия в контроле: 0.029702507536631534\n",
      "Конверсия в тесте: 0.0310422668712039\n",
      "Не получилось отвергнуть нулевую гипотезу, нет оснований считать доли разными\n",
      "\n",
      "p-значение: 0.7818147041870835\n",
      "Конверсия в контроле: 0.029702507536631534\n",
      "Конверсия в тесте: 0.0310422668712039\n",
      "Не получилось отвергнуть нулевую гипотезу, нет оснований считать доли разными\n",
      "\n",
      "p-значение: 0.7818147041870835\n",
      "Конверсия в контроле: 0.029702507536631534\n",
      "Конверсия в тесте: 0.0310422668712039\n",
      "Не получилось отвергнуть нулевую гипотезу, нет оснований считать доли разными\n"
     ]
    }
   ],
   "source": [
    "ABtest_event(data,group_246, group_248, 'MainScreenAppear')\n",
    "print()\n",
    "ABtest_event(data, group_246, group_248, 'OffersScreenAppear')\n",
    "print()\n",
    "ABtest_event(data, group_246, group_248, 'CartScreenAppear')\n",
    "print()\n",
    "ABtest_event(data, group_246, group_248, 'PaymentScreenSuccessful')"
   ]
  },
  {
   "cell_type": "code",
   "execution_count": 33,
   "metadata": {},
   "outputs": [
    {
     "name": "stdout",
     "output_type": "stream",
     "text": [
      "p-значение: 0.5896419782111018\n",
      "Конверсия в контроле: 0.029702507536631534\n",
      "Конверсия в тесте: 0.03232841565105837\n",
      "Не получилось отвергнуть нулевую гипотезу, нет оснований считать доли разными\n",
      "\n",
      "p-значение: 0.5896419782111018\n",
      "Конверсия в контроле: 0.029702507536631534\n",
      "Конверсия в тесте: 0.03232841565105837\n",
      "Не получилось отвергнуть нулевую гипотезу, нет оснований считать доли разными\n",
      "\n",
      "p-значение: 0.5896419782111018\n",
      "Конверсия в контроле: 0.029702507536631534\n",
      "Конверсия в тесте: 0.03232841565105837\n",
      "Не получилось отвергнуть нулевую гипотезу, нет оснований считать доли разными\n",
      "\n",
      "p-значение: 0.5896419782111018\n",
      "Конверсия в контроле: 0.029702507536631534\n",
      "Конверсия в тесте: 0.03232841565105837\n",
      "Не получилось отвергнуть нулевую гипотезу, нет оснований считать доли разными\n"
     ]
    }
   ],
   "source": [
    "ABtest_event(data,group_247, group_248, 'MainScreenAppear')\n",
    "print()\n",
    "ABtest_event(data, group_247, group_248,  'OffersScreenAppear')\n",
    "print()\n",
    "ABtest_event(data, group_247, group_248,  'CartScreenAppear')\n",
    "print()\n",
    "ABtest_event(data, group_247, group_248,  'PaymentScreenSuccessful')"
   ]
  },
  {
   "cell_type": "code",
   "execution_count": 34,
   "metadata": {},
   "outputs": [
    {
     "name": "stdout",
     "output_type": "stream",
     "text": [
      "p-значение: 0.5929161168500112\n",
      "Конверсия в контроле: 0.0319656610629206\n",
      "Конверсия в тесте: 0.029702507536631534\n",
      "Не получилось отвергнуть нулевую гипотезу, нет оснований считать доли разными\n"
     ]
    }
   ],
   "source": [
    " # Проведем статистический тест для группы с измененным шрифтом и объединенной контрольной группы\n",
    "ABtest_Z(group_248, data[(data['exp_id'] == 246) | (data['exp_id'] == 247)])"
   ]
  },
  {
   "cell_type": "code",
   "execution_count": 35,
   "metadata": {},
   "outputs": [
    {
     "name": "stdout",
     "output_type": "stream",
     "text": [
      "p-значение: 0.5929161168500112\n",
      "Конверсия в контроле: 0.029702507536631534\n",
      "Конверсия в тесте: 0.0319656610629206\n",
      "Не получилось отвергнуть нулевую гипотезу, нет оснований считать доли разными\n",
      "\n",
      "p-значение: 0.5929161168500112\n",
      "Конверсия в контроле: 0.029702507536631534\n",
      "Конверсия в тесте: 0.0319656610629206\n",
      "Не получилось отвергнуть нулевую гипотезу, нет оснований считать доли разными\n",
      "\n",
      "p-значение: 0.5929161168500112\n",
      "Конверсия в контроле: 0.029702507536631534\n",
      "Конверсия в тесте: 0.0319656610629206\n",
      "Не получилось отвергнуть нулевую гипотезу, нет оснований считать доли разными\n",
      "\n",
      "p-значение: 0.5929161168500112\n",
      "Конверсия в контроле: 0.029702507536631534\n",
      "Конверсия в тесте: 0.0319656610629206\n",
      "Не получилось отвергнуть нулевую гипотезу, нет оснований считать доли разными\n"
     ]
    }
   ],
   "source": [
    "ABtest_event(data,data[(data['exp_id'] == 246) | (data['exp_id'] == 247)], group_248, 'MainScreenAppear')\n",
    "print()\n",
    "ABtest_event(data, data[(data['exp_id'] == 246) | (data['exp_id'] == 247)], group_248,  'OffersScreenAppear')\n",
    "print()\n",
    "ABtest_event(data, data[(data['exp_id'] == 246) | (data['exp_id'] == 247)], group_248,  'CartScreenAppear')\n",
    "print()\n",
    "ABtest_event(data, data[(data['exp_id'] == 246) | (data['exp_id'] == 247)], group_248,  'PaymentScreenSuccessful')"
   ]
  },
  {
   "cell_type": "markdown",
   "metadata": {},
   "source": [
    "Так как нами не была отвергнута ни одна нулевая гипотеза ни на одном этапе, можно утверждать, что изменение шрифта не несёт значимых изменений в конверсии.\n",
    "\n",
    "Какой уровень значимости вы выбрали при проверке статистических гипотез выше? Посчитайте, сколько проверок статистических гипотез вы сделали. При уровне значимости 0.1 в 10% случаев можно ошибочно отклонить нулевую гипотезу при условии, что она верна. Какой уровень значимости стоит применить? Если вы хотите изменить его, проделайте предыдущие пункты и проверьте свои выводы.\n",
    "\n",
    "Я использовала уровень значимости 0.05. Всего у нас было три группы, которые мы сравнивали между собой по одному параметру(конверсии), также общая контрольная группа, сравнение было по четырём типам событий. Следовательно было 16 сравнений. Это довольно-таки много и сиьно повышает риск ошибки первого рода, когда ошибочно отвергается нулевая гипотеза. Для корректировки я бы использовала самую простую корректировку методом Бонферрони. Тогда значимость была бы 0.3%. Но я не вижу смысла пересчитывать, так как мы не отклонили ни одну нулевую гипотезу.\n",
    "\n",
    "\n",
    "**Вывод:**\n",
    "\n",
    "Мы проанализировали основной массив данных ААВ теста на период с 1 по 8 августа. \n",
    "\n",
    "Проанализировав воронку продаж пришли к следующим выводам: от первого события до оплаты доходит 47.7 % пользователей.\n",
    "\n",
    "Сначала пользователь заходит на главный экран(MainScreenAppear), потом он видит экран с предложением пройти обучение(MainScreenAppear). Всего 11% пользователей его проходят. Затем видит предложения по товарам(OffersScreenAppear). Потом отображается корзина(CartScreenAppear), а после уведомление об успешной оплате(PaymentScreenSuccessful). Больше всего пользователей теряется при переходе с главного экрана на страницу с предложениями (38%). Припереходе вв корзину теряется только 19% пользователей и припереходе к оплате 5%.\n",
    "\n",
    "Затем мы сравнили конверсии по всем отдельным событиям между двумя контрольными и одной тестовой группой. Значительных отличий обнаружено не было. Можем утверждать, что изменение шрифта на тестируемый не влияет на конверсию."
   ]
  },
  {
   "cell_type": "code",
   "execution_count": null,
   "metadata": {},
   "outputs": [],
   "source": []
  }
 ],
 "metadata": {
  "ExecuteTimeLog": [
   {
    "duration": 1396,
    "start_time": "2024-01-10T07:30:28.691Z"
   },
   {
    "duration": 899,
    "start_time": "2024-01-10T07:30:45.653Z"
   },
   {
    "duration": 423,
    "start_time": "2024-01-10T07:30:56.941Z"
   },
   {
    "duration": 350,
    "start_time": "2024-01-10T07:30:59.647Z"
   },
   {
    "duration": 188,
    "start_time": "2024-01-10T07:31:57.511Z"
   },
   {
    "duration": 4,
    "start_time": "2024-01-10T07:40:33.223Z"
   },
   {
    "duration": 65,
    "start_time": "2024-01-10T07:42:35.290Z"
   },
   {
    "duration": 65,
    "start_time": "2024-01-10T07:43:52.342Z"
   },
   {
    "duration": 76,
    "start_time": "2024-01-10T07:43:55.981Z"
   },
   {
    "duration": 23,
    "start_time": "2024-01-10T07:44:24.359Z"
   },
   {
    "duration": 42,
    "start_time": "2024-01-10T07:45:54.869Z"
   },
   {
    "duration": 21,
    "start_time": "2024-01-10T07:45:59.091Z"
   },
   {
    "duration": 1038,
    "start_time": "2024-01-10T07:47:12.344Z"
   },
   {
    "duration": 13,
    "start_time": "2024-01-10T07:53:47.658Z"
   },
   {
    "duration": 1209,
    "start_time": "2024-01-10T07:55:28.406Z"
   },
   {
    "duration": 74,
    "start_time": "2024-01-10T07:55:56.885Z"
   },
   {
    "duration": 34,
    "start_time": "2024-01-10T07:57:59.107Z"
   },
   {
    "duration": 139,
    "start_time": "2024-01-10T07:59:57.893Z"
   },
   {
    "duration": 89,
    "start_time": "2024-01-10T08:01:00.456Z"
   },
   {
    "duration": 16,
    "start_time": "2024-01-10T08:01:04.826Z"
   },
   {
    "duration": 10,
    "start_time": "2024-01-10T08:09:42.791Z"
   },
   {
    "duration": 15,
    "start_time": "2024-01-10T08:09:51.311Z"
   },
   {
    "duration": 1166,
    "start_time": "2024-01-10T08:11:07.001Z"
   },
   {
    "duration": 1164,
    "start_time": "2024-01-10T08:11:26.227Z"
   },
   {
    "duration": 1208,
    "start_time": "2024-01-10T08:13:19.650Z"
   },
   {
    "duration": 26,
    "start_time": "2024-01-10T08:14:41.315Z"
   },
   {
    "duration": 52,
    "start_time": "2024-01-10T16:33:12.078Z"
   },
   {
    "duration": 1204,
    "start_time": "2024-01-10T16:33:18.615Z"
   },
   {
    "duration": 773,
    "start_time": "2024-01-10T16:33:19.821Z"
   },
   {
    "duration": 4,
    "start_time": "2024-01-10T16:33:20.595Z"
   },
   {
    "duration": 111,
    "start_time": "2024-01-10T16:33:20.601Z"
   },
   {
    "duration": 81,
    "start_time": "2024-01-10T16:33:20.713Z"
   },
   {
    "duration": 21,
    "start_time": "2024-01-10T16:33:20.796Z"
   },
   {
    "duration": 30,
    "start_time": "2024-01-10T16:33:20.818Z"
   },
   {
    "duration": 79,
    "start_time": "2024-01-10T16:33:20.849Z"
   },
   {
    "duration": 101,
    "start_time": "2024-01-10T16:33:20.929Z"
   },
   {
    "duration": 11,
    "start_time": "2024-01-10T16:33:42.962Z"
   },
   {
    "duration": 9,
    "start_time": "2024-01-10T16:35:06.865Z"
   },
   {
    "duration": 5,
    "start_time": "2024-01-10T16:35:38.492Z"
   },
   {
    "duration": 4,
    "start_time": "2024-01-10T16:37:49.375Z"
   },
   {
    "duration": 4,
    "start_time": "2024-01-10T16:39:04.633Z"
   },
   {
    "duration": 7,
    "start_time": "2024-01-10T16:39:32.521Z"
   },
   {
    "duration": 40,
    "start_time": "2024-01-10T16:42:59.890Z"
   },
   {
    "duration": 26,
    "start_time": "2024-01-10T16:43:54.372Z"
   },
   {
    "duration": 31,
    "start_time": "2024-01-10T16:44:46.970Z"
   },
   {
    "duration": 30,
    "start_time": "2024-01-10T16:44:59.924Z"
   },
   {
    "duration": 25,
    "start_time": "2024-01-10T16:45:34.489Z"
   },
   {
    "duration": 36,
    "start_time": "2024-01-10T16:45:41.626Z"
   },
   {
    "duration": 32,
    "start_time": "2024-01-10T16:46:20.842Z"
   },
   {
    "duration": 26,
    "start_time": "2024-01-10T16:46:38.110Z"
   },
   {
    "duration": 30,
    "start_time": "2024-01-10T16:46:47.077Z"
   },
   {
    "duration": 26,
    "start_time": "2024-01-10T16:47:02.175Z"
   },
   {
    "duration": 26,
    "start_time": "2024-01-10T16:47:27.641Z"
   },
   {
    "duration": 3,
    "start_time": "2024-01-10T16:49:28.783Z"
   },
   {
    "duration": 5,
    "start_time": "2024-01-10T16:49:47.703Z"
   },
   {
    "duration": 5,
    "start_time": "2024-01-10T16:50:17.834Z"
   },
   {
    "duration": 4,
    "start_time": "2024-01-10T16:50:30.242Z"
   },
   {
    "duration": 3,
    "start_time": "2024-01-10T16:50:36.383Z"
   },
   {
    "duration": 3,
    "start_time": "2024-01-10T16:51:23.813Z"
   },
   {
    "duration": 4,
    "start_time": "2024-01-10T16:51:28.366Z"
   },
   {
    "duration": 4,
    "start_time": "2024-01-10T16:51:44.215Z"
   },
   {
    "duration": 8,
    "start_time": "2024-01-10T16:53:33.525Z"
   },
   {
    "duration": 152,
    "start_time": "2024-01-10T16:53:40.795Z"
   },
   {
    "duration": 141,
    "start_time": "2024-01-10T16:53:45.891Z"
   },
   {
    "duration": 84,
    "start_time": "2024-01-10T16:55:55.920Z"
   },
   {
    "duration": 94,
    "start_time": "2024-01-10T16:57:58.698Z"
   },
   {
    "duration": 331,
    "start_time": "2024-01-10T16:58:10.504Z"
   },
   {
    "duration": 3,
    "start_time": "2024-01-10T17:02:20.146Z"
   },
   {
    "duration": 19,
    "start_time": "2024-01-10T17:02:24.307Z"
   },
   {
    "duration": 17,
    "start_time": "2024-01-10T17:02:35.320Z"
   },
   {
    "duration": 21,
    "start_time": "2024-01-10T17:02:56.912Z"
   },
   {
    "duration": 403,
    "start_time": "2024-01-10T17:04:54.977Z"
   },
   {
    "duration": 429,
    "start_time": "2024-01-10T17:05:01.589Z"
   },
   {
    "duration": 513,
    "start_time": "2024-01-10T17:05:04.573Z"
   },
   {
    "duration": 415,
    "start_time": "2024-01-10T17:05:49.016Z"
   },
   {
    "duration": 76,
    "start_time": "2024-01-10T17:08:32.754Z"
   },
   {
    "duration": 345,
    "start_time": "2024-01-10T17:08:53.470Z"
   },
   {
    "duration": 8,
    "start_time": "2024-01-10T17:11:29.213Z"
   },
   {
    "duration": 8,
    "start_time": "2024-01-10T17:11:39.925Z"
   },
   {
    "duration": 8,
    "start_time": "2024-01-10T17:12:51.673Z"
   },
   {
    "duration": 8,
    "start_time": "2024-01-10T17:13:20.603Z"
   },
   {
    "duration": 8,
    "start_time": "2024-01-10T17:17:02.287Z"
   },
   {
    "duration": 1175,
    "start_time": "2024-01-11T07:43:31.939Z"
   },
   {
    "duration": 572,
    "start_time": "2024-01-11T07:43:33.116Z"
   },
   {
    "duration": 3,
    "start_time": "2024-01-11T07:43:33.690Z"
   },
   {
    "duration": 76,
    "start_time": "2024-01-11T07:43:33.695Z"
   },
   {
    "duration": 79,
    "start_time": "2024-01-11T07:43:33.772Z"
   },
   {
    "duration": 22,
    "start_time": "2024-01-11T07:43:33.852Z"
   },
   {
    "duration": 18,
    "start_time": "2024-01-11T07:43:33.888Z"
   },
   {
    "duration": 97,
    "start_time": "2024-01-11T07:43:33.907Z"
   },
   {
    "duration": 3,
    "start_time": "2024-01-11T07:43:34.005Z"
   },
   {
    "duration": 6,
    "start_time": "2024-01-11T07:43:34.010Z"
   },
   {
    "duration": 3,
    "start_time": "2024-01-11T07:43:34.017Z"
   },
   {
    "duration": 5,
    "start_time": "2024-01-11T07:43:34.022Z"
   },
   {
    "duration": 8,
    "start_time": "2024-01-11T07:43:34.029Z"
   },
   {
    "duration": 69,
    "start_time": "2024-01-11T07:43:34.038Z"
   },
   {
    "duration": 561,
    "start_time": "2024-01-11T07:43:34.108Z"
   },
   {
    "duration": 97,
    "start_time": "2024-01-11T07:43:34.670Z"
   },
   {
    "duration": 34,
    "start_time": "2024-01-11T07:44:31.726Z"
   },
   {
    "duration": 65,
    "start_time": "2024-01-11T07:44:53.238Z"
   },
   {
    "duration": 1148,
    "start_time": "2024-01-11T07:46:05.783Z"
   },
   {
    "duration": 233,
    "start_time": "2024-01-11T07:46:06.933Z"
   },
   {
    "duration": 3,
    "start_time": "2024-01-11T07:46:07.167Z"
   },
   {
    "duration": 84,
    "start_time": "2024-01-11T07:46:07.173Z"
   },
   {
    "duration": 89,
    "start_time": "2024-01-11T07:46:07.259Z"
   },
   {
    "duration": 22,
    "start_time": "2024-01-11T07:46:07.350Z"
   },
   {
    "duration": 27,
    "start_time": "2024-01-11T07:46:07.373Z"
   },
   {
    "duration": 111,
    "start_time": "2024-01-11T07:46:07.401Z"
   },
   {
    "duration": 3,
    "start_time": "2024-01-11T07:46:07.514Z"
   },
   {
    "duration": 8,
    "start_time": "2024-01-11T07:46:07.520Z"
   },
   {
    "duration": 13,
    "start_time": "2024-01-11T07:46:07.529Z"
   },
   {
    "duration": 11,
    "start_time": "2024-01-11T07:46:07.544Z"
   },
   {
    "duration": 7,
    "start_time": "2024-01-11T07:46:07.557Z"
   },
   {
    "duration": 48,
    "start_time": "2024-01-11T07:46:07.566Z"
   },
   {
    "duration": 582,
    "start_time": "2024-01-11T07:46:07.616Z"
   },
   {
    "duration": 63,
    "start_time": "2024-01-11T07:46:08.200Z"
   },
   {
    "duration": 151,
    "start_time": "2024-01-11T07:50:43.418Z"
   },
   {
    "duration": 1045,
    "start_time": "2024-01-11T07:50:59.735Z"
   },
   {
    "duration": 247,
    "start_time": "2024-01-11T07:51:00.783Z"
   },
   {
    "duration": 4,
    "start_time": "2024-01-11T07:51:01.032Z"
   },
   {
    "duration": 117,
    "start_time": "2024-01-11T07:51:01.037Z"
   },
   {
    "duration": 87,
    "start_time": "2024-01-11T07:51:01.156Z"
   },
   {
    "duration": 22,
    "start_time": "2024-01-11T07:51:01.245Z"
   },
   {
    "duration": 88,
    "start_time": "2024-01-11T07:51:01.268Z"
   },
   {
    "duration": 177,
    "start_time": "2024-01-11T07:51:01.358Z"
   },
   {
    "duration": 20,
    "start_time": "2024-01-11T07:51:01.537Z"
   },
   {
    "duration": 205,
    "start_time": "2024-01-11T07:51:01.559Z"
   },
   {
    "duration": 134,
    "start_time": "2024-01-11T07:51:01.766Z"
   },
   {
    "duration": 222,
    "start_time": "2024-01-11T07:51:01.901Z"
   },
   {
    "duration": 64,
    "start_time": "2024-01-11T07:51:02.124Z"
   },
   {
    "duration": 70,
    "start_time": "2024-01-11T07:51:02.190Z"
   },
   {
    "duration": 594,
    "start_time": "2024-01-11T07:51:02.261Z"
   },
   {
    "duration": 41,
    "start_time": "2024-01-11T07:51:02.856Z"
   },
   {
    "duration": 115,
    "start_time": "2024-01-11T07:53:19.639Z"
   },
   {
    "duration": 7,
    "start_time": "2024-01-11T07:53:27.231Z"
   },
   {
    "duration": 26,
    "start_time": "2024-01-11T07:56:32.912Z"
   },
   {
    "duration": 6,
    "start_time": "2024-01-11T07:58:24.775Z"
   },
   {
    "duration": 6,
    "start_time": "2024-01-11T07:58:30.067Z"
   },
   {
    "duration": 3,
    "start_time": "2024-01-11T08:07:27.283Z"
   },
   {
    "duration": 24,
    "start_time": "2024-01-11T08:08:12.851Z"
   },
   {
    "duration": 26,
    "start_time": "2024-01-11T08:08:29.290Z"
   },
   {
    "duration": 27,
    "start_time": "2024-01-11T08:08:38.975Z"
   },
   {
    "duration": 32,
    "start_time": "2024-01-11T08:08:54.152Z"
   },
   {
    "duration": 27,
    "start_time": "2024-01-11T08:09:01.138Z"
   },
   {
    "duration": 8,
    "start_time": "2024-01-11T08:09:27.467Z"
   },
   {
    "duration": 359,
    "start_time": "2024-01-11T08:10:30.097Z"
   },
   {
    "duration": 308,
    "start_time": "2024-01-11T08:10:53.194Z"
   },
   {
    "duration": 10,
    "start_time": "2024-01-11T08:11:08.697Z"
   },
   {
    "duration": 11,
    "start_time": "2024-01-11T08:11:23.935Z"
   },
   {
    "duration": 319,
    "start_time": "2024-01-11T08:11:32.196Z"
   },
   {
    "duration": 12,
    "start_time": "2024-01-11T08:11:56.239Z"
   },
   {
    "duration": 8,
    "start_time": "2024-01-11T08:14:03.299Z"
   },
   {
    "duration": 9,
    "start_time": "2024-01-11T08:17:09.894Z"
   },
   {
    "duration": 44,
    "start_time": "2024-01-11T08:17:43.537Z"
   },
   {
    "duration": 1070,
    "start_time": "2024-01-11T08:17:50.966Z"
   },
   {
    "duration": 239,
    "start_time": "2024-01-11T08:17:52.037Z"
   },
   {
    "duration": 13,
    "start_time": "2024-01-11T08:17:52.277Z"
   },
   {
    "duration": 83,
    "start_time": "2024-01-11T08:17:52.293Z"
   },
   {
    "duration": 76,
    "start_time": "2024-01-11T08:17:52.377Z"
   },
   {
    "duration": 34,
    "start_time": "2024-01-11T08:17:52.455Z"
   },
   {
    "duration": 26,
    "start_time": "2024-01-11T08:17:52.491Z"
   },
   {
    "duration": 139,
    "start_time": "2024-01-11T08:17:52.519Z"
   },
   {
    "duration": 4,
    "start_time": "2024-01-11T08:17:52.660Z"
   },
   {
    "duration": 25,
    "start_time": "2024-01-11T08:17:52.667Z"
   },
   {
    "duration": 17,
    "start_time": "2024-01-11T08:17:52.694Z"
   },
   {
    "duration": 11,
    "start_time": "2024-01-11T08:17:52.712Z"
   },
   {
    "duration": 5,
    "start_time": "2024-01-11T08:17:52.724Z"
   },
   {
    "duration": 36,
    "start_time": "2024-01-11T08:17:52.731Z"
   },
   {
    "duration": 583,
    "start_time": "2024-01-11T08:17:52.769Z"
   },
   {
    "duration": 41,
    "start_time": "2024-01-11T08:17:53.354Z"
   },
   {
    "duration": 7,
    "start_time": "2024-01-11T08:17:53.397Z"
   },
   {
    "duration": 8,
    "start_time": "2024-01-11T08:17:53.406Z"
   },
   {
    "duration": 32,
    "start_time": "2024-01-11T08:17:53.415Z"
   },
   {
    "duration": 4,
    "start_time": "2024-01-11T08:17:53.449Z"
   },
   {
    "duration": 137,
    "start_time": "2024-01-11T08:17:53.454Z"
   },
   {
    "duration": 305,
    "start_time": "2024-01-11T08:18:06.649Z"
   },
   {
    "duration": 2,
    "start_time": "2024-01-11T08:18:43.812Z"
   },
   {
    "duration": 19,
    "start_time": "2024-01-11T08:18:45.081Z"
   },
   {
    "duration": 107,
    "start_time": "2024-01-11T08:26:38.599Z"
   },
   {
    "duration": 1133,
    "start_time": "2024-01-11T08:26:46.552Z"
   },
   {
    "duration": 29,
    "start_time": "2024-01-11T08:27:14.471Z"
   },
   {
    "duration": 28,
    "start_time": "2024-01-11T08:27:36.600Z"
   },
   {
    "duration": 33,
    "start_time": "2024-01-11T08:27:48.486Z"
   },
   {
    "duration": 28,
    "start_time": "2024-01-11T08:28:12.477Z"
   },
   {
    "duration": 1260,
    "start_time": "2024-01-11T08:28:27.955Z"
   },
   {
    "duration": 79,
    "start_time": "2024-01-11T08:28:49.760Z"
   },
   {
    "duration": 109,
    "start_time": "2024-01-11T08:31:02.882Z"
   },
   {
    "duration": 1993,
    "start_time": "2024-01-11T08:31:14.428Z"
   },
   {
    "duration": 14,
    "start_time": "2024-01-11T08:31:50.491Z"
   },
   {
    "duration": 9,
    "start_time": "2024-01-11T08:32:39.647Z"
   },
   {
    "duration": 87,
    "start_time": "2024-01-11T08:32:51.059Z"
   },
   {
    "duration": 94,
    "start_time": "2024-01-11T08:35:21.071Z"
   },
   {
    "duration": 113,
    "start_time": "2024-01-11T08:38:41.007Z"
   },
   {
    "duration": 111,
    "start_time": "2024-01-11T08:40:08.339Z"
   },
   {
    "duration": 16,
    "start_time": "2024-01-11T09:04:08.612Z"
   },
   {
    "duration": 24,
    "start_time": "2024-01-11T09:04:46.743Z"
   },
   {
    "duration": 13,
    "start_time": "2024-01-11T09:05:05.241Z"
   },
   {
    "duration": 19,
    "start_time": "2024-01-11T09:05:15.294Z"
   },
   {
    "duration": 14,
    "start_time": "2024-01-11T09:05:24.548Z"
   },
   {
    "duration": 9,
    "start_time": "2024-01-11T09:17:45.947Z"
   },
   {
    "duration": 9,
    "start_time": "2024-01-11T09:23:11.467Z"
   },
   {
    "duration": 1421,
    "start_time": "2024-01-11T09:23:52.680Z"
   },
   {
    "duration": 1463,
    "start_time": "2024-01-11T09:24:19.553Z"
   },
   {
    "duration": 13,
    "start_time": "2024-01-11T09:24:49.909Z"
   },
   {
    "duration": 15,
    "start_time": "2024-01-11T09:26:25.162Z"
   },
   {
    "duration": 12,
    "start_time": "2024-01-11T09:27:10.139Z"
   },
   {
    "duration": 126,
    "start_time": "2024-01-11T09:36:01.624Z"
   },
   {
    "duration": 1015,
    "start_time": "2024-01-11T09:36:15.124Z"
   },
   {
    "duration": 243,
    "start_time": "2024-01-11T09:36:16.142Z"
   },
   {
    "duration": 4,
    "start_time": "2024-01-11T09:36:16.388Z"
   },
   {
    "duration": 68,
    "start_time": "2024-01-11T09:36:16.393Z"
   },
   {
    "duration": 82,
    "start_time": "2024-01-11T09:36:16.463Z"
   },
   {
    "duration": 22,
    "start_time": "2024-01-11T09:36:16.546Z"
   },
   {
    "duration": 31,
    "start_time": "2024-01-11T09:36:16.570Z"
   },
   {
    "duration": 136,
    "start_time": "2024-01-11T09:36:16.603Z"
   },
   {
    "duration": 4,
    "start_time": "2024-01-11T09:36:16.740Z"
   },
   {
    "duration": 10,
    "start_time": "2024-01-11T09:36:16.746Z"
   },
   {
    "duration": 23,
    "start_time": "2024-01-11T09:36:16.757Z"
   },
   {
    "duration": 7,
    "start_time": "2024-01-11T09:36:16.782Z"
   },
   {
    "duration": 5,
    "start_time": "2024-01-11T09:36:16.791Z"
   },
   {
    "duration": 30,
    "start_time": "2024-01-11T09:36:16.797Z"
   },
   {
    "duration": 606,
    "start_time": "2024-01-11T09:36:16.828Z"
   },
   {
    "duration": 37,
    "start_time": "2024-01-11T09:36:17.436Z"
   },
   {
    "duration": 8,
    "start_time": "2024-01-11T09:36:17.489Z"
   },
   {
    "duration": 17,
    "start_time": "2024-01-11T09:36:17.499Z"
   },
   {
    "duration": 3,
    "start_time": "2024-01-11T09:36:17.518Z"
   },
   {
    "duration": 122,
    "start_time": "2024-01-11T09:36:17.522Z"
   },
   {
    "duration": 126,
    "start_time": "2024-01-11T09:36:17.645Z"
   },
   {
    "duration": 100,
    "start_time": "2024-01-11T09:38:37.941Z"
   },
   {
    "duration": 1122,
    "start_time": "2024-01-11T10:29:23.103Z"
   },
   {
    "duration": 236,
    "start_time": "2024-01-11T10:29:24.227Z"
   },
   {
    "duration": 3,
    "start_time": "2024-01-11T10:29:24.465Z"
   },
   {
    "duration": 76,
    "start_time": "2024-01-11T10:29:24.470Z"
   },
   {
    "duration": 81,
    "start_time": "2024-01-11T10:29:24.547Z"
   },
   {
    "duration": 21,
    "start_time": "2024-01-11T10:29:24.630Z"
   },
   {
    "duration": 35,
    "start_time": "2024-01-11T10:29:24.653Z"
   },
   {
    "duration": 123,
    "start_time": "2024-01-11T10:29:24.690Z"
   },
   {
    "duration": 3,
    "start_time": "2024-01-11T10:29:24.815Z"
   },
   {
    "duration": 9,
    "start_time": "2024-01-11T10:29:24.820Z"
   },
   {
    "duration": 4,
    "start_time": "2024-01-11T10:29:24.831Z"
   },
   {
    "duration": 7,
    "start_time": "2024-01-11T10:29:24.836Z"
   },
   {
    "duration": 13,
    "start_time": "2024-01-11T10:29:24.844Z"
   },
   {
    "duration": 46,
    "start_time": "2024-01-11T10:29:24.859Z"
   },
   {
    "duration": 586,
    "start_time": "2024-01-11T10:29:24.906Z"
   },
   {
    "duration": 38,
    "start_time": "2024-01-11T10:29:25.494Z"
   },
   {
    "duration": 7,
    "start_time": "2024-01-11T10:29:25.535Z"
   },
   {
    "duration": 7,
    "start_time": "2024-01-11T10:29:25.544Z"
   },
   {
    "duration": 35,
    "start_time": "2024-01-11T10:29:25.553Z"
   },
   {
    "duration": 112,
    "start_time": "2024-01-11T10:29:25.590Z"
   },
   {
    "duration": 115,
    "start_time": "2024-01-11T10:29:25.704Z"
   },
   {
    "duration": 13,
    "start_time": "2024-01-11T10:30:08.692Z"
   },
   {
    "duration": 3,
    "start_time": "2024-01-11T10:30:36.828Z"
   },
   {
    "duration": 1038,
    "start_time": "2024-01-11T10:30:42.624Z"
   },
   {
    "duration": 240,
    "start_time": "2024-01-11T10:30:43.664Z"
   },
   {
    "duration": 4,
    "start_time": "2024-01-11T10:30:43.905Z"
   },
   {
    "duration": 89,
    "start_time": "2024-01-11T10:30:43.911Z"
   },
   {
    "duration": 75,
    "start_time": "2024-01-11T10:30:44.002Z"
   },
   {
    "duration": 22,
    "start_time": "2024-01-11T10:30:44.088Z"
   },
   {
    "duration": 32,
    "start_time": "2024-01-11T10:30:44.111Z"
   },
   {
    "duration": 127,
    "start_time": "2024-01-11T10:30:44.145Z"
   },
   {
    "duration": 4,
    "start_time": "2024-01-11T10:30:44.273Z"
   },
   {
    "duration": 6,
    "start_time": "2024-01-11T10:30:44.287Z"
   },
   {
    "duration": 3,
    "start_time": "2024-01-11T10:30:44.295Z"
   },
   {
    "duration": 15,
    "start_time": "2024-01-11T10:30:44.300Z"
   },
   {
    "duration": 15,
    "start_time": "2024-01-11T10:30:44.316Z"
   },
   {
    "duration": 28,
    "start_time": "2024-01-11T10:30:44.332Z"
   },
   {
    "duration": 612,
    "start_time": "2024-01-11T10:30:44.361Z"
   },
   {
    "duration": 39,
    "start_time": "2024-01-11T10:30:44.975Z"
   },
   {
    "duration": 6,
    "start_time": "2024-01-11T10:30:45.016Z"
   },
   {
    "duration": 46,
    "start_time": "2024-01-11T10:30:45.023Z"
   },
   {
    "duration": 12,
    "start_time": "2024-01-11T10:30:45.071Z"
   },
   {
    "duration": 119,
    "start_time": "2024-01-11T10:30:45.084Z"
   },
   {
    "duration": 12,
    "start_time": "2024-01-11T10:30:45.205Z"
   },
   {
    "duration": 12,
    "start_time": "2024-01-11T10:33:28.563Z"
   },
   {
    "duration": 12,
    "start_time": "2024-01-11T10:33:30.868Z"
   },
   {
    "duration": 109,
    "start_time": "2024-01-11T10:38:40.694Z"
   },
   {
    "duration": 4,
    "start_time": "2024-01-11T10:38:56.346Z"
   },
   {
    "duration": 4,
    "start_time": "2024-01-11T10:39:14.021Z"
   },
   {
    "duration": 4,
    "start_time": "2024-01-11T10:39:23.117Z"
   },
   {
    "duration": 3,
    "start_time": "2024-01-11T10:39:42.598Z"
   },
   {
    "duration": 7,
    "start_time": "2024-01-11T10:41:18.008Z"
   },
   {
    "duration": 103,
    "start_time": "2024-01-11T10:45:25.392Z"
   },
   {
    "duration": 11,
    "start_time": "2024-01-11T10:45:45.935Z"
   },
   {
    "duration": 13,
    "start_time": "2024-01-11T10:46:00.674Z"
   },
   {
    "duration": 11,
    "start_time": "2024-01-11T10:46:16.829Z"
   },
   {
    "duration": 9,
    "start_time": "2024-01-11T10:46:58.780Z"
   },
   {
    "duration": 31,
    "start_time": "2024-01-11T10:48:44.671Z"
   },
   {
    "duration": 32,
    "start_time": "2024-01-11T10:48:50.979Z"
   },
   {
    "duration": 1232,
    "start_time": "2024-01-11T16:10:38.896Z"
   },
   {
    "duration": 552,
    "start_time": "2024-01-11T16:10:40.130Z"
   },
   {
    "duration": 4,
    "start_time": "2024-01-11T16:10:40.683Z"
   },
   {
    "duration": 77,
    "start_time": "2024-01-11T16:10:40.688Z"
   },
   {
    "duration": 80,
    "start_time": "2024-01-11T16:10:40.767Z"
   },
   {
    "duration": 27,
    "start_time": "2024-01-11T16:10:40.848Z"
   },
   {
    "duration": 18,
    "start_time": "2024-01-11T16:10:40.877Z"
   },
   {
    "duration": 131,
    "start_time": "2024-01-11T16:10:40.896Z"
   },
   {
    "duration": 3,
    "start_time": "2024-01-11T16:10:41.029Z"
   },
   {
    "duration": 5,
    "start_time": "2024-01-11T16:10:41.035Z"
   },
   {
    "duration": 3,
    "start_time": "2024-01-11T16:10:41.042Z"
   },
   {
    "duration": 23,
    "start_time": "2024-01-11T16:10:41.046Z"
   },
   {
    "duration": 5,
    "start_time": "2024-01-11T16:10:41.070Z"
   },
   {
    "duration": 27,
    "start_time": "2024-01-11T16:10:41.077Z"
   },
   {
    "duration": 544,
    "start_time": "2024-01-11T16:10:41.105Z"
   },
   {
    "duration": 41,
    "start_time": "2024-01-11T16:10:41.651Z"
   },
   {
    "duration": 7,
    "start_time": "2024-01-11T16:10:41.693Z"
   },
   {
    "duration": 13,
    "start_time": "2024-01-11T16:10:41.701Z"
   },
   {
    "duration": 13,
    "start_time": "2024-01-11T16:10:41.716Z"
   },
   {
    "duration": 120,
    "start_time": "2024-01-11T16:10:41.730Z"
   },
   {
    "duration": 15,
    "start_time": "2024-01-11T16:10:41.851Z"
   },
   {
    "duration": 21,
    "start_time": "2024-01-11T16:10:41.867Z"
   },
   {
    "duration": 41,
    "start_time": "2024-01-11T16:10:41.890Z"
   },
   {
    "duration": 11082,
    "start_time": "2024-01-11T16:13:29.826Z"
   },
   {
    "duration": 1106,
    "start_time": "2024-01-11T16:17:49.641Z"
   },
   {
    "duration": 1203,
    "start_time": "2024-01-11T16:17:53.572Z"
   },
   {
    "duration": 24,
    "start_time": "2024-01-11T16:18:50.242Z"
   },
   {
    "duration": 3,
    "start_time": "2024-01-11T16:41:10.657Z"
   },
   {
    "duration": 1255,
    "start_time": "2024-01-12T08:16:35.633Z"
   },
   {
    "duration": 587,
    "start_time": "2024-01-12T08:16:36.890Z"
   },
   {
    "duration": 4,
    "start_time": "2024-01-12T08:16:37.478Z"
   },
   {
    "duration": 70,
    "start_time": "2024-01-12T08:16:37.484Z"
   },
   {
    "duration": 77,
    "start_time": "2024-01-12T08:16:37.556Z"
   },
   {
    "duration": 24,
    "start_time": "2024-01-12T08:16:37.634Z"
   },
   {
    "duration": 20,
    "start_time": "2024-01-12T08:16:37.660Z"
   },
   {
    "duration": 146,
    "start_time": "2024-01-12T08:16:37.682Z"
   },
   {
    "duration": 4,
    "start_time": "2024-01-12T08:16:37.829Z"
   },
   {
    "duration": 6,
    "start_time": "2024-01-12T08:16:37.843Z"
   },
   {
    "duration": 4,
    "start_time": "2024-01-12T08:16:37.850Z"
   },
   {
    "duration": 6,
    "start_time": "2024-01-12T08:16:37.855Z"
   },
   {
    "duration": 5,
    "start_time": "2024-01-12T08:16:37.862Z"
   },
   {
    "duration": 31,
    "start_time": "2024-01-12T08:16:37.868Z"
   },
   {
    "duration": 664,
    "start_time": "2024-01-12T08:16:37.900Z"
   },
   {
    "duration": 36,
    "start_time": "2024-01-12T08:16:38.565Z"
   },
   {
    "duration": 7,
    "start_time": "2024-01-12T08:16:38.602Z"
   },
   {
    "duration": 6,
    "start_time": "2024-01-12T08:16:38.611Z"
   },
   {
    "duration": 25,
    "start_time": "2024-01-12T08:16:38.618Z"
   },
   {
    "duration": 117,
    "start_time": "2024-01-12T08:16:38.645Z"
   },
   {
    "duration": 11,
    "start_time": "2024-01-12T08:16:38.763Z"
   },
   {
    "duration": 4,
    "start_time": "2024-01-12T08:16:38.775Z"
   },
   {
    "duration": 36,
    "start_time": "2024-01-12T08:16:38.781Z"
   },
   {
    "duration": 23,
    "start_time": "2024-01-12T08:16:38.819Z"
   },
   {
    "duration": 5,
    "start_time": "2024-01-12T08:16:38.844Z"
   },
   {
    "duration": 1208,
    "start_time": "2024-01-13T06:04:15.138Z"
   },
   {
    "duration": 540,
    "start_time": "2024-01-13T06:04:16.348Z"
   },
   {
    "duration": 4,
    "start_time": "2024-01-13T06:04:16.889Z"
   },
   {
    "duration": 65,
    "start_time": "2024-01-13T06:04:16.894Z"
   },
   {
    "duration": 70,
    "start_time": "2024-01-13T06:04:16.960Z"
   },
   {
    "duration": 20,
    "start_time": "2024-01-13T06:04:17.032Z"
   },
   {
    "duration": 23,
    "start_time": "2024-01-13T06:04:17.053Z"
   },
   {
    "duration": 120,
    "start_time": "2024-01-13T06:04:17.077Z"
   },
   {
    "duration": 3,
    "start_time": "2024-01-13T06:04:17.199Z"
   },
   {
    "duration": 5,
    "start_time": "2024-01-13T06:04:17.204Z"
   },
   {
    "duration": 3,
    "start_time": "2024-01-13T06:04:17.211Z"
   },
   {
    "duration": 5,
    "start_time": "2024-01-13T06:04:17.215Z"
   },
   {
    "duration": 4,
    "start_time": "2024-01-13T06:04:17.221Z"
   },
   {
    "duration": 57,
    "start_time": "2024-01-13T06:04:17.227Z"
   },
   {
    "duration": 559,
    "start_time": "2024-01-13T06:04:17.285Z"
   },
   {
    "duration": 39,
    "start_time": "2024-01-13T06:04:17.846Z"
   },
   {
    "duration": 7,
    "start_time": "2024-01-13T06:04:17.886Z"
   },
   {
    "duration": 5,
    "start_time": "2024-01-13T06:04:17.895Z"
   },
   {
    "duration": 3,
    "start_time": "2024-01-13T06:04:17.902Z"
   },
   {
    "duration": 120,
    "start_time": "2024-01-13T06:04:17.906Z"
   },
   {
    "duration": 10,
    "start_time": "2024-01-13T06:04:18.028Z"
   },
   {
    "duration": 4,
    "start_time": "2024-01-13T06:04:18.040Z"
   },
   {
    "duration": 46,
    "start_time": "2024-01-13T06:04:18.046Z"
   },
   {
    "duration": 5,
    "start_time": "2024-01-13T06:04:18.093Z"
   },
   {
    "duration": 6,
    "start_time": "2024-01-13T06:04:18.099Z"
   },
   {
    "duration": 83,
    "start_time": "2024-01-13T06:06:21.994Z"
   },
   {
    "duration": 79,
    "start_time": "2024-01-13T06:09:35.849Z"
   },
   {
    "duration": 80,
    "start_time": "2024-01-13T06:09:43.288Z"
   },
   {
    "duration": 78,
    "start_time": "2024-01-13T06:10:54.726Z"
   },
   {
    "duration": 68,
    "start_time": "2024-01-13T06:12:18.122Z"
   },
   {
    "duration": 90,
    "start_time": "2024-01-13T06:31:42.479Z"
   },
   {
    "duration": 78,
    "start_time": "2024-01-13T06:31:52.595Z"
   },
   {
    "duration": 162,
    "start_time": "2024-01-13T06:33:16.469Z"
   },
   {
    "duration": 153,
    "start_time": "2024-01-13T06:34:24.772Z"
   },
   {
    "duration": 172,
    "start_time": "2024-01-13T06:34:32.904Z"
   },
   {
    "duration": 159,
    "start_time": "2024-01-13T06:34:56.730Z"
   },
   {
    "duration": 176,
    "start_time": "2024-01-13T06:35:43.170Z"
   },
   {
    "duration": 151,
    "start_time": "2024-01-13T06:39:03.712Z"
   },
   {
    "duration": 167,
    "start_time": "2024-01-13T06:40:47.852Z"
   },
   {
    "duration": 3,
    "start_time": "2024-01-13T06:48:12.240Z"
   },
   {
    "duration": 5,
    "start_time": "2024-01-13T06:49:52.137Z"
   },
   {
    "duration": 16,
    "start_time": "2024-01-13T06:52:31.265Z"
   },
   {
    "duration": 37,
    "start_time": "2024-01-13T06:52:50.346Z"
   },
   {
    "duration": 5,
    "start_time": "2024-01-13T06:53:45.573Z"
   },
   {
    "duration": 1183,
    "start_time": "2024-01-13T06:53:47.077Z"
   },
   {
    "duration": 11,
    "start_time": "2024-01-13T06:54:33.001Z"
   },
   {
    "duration": 24,
    "start_time": "2024-01-13T06:55:52.894Z"
   },
   {
    "duration": 34,
    "start_time": "2024-01-13T06:58:48.835Z"
   },
   {
    "duration": 94,
    "start_time": "2024-01-13T06:59:43.190Z"
   },
   {
    "duration": 91,
    "start_time": "2024-01-13T06:59:59.052Z"
   },
   {
    "duration": 10,
    "start_time": "2024-01-13T07:02:55.333Z"
   },
   {
    "duration": 26,
    "start_time": "2024-01-13T07:03:30.010Z"
   },
   {
    "duration": 97,
    "start_time": "2024-01-13T07:06:01.081Z"
   },
   {
    "duration": 13,
    "start_time": "2024-01-13T07:07:24.522Z"
   },
   {
    "duration": 14,
    "start_time": "2024-01-13T07:07:42.402Z"
   },
   {
    "duration": 14,
    "start_time": "2024-01-13T07:08:55.753Z"
   },
   {
    "duration": 12,
    "start_time": "2024-01-13T07:08:57.543Z"
   },
   {
    "duration": 14,
    "start_time": "2024-01-13T07:09:19.380Z"
   },
   {
    "duration": 12,
    "start_time": "2024-01-13T07:09:34.361Z"
   },
   {
    "duration": 13,
    "start_time": "2024-01-13T07:09:37.824Z"
   },
   {
    "duration": 99,
    "start_time": "2024-01-13T07:10:02.168Z"
   },
   {
    "duration": 97,
    "start_time": "2024-01-13T07:10:24.952Z"
   },
   {
    "duration": 92,
    "start_time": "2024-01-13T07:11:54.274Z"
   },
   {
    "duration": 11,
    "start_time": "2024-01-13T07:12:01.000Z"
   },
   {
    "duration": 17,
    "start_time": "2024-01-13T07:12:11.459Z"
   },
   {
    "duration": 30,
    "start_time": "2024-01-13T07:12:23.737Z"
   },
   {
    "duration": 189,
    "start_time": "2024-01-13T07:14:15.608Z"
   },
   {
    "duration": 5,
    "start_time": "2024-01-13T07:25:44.891Z"
   },
   {
    "duration": 4,
    "start_time": "2024-01-13T07:25:47.169Z"
   },
   {
    "duration": 1008,
    "start_time": "2024-01-13T07:26:37.473Z"
   },
   {
    "duration": 226,
    "start_time": "2024-01-13T07:26:38.483Z"
   },
   {
    "duration": 4,
    "start_time": "2024-01-13T07:26:38.711Z"
   },
   {
    "duration": 81,
    "start_time": "2024-01-13T07:26:38.717Z"
   },
   {
    "duration": 80,
    "start_time": "2024-01-13T07:26:38.800Z"
   },
   {
    "duration": 25,
    "start_time": "2024-01-13T07:26:38.882Z"
   },
   {
    "duration": 18,
    "start_time": "2024-01-13T07:26:38.909Z"
   },
   {
    "duration": 136,
    "start_time": "2024-01-13T07:26:38.929Z"
   },
   {
    "duration": 3,
    "start_time": "2024-01-13T07:26:39.067Z"
   },
   {
    "duration": 19,
    "start_time": "2024-01-13T07:26:39.073Z"
   },
   {
    "duration": 10,
    "start_time": "2024-01-13T07:26:39.094Z"
   },
   {
    "duration": 6,
    "start_time": "2024-01-13T07:26:39.105Z"
   },
   {
    "duration": 16,
    "start_time": "2024-01-13T07:26:39.113Z"
   },
   {
    "duration": 37,
    "start_time": "2024-01-13T07:26:39.130Z"
   },
   {
    "duration": 528,
    "start_time": "2024-01-13T07:26:39.169Z"
   },
   {
    "duration": 34,
    "start_time": "2024-01-13T07:26:39.699Z"
   },
   {
    "duration": 6,
    "start_time": "2024-01-13T07:26:39.735Z"
   },
   {
    "duration": 27,
    "start_time": "2024-01-13T07:26:39.743Z"
   },
   {
    "duration": 10,
    "start_time": "2024-01-13T07:26:39.772Z"
   },
   {
    "duration": 130,
    "start_time": "2024-01-13T07:26:39.784Z"
   },
   {
    "duration": 11,
    "start_time": "2024-01-13T07:26:39.915Z"
   },
   {
    "duration": 9,
    "start_time": "2024-01-13T07:26:39.927Z"
   },
   {
    "duration": 49,
    "start_time": "2024-01-13T07:26:39.937Z"
   },
   {
    "duration": 15,
    "start_time": "2024-01-13T07:26:39.987Z"
   },
   {
    "duration": 112,
    "start_time": "2024-01-13T07:26:40.004Z"
   },
   {
    "duration": 13,
    "start_time": "2024-01-13T07:26:40.117Z"
   },
   {
    "duration": 40,
    "start_time": "2024-01-13T07:26:40.131Z"
   },
   {
    "duration": 101,
    "start_time": "2024-01-13T07:26:40.174Z"
   },
   {
    "duration": 114,
    "start_time": "2024-01-13T07:26:40.277Z"
   },
   {
    "duration": 103,
    "start_time": "2024-01-13T07:26:40.393Z"
   },
   {
    "duration": 0,
    "start_time": "2024-01-13T07:26:40.497Z"
   },
   {
    "duration": 468,
    "start_time": "2024-01-13T07:27:25.434Z"
   },
   {
    "duration": 504,
    "start_time": "2024-01-13T07:27:32.783Z"
   },
   {
    "duration": 436,
    "start_time": "2024-01-13T07:27:39.917Z"
   },
   {
    "duration": 28,
    "start_time": "2024-01-13T07:37:05.731Z"
   },
   {
    "duration": 986,
    "start_time": "2024-01-13T07:55:35.205Z"
   },
   {
    "duration": 221,
    "start_time": "2024-01-13T07:55:36.192Z"
   },
   {
    "duration": 3,
    "start_time": "2024-01-13T07:55:36.415Z"
   },
   {
    "duration": 71,
    "start_time": "2024-01-13T07:55:36.420Z"
   },
   {
    "duration": 75,
    "start_time": "2024-01-13T07:55:36.493Z"
   },
   {
    "duration": 20,
    "start_time": "2024-01-13T07:55:36.569Z"
   },
   {
    "duration": 17,
    "start_time": "2024-01-13T07:55:36.590Z"
   },
   {
    "duration": 123,
    "start_time": "2024-01-13T07:55:36.608Z"
   },
   {
    "duration": 3,
    "start_time": "2024-01-13T07:55:36.733Z"
   },
   {
    "duration": 9,
    "start_time": "2024-01-13T07:55:36.738Z"
   },
   {
    "duration": 18,
    "start_time": "2024-01-13T07:55:36.748Z"
   },
   {
    "duration": 6,
    "start_time": "2024-01-13T07:55:36.767Z"
   },
   {
    "duration": 4,
    "start_time": "2024-01-13T07:55:36.774Z"
   },
   {
    "duration": 26,
    "start_time": "2024-01-13T07:55:36.779Z"
   },
   {
    "duration": 533,
    "start_time": "2024-01-13T07:55:36.806Z"
   },
   {
    "duration": 39,
    "start_time": "2024-01-13T07:55:37.340Z"
   },
   {
    "duration": 8,
    "start_time": "2024-01-13T07:55:37.381Z"
   },
   {
    "duration": 7,
    "start_time": "2024-01-13T07:55:37.390Z"
   },
   {
    "duration": 3,
    "start_time": "2024-01-13T07:55:37.399Z"
   },
   {
    "duration": 127,
    "start_time": "2024-01-13T07:55:37.403Z"
   },
   {
    "duration": 11,
    "start_time": "2024-01-13T07:55:37.532Z"
   },
   {
    "duration": 7,
    "start_time": "2024-01-13T07:55:37.544Z"
   },
   {
    "duration": 35,
    "start_time": "2024-01-13T07:55:37.564Z"
   },
   {
    "duration": 21,
    "start_time": "2024-01-13T07:55:37.601Z"
   },
   {
    "duration": 106,
    "start_time": "2024-01-13T07:55:37.624Z"
   },
   {
    "duration": 12,
    "start_time": "2024-01-13T07:55:37.732Z"
   },
   {
    "duration": 27,
    "start_time": "2024-01-13T07:55:37.745Z"
   },
   {
    "duration": 103,
    "start_time": "2024-01-13T07:55:37.774Z"
   },
   {
    "duration": 106,
    "start_time": "2024-01-13T07:55:37.878Z"
   },
   {
    "duration": 23,
    "start_time": "2024-01-13T07:55:37.986Z"
   },
   {
    "duration": 195,
    "start_time": "2024-01-13T07:55:38.010Z"
   },
   {
    "duration": 1249,
    "start_time": "2024-01-13T10:18:36.977Z"
   },
   {
    "duration": 643,
    "start_time": "2024-01-13T10:18:38.228Z"
   },
   {
    "duration": 3,
    "start_time": "2024-01-13T10:18:38.873Z"
   },
   {
    "duration": 69,
    "start_time": "2024-01-13T10:18:38.879Z"
   },
   {
    "duration": 78,
    "start_time": "2024-01-13T10:18:38.949Z"
   },
   {
    "duration": 47,
    "start_time": "2024-01-13T10:18:39.029Z"
   },
   {
    "duration": 20,
    "start_time": "2024-01-13T10:18:39.077Z"
   },
   {
    "duration": 144,
    "start_time": "2024-01-13T10:18:39.098Z"
   },
   {
    "duration": 3,
    "start_time": "2024-01-13T10:18:39.244Z"
   },
   {
    "duration": 8,
    "start_time": "2024-01-13T10:18:39.251Z"
   },
   {
    "duration": 12,
    "start_time": "2024-01-13T10:18:39.261Z"
   },
   {
    "duration": 27,
    "start_time": "2024-01-13T10:18:39.274Z"
   },
   {
    "duration": 11,
    "start_time": "2024-01-13T10:18:39.302Z"
   },
   {
    "duration": 34,
    "start_time": "2024-01-13T10:18:39.314Z"
   },
   {
    "duration": 606,
    "start_time": "2024-01-13T10:18:39.350Z"
   },
   {
    "duration": 36,
    "start_time": "2024-01-13T10:18:39.958Z"
   },
   {
    "duration": 6,
    "start_time": "2024-01-13T10:18:39.995Z"
   },
   {
    "duration": 6,
    "start_time": "2024-01-13T10:18:40.003Z"
   },
   {
    "duration": 12,
    "start_time": "2024-01-13T10:18:40.010Z"
   },
   {
    "duration": 110,
    "start_time": "2024-01-13T10:18:40.042Z"
   },
   {
    "duration": 11,
    "start_time": "2024-01-13T10:18:40.154Z"
   },
   {
    "duration": 9,
    "start_time": "2024-01-13T10:18:40.167Z"
   },
   {
    "duration": 41,
    "start_time": "2024-01-13T10:18:40.178Z"
   },
   {
    "duration": 28,
    "start_time": "2024-01-13T10:18:40.221Z"
   },
   {
    "duration": 138,
    "start_time": "2024-01-13T10:18:40.251Z"
   },
   {
    "duration": 12,
    "start_time": "2024-01-13T10:18:40.391Z"
   },
   {
    "duration": 16,
    "start_time": "2024-01-13T10:18:40.404Z"
   },
   {
    "duration": 127,
    "start_time": "2024-01-13T10:18:40.423Z"
   },
   {
    "duration": 120,
    "start_time": "2024-01-13T10:18:40.552Z"
   },
   {
    "duration": 26,
    "start_time": "2024-01-13T10:18:40.673Z"
   },
   {
    "duration": 220,
    "start_time": "2024-01-13T10:18:40.701Z"
   },
   {
    "duration": 46,
    "start_time": "2024-01-13T12:26:41.109Z"
   },
   {
    "duration": 1245,
    "start_time": "2024-01-13T12:26:48.597Z"
   },
   {
    "duration": 570,
    "start_time": "2024-01-13T12:26:49.844Z"
   },
   {
    "duration": 4,
    "start_time": "2024-01-13T12:26:50.416Z"
   },
   {
    "duration": 68,
    "start_time": "2024-01-13T12:26:50.421Z"
   },
   {
    "duration": 83,
    "start_time": "2024-01-13T12:26:50.490Z"
   },
   {
    "duration": 40,
    "start_time": "2024-01-13T12:26:50.575Z"
   },
   {
    "duration": 18,
    "start_time": "2024-01-13T12:26:50.616Z"
   },
   {
    "duration": 143,
    "start_time": "2024-01-13T12:26:50.636Z"
   },
   {
    "duration": 21,
    "start_time": "2024-01-13T12:26:50.781Z"
   },
   {
    "duration": 12,
    "start_time": "2024-01-13T12:26:50.805Z"
   },
   {
    "duration": 9,
    "start_time": "2024-01-13T12:26:50.818Z"
   },
   {
    "duration": 3,
    "start_time": "2024-01-13T12:26:50.829Z"
   },
   {
    "duration": 9,
    "start_time": "2024-01-13T12:26:50.834Z"
   },
   {
    "duration": 6,
    "start_time": "2024-01-13T12:26:50.845Z"
   },
   {
    "duration": 30,
    "start_time": "2024-01-13T12:26:50.852Z"
   },
   {
    "duration": 567,
    "start_time": "2024-01-13T12:26:50.915Z"
   },
   {
    "duration": 44,
    "start_time": "2024-01-13T12:26:51.484Z"
   },
   {
    "duration": 7,
    "start_time": "2024-01-13T12:26:51.529Z"
   },
   {
    "duration": 7,
    "start_time": "2024-01-13T12:26:51.538Z"
   },
   {
    "duration": 4,
    "start_time": "2024-01-13T12:26:51.547Z"
   },
   {
    "duration": 130,
    "start_time": "2024-01-13T12:26:51.552Z"
   },
   {
    "duration": 12,
    "start_time": "2024-01-13T12:26:51.683Z"
   },
   {
    "duration": 7,
    "start_time": "2024-01-13T12:26:51.696Z"
   },
   {
    "duration": 43,
    "start_time": "2024-01-13T12:26:51.714Z"
   },
   {
    "duration": 17,
    "start_time": "2024-01-13T12:26:51.759Z"
   },
   {
    "duration": 112,
    "start_time": "2024-01-13T12:26:51.778Z"
   },
   {
    "duration": 25,
    "start_time": "2024-01-13T12:26:51.892Z"
   },
   {
    "duration": 13,
    "start_time": "2024-01-13T12:26:51.920Z"
   },
   {
    "duration": 124,
    "start_time": "2024-01-13T12:26:51.934Z"
   },
   {
    "duration": 121,
    "start_time": "2024-01-13T12:26:52.060Z"
   },
   {
    "duration": 40,
    "start_time": "2024-01-13T12:26:52.182Z"
   },
   {
    "duration": 207,
    "start_time": "2024-01-13T12:26:52.223Z"
   },
   {
    "duration": 19,
    "start_time": "2024-01-13T12:28:27.392Z"
   },
   {
    "duration": 57,
    "start_time": "2024-01-13T12:29:50.977Z"
   },
   {
    "duration": 8,
    "start_time": "2024-01-13T12:36:42.160Z"
   },
   {
    "duration": 7,
    "start_time": "2024-01-13T12:37:00.071Z"
   },
   {
    "duration": 9,
    "start_time": "2024-01-13T12:37:49.454Z"
   },
   {
    "duration": 1006,
    "start_time": "2024-01-13T12:38:11.843Z"
   },
   {
    "duration": 231,
    "start_time": "2024-01-13T12:38:12.851Z"
   },
   {
    "duration": 4,
    "start_time": "2024-01-13T12:38:13.084Z"
   },
   {
    "duration": 68,
    "start_time": "2024-01-13T12:38:13.090Z"
   },
   {
    "duration": 77,
    "start_time": "2024-01-13T12:38:13.159Z"
   },
   {
    "duration": 19,
    "start_time": "2024-01-13T12:38:13.238Z"
   },
   {
    "duration": 16,
    "start_time": "2024-01-13T12:38:13.259Z"
   },
   {
    "duration": 133,
    "start_time": "2024-01-13T12:38:13.277Z"
   },
   {
    "duration": 58,
    "start_time": "2024-01-13T12:38:13.411Z"
   },
   {
    "duration": 3,
    "start_time": "2024-01-13T12:38:13.472Z"
   },
   {
    "duration": 5,
    "start_time": "2024-01-13T12:38:13.476Z"
   },
   {
    "duration": 3,
    "start_time": "2024-01-13T12:38:13.483Z"
   },
   {
    "duration": 28,
    "start_time": "2024-01-13T12:38:13.487Z"
   },
   {
    "duration": 5,
    "start_time": "2024-01-13T12:38:13.516Z"
   },
   {
    "duration": 37,
    "start_time": "2024-01-13T12:38:13.522Z"
   },
   {
    "duration": 589,
    "start_time": "2024-01-13T12:38:13.561Z"
   },
   {
    "duration": 34,
    "start_time": "2024-01-13T12:38:14.151Z"
   },
   {
    "duration": 32,
    "start_time": "2024-01-13T12:38:14.187Z"
   },
   {
    "duration": 7,
    "start_time": "2024-01-13T12:38:14.220Z"
   },
   {
    "duration": 3,
    "start_time": "2024-01-13T12:38:14.228Z"
   },
   {
    "duration": 119,
    "start_time": "2024-01-13T12:38:14.233Z"
   },
   {
    "duration": 12,
    "start_time": "2024-01-13T12:38:14.354Z"
   },
   {
    "duration": 16,
    "start_time": "2024-01-13T12:38:14.368Z"
   },
   {
    "duration": 41,
    "start_time": "2024-01-13T12:38:14.385Z"
   },
   {
    "duration": 18,
    "start_time": "2024-01-13T12:38:14.427Z"
   },
   {
    "duration": 115,
    "start_time": "2024-01-13T12:38:14.446Z"
   },
   {
    "duration": 13,
    "start_time": "2024-01-13T12:38:14.563Z"
   },
   {
    "duration": 13,
    "start_time": "2024-01-13T12:38:14.580Z"
   },
   {
    "duration": 118,
    "start_time": "2024-01-13T12:38:14.615Z"
   },
   {
    "duration": 119,
    "start_time": "2024-01-13T12:38:14.735Z"
   },
   {
    "duration": 26,
    "start_time": "2024-01-13T12:38:14.855Z"
   },
   {
    "duration": 222,
    "start_time": "2024-01-13T12:38:14.882Z"
   },
   {
    "duration": 92,
    "start_time": "2024-01-13T12:39:11.755Z"
   },
   {
    "duration": 6,
    "start_time": "2024-01-13T12:39:25.485Z"
   },
   {
    "duration": 34,
    "start_time": "2024-01-13T12:40:07.416Z"
   },
   {
    "duration": 100,
    "start_time": "2024-01-13T12:41:19.582Z"
   },
   {
    "duration": 446,
    "start_time": "2024-01-13T12:45:50.429Z"
   },
   {
    "duration": 41,
    "start_time": "2024-01-13T12:46:22.024Z"
   },
   {
    "duration": 41,
    "start_time": "2024-01-13T12:47:01.631Z"
   },
   {
    "duration": 73,
    "start_time": "2024-01-13T12:47:39.645Z"
   },
   {
    "duration": 81,
    "start_time": "2024-01-13T12:47:52.629Z"
   },
   {
    "duration": 40,
    "start_time": "2024-01-13T12:47:58.250Z"
   },
   {
    "duration": 14,
    "start_time": "2024-01-13T12:49:48.912Z"
   },
   {
    "duration": 55,
    "start_time": "2024-01-13T12:51:07.330Z"
   },
   {
    "duration": 5,
    "start_time": "2024-01-13T12:51:12.080Z"
   },
   {
    "duration": 1092,
    "start_time": "2024-01-14T06:58:02.080Z"
   },
   {
    "duration": 172,
    "start_time": "2024-01-14T06:58:03.174Z"
   },
   {
    "duration": 3,
    "start_time": "2024-01-14T06:58:03.347Z"
   },
   {
    "duration": 87,
    "start_time": "2024-01-14T06:58:03.352Z"
   },
   {
    "duration": 71,
    "start_time": "2024-01-14T06:58:03.441Z"
   },
   {
    "duration": 31,
    "start_time": "2024-01-14T06:58:03.514Z"
   },
   {
    "duration": 17,
    "start_time": "2024-01-14T06:58:03.546Z"
   },
   {
    "duration": 115,
    "start_time": "2024-01-14T06:58:03.565Z"
   },
   {
    "duration": 73,
    "start_time": "2024-01-14T06:58:03.681Z"
   },
   {
    "duration": 2,
    "start_time": "2024-01-14T06:58:03.757Z"
   },
   {
    "duration": 11,
    "start_time": "2024-01-14T06:58:03.761Z"
   },
   {
    "duration": 3,
    "start_time": "2024-01-14T06:58:03.773Z"
   },
   {
    "duration": 12,
    "start_time": "2024-01-14T06:58:03.778Z"
   },
   {
    "duration": 13,
    "start_time": "2024-01-14T06:58:03.791Z"
   },
   {
    "duration": 24,
    "start_time": "2024-01-14T06:58:03.806Z"
   },
   {
    "duration": 525,
    "start_time": "2024-01-14T06:58:03.831Z"
   },
   {
    "duration": 30,
    "start_time": "2024-01-14T06:58:04.358Z"
   },
   {
    "duration": 8,
    "start_time": "2024-01-14T06:58:04.390Z"
   },
   {
    "duration": 49,
    "start_time": "2024-01-14T06:58:04.399Z"
   },
   {
    "duration": 2,
    "start_time": "2024-01-14T06:58:04.450Z"
   },
   {
    "duration": 111,
    "start_time": "2024-01-14T06:58:04.454Z"
   },
   {
    "duration": 10,
    "start_time": "2024-01-14T06:58:04.566Z"
   },
   {
    "duration": 14,
    "start_time": "2024-01-14T06:58:04.577Z"
   },
   {
    "duration": 561,
    "start_time": "2024-01-14T06:58:04.592Z"
   },
   {
    "duration": 91,
    "start_time": "2024-01-14T06:58:05.155Z"
   },
   {
    "duration": 4,
    "start_time": "2024-01-14T06:58:05.247Z"
   },
   {
    "duration": 19,
    "start_time": "2024-01-14T06:58:05.252Z"
   },
   {
    "duration": 131,
    "start_time": "2024-01-14T06:58:05.273Z"
   },
   {
    "duration": 12,
    "start_time": "2024-01-14T06:58:05.406Z"
   },
   {
    "duration": 30,
    "start_time": "2024-01-14T06:58:05.419Z"
   },
   {
    "duration": 105,
    "start_time": "2024-01-14T06:58:05.451Z"
   },
   {
    "duration": 102,
    "start_time": "2024-01-14T06:58:05.558Z"
   },
   {
    "duration": 23,
    "start_time": "2024-01-14T06:58:05.661Z"
   },
   {
    "duration": 188,
    "start_time": "2024-01-14T06:58:05.685Z"
   },
   {
    "duration": 42,
    "start_time": "2024-01-14T06:59:01.461Z"
   },
   {
    "duration": 37,
    "start_time": "2024-01-14T07:01:03.047Z"
   },
   {
    "duration": 1445,
    "start_time": "2024-04-17T06:37:43.300Z"
   },
   {
    "duration": 308,
    "start_time": "2024-04-17T06:37:44.747Z"
   },
   {
    "duration": 4,
    "start_time": "2024-04-17T06:37:45.057Z"
   },
   {
    "duration": 121,
    "start_time": "2024-04-17T06:37:45.063Z"
   },
   {
    "duration": 80,
    "start_time": "2024-04-17T06:37:45.186Z"
   },
   {
    "duration": 32,
    "start_time": "2024-04-17T06:37:45.268Z"
   },
   {
    "duration": 73,
    "start_time": "2024-04-17T06:37:45.302Z"
   },
   {
    "duration": 148,
    "start_time": "2024-04-17T06:37:45.377Z"
   },
   {
    "duration": 66,
    "start_time": "2024-04-17T06:37:45.527Z"
   },
   {
    "duration": 3,
    "start_time": "2024-04-17T06:37:45.596Z"
   },
   {
    "duration": 21,
    "start_time": "2024-04-17T06:37:45.601Z"
   },
   {
    "duration": 19,
    "start_time": "2024-04-17T06:37:45.624Z"
   },
   {
    "duration": 38,
    "start_time": "2024-04-17T06:37:45.646Z"
   },
   {
    "duration": 45,
    "start_time": "2024-04-17T06:37:45.686Z"
   },
   {
    "duration": 47,
    "start_time": "2024-04-17T06:37:45.733Z"
   },
   {
    "duration": 599,
    "start_time": "2024-04-17T06:37:45.781Z"
   },
   {
    "duration": 35,
    "start_time": "2024-04-17T06:37:46.382Z"
   },
   {
    "duration": 15,
    "start_time": "2024-04-17T06:37:46.419Z"
   },
   {
    "duration": 51,
    "start_time": "2024-04-17T06:37:46.436Z"
   },
   {
    "duration": 4,
    "start_time": "2024-04-17T06:37:46.489Z"
   },
   {
    "duration": 126,
    "start_time": "2024-04-17T06:37:46.495Z"
   },
   {
    "duration": 11,
    "start_time": "2024-04-17T06:37:46.624Z"
   },
   {
    "duration": 24,
    "start_time": "2024-04-17T06:37:46.637Z"
   },
   {
    "duration": 541,
    "start_time": "2024-04-17T06:37:46.663Z"
   },
   {
    "duration": 72,
    "start_time": "2024-04-17T06:37:47.206Z"
   },
   {
    "duration": 4,
    "start_time": "2024-04-17T06:37:47.280Z"
   },
   {
    "duration": 97,
    "start_time": "2024-04-17T06:37:47.285Z"
   },
   {
    "duration": 16,
    "start_time": "2024-04-17T06:37:47.385Z"
   },
   {
    "duration": 153,
    "start_time": "2024-04-17T06:37:47.403Z"
   },
   {
    "duration": 15,
    "start_time": "2024-04-17T06:37:47.557Z"
   },
   {
    "duration": 20,
    "start_time": "2024-04-17T06:37:47.573Z"
   },
   {
    "duration": 132,
    "start_time": "2024-04-17T06:37:47.595Z"
   },
   {
    "duration": 122,
    "start_time": "2024-04-17T06:37:47.729Z"
   },
   {
    "duration": 28,
    "start_time": "2024-04-17T06:37:47.862Z"
   },
   {
    "duration": 237,
    "start_time": "2024-04-17T06:37:47.892Z"
   },
   {
    "duration": 57,
    "start_time": "2024-04-17T06:39:51.777Z"
   },
   {
    "duration": 47,
    "start_time": "2024-04-17T06:40:45.581Z"
   }
  ],
  "kernelspec": {
   "display_name": "Python 3 (ipykernel)",
   "language": "python",
   "name": "python3"
  },
  "language_info": {
   "codemirror_mode": {
    "name": "ipython",
    "version": 3
   },
   "file_extension": ".py",
   "mimetype": "text/x-python",
   "name": "python",
   "nbconvert_exporter": "python",
   "pygments_lexer": "ipython3",
   "version": "3.9.5"
  },
  "toc": {
   "base_numbering": 1,
   "nav_menu": {},
   "number_sections": true,
   "sideBar": true,
   "skip_h1_title": true,
   "title_cell": "Table of Contents",
   "title_sidebar": "Contents",
   "toc_cell": false,
   "toc_position": {},
   "toc_section_display": true,
   "toc_window_display": false
  }
 },
 "nbformat": 4,
 "nbformat_minor": 2
}
